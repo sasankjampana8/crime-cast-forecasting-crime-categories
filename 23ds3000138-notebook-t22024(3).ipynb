{
 "cells": [
  {
   "cell_type": "code",
   "execution_count": 1,
   "id": "fcde6a49",
   "metadata": {
    "_cell_guid": "b1076dfc-b9ad-4769-8c92-a6c4dae69d19",
    "_uuid": "8f2839f25d086af736a60e9eeb907d3b93b6e0e5",
    "execution": {
     "iopub.execute_input": "2024-08-09T16:54:01.864324Z",
     "iopub.status.busy": "2024-08-09T16:54:01.863853Z",
     "iopub.status.idle": "2024-08-09T16:54:02.863801Z",
     "shell.execute_reply": "2024-08-09T16:54:02.862531Z"
    },
    "papermill": {
     "duration": 1.058028,
     "end_time": "2024-08-09T16:54:02.866706",
     "exception": false,
     "start_time": "2024-08-09T16:54:01.808678",
     "status": "completed"
    },
    "tags": []
   },
   "outputs": [
    {
     "name": "stdout",
     "output_type": "stream",
     "text": [
      "/kaggle/input/crime-cast-forecasting-crime-categories/sample.csv\n",
      "/kaggle/input/crime-cast-forecasting-crime-categories/train.csv\n",
      "/kaggle/input/crime-cast-forecasting-crime-categories/test.csv\n"
     ]
    }
   ],
   "source": [
    "# This Python 3 environment comes with many helpful analytics libraries installed\n",
    "# It is defined by the kaggle/python Docker image: https://github.com/kaggle/docker-python\n",
    "# For example, here's several helpful packages to load\n",
    "\n",
    "import numpy as np # linear algebra\n",
    "import pandas as pd # data processing, CSV file I/O (e.g. pd.read_csv)\n",
    "\n",
    "# Input data files are available in the read-only \"../input/\" directory\n",
    "# For example, running this (by clicking run or pressing Shift+Enter) will list all files under the input directory\n",
    "\n",
    "import os\n",
    "for dirname, _, filenames in os.walk('/kaggle/input'):\n",
    "    for filename in filenames:\n",
    "        print(os.path.join(dirname, filename))\n",
    "\n",
    "# You can write up to 20GB to the current directory (/kaggle/working/) that gets preserved as output when you create a version using \"Save & Run All\" \n",
    "# You can also write temporary files to /kaggle/temp/, but they won't be saved outside of the current session"
   ]
  },
  {
   "cell_type": "code",
   "execution_count": 2,
   "id": "717cf101",
   "metadata": {
    "execution": {
     "iopub.execute_input": "2024-08-09T16:54:02.970216Z",
     "iopub.status.busy": "2024-08-09T16:54:02.969332Z",
     "iopub.status.idle": "2024-08-09T16:54:03.204012Z",
     "shell.execute_reply": "2024-08-09T16:54:03.202732Z"
    },
    "papermill": {
     "duration": 0.289455,
     "end_time": "2024-08-09T16:54:03.206910",
     "exception": false,
     "start_time": "2024-08-09T16:54:02.917455",
     "status": "completed"
    },
    "tags": []
   },
   "outputs": [],
   "source": [
    "train = pd.read_csv(\"/kaggle/input/crime-cast-forecasting-crime-categories/train.csv\")\n",
    "test = pd.read_csv(\"/kaggle/input/crime-cast-forecasting-crime-categories/test.csv\")"
   ]
  },
  {
   "cell_type": "code",
   "execution_count": 3,
   "id": "d1a0d7a6",
   "metadata": {
    "execution": {
     "iopub.execute_input": "2024-08-09T16:54:03.319633Z",
     "iopub.status.busy": "2024-08-09T16:54:03.319114Z",
     "iopub.status.idle": "2024-08-09T16:54:04.800894Z",
     "shell.execute_reply": "2024-08-09T16:54:04.799713Z"
    },
    "papermill": {
     "duration": 1.543295,
     "end_time": "2024-08-09T16:54:04.804394",
     "exception": false,
     "start_time": "2024-08-09T16:54:03.261099",
     "status": "completed"
    },
    "tags": []
   },
   "outputs": [],
   "source": [
    "import pandas as pd \n",
    "import numpy as np \n",
    "import matplotlib.pyplot as plt \n",
    "import seaborn as sns"
   ]
  },
  {
   "cell_type": "code",
   "execution_count": 4,
   "id": "0b5515de",
   "metadata": {
    "execution": {
     "iopub.execute_input": "2024-08-09T16:54:04.907079Z",
     "iopub.status.busy": "2024-08-09T16:54:04.906685Z",
     "iopub.status.idle": "2024-08-09T16:54:04.915386Z",
     "shell.execute_reply": "2024-08-09T16:54:04.914104Z"
    },
    "papermill": {
     "duration": 0.063125,
     "end_time": "2024-08-09T16:54:04.918089",
     "exception": false,
     "start_time": "2024-08-09T16:54:04.854964",
     "status": "completed"
    },
    "tags": []
   },
   "outputs": [
    {
     "data": {
      "text/plain": [
       "((20000, 22), (5000, 21))"
      ]
     },
     "execution_count": 4,
     "metadata": {},
     "output_type": "execute_result"
    }
   ],
   "source": [
    "train.shape, test.shape"
   ]
  },
  {
   "cell_type": "markdown",
   "id": "e3decc68",
   "metadata": {
    "papermill": {
     "duration": 0.050135,
     "end_time": "2024-08-09T16:54:05.019111",
     "exception": false,
     "start_time": "2024-08-09T16:54:04.968976",
     "status": "completed"
    },
    "tags": []
   },
   "source": [
    "As we can see in our train data we have 20k data points and in our test set we have 5000 data points.\n",
    "\n",
    "No of Independent columns are 21 and 1 target (dependent column)"
   ]
  },
  {
   "cell_type": "code",
   "execution_count": 5,
   "id": "612f315f",
   "metadata": {
    "execution": {
     "iopub.execute_input": "2024-08-09T16:54:05.183855Z",
     "iopub.status.busy": "2024-08-09T16:54:05.183471Z",
     "iopub.status.idle": "2024-08-09T16:54:05.201163Z",
     "shell.execute_reply": "2024-08-09T16:54:05.199836Z"
    },
    "papermill": {
     "duration": 0.072726,
     "end_time": "2024-08-09T16:54:05.203884",
     "exception": false,
     "start_time": "2024-08-09T16:54:05.131158",
     "status": "completed"
    },
    "tags": []
   },
   "outputs": [
    {
     "data": {
      "text/plain": [
       "array(['Property Crimes', 'Violent Crimes', 'Other Crimes',\n",
       "       'Crimes against Public Order', 'Fraud and White-Collar Crimes',\n",
       "       'Crimes against Persons'], dtype=object)"
      ]
     },
     "execution_count": 5,
     "metadata": {},
     "output_type": "execute_result"
    }
   ],
   "source": [
    "train['Crime_Category'].unique()"
   ]
  },
  {
   "cell_type": "markdown",
   "id": "8c278027",
   "metadata": {
    "papermill": {
     "duration": 0.051268,
     "end_time": "2024-08-09T16:54:05.308315",
     "exception": false,
     "start_time": "2024-08-09T16:54:05.257047",
     "status": "completed"
    },
    "tags": []
   },
   "source": [
    "This is the target variable : Crime_Category, as you can see it has 6 unique values which makes our problem statement as multi-class"
   ]
  },
  {
   "cell_type": "markdown",
   "id": "515cb408",
   "metadata": {
    "papermill": {
     "duration": 0.050953,
     "end_time": "2024-08-09T16:54:05.410636",
     "exception": false,
     "start_time": "2024-08-09T16:54:05.359683",
     "status": "completed"
    },
    "tags": []
   },
   "source": [
    "Exploratory Data Analysis"
   ]
  },
  {
   "cell_type": "markdown",
   "id": "b9dd458f",
   "metadata": {
    "papermill": {
     "duration": 0.052753,
     "end_time": "2024-08-09T16:54:05.516736",
     "exception": false,
     "start_time": "2024-08-09T16:54:05.463983",
     "status": "completed"
    },
    "tags": []
   },
   "source": [
    "Checking for nulls"
   ]
  },
  {
   "cell_type": "code",
   "execution_count": 6,
   "id": "febdf23d",
   "metadata": {
    "execution": {
     "iopub.execute_input": "2024-08-09T16:54:05.621257Z",
     "iopub.status.busy": "2024-08-09T16:54:05.620144Z",
     "iopub.status.idle": "2024-08-09T16:54:05.659529Z",
     "shell.execute_reply": "2024-08-09T16:54:05.658158Z"
    },
    "papermill": {
     "duration": 0.094184,
     "end_time": "2024-08-09T16:54:05.662078",
     "exception": false,
     "start_time": "2024-08-09T16:54:05.567894",
     "status": "completed"
    },
    "tags": []
   },
   "outputs": [
    {
     "data": {
      "text/plain": [
       "Location                     0\n",
       "Cross_Street             16552\n",
       "Latitude                     0\n",
       "Longitude                    0\n",
       "Date_Reported                0\n",
       "Date_Occurred                0\n",
       "Time_Occurred                0\n",
       "Area_ID                      0\n",
       "Area_Name                    0\n",
       "Reporting_District_no        0\n",
       "Part 1-2                     0\n",
       "Modus_Operandi            2741\n",
       "Victim_Age                   0\n",
       "Victim_Sex                2624\n",
       "Victim_Descent            2624\n",
       "Premise_Code                 0\n",
       "Premise_Description          5\n",
       "Weapon_Used_Code         12665\n",
       "Weapon_Description       12665\n",
       "Status                       0\n",
       "Status_Description           0\n",
       "Crime_Category               0\n",
       "dtype: int64"
      ]
     },
     "execution_count": 6,
     "metadata": {},
     "output_type": "execute_result"
    }
   ],
   "source": [
    "train.isna().sum()"
   ]
  },
  {
   "cell_type": "markdown",
   "id": "ee892d0a",
   "metadata": {
    "papermill": {
     "duration": 0.051657,
     "end_time": "2024-08-09T16:54:05.764801",
     "exception": false,
     "start_time": "2024-08-09T16:54:05.713144",
     "status": "completed"
    },
    "tags": []
   },
   "source": [
    "We have nulls in Cross street, Modulus Operandi, Victim sex and victim descent, Weapon used code and weapon description, Premise Description. A total of 7 columns have nulls"
   ]
  },
  {
   "cell_type": "code",
   "execution_count": 7,
   "id": "c9899aeb",
   "metadata": {
    "execution": {
     "iopub.execute_input": "2024-08-09T16:54:05.868557Z",
     "iopub.status.busy": "2024-08-09T16:54:05.868132Z",
     "iopub.status.idle": "2024-08-09T16:54:05.875715Z",
     "shell.execute_reply": "2024-08-09T16:54:05.874569Z"
    },
    "papermill": {
     "duration": 0.062149,
     "end_time": "2024-08-09T16:54:05.877944",
     "exception": false,
     "start_time": "2024-08-09T16:54:05.815795",
     "status": "completed"
    },
    "tags": []
   },
   "outputs": [
    {
     "data": {
      "text/plain": [
       "['Location',\n",
       " 'Cross_Street',\n",
       " 'Latitude',\n",
       " 'Longitude',\n",
       " 'Date_Reported',\n",
       " 'Date_Occurred',\n",
       " 'Time_Occurred',\n",
       " 'Area_ID',\n",
       " 'Area_Name',\n",
       " 'Reporting_District_no',\n",
       " 'Part 1-2',\n",
       " 'Modus_Operandi',\n",
       " 'Victim_Age',\n",
       " 'Victim_Sex',\n",
       " 'Victim_Descent',\n",
       " 'Premise_Code',\n",
       " 'Premise_Description',\n",
       " 'Weapon_Used_Code',\n",
       " 'Weapon_Description',\n",
       " 'Status',\n",
       " 'Status_Description',\n",
       " 'Crime_Category']"
      ]
     },
     "execution_count": 7,
     "metadata": {},
     "output_type": "execute_result"
    }
   ],
   "source": [
    "train.columns.to_list()"
   ]
  },
  {
   "cell_type": "markdown",
   "id": "54405fd2",
   "metadata": {
    "papermill": {
     "duration": 0.051691,
     "end_time": "2024-08-09T16:54:05.980806",
     "exception": false,
     "start_time": "2024-08-09T16:54:05.929115",
     "status": "completed"
    },
    "tags": []
   },
   "source": [
    "Columns Description:\n",
    "\n",
    "    Location: Street address of the crime incident.\n",
    "    Cross_Street: Cross street of the rounded address.\n",
    "    Latitude: Latitude coordinates of the crime incident.\n",
    "    Longitude: Longitude coordinates of the crime incident.\n",
    "    Date_Reported: Date the incident was reported.\n",
    "    Date_Occurred: Date the incident occurred.\n",
    "    Time_Occurred: Time the incident occurred in 24-hour military time.\n",
    "    Area_ID: LAPD's Geographic Area number.\n",
    "    Area_Name: Name designation of the LAPD Geographic Area.\n",
    "    Reporting_District_no: Reporting district number.\n",
    "    Part 1-2: Crime classification.\n",
    "    Modus_Operandi: Activities associated with the suspect.\n",
    "    Victim_Age: Age of the victim.\n",
    "    Victim_Sex: Gender of the victim.\n",
    "    Victim_Descent: Descent code of the victim.\n",
    "    Premise_Code: Premise code indicating the location of the crime.\n",
    "    Premise_Description: Description of the premise code.\n",
    "    Weapon_Used_Code: Weapon code indicating the type of weapon used.\n",
    "    Weapon_Description: Description of the weapon code.\n",
    "    Status: Status of the case.\n",
    "    Status_Description: Description of the status code.\n",
    "    Crime_Category: The category of the crime (Target Variable)\n"
   ]
  },
  {
   "cell_type": "markdown",
   "id": "c649029b",
   "metadata": {
    "papermill": {
     "duration": 0.051188,
     "end_time": "2024-08-09T16:54:06.083919",
     "exception": false,
     "start_time": "2024-08-09T16:54:06.032731",
     "status": "completed"
    },
    "tags": []
   },
   "source": [
    "This is a sample data point in the data"
   ]
  },
  {
   "cell_type": "code",
   "execution_count": 8,
   "id": "1123df55",
   "metadata": {
    "execution": {
     "iopub.execute_input": "2024-08-09T16:54:06.190015Z",
     "iopub.status.busy": "2024-08-09T16:54:06.189632Z",
     "iopub.status.idle": "2024-08-09T16:54:06.198821Z",
     "shell.execute_reply": "2024-08-09T16:54:06.197704Z"
    },
    "papermill": {
     "duration": 0.066094,
     "end_time": "2024-08-09T16:54:06.201318",
     "exception": false,
     "start_time": "2024-08-09T16:54:06.135224",
     "status": "completed"
    },
    "tags": []
   },
   "outputs": [
    {
     "data": {
      "text/plain": [
       "Location                        6500    VAN NUYS                     BL\n",
       "Cross_Street                                                        NaN\n",
       "Latitude                                                        34.1887\n",
       "Longitude                                                     -118.4487\n",
       "Date_Reported                                    09/21/2020 12:00:00 AM\n",
       "Date_Occurred                                    09/20/2020 12:00:00 AM\n",
       "Time_Occurred                                                    2100.0\n",
       "Area_ID                                                             9.0\n",
       "Area_Name                                                      Van Nuys\n",
       "Reporting_District_no                                             926.0\n",
       "Part 1-2                                                            2.0\n",
       "Modus_Operandi                                      0329 1300 0417 2004\n",
       "Victim_Age                                                         38.0\n",
       "Victim_Sex                                                            F\n",
       "Victim_Descent                                                        H\n",
       "Premise_Code                                                      108.0\n",
       "Premise_Description                                         PARKING LOT\n",
       "Weapon_Used_Code                                                  400.0\n",
       "Weapon_Description       STRONG-ARM (HANDS, FIST, FEET OR BODILY FORCE)\n",
       "Status                                                               AO\n",
       "Status_Description                                          Adult Other\n",
       "Crime_Category                                          Property Crimes\n",
       "Name: 10000, dtype: object"
      ]
     },
     "execution_count": 8,
     "metadata": {},
     "output_type": "execute_result"
    }
   ],
   "source": [
    "train.iloc[10000]"
   ]
  },
  {
   "cell_type": "code",
   "execution_count": 9,
   "id": "aa6ea4aa",
   "metadata": {
    "execution": {
     "iopub.execute_input": "2024-08-09T16:54:06.308136Z",
     "iopub.status.busy": "2024-08-09T16:54:06.307746Z",
     "iopub.status.idle": "2024-08-09T16:54:06.358771Z",
     "shell.execute_reply": "2024-08-09T16:54:06.357676Z"
    },
    "papermill": {
     "duration": 0.107774,
     "end_time": "2024-08-09T16:54:06.361833",
     "exception": false,
     "start_time": "2024-08-09T16:54:06.254059",
     "status": "completed"
    },
    "tags": []
   },
   "outputs": [
    {
     "name": "stdout",
     "output_type": "stream",
     "text": [
      "<class 'pandas.core.frame.DataFrame'>\n",
      "RangeIndex: 20000 entries, 0 to 19999\n",
      "Data columns (total 22 columns):\n",
      " #   Column                 Non-Null Count  Dtype  \n",
      "---  ------                 --------------  -----  \n",
      " 0   Location               20000 non-null  object \n",
      " 1   Cross_Street           3448 non-null   object \n",
      " 2   Latitude               20000 non-null  float64\n",
      " 3   Longitude              20000 non-null  float64\n",
      " 4   Date_Reported          20000 non-null  object \n",
      " 5   Date_Occurred          20000 non-null  object \n",
      " 6   Time_Occurred          20000 non-null  float64\n",
      " 7   Area_ID                20000 non-null  float64\n",
      " 8   Area_Name              20000 non-null  object \n",
      " 9   Reporting_District_no  20000 non-null  float64\n",
      " 10  Part 1-2               20000 non-null  float64\n",
      " 11  Modus_Operandi         17259 non-null  object \n",
      " 12  Victim_Age             20000 non-null  float64\n",
      " 13  Victim_Sex             17376 non-null  object \n",
      " 14  Victim_Descent         17376 non-null  object \n",
      " 15  Premise_Code           20000 non-null  float64\n",
      " 16  Premise_Description    19995 non-null  object \n",
      " 17  Weapon_Used_Code       7335 non-null   float64\n",
      " 18  Weapon_Description     7335 non-null   object \n",
      " 19  Status                 20000 non-null  object \n",
      " 20  Status_Description     20000 non-null  object \n",
      " 21  Crime_Category         20000 non-null  object \n",
      "dtypes: float64(9), object(13)\n",
      "memory usage: 3.4+ MB\n"
     ]
    }
   ],
   "source": [
    "train.info()"
   ]
  },
  {
   "cell_type": "code",
   "execution_count": 10,
   "id": "9c5cc614",
   "metadata": {
    "execution": {
     "iopub.execute_input": "2024-08-09T16:54:06.489680Z",
     "iopub.status.busy": "2024-08-09T16:54:06.488439Z",
     "iopub.status.idle": "2024-08-09T16:54:06.499329Z",
     "shell.execute_reply": "2024-08-09T16:54:06.497325Z"
    },
    "papermill": {
     "duration": 0.071393,
     "end_time": "2024-08-09T16:54:06.502791",
     "exception": false,
     "start_time": "2024-08-09T16:54:06.431398",
     "status": "completed"
    },
    "tags": []
   },
   "outputs": [
    {
     "data": {
      "text/plain": [
       "-2.0"
      ]
     },
     "execution_count": 10,
     "metadata": {},
     "output_type": "execute_result"
    }
   ],
   "source": [
    "train['Victim_Age'].min()"
   ]
  },
  {
   "cell_type": "code",
   "execution_count": 11,
   "id": "010801ff",
   "metadata": {
    "execution": {
     "iopub.execute_input": "2024-08-09T16:54:06.630998Z",
     "iopub.status.busy": "2024-08-09T16:54:06.630630Z",
     "iopub.status.idle": "2024-08-09T16:54:06.684013Z",
     "shell.execute_reply": "2024-08-09T16:54:06.682611Z"
    },
    "papermill": {
     "duration": 0.113141,
     "end_time": "2024-08-09T16:54:06.687632",
     "exception": false,
     "start_time": "2024-08-09T16:54:06.574491",
     "status": "completed"
    },
    "tags": []
   },
   "outputs": [
    {
     "data": {
      "text/html": [
       "<div>\n",
       "<style scoped>\n",
       "    .dataframe tbody tr th:only-of-type {\n",
       "        vertical-align: middle;\n",
       "    }\n",
       "\n",
       "    .dataframe tbody tr th {\n",
       "        vertical-align: top;\n",
       "    }\n",
       "\n",
       "    .dataframe thead th {\n",
       "        text-align: right;\n",
       "    }\n",
       "</style>\n",
       "<table border=\"1\" class=\"dataframe\">\n",
       "  <thead>\n",
       "    <tr style=\"text-align: right;\">\n",
       "      <th></th>\n",
       "      <th>Latitude</th>\n",
       "      <th>Longitude</th>\n",
       "      <th>Time_Occurred</th>\n",
       "      <th>Area_ID</th>\n",
       "      <th>Reporting_District_no</th>\n",
       "      <th>Part 1-2</th>\n",
       "      <th>Victim_Age</th>\n",
       "      <th>Premise_Code</th>\n",
       "      <th>Weapon_Used_Code</th>\n",
       "    </tr>\n",
       "  </thead>\n",
       "  <tbody>\n",
       "    <tr>\n",
       "      <th>count</th>\n",
       "      <td>20000.000000</td>\n",
       "      <td>20000.000000</td>\n",
       "      <td>20000.000000</td>\n",
       "      <td>20000.000000</td>\n",
       "      <td>20000.000000</td>\n",
       "      <td>20000.000000</td>\n",
       "      <td>20000.000000</td>\n",
       "      <td>20000.000000</td>\n",
       "      <td>7335.000000</td>\n",
       "    </tr>\n",
       "    <tr>\n",
       "      <th>mean</th>\n",
       "      <td>33.940704</td>\n",
       "      <td>-117.893072</td>\n",
       "      <td>1352.380350</td>\n",
       "      <td>10.834250</td>\n",
       "      <td>1129.599200</td>\n",
       "      <td>1.418150</td>\n",
       "      <td>30.135000</td>\n",
       "      <td>297.176950</td>\n",
       "      <td>366.405044</td>\n",
       "    </tr>\n",
       "    <tr>\n",
       "      <th>std</th>\n",
       "      <td>2.126810</td>\n",
       "      <td>7.377726</td>\n",
       "      <td>646.100291</td>\n",
       "      <td>6.033166</td>\n",
       "      <td>603.330519</td>\n",
       "      <td>0.493267</td>\n",
       "      <td>21.863645</td>\n",
       "      <td>212.007298</td>\n",
       "      <td>120.485687</td>\n",
       "    </tr>\n",
       "    <tr>\n",
       "      <th>min</th>\n",
       "      <td>0.000000</td>\n",
       "      <td>-118.663400</td>\n",
       "      <td>1.000000</td>\n",
       "      <td>1.000000</td>\n",
       "      <td>101.000000</td>\n",
       "      <td>1.000000</td>\n",
       "      <td>-2.000000</td>\n",
       "      <td>101.000000</td>\n",
       "      <td>101.000000</td>\n",
       "    </tr>\n",
       "    <tr>\n",
       "      <th>25%</th>\n",
       "      <td>34.009200</td>\n",
       "      <td>-118.429700</td>\n",
       "      <td>930.000000</td>\n",
       "      <td>6.000000</td>\n",
       "      <td>632.000000</td>\n",
       "      <td>1.000000</td>\n",
       "      <td>12.000000</td>\n",
       "      <td>101.000000</td>\n",
       "      <td>312.000000</td>\n",
       "    </tr>\n",
       "    <tr>\n",
       "      <th>50%</th>\n",
       "      <td>34.058700</td>\n",
       "      <td>-118.323000</td>\n",
       "      <td>1430.000000</td>\n",
       "      <td>11.000000</td>\n",
       "      <td>1162.000000</td>\n",
       "      <td>1.000000</td>\n",
       "      <td>31.000000</td>\n",
       "      <td>203.000000</td>\n",
       "      <td>400.000000</td>\n",
       "    </tr>\n",
       "    <tr>\n",
       "      <th>75%</th>\n",
       "      <td>34.165025</td>\n",
       "      <td>-118.274400</td>\n",
       "      <td>1900.000000</td>\n",
       "      <td>16.000000</td>\n",
       "      <td>1622.000000</td>\n",
       "      <td>2.000000</td>\n",
       "      <td>46.000000</td>\n",
       "      <td>501.000000</td>\n",
       "      <td>400.000000</td>\n",
       "    </tr>\n",
       "    <tr>\n",
       "      <th>max</th>\n",
       "      <td>34.328100</td>\n",
       "      <td>0.000000</td>\n",
       "      <td>2359.000000</td>\n",
       "      <td>21.000000</td>\n",
       "      <td>2197.000000</td>\n",
       "      <td>2.000000</td>\n",
       "      <td>99.000000</td>\n",
       "      <td>969.000000</td>\n",
       "      <td>515.000000</td>\n",
       "    </tr>\n",
       "  </tbody>\n",
       "</table>\n",
       "</div>"
      ],
      "text/plain": [
       "           Latitude     Longitude  Time_Occurred       Area_ID  \\\n",
       "count  20000.000000  20000.000000   20000.000000  20000.000000   \n",
       "mean      33.940704   -117.893072    1352.380350     10.834250   \n",
       "std        2.126810      7.377726     646.100291      6.033166   \n",
       "min        0.000000   -118.663400       1.000000      1.000000   \n",
       "25%       34.009200   -118.429700     930.000000      6.000000   \n",
       "50%       34.058700   -118.323000    1430.000000     11.000000   \n",
       "75%       34.165025   -118.274400    1900.000000     16.000000   \n",
       "max       34.328100      0.000000    2359.000000     21.000000   \n",
       "\n",
       "       Reporting_District_no      Part 1-2    Victim_Age  Premise_Code  \\\n",
       "count           20000.000000  20000.000000  20000.000000  20000.000000   \n",
       "mean             1129.599200      1.418150     30.135000    297.176950   \n",
       "std               603.330519      0.493267     21.863645    212.007298   \n",
       "min               101.000000      1.000000     -2.000000    101.000000   \n",
       "25%               632.000000      1.000000     12.000000    101.000000   \n",
       "50%              1162.000000      1.000000     31.000000    203.000000   \n",
       "75%              1622.000000      2.000000     46.000000    501.000000   \n",
       "max              2197.000000      2.000000     99.000000    969.000000   \n",
       "\n",
       "       Weapon_Used_Code  \n",
       "count       7335.000000  \n",
       "mean         366.405044  \n",
       "std          120.485687  \n",
       "min          101.000000  \n",
       "25%          312.000000  \n",
       "50%          400.000000  \n",
       "75%          400.000000  \n",
       "max          515.000000  "
      ]
     },
     "execution_count": 11,
     "metadata": {},
     "output_type": "execute_result"
    }
   ],
   "source": [
    "train.describe()"
   ]
  },
  {
   "cell_type": "markdown",
   "id": "68517281",
   "metadata": {
    "papermill": {
     "duration": 0.060236,
     "end_time": "2024-08-09T16:54:06.811959",
     "exception": false,
     "start_time": "2024-08-09T16:54:06.751723",
     "status": "completed"
    },
    "tags": []
   },
   "source": [
    "This is not too straightforward but we can arrive at some conclusions from the Victim's Age column\n",
    "As you can see the minimum age of the victim is which is practically not possible and has to be fixed in feature engineering\n",
    "and the highest age of the victim is 99. with a mean victim age of 30.13."
   ]
  },
  {
   "cell_type": "code",
   "execution_count": 12,
   "id": "e2324213",
   "metadata": {
    "execution": {
     "iopub.execute_input": "2024-08-09T16:54:06.921047Z",
     "iopub.status.busy": "2024-08-09T16:54:06.920639Z",
     "iopub.status.idle": "2024-08-09T16:54:06.930843Z",
     "shell.execute_reply": "2024-08-09T16:54:06.929458Z"
    },
    "papermill": {
     "duration": 0.069305,
     "end_time": "2024-08-09T16:54:06.934533",
     "exception": false,
     "start_time": "2024-08-09T16:54:06.865228",
     "status": "completed"
    },
    "tags": []
   },
   "outputs": [
    {
     "name": "stdout",
     "output_type": "stream",
     "text": [
      "Columns with type 'object': Index(['Location', 'Cross_Street', 'Date_Reported', 'Date_Occurred',\n",
      "       'Area_Name', 'Modus_Operandi', 'Victim_Sex', 'Victim_Descent',\n",
      "       'Premise_Description', 'Weapon_Description', 'Status',\n",
      "       'Status_Description', 'Crime_Category'],\n",
      "      dtype='object')\n"
     ]
    }
   ],
   "source": [
    "#printing the column names with type object\n",
    "object_columns = train.select_dtypes(include='object').columns\n",
    "print(\"Columns with type 'object':\", object_columns)"
   ]
  },
  {
   "cell_type": "code",
   "execution_count": 13,
   "id": "7b59904f",
   "metadata": {
    "execution": {
     "iopub.execute_input": "2024-08-09T16:54:07.041766Z",
     "iopub.status.busy": "2024-08-09T16:54:07.041377Z",
     "iopub.status.idle": "2024-08-09T16:54:07.075578Z",
     "shell.execute_reply": "2024-08-09T16:54:07.074378Z"
    },
    "papermill": {
     "duration": 0.092163,
     "end_time": "2024-08-09T16:54:07.080009",
     "exception": false,
     "start_time": "2024-08-09T16:54:06.987846",
     "status": "completed"
    },
    "tags": []
   },
   "outputs": [
    {
     "data": {
      "text/html": [
       "<div>\n",
       "<style scoped>\n",
       "    .dataframe tbody tr th:only-of-type {\n",
       "        vertical-align: middle;\n",
       "    }\n",
       "\n",
       "    .dataframe tbody tr th {\n",
       "        vertical-align: top;\n",
       "    }\n",
       "\n",
       "    .dataframe thead th {\n",
       "        text-align: right;\n",
       "    }\n",
       "</style>\n",
       "<table border=\"1\" class=\"dataframe\">\n",
       "  <thead>\n",
       "    <tr style=\"text-align: right;\">\n",
       "      <th></th>\n",
       "      <th>Location</th>\n",
       "      <th>Cross_Street</th>\n",
       "      <th>Date_Reported</th>\n",
       "      <th>Date_Occurred</th>\n",
       "      <th>Area_Name</th>\n",
       "      <th>Modus_Operandi</th>\n",
       "      <th>Victim_Sex</th>\n",
       "      <th>Victim_Descent</th>\n",
       "      <th>Premise_Description</th>\n",
       "      <th>Weapon_Description</th>\n",
       "      <th>Status</th>\n",
       "      <th>Status_Description</th>\n",
       "      <th>Crime_Category</th>\n",
       "    </tr>\n",
       "  </thead>\n",
       "  <tbody>\n",
       "    <tr>\n",
       "      <th>0</th>\n",
       "      <td>4500    CARPENTER                    AV</td>\n",
       "      <td>NaN</td>\n",
       "      <td>03/09/2020 12:00:00 AM</td>\n",
       "      <td>03/06/2020 12:00:00 AM</td>\n",
       "      <td>N Hollywood</td>\n",
       "      <td>0385</td>\n",
       "      <td>M</td>\n",
       "      <td>W</td>\n",
       "      <td>STREET</td>\n",
       "      <td>NaN</td>\n",
       "      <td>IC</td>\n",
       "      <td>Invest Cont</td>\n",
       "      <td>Property Crimes</td>\n",
       "    </tr>\n",
       "    <tr>\n",
       "      <th>1</th>\n",
       "      <td>45TH                         ST</td>\n",
       "      <td>ALAMEDA                      ST</td>\n",
       "      <td>02/27/2020 12:00:00 AM</td>\n",
       "      <td>02/27/2020 12:00:00 AM</td>\n",
       "      <td>Newton</td>\n",
       "      <td>0906 0352 0371 0446 1822 0344 0416 0417</td>\n",
       "      <td>M</td>\n",
       "      <td>H</td>\n",
       "      <td>SWAP MEET</td>\n",
       "      <td>STRONG-ARM (HANDS, FIST, FEET OR BODILY FORCE)</td>\n",
       "      <td>IC</td>\n",
       "      <td>Invest Cont</td>\n",
       "      <td>Property Crimes</td>\n",
       "    </tr>\n",
       "    <tr>\n",
       "      <th>2</th>\n",
       "      <td>600 E  MARTIN LUTHER KING JR        BL</td>\n",
       "      <td>NaN</td>\n",
       "      <td>08/21/2020 12:00:00 AM</td>\n",
       "      <td>08/21/2020 12:00:00 AM</td>\n",
       "      <td>Newton</td>\n",
       "      <td>0329 1202</td>\n",
       "      <td>M</td>\n",
       "      <td>B</td>\n",
       "      <td>SINGLE FAMILY DWELLING</td>\n",
       "      <td>NaN</td>\n",
       "      <td>IC</td>\n",
       "      <td>Invest Cont</td>\n",
       "      <td>Property Crimes</td>\n",
       "    </tr>\n",
       "    <tr>\n",
       "      <th>3</th>\n",
       "      <td>14900    ORO GRANDE                   ST</td>\n",
       "      <td>NaN</td>\n",
       "      <td>11/08/2020 12:00:00 AM</td>\n",
       "      <td>11/06/2020 12:00:00 AM</td>\n",
       "      <td>Mission</td>\n",
       "      <td>0329 1300</td>\n",
       "      <td>M</td>\n",
       "      <td>H</td>\n",
       "      <td>STREET</td>\n",
       "      <td>NaN</td>\n",
       "      <td>IC</td>\n",
       "      <td>Invest Cont</td>\n",
       "      <td>Property Crimes</td>\n",
       "    </tr>\n",
       "    <tr>\n",
       "      <th>4</th>\n",
       "      <td>7100 S  VERMONT                      AV</td>\n",
       "      <td>NaN</td>\n",
       "      <td>02/25/2020 12:00:00 AM</td>\n",
       "      <td>02/25/2020 12:00:00 AM</td>\n",
       "      <td>77th Street</td>\n",
       "      <td>0416 0945 1822 0400 0417 0344</td>\n",
       "      <td>X</td>\n",
       "      <td>X</td>\n",
       "      <td>MINI-MART</td>\n",
       "      <td>STRONG-ARM (HANDS, FIST, FEET OR BODILY FORCE)</td>\n",
       "      <td>IC</td>\n",
       "      <td>Invest Cont</td>\n",
       "      <td>Property Crimes</td>\n",
       "    </tr>\n",
       "    <tr>\n",
       "      <th>...</th>\n",
       "      <td>...</td>\n",
       "      <td>...</td>\n",
       "      <td>...</td>\n",
       "      <td>...</td>\n",
       "      <td>...</td>\n",
       "      <td>...</td>\n",
       "      <td>...</td>\n",
       "      <td>...</td>\n",
       "      <td>...</td>\n",
       "      <td>...</td>\n",
       "      <td>...</td>\n",
       "      <td>...</td>\n",
       "      <td>...</td>\n",
       "    </tr>\n",
       "    <tr>\n",
       "      <th>19995</th>\n",
       "      <td>5100 W  ADAMS                        BL</td>\n",
       "      <td>NaN</td>\n",
       "      <td>05/24/2020 12:00:00 AM</td>\n",
       "      <td>05/24/2020 12:00:00 AM</td>\n",
       "      <td>Southwest</td>\n",
       "      <td>0416 0446 2004 0913</td>\n",
       "      <td>M</td>\n",
       "      <td>H</td>\n",
       "      <td>SINGLE FAMILY DWELLING</td>\n",
       "      <td>STRONG-ARM (HANDS, FIST, FEET OR BODILY FORCE)</td>\n",
       "      <td>IC</td>\n",
       "      <td>Invest Cont</td>\n",
       "      <td>Violent Crimes</td>\n",
       "    </tr>\n",
       "    <tr>\n",
       "      <th>19996</th>\n",
       "      <td>16900    ROSCOE                       BL</td>\n",
       "      <td>NaN</td>\n",
       "      <td>12/25/2020 12:00:00 AM</td>\n",
       "      <td>12/25/2020 12:00:00 AM</td>\n",
       "      <td>West Valley</td>\n",
       "      <td>1822 0209 0344 1414 1420</td>\n",
       "      <td>M</td>\n",
       "      <td>W</td>\n",
       "      <td>GAS STATION</td>\n",
       "      <td>NaN</td>\n",
       "      <td>IC</td>\n",
       "      <td>Invest Cont</td>\n",
       "      <td>Property Crimes</td>\n",
       "    </tr>\n",
       "    <tr>\n",
       "      <th>19997</th>\n",
       "      <td>1000 S  SHENANDOAH                   ST</td>\n",
       "      <td>NaN</td>\n",
       "      <td>09/25/2020 12:00:00 AM</td>\n",
       "      <td>09/25/2020 12:00:00 AM</td>\n",
       "      <td>West LA</td>\n",
       "      <td>0344 1822 1420</td>\n",
       "      <td>M</td>\n",
       "      <td>H</td>\n",
       "      <td>SIDEWALK</td>\n",
       "      <td>NaN</td>\n",
       "      <td>IC</td>\n",
       "      <td>Invest Cont</td>\n",
       "      <td>Property Crimes</td>\n",
       "    </tr>\n",
       "    <tr>\n",
       "      <th>19998</th>\n",
       "      <td>300 W  SEPULVEDA                    ST</td>\n",
       "      <td>NaN</td>\n",
       "      <td>06/10/2020 12:00:00 AM</td>\n",
       "      <td>06/10/2020 12:00:00 AM</td>\n",
       "      <td>Harbor</td>\n",
       "      <td>1202 2038 0913 0602 1242 0553</td>\n",
       "      <td>F</td>\n",
       "      <td>H</td>\n",
       "      <td>SINGLE FAMILY DWELLING</td>\n",
       "      <td>NaN</td>\n",
       "      <td>IC</td>\n",
       "      <td>Invest Cont</td>\n",
       "      <td>Crimes against Public Order</td>\n",
       "    </tr>\n",
       "    <tr>\n",
       "      <th>19999</th>\n",
       "      <td>DALTON                       AV</td>\n",
       "      <td>VERNON                       AV</td>\n",
       "      <td>02/18/2020 12:00:00 AM</td>\n",
       "      <td>02/17/2020 12:00:00 AM</td>\n",
       "      <td>Southwest</td>\n",
       "      <td>NaN</td>\n",
       "      <td>NaN</td>\n",
       "      <td>NaN</td>\n",
       "      <td>STREET</td>\n",
       "      <td>NaN</td>\n",
       "      <td>IC</td>\n",
       "      <td>Invest Cont</td>\n",
       "      <td>Property Crimes</td>\n",
       "    </tr>\n",
       "  </tbody>\n",
       "</table>\n",
       "<p>20000 rows × 13 columns</p>\n",
       "</div>"
      ],
      "text/plain": [
       "                                       Location  \\\n",
       "0       4500    CARPENTER                    AV   \n",
       "1               45TH                         ST   \n",
       "2        600 E  MARTIN LUTHER KING JR        BL   \n",
       "3      14900    ORO GRANDE                   ST   \n",
       "4       7100 S  VERMONT                      AV   \n",
       "...                                         ...   \n",
       "19995   5100 W  ADAMS                        BL   \n",
       "19996  16900    ROSCOE                       BL   \n",
       "19997   1000 S  SHENANDOAH                   ST   \n",
       "19998    300 W  SEPULVEDA                    ST   \n",
       "19999           DALTON                       AV   \n",
       "\n",
       "                          Cross_Street           Date_Reported  \\\n",
       "0                                  NaN  03/09/2020 12:00:00 AM   \n",
       "1      ALAMEDA                      ST  02/27/2020 12:00:00 AM   \n",
       "2                                  NaN  08/21/2020 12:00:00 AM   \n",
       "3                                  NaN  11/08/2020 12:00:00 AM   \n",
       "4                                  NaN  02/25/2020 12:00:00 AM   \n",
       "...                                ...                     ...   \n",
       "19995                              NaN  05/24/2020 12:00:00 AM   \n",
       "19996                              NaN  12/25/2020 12:00:00 AM   \n",
       "19997                              NaN  09/25/2020 12:00:00 AM   \n",
       "19998                              NaN  06/10/2020 12:00:00 AM   \n",
       "19999  VERNON                       AV  02/18/2020 12:00:00 AM   \n",
       "\n",
       "                Date_Occurred    Area_Name  \\\n",
       "0      03/06/2020 12:00:00 AM  N Hollywood   \n",
       "1      02/27/2020 12:00:00 AM       Newton   \n",
       "2      08/21/2020 12:00:00 AM       Newton   \n",
       "3      11/06/2020 12:00:00 AM      Mission   \n",
       "4      02/25/2020 12:00:00 AM  77th Street   \n",
       "...                       ...          ...   \n",
       "19995  05/24/2020 12:00:00 AM    Southwest   \n",
       "19996  12/25/2020 12:00:00 AM  West Valley   \n",
       "19997  09/25/2020 12:00:00 AM      West LA   \n",
       "19998  06/10/2020 12:00:00 AM       Harbor   \n",
       "19999  02/17/2020 12:00:00 AM    Southwest   \n",
       "\n",
       "                                Modus_Operandi Victim_Sex Victim_Descent  \\\n",
       "0                                         0385          M              W   \n",
       "1      0906 0352 0371 0446 1822 0344 0416 0417          M              H   \n",
       "2                                    0329 1202          M              B   \n",
       "3                                    0329 1300          M              H   \n",
       "4                0416 0945 1822 0400 0417 0344          X              X   \n",
       "...                                        ...        ...            ...   \n",
       "19995                      0416 0446 2004 0913          M              H   \n",
       "19996                 1822 0209 0344 1414 1420          M              W   \n",
       "19997                           0344 1822 1420          M              H   \n",
       "19998            1202 2038 0913 0602 1242 0553          F              H   \n",
       "19999                                      NaN        NaN            NaN   \n",
       "\n",
       "          Premise_Description                              Weapon_Description  \\\n",
       "0                      STREET                                             NaN   \n",
       "1                   SWAP MEET  STRONG-ARM (HANDS, FIST, FEET OR BODILY FORCE)   \n",
       "2      SINGLE FAMILY DWELLING                                             NaN   \n",
       "3                      STREET                                             NaN   \n",
       "4                   MINI-MART  STRONG-ARM (HANDS, FIST, FEET OR BODILY FORCE)   \n",
       "...                       ...                                             ...   \n",
       "19995  SINGLE FAMILY DWELLING  STRONG-ARM (HANDS, FIST, FEET OR BODILY FORCE)   \n",
       "19996             GAS STATION                                             NaN   \n",
       "19997                SIDEWALK                                             NaN   \n",
       "19998  SINGLE FAMILY DWELLING                                             NaN   \n",
       "19999                  STREET                                             NaN   \n",
       "\n",
       "      Status Status_Description               Crime_Category  \n",
       "0         IC        Invest Cont              Property Crimes  \n",
       "1         IC        Invest Cont              Property Crimes  \n",
       "2         IC        Invest Cont              Property Crimes  \n",
       "3         IC        Invest Cont              Property Crimes  \n",
       "4         IC        Invest Cont              Property Crimes  \n",
       "...      ...                ...                          ...  \n",
       "19995     IC        Invest Cont               Violent Crimes  \n",
       "19996     IC        Invest Cont              Property Crimes  \n",
       "19997     IC        Invest Cont              Property Crimes  \n",
       "19998     IC        Invest Cont  Crimes against Public Order  \n",
       "19999     IC        Invest Cont              Property Crimes  \n",
       "\n",
       "[20000 rows x 13 columns]"
      ]
     },
     "execution_count": 13,
     "metadata": {},
     "output_type": "execute_result"
    }
   ],
   "source": [
    "train[object_columns]"
   ]
  },
  {
   "cell_type": "code",
   "execution_count": 14,
   "id": "c62ba5ec",
   "metadata": {
    "execution": {
     "iopub.execute_input": "2024-08-09T16:54:07.194336Z",
     "iopub.status.busy": "2024-08-09T16:54:07.193880Z",
     "iopub.status.idle": "2024-08-09T16:54:07.266219Z",
     "shell.execute_reply": "2024-08-09T16:54:07.265054Z"
    },
    "papermill": {
     "duration": 0.133938,
     "end_time": "2024-08-09T16:54:07.272075",
     "exception": false,
     "start_time": "2024-08-09T16:54:07.138137",
     "status": "completed"
    },
    "tags": []
   },
   "outputs": [
    {
     "name": "stdout",
     "output_type": "stream",
     "text": [
      "Location   Location\n",
      "6TH                                        33\n",
      "7TH                                        32\n",
      "VERMONT                      AV            31\n",
      "6TH                          ST            31\n",
      "7TH                          ST            30\n",
      "                                           ..\n",
      "2700 E  1ST                          ST     1\n",
      "9300    SWINTON                      AV     1\n",
      "MCKINLEY                                    1\n",
      "WADE                         ST             1\n",
      "DALTON                       AV             1\n",
      "Name: count, Length: 12399, dtype: int64\n",
      "Cross_Street   Cross_Street\n",
      "BROADWAY                           56\n",
      "FIGUEROA                           43\n",
      "VERMONT                      AV    40\n",
      "FIGUEROA                     ST    34\n",
      "MAIN                               33\n",
      "                                   ..\n",
      "VENTURA CANYON               BL     1\n",
      "E  ORLANDO                          1\n",
      "D                            ST     1\n",
      "CABRILLO                     AV     1\n",
      "HAVELOCK                            1\n",
      "Name: count, Length: 1495, dtype: int64\n",
      "Date_Reported   Date_Reported\n",
      "07/13/2020 12:00:00 AM    87\n",
      "06/16/2020 12:00:00 AM    83\n",
      "03/04/2020 12:00:00 AM    77\n",
      "01/17/2020 12:00:00 AM    75\n",
      "09/04/2020 12:00:00 AM    74\n",
      "                          ..\n",
      "04/06/2022 12:00:00 AM     1\n",
      "12/15/2021 12:00:00 AM     1\n",
      "10/20/2022 12:00:00 AM     1\n",
      "12/27/2022 12:00:00 AM     1\n",
      "12/19/2021 12:00:00 AM     1\n",
      "Name: count, Length: 811, dtype: int64\n",
      "Date_Occurred   Date_Occurred\n",
      "01/01/2020 12:00:00 AM    137\n",
      "03/01/2020 12:00:00 AM     92\n",
      "05/30/2020 12:00:00 AM     87\n",
      "06/01/2020 12:00:00 AM     85\n",
      "08/01/2020 12:00:00 AM     81\n",
      "                         ... \n",
      "06/22/2020 12:00:00 AM     36\n",
      "12/16/2020 12:00:00 AM     35\n",
      "05/22/2020 12:00:00 AM     33\n",
      "07/26/2020 12:00:00 AM     30\n",
      "11/12/2020 12:00:00 AM     28\n",
      "Name: count, Length: 366, dtype: int64\n",
      "Area_Name   Area_Name\n",
      "77th Street    1345\n",
      "Pacific        1157\n",
      "Central        1156\n",
      "Southwest      1130\n",
      "Southeast      1067\n",
      "N Hollywood    1065\n",
      "Hollywood      1014\n",
      "Newton          999\n",
      "Olympic         960\n",
      "Wilshire        943\n",
      "Rampart         931\n",
      "West LA         910\n",
      "Van Nuys        902\n",
      "Harbor          872\n",
      "Mission         870\n",
      "Northeast       839\n",
      "Topanga         792\n",
      "West Valley     790\n",
      "Devonshire      769\n",
      "Hollenbeck      755\n",
      "Foothill        734\n",
      "Name: count, dtype: int64\n",
      "Modus_Operandi   Modus_Operandi\n",
      "0344                                       826\n",
      "0329                                       583\n",
      "1501                                       187\n",
      "0329 1300                                  135\n",
      "0325                                       127\n",
      "                                          ... \n",
      "1609 0329 1307 0344                          1\n",
      "0344 2050 0910 2034                          1\n",
      "0400 2000 0913                               1\n",
      "1822 0342 0910 2049 2051 0305 0444 0344      1\n",
      "1202 2038 0913 0602 1242 0553                1\n",
      "Name: count, Length: 10489, dtype: int64\n",
      "Victim_Sex   Victim_Sex\n",
      "M    8538\n",
      "F    7176\n",
      "X    1660\n",
      "H       2\n",
      "Name: count, dtype: int64\n",
      "Victim_Descent   Victim_Descent\n",
      "H    6143\n",
      "W    4245\n",
      "B    2881\n",
      "X    1849\n",
      "O    1603\n",
      "A     427\n",
      "K      83\n",
      "C      51\n",
      "F      48\n",
      "J      16\n",
      "I      11\n",
      "V       8\n",
      "P       4\n",
      "Z       3\n",
      "U       2\n",
      "D       1\n",
      "G       1\n",
      "Name: count, dtype: int64\n",
      "Premise_Description   Premise_Description\n",
      "STREET                                          5033\n",
      "SINGLE FAMILY DWELLING                          3379\n",
      "MULTI-UNIT DWELLING (APARTMENT, DUPLEX, ETC)    2491\n",
      "PARKING LOT                                     1437\n",
      "SIDEWALK                                         978\n",
      "                                                ... \n",
      "BUS DEPOT/TERMINAL, OTHER THAN MTA                 1\n",
      "MTA - RED LINE - HOLLYWOOD/WESTERN                 1\n",
      "MTA - SILVER LINE - ROSECRANS                      1\n",
      "HIGH-RISE BUILDING                                 1\n",
      "COMPUTER SERVICES/REPAIRS/SALES                    1\n",
      "Name: count, Length: 216, dtype: int64\n",
      "Weapon_Description   Weapon_Description\n",
      "STRONG-ARM (HANDS, FIST, FEET OR BODILY FORCE)    3990\n",
      "UNKNOWN WEAPON/OTHER WEAPON                        789\n",
      "VERBAL THREAT                                      546\n",
      "HAND GUN                                           388\n",
      "KNIFE WITH BLADE 6INCHES OR LESS                   160\n",
      "SEMI-AUTOMATIC PISTOL                              154\n",
      "UNKNOWN FIREARM                                    131\n",
      "OTHER KNIFE                                        125\n",
      "VEHICLE                                             84\n",
      "MACE/PEPPER SPRAY                                   80\n",
      "ROCK/THROWN OBJECT                                  63\n",
      "BOTTLE                                              55\n",
      "PIPE/METAL PIPE                                     52\n",
      "CLUB/BAT                                            51\n",
      "STICK                                               49\n",
      "KITCHEN KNIFE                                       45\n",
      "KNIFE WITH BLADE OVER 6 INCHES IN LENGTH            43\n",
      "AIR PISTOL/REVOLVER/RIFLE/BB GUN                    41\n",
      "FOLDING KNIFE                                       37\n",
      "BLUNT INSTRUMENT                                    37\n",
      "SIMULATED GUN                                       35\n",
      "REVOLVER                                            34\n",
      "BELT FLAILING INSTRUMENT/CHAIN                      26\n",
      "CONCRETE BLOCK/BRICK                                26\n",
      "MACHETE                                             25\n",
      "UNKNOWN TYPE CUTTING INSTRUMENT                     24\n",
      "HAMMER                                              23\n",
      "SCREWDRIVER                                         23\n",
      "FIRE                                                22\n",
      "OTHER FIREARM                                       18\n",
      "PHYSICAL PRESENCE                                   18\n",
      "OTHER CUTTING INSTRUMENT                            17\n",
      "FIXED OBJECT                                        16\n",
      "GLASS                                               14\n",
      "SCISSORS                                            13\n",
      "RIFLE                                               12\n",
      "BOARD                                               11\n",
      "TOY GUN                                              8\n",
      "SHOTGUN                                              7\n",
      "TIRE IRON                                            7\n",
      "AXE                                                  6\n",
      "STUN GUN                                             4\n",
      "BRASS KNUCKLES                                       4\n",
      "SCALDING LIQUID                                      3\n",
      "SWITCH BLADE                                         3\n",
      "MARTIAL ARTS WEAPONS                                 2\n",
      "DEMAND NOTE                                          2\n",
      "SAWED OFF RIFLE/SHOTGUN                              2\n",
      "ICE PICK                                             2\n",
      "CAUSTIC CHEMICAL/POISON                              1\n",
      "BOMB THREAT                                          1\n",
      "BOWIE KNIFE                                          1\n",
      "STARTER PISTOL/REVOLVER                              1\n",
      "RAZOR BLADE                                          1\n",
      "HECKLER & KOCH 93 SEMIAUTOMATIC ASSAULT RIFLE        1\n",
      "ASSAULT WEAPON/UZI/AK47/ETC                          1\n",
      "CLEAVER                                              1\n",
      "Name: count, dtype: int64\n",
      "Status   Status\n",
      "IC    15236\n",
      "AO     2597\n",
      "AA     2054\n",
      "JA       70\n",
      "JO       43\n",
      "Name: count, dtype: int64\n",
      "Status_Description   Status_Description\n",
      "Invest Cont     15236\n",
      "Adult Other      2597\n",
      "Adult Arrest     2054\n",
      "Juv Arrest         70\n",
      "Juv Other          43\n",
      "Name: count, dtype: int64\n",
      "Crime_Category   Crime_Category\n",
      "Property Crimes                  11666\n",
      "Violent Crimes                    4767\n",
      "Crimes against Public Order       1808\n",
      "Fraud and White-Collar Crimes     1355\n",
      "Crimes against Persons             225\n",
      "Other Crimes                       179\n",
      "Name: count, dtype: int64\n"
     ]
    }
   ],
   "source": [
    "for col in object_columns:\n",
    "    print(col, \" \", train[col].value_counts())\n",
    "    "
   ]
  },
  {
   "cell_type": "markdown",
   "id": "bbb7cd70",
   "metadata": {
    "papermill": {
     "duration": 0.053508,
     "end_time": "2024-08-09T16:54:07.380911",
     "exception": false,
     "start_time": "2024-08-09T16:54:07.327403",
     "status": "completed"
    },
    "tags": []
   },
   "source": [
    "Starting with Area ID"
   ]
  },
  {
   "cell_type": "markdown",
   "id": "5f2f9703",
   "metadata": {
    "papermill": {
     "duration": 0.053277,
     "end_time": "2024-08-09T16:54:07.491772",
     "exception": false,
     "start_time": "2024-08-09T16:54:07.438495",
     "status": "completed"
    },
    "tags": []
   },
   "source": [
    "    Area_ID: LAPD's Geographic Area number.\n",
    "    Area_Name: Name designation of the LAPD Geographic Area."
   ]
  },
  {
   "cell_type": "code",
   "execution_count": 15,
   "id": "52f62ad4",
   "metadata": {
    "execution": {
     "iopub.execute_input": "2024-08-09T16:54:07.602580Z",
     "iopub.status.busy": "2024-08-09T16:54:07.602158Z",
     "iopub.status.idle": "2024-08-09T16:54:07.611213Z",
     "shell.execute_reply": "2024-08-09T16:54:07.610085Z"
    },
    "papermill": {
     "duration": 0.066866,
     "end_time": "2024-08-09T16:54:07.613657",
     "exception": false,
     "start_time": "2024-08-09T16:54:07.546791",
     "status": "completed"
    },
    "tags": []
   },
   "outputs": [
    {
     "data": {
      "text/plain": [
       "21"
      ]
     },
     "execution_count": 15,
     "metadata": {},
     "output_type": "execute_result"
    }
   ],
   "source": [
    "train['Area_Name'].nunique()"
   ]
  },
  {
   "cell_type": "code",
   "execution_count": 16,
   "id": "316f46dd",
   "metadata": {
    "execution": {
     "iopub.execute_input": "2024-08-09T16:54:07.724220Z",
     "iopub.status.busy": "2024-08-09T16:54:07.723122Z",
     "iopub.status.idle": "2024-08-09T16:54:07.735441Z",
     "shell.execute_reply": "2024-08-09T16:54:07.734331Z"
    },
    "papermill": {
     "duration": 0.070973,
     "end_time": "2024-08-09T16:54:07.738367",
     "exception": false,
     "start_time": "2024-08-09T16:54:07.667394",
     "status": "completed"
    },
    "tags": []
   },
   "outputs": [
    {
     "data": {
      "text/plain": [
       "Area_Name\n",
       "77th Street    1345\n",
       "Pacific        1157\n",
       "Central        1156\n",
       "Southwest      1130\n",
       "Southeast      1067\n",
       "N Hollywood    1065\n",
       "Hollywood      1014\n",
       "Newton          999\n",
       "Olympic         960\n",
       "Wilshire        943\n",
       "Rampart         931\n",
       "West LA         910\n",
       "Van Nuys        902\n",
       "Harbor          872\n",
       "Mission         870\n",
       "Northeast       839\n",
       "Topanga         792\n",
       "West Valley     790\n",
       "Devonshire      769\n",
       "Hollenbeck      755\n",
       "Foothill        734\n",
       "Name: count, dtype: int64"
      ]
     },
     "execution_count": 16,
     "metadata": {},
     "output_type": "execute_result"
    }
   ],
   "source": [
    "train['Area_Name'].value_counts()"
   ]
  },
  {
   "cell_type": "code",
   "execution_count": 17,
   "id": "1e2d93f3",
   "metadata": {
    "execution": {
     "iopub.execute_input": "2024-08-09T16:54:07.850832Z",
     "iopub.status.busy": "2024-08-09T16:54:07.850056Z",
     "iopub.status.idle": "2024-08-09T16:54:07.862900Z",
     "shell.execute_reply": "2024-08-09T16:54:07.861228Z"
    },
    "papermill": {
     "duration": 0.070753,
     "end_time": "2024-08-09T16:54:07.865491",
     "exception": false,
     "start_time": "2024-08-09T16:54:07.794738",
     "status": "completed"
    },
    "tags": []
   },
   "outputs": [
    {
     "data": {
      "text/plain": [
       "Area_ID\n",
       "12.0    1345\n",
       "14.0    1157\n",
       "1.0     1156\n",
       "3.0     1130\n",
       "18.0    1067\n",
       "15.0    1065\n",
       "6.0     1014\n",
       "13.0     999\n",
       "20.0     960\n",
       "7.0      943\n",
       "2.0      931\n",
       "8.0      910\n",
       "9.0      902\n",
       "5.0      872\n",
       "19.0     870\n",
       "11.0     839\n",
       "21.0     792\n",
       "10.0     790\n",
       "17.0     769\n",
       "4.0      755\n",
       "16.0     734\n",
       "Name: count, dtype: int64"
      ]
     },
     "execution_count": 17,
     "metadata": {},
     "output_type": "execute_result"
    }
   ],
   "source": [
    "train['Area_ID'].value_counts()"
   ]
  },
  {
   "cell_type": "code",
   "execution_count": 18,
   "id": "b2b507e9",
   "metadata": {
    "execution": {
     "iopub.execute_input": "2024-08-09T16:54:07.976613Z",
     "iopub.status.busy": "2024-08-09T16:54:07.975923Z",
     "iopub.status.idle": "2024-08-09T16:54:07.984888Z",
     "shell.execute_reply": "2024-08-09T16:54:07.983810Z"
    },
    "papermill": {
     "duration": 0.066628,
     "end_time": "2024-08-09T16:54:07.987452",
     "exception": false,
     "start_time": "2024-08-09T16:54:07.920824",
     "status": "completed"
    },
    "tags": []
   },
   "outputs": [
    {
     "data": {
      "text/plain": [
       "21"
      ]
     },
     "execution_count": 18,
     "metadata": {},
     "output_type": "execute_result"
    }
   ],
   "source": [
    "train['Area_ID'].nunique()"
   ]
  },
  {
   "cell_type": "code",
   "execution_count": 19,
   "id": "1170db7a",
   "metadata": {
    "execution": {
     "iopub.execute_input": "2024-08-09T16:54:08.100159Z",
     "iopub.status.busy": "2024-08-09T16:54:08.099745Z",
     "iopub.status.idle": "2024-08-09T16:54:08.115930Z",
     "shell.execute_reply": "2024-08-09T16:54:08.114800Z"
    },
    "papermill": {
     "duration": 0.074734,
     "end_time": "2024-08-09T16:54:08.118403",
     "exception": false,
     "start_time": "2024-08-09T16:54:08.043669",
     "status": "completed"
    },
    "tags": []
   },
   "outputs": [
    {
     "data": {
      "text/html": [
       "<div>\n",
       "<style scoped>\n",
       "    .dataframe tbody tr th:only-of-type {\n",
       "        vertical-align: middle;\n",
       "    }\n",
       "\n",
       "    .dataframe tbody tr th {\n",
       "        vertical-align: top;\n",
       "    }\n",
       "\n",
       "    .dataframe thead th {\n",
       "        text-align: right;\n",
       "    }\n",
       "</style>\n",
       "<table border=\"1\" class=\"dataframe\">\n",
       "  <thead>\n",
       "    <tr style=\"text-align: right;\">\n",
       "      <th></th>\n",
       "      <th>Area_ID</th>\n",
       "      <th>Area_Name</th>\n",
       "    </tr>\n",
       "  </thead>\n",
       "  <tbody>\n",
       "    <tr>\n",
       "      <th>0</th>\n",
       "      <td>15.0</td>\n",
       "      <td>N Hollywood</td>\n",
       "    </tr>\n",
       "    <tr>\n",
       "      <th>1</th>\n",
       "      <td>13.0</td>\n",
       "      <td>Newton</td>\n",
       "    </tr>\n",
       "    <tr>\n",
       "      <th>2</th>\n",
       "      <td>13.0</td>\n",
       "      <td>Newton</td>\n",
       "    </tr>\n",
       "    <tr>\n",
       "      <th>3</th>\n",
       "      <td>19.0</td>\n",
       "      <td>Mission</td>\n",
       "    </tr>\n",
       "    <tr>\n",
       "      <th>4</th>\n",
       "      <td>12.0</td>\n",
       "      <td>77th Street</td>\n",
       "    </tr>\n",
       "    <tr>\n",
       "      <th>...</th>\n",
       "      <td>...</td>\n",
       "      <td>...</td>\n",
       "    </tr>\n",
       "    <tr>\n",
       "      <th>19995</th>\n",
       "      <td>3.0</td>\n",
       "      <td>Southwest</td>\n",
       "    </tr>\n",
       "    <tr>\n",
       "      <th>19996</th>\n",
       "      <td>10.0</td>\n",
       "      <td>West Valley</td>\n",
       "    </tr>\n",
       "    <tr>\n",
       "      <th>19997</th>\n",
       "      <td>8.0</td>\n",
       "      <td>West LA</td>\n",
       "    </tr>\n",
       "    <tr>\n",
       "      <th>19998</th>\n",
       "      <td>5.0</td>\n",
       "      <td>Harbor</td>\n",
       "    </tr>\n",
       "    <tr>\n",
       "      <th>19999</th>\n",
       "      <td>3.0</td>\n",
       "      <td>Southwest</td>\n",
       "    </tr>\n",
       "  </tbody>\n",
       "</table>\n",
       "<p>20000 rows × 2 columns</p>\n",
       "</div>"
      ],
      "text/plain": [
       "       Area_ID    Area_Name\n",
       "0         15.0  N Hollywood\n",
       "1         13.0       Newton\n",
       "2         13.0       Newton\n",
       "3         19.0      Mission\n",
       "4         12.0  77th Street\n",
       "...        ...          ...\n",
       "19995      3.0    Southwest\n",
       "19996     10.0  West Valley\n",
       "19997      8.0      West LA\n",
       "19998      5.0       Harbor\n",
       "19999      3.0    Southwest\n",
       "\n",
       "[20000 rows x 2 columns]"
      ]
     },
     "execution_count": 19,
     "metadata": {},
     "output_type": "execute_result"
    }
   ],
   "source": [
    "train[['Area_ID', 'Area_Name']]"
   ]
  },
  {
   "cell_type": "code",
   "execution_count": 20,
   "id": "e82d72c5",
   "metadata": {
    "execution": {
     "iopub.execute_input": "2024-08-09T16:54:08.230540Z",
     "iopub.status.busy": "2024-08-09T16:54:08.229808Z",
     "iopub.status.idle": "2024-08-09T16:54:08.246789Z",
     "shell.execute_reply": "2024-08-09T16:54:08.245651Z"
    },
    "papermill": {
     "duration": 0.075989,
     "end_time": "2024-08-09T16:54:08.249619",
     "exception": false,
     "start_time": "2024-08-09T16:54:08.173630",
     "status": "completed"
    },
    "tags": []
   },
   "outputs": [
    {
     "data": {
      "text/html": [
       "<div>\n",
       "<style scoped>\n",
       "    .dataframe tbody tr th:only-of-type {\n",
       "        vertical-align: middle;\n",
       "    }\n",
       "\n",
       "    .dataframe tbody tr th {\n",
       "        vertical-align: top;\n",
       "    }\n",
       "\n",
       "    .dataframe thead th {\n",
       "        text-align: right;\n",
       "    }\n",
       "</style>\n",
       "<table border=\"1\" class=\"dataframe\">\n",
       "  <thead>\n",
       "    <tr style=\"text-align: right;\">\n",
       "      <th></th>\n",
       "      <th>Area_ID</th>\n",
       "      <th>Area_Name</th>\n",
       "    </tr>\n",
       "  </thead>\n",
       "  <tbody>\n",
       "    <tr>\n",
       "      <th>0</th>\n",
       "      <td>15.0</td>\n",
       "      <td>N Hollywood</td>\n",
       "    </tr>\n",
       "    <tr>\n",
       "      <th>44</th>\n",
       "      <td>15.0</td>\n",
       "      <td>N Hollywood</td>\n",
       "    </tr>\n",
       "    <tr>\n",
       "      <th>55</th>\n",
       "      <td>15.0</td>\n",
       "      <td>N Hollywood</td>\n",
       "    </tr>\n",
       "    <tr>\n",
       "      <th>92</th>\n",
       "      <td>15.0</td>\n",
       "      <td>N Hollywood</td>\n",
       "    </tr>\n",
       "    <tr>\n",
       "      <th>121</th>\n",
       "      <td>15.0</td>\n",
       "      <td>N Hollywood</td>\n",
       "    </tr>\n",
       "    <tr>\n",
       "      <th>...</th>\n",
       "      <td>...</td>\n",
       "      <td>...</td>\n",
       "    </tr>\n",
       "    <tr>\n",
       "      <th>19873</th>\n",
       "      <td>15.0</td>\n",
       "      <td>N Hollywood</td>\n",
       "    </tr>\n",
       "    <tr>\n",
       "      <th>19907</th>\n",
       "      <td>15.0</td>\n",
       "      <td>N Hollywood</td>\n",
       "    </tr>\n",
       "    <tr>\n",
       "      <th>19916</th>\n",
       "      <td>15.0</td>\n",
       "      <td>N Hollywood</td>\n",
       "    </tr>\n",
       "    <tr>\n",
       "      <th>19975</th>\n",
       "      <td>15.0</td>\n",
       "      <td>N Hollywood</td>\n",
       "    </tr>\n",
       "    <tr>\n",
       "      <th>19990</th>\n",
       "      <td>15.0</td>\n",
       "      <td>N Hollywood</td>\n",
       "    </tr>\n",
       "  </tbody>\n",
       "</table>\n",
       "<p>1065 rows × 2 columns</p>\n",
       "</div>"
      ],
      "text/plain": [
       "       Area_ID    Area_Name\n",
       "0         15.0  N Hollywood\n",
       "44        15.0  N Hollywood\n",
       "55        15.0  N Hollywood\n",
       "92        15.0  N Hollywood\n",
       "121       15.0  N Hollywood\n",
       "...        ...          ...\n",
       "19873     15.0  N Hollywood\n",
       "19907     15.0  N Hollywood\n",
       "19916     15.0  N Hollywood\n",
       "19975     15.0  N Hollywood\n",
       "19990     15.0  N Hollywood\n",
       "\n",
       "[1065 rows x 2 columns]"
      ]
     },
     "execution_count": 20,
     "metadata": {},
     "output_type": "execute_result"
    }
   ],
   "source": [
    "train[train['Area_ID']==15.0][['Area_ID', 'Area_Name']]"
   ]
  },
  {
   "cell_type": "markdown",
   "id": "b691afc9",
   "metadata": {
    "papermill": {
     "duration": 0.054817,
     "end_time": "2024-08-09T16:54:08.359598",
     "exception": false,
     "start_time": "2024-08-09T16:54:08.304781",
     "status": "completed"
    },
    "tags": []
   },
   "source": [
    "From the above code, we can infer that. we can drop the area name column."
   ]
  },
  {
   "cell_type": "markdown",
   "id": "5fcfdfde",
   "metadata": {
    "papermill": {
     "duration": 0.05571,
     "end_time": "2024-08-09T16:54:08.470136",
     "exception": false,
     "start_time": "2024-08-09T16:54:08.414426",
     "status": "completed"
    },
    "tags": []
   },
   "source": [
    "each area has a unique ID, so there's a chance to drop the area name"
   ]
  },
  {
   "cell_type": "code",
   "execution_count": 21,
   "id": "b2d395f0",
   "metadata": {
    "execution": {
     "iopub.execute_input": "2024-08-09T16:54:08.582567Z",
     "iopub.status.busy": "2024-08-09T16:54:08.582157Z",
     "iopub.status.idle": "2024-08-09T16:54:08.591379Z",
     "shell.execute_reply": "2024-08-09T16:54:08.590305Z"
    },
    "papermill": {
     "duration": 0.068434,
     "end_time": "2024-08-09T16:54:08.594002",
     "exception": false,
     "start_time": "2024-08-09T16:54:08.525568",
     "status": "completed"
    },
    "tags": []
   },
   "outputs": [
    {
     "data": {
      "text/plain": [
       "0                                                   NaN\n",
       "1        STRONG-ARM (HANDS, FIST, FEET OR BODILY FORCE)\n",
       "2                                                   NaN\n",
       "3                                                   NaN\n",
       "4        STRONG-ARM (HANDS, FIST, FEET OR BODILY FORCE)\n",
       "                              ...                      \n",
       "19995    STRONG-ARM (HANDS, FIST, FEET OR BODILY FORCE)\n",
       "19996                                               NaN\n",
       "19997                                               NaN\n",
       "19998                                               NaN\n",
       "19999                                               NaN\n",
       "Name: Weapon_Description, Length: 20000, dtype: object"
      ]
     },
     "execution_count": 21,
     "metadata": {},
     "output_type": "execute_result"
    }
   ],
   "source": [
    "train['Weapon_Description']"
   ]
  },
  {
   "cell_type": "markdown",
   "id": "e461ddfc",
   "metadata": {
    "papermill": {
     "duration": 0.054285,
     "end_time": "2024-08-09T16:54:08.703582",
     "exception": false,
     "start_time": "2024-08-09T16:54:08.649297",
     "status": "completed"
    },
    "tags": []
   },
   "source": [
    "Unique values in object columns"
   ]
  },
  {
   "cell_type": "code",
   "execution_count": 22,
   "id": "5699f1d5",
   "metadata": {
    "execution": {
     "iopub.execute_input": "2024-08-09T16:54:08.820769Z",
     "iopub.status.busy": "2024-08-09T16:54:08.820390Z",
     "iopub.status.idle": "2024-08-09T16:54:08.855969Z",
     "shell.execute_reply": "2024-08-09T16:54:08.854443Z"
    },
    "papermill": {
     "duration": 0.1003,
     "end_time": "2024-08-09T16:54:08.858754",
     "exception": false,
     "start_time": "2024-08-09T16:54:08.758454",
     "status": "completed"
    },
    "tags": []
   },
   "outputs": [
    {
     "name": "stdout",
     "output_type": "stream",
     "text": [
      "Location   12399\n",
      "Cross_Street   1495\n",
      "Date_Reported   811\n",
      "Date_Occurred   366\n",
      "Area_Name   21\n",
      "Modus_Operandi   10489\n",
      "Victim_Sex   4\n",
      "Victim_Descent   17\n",
      "Premise_Description   216\n",
      "Weapon_Description   57\n",
      "Status   5\n",
      "Status_Description   5\n",
      "Crime_Category   6\n"
     ]
    }
   ],
   "source": [
    "for col in object_columns:\n",
    "    print(col, \" \", train[col].nunique())\n",
    "    "
   ]
  },
  {
   "cell_type": "markdown",
   "id": "55f4cba0",
   "metadata": {
    "papermill": {
     "duration": 0.056257,
     "end_time": "2024-08-09T16:54:08.971458",
     "exception": false,
     "start_time": "2024-08-09T16:54:08.915201",
     "status": "completed"
    },
    "tags": []
   },
   "source": [
    "Overall unique values in all columns"
   ]
  },
  {
   "cell_type": "code",
   "execution_count": 23,
   "id": "d738be25",
   "metadata": {
    "execution": {
     "iopub.execute_input": "2024-08-09T16:54:09.089466Z",
     "iopub.status.busy": "2024-08-09T16:54:09.089013Z",
     "iopub.status.idle": "2024-08-09T16:54:09.127322Z",
     "shell.execute_reply": "2024-08-09T16:54:09.125979Z"
    },
    "papermill": {
     "duration": 0.099533,
     "end_time": "2024-08-09T16:54:09.130390",
     "exception": false,
     "start_time": "2024-08-09T16:54:09.030857",
     "status": "completed"
    },
    "tags": []
   },
   "outputs": [
    {
     "name": "stdout",
     "output_type": "stream",
     "text": [
      "Location   12399\n",
      "Cross_Street   1495\n",
      "Latitude   3622\n",
      "Longitude   3578\n",
      "Date_Reported   811\n",
      "Date_Occurred   366\n",
      "Time_Occurred   996\n",
      "Area_ID   21\n",
      "Area_Name   21\n",
      "Reporting_District_no   1120\n",
      "Part 1-2   2\n",
      "Modus_Operandi   10489\n",
      "Victim_Age   100\n",
      "Victim_Sex   4\n",
      "Victim_Descent   17\n",
      "Premise_Code   217\n",
      "Premise_Description   216\n",
      "Weapon_Used_Code   57\n",
      "Weapon_Description   57\n",
      "Status   5\n",
      "Status_Description   5\n",
      "Crime_Category   6\n"
     ]
    }
   ],
   "source": [
    "for col in train.columns:\n",
    "    print(col, \" \", train[col].nunique())\n",
    "    "
   ]
  },
  {
   "cell_type": "markdown",
   "id": "83a338c6",
   "metadata": {
    "papermill": {
     "duration": 0.057358,
     "end_time": "2024-08-09T16:54:09.244382",
     "exception": false,
     "start_time": "2024-08-09T16:54:09.187024",
     "status": "completed"
    },
    "tags": []
   },
   "source": [
    "Similar case with Weapon Description and Weapon used code"
   ]
  },
  {
   "cell_type": "code",
   "execution_count": 24,
   "id": "ede1fc53",
   "metadata": {
    "execution": {
     "iopub.execute_input": "2024-08-09T16:54:09.359259Z",
     "iopub.status.busy": "2024-08-09T16:54:09.358874Z",
     "iopub.status.idle": "2024-08-09T16:54:09.372125Z",
     "shell.execute_reply": "2024-08-09T16:54:09.371096Z"
    },
    "papermill": {
     "duration": 0.073403,
     "end_time": "2024-08-09T16:54:09.374895",
     "exception": false,
     "start_time": "2024-08-09T16:54:09.301492",
     "status": "completed"
    },
    "tags": []
   },
   "outputs": [
    {
     "data": {
      "text/plain": [
       "Weapon_Used_Code\n",
       "400.0    3990\n",
       "500.0     789\n",
       "511.0     546\n",
       "102.0     388\n",
       "200.0     160\n",
       "109.0     154\n",
       "106.0     131\n",
       "207.0     125\n",
       "307.0      84\n",
       "512.0      80\n",
       "306.0      63\n",
       "212.0      55\n",
       "312.0      52\n",
       "304.0      51\n",
       "308.0      49\n",
       "205.0      45\n",
       "201.0      43\n",
       "114.0      41\n",
       "204.0      37\n",
       "302.0      37\n",
       "113.0      35\n",
       "101.0      34\n",
       "301.0      26\n",
       "310.0      26\n",
       "215.0      25\n",
       "223.0      24\n",
       "311.0      23\n",
       "219.0      23\n",
       "506.0      22\n",
       "107.0      18\n",
       "515.0      18\n",
       "218.0      17\n",
       "305.0      16\n",
       "221.0      14\n",
       "216.0      13\n",
       "103.0      12\n",
       "309.0      11\n",
       "112.0       8\n",
       "104.0       7\n",
       "514.0       7\n",
       "211.0       6\n",
       "513.0       4\n",
       "303.0       4\n",
       "510.0       3\n",
       "206.0       3\n",
       "508.0       2\n",
       "504.0       2\n",
       "105.0       2\n",
       "214.0       2\n",
       "503.0       1\n",
       "501.0       1\n",
       "202.0       1\n",
       "111.0       1\n",
       "210.0       1\n",
       "122.0       1\n",
       "115.0       1\n",
       "213.0       1\n",
       "Name: count, dtype: int64"
      ]
     },
     "execution_count": 24,
     "metadata": {},
     "output_type": "execute_result"
    }
   ],
   "source": [
    "train['Weapon_Used_Code'].value_counts()"
   ]
  },
  {
   "cell_type": "code",
   "execution_count": 25,
   "id": "def04672",
   "metadata": {
    "execution": {
     "iopub.execute_input": "2024-08-09T16:54:09.493641Z",
     "iopub.status.busy": "2024-08-09T16:54:09.493166Z",
     "iopub.status.idle": "2024-08-09T16:54:09.501487Z",
     "shell.execute_reply": "2024-08-09T16:54:09.500221Z"
    },
    "papermill": {
     "duration": 0.070501,
     "end_time": "2024-08-09T16:54:09.504016",
     "exception": false,
     "start_time": "2024-08-09T16:54:09.433515",
     "status": "completed"
    },
    "tags": []
   },
   "outputs": [
    {
     "data": {
      "text/plain": [
       "12665"
      ]
     },
     "execution_count": 25,
     "metadata": {},
     "output_type": "execute_result"
    }
   ],
   "source": [
    "train['Weapon_Used_Code'].isna().sum() #it has nulls"
   ]
  },
  {
   "cell_type": "code",
   "execution_count": 26,
   "id": "373458d5",
   "metadata": {
    "execution": {
     "iopub.execute_input": "2024-08-09T16:54:09.618390Z",
     "iopub.status.busy": "2024-08-09T16:54:09.617951Z",
     "iopub.status.idle": "2024-08-09T16:54:09.635705Z",
     "shell.execute_reply": "2024-08-09T16:54:09.634546Z"
    },
    "papermill": {
     "duration": 0.077303,
     "end_time": "2024-08-09T16:54:09.638285",
     "exception": false,
     "start_time": "2024-08-09T16:54:09.560982",
     "status": "completed"
    },
    "tags": []
   },
   "outputs": [
    {
     "data": {
      "text/html": [
       "<div>\n",
       "<style scoped>\n",
       "    .dataframe tbody tr th:only-of-type {\n",
       "        vertical-align: middle;\n",
       "    }\n",
       "\n",
       "    .dataframe tbody tr th {\n",
       "        vertical-align: top;\n",
       "    }\n",
       "\n",
       "    .dataframe thead th {\n",
       "        text-align: right;\n",
       "    }\n",
       "</style>\n",
       "<table border=\"1\" class=\"dataframe\">\n",
       "  <thead>\n",
       "    <tr style=\"text-align: right;\">\n",
       "      <th></th>\n",
       "      <th>Weapon_Description</th>\n",
       "      <th>Weapon_Used_Code</th>\n",
       "    </tr>\n",
       "  </thead>\n",
       "  <tbody>\n",
       "    <tr>\n",
       "      <th>1</th>\n",
       "      <td>STRONG-ARM (HANDS, FIST, FEET OR BODILY FORCE)</td>\n",
       "      <td>400.0</td>\n",
       "    </tr>\n",
       "    <tr>\n",
       "      <th>4</th>\n",
       "      <td>STRONG-ARM (HANDS, FIST, FEET OR BODILY FORCE)</td>\n",
       "      <td>400.0</td>\n",
       "    </tr>\n",
       "    <tr>\n",
       "      <th>5</th>\n",
       "      <td>STRONG-ARM (HANDS, FIST, FEET OR BODILY FORCE)</td>\n",
       "      <td>400.0</td>\n",
       "    </tr>\n",
       "    <tr>\n",
       "      <th>19</th>\n",
       "      <td>STRONG-ARM (HANDS, FIST, FEET OR BODILY FORCE)</td>\n",
       "      <td>400.0</td>\n",
       "    </tr>\n",
       "    <tr>\n",
       "      <th>31</th>\n",
       "      <td>STRONG-ARM (HANDS, FIST, FEET OR BODILY FORCE)</td>\n",
       "      <td>400.0</td>\n",
       "    </tr>\n",
       "    <tr>\n",
       "      <th>...</th>\n",
       "      <td>...</td>\n",
       "      <td>...</td>\n",
       "    </tr>\n",
       "    <tr>\n",
       "      <th>19978</th>\n",
       "      <td>STRONG-ARM (HANDS, FIST, FEET OR BODILY FORCE)</td>\n",
       "      <td>400.0</td>\n",
       "    </tr>\n",
       "    <tr>\n",
       "      <th>19981</th>\n",
       "      <td>STRONG-ARM (HANDS, FIST, FEET OR BODILY FORCE)</td>\n",
       "      <td>400.0</td>\n",
       "    </tr>\n",
       "    <tr>\n",
       "      <th>19982</th>\n",
       "      <td>STRONG-ARM (HANDS, FIST, FEET OR BODILY FORCE)</td>\n",
       "      <td>400.0</td>\n",
       "    </tr>\n",
       "    <tr>\n",
       "      <th>19984</th>\n",
       "      <td>STRONG-ARM (HANDS, FIST, FEET OR BODILY FORCE)</td>\n",
       "      <td>400.0</td>\n",
       "    </tr>\n",
       "    <tr>\n",
       "      <th>19995</th>\n",
       "      <td>STRONG-ARM (HANDS, FIST, FEET OR BODILY FORCE)</td>\n",
       "      <td>400.0</td>\n",
       "    </tr>\n",
       "  </tbody>\n",
       "</table>\n",
       "<p>3990 rows × 2 columns</p>\n",
       "</div>"
      ],
      "text/plain": [
       "                                   Weapon_Description  Weapon_Used_Code\n",
       "1      STRONG-ARM (HANDS, FIST, FEET OR BODILY FORCE)             400.0\n",
       "4      STRONG-ARM (HANDS, FIST, FEET OR BODILY FORCE)             400.0\n",
       "5      STRONG-ARM (HANDS, FIST, FEET OR BODILY FORCE)             400.0\n",
       "19     STRONG-ARM (HANDS, FIST, FEET OR BODILY FORCE)             400.0\n",
       "31     STRONG-ARM (HANDS, FIST, FEET OR BODILY FORCE)             400.0\n",
       "...                                               ...               ...\n",
       "19978  STRONG-ARM (HANDS, FIST, FEET OR BODILY FORCE)             400.0\n",
       "19981  STRONG-ARM (HANDS, FIST, FEET OR BODILY FORCE)             400.0\n",
       "19982  STRONG-ARM (HANDS, FIST, FEET OR BODILY FORCE)             400.0\n",
       "19984  STRONG-ARM (HANDS, FIST, FEET OR BODILY FORCE)             400.0\n",
       "19995  STRONG-ARM (HANDS, FIST, FEET OR BODILY FORCE)             400.0\n",
       "\n",
       "[3990 rows x 2 columns]"
      ]
     },
     "execution_count": 26,
     "metadata": {},
     "output_type": "execute_result"
    }
   ],
   "source": [
    "train[train['Weapon_Used_Code']==400.0][['Weapon_Description', 'Weapon_Used_Code']]"
   ]
  },
  {
   "cell_type": "code",
   "execution_count": 27,
   "id": "287c5b3d",
   "metadata": {
    "execution": {
     "iopub.execute_input": "2024-08-09T16:54:09.752111Z",
     "iopub.status.busy": "2024-08-09T16:54:09.751730Z",
     "iopub.status.idle": "2024-08-09T16:54:09.767157Z",
     "shell.execute_reply": "2024-08-09T16:54:09.766026Z"
    },
    "papermill": {
     "duration": 0.0749,
     "end_time": "2024-08-09T16:54:09.769660",
     "exception": false,
     "start_time": "2024-08-09T16:54:09.694760",
     "status": "completed"
    },
    "tags": []
   },
   "outputs": [
    {
     "data": {
      "text/html": [
       "<div>\n",
       "<style scoped>\n",
       "    .dataframe tbody tr th:only-of-type {\n",
       "        vertical-align: middle;\n",
       "    }\n",
       "\n",
       "    .dataframe tbody tr th {\n",
       "        vertical-align: top;\n",
       "    }\n",
       "\n",
       "    .dataframe thead th {\n",
       "        text-align: right;\n",
       "    }\n",
       "</style>\n",
       "<table border=\"1\" class=\"dataframe\">\n",
       "  <thead>\n",
       "    <tr style=\"text-align: right;\">\n",
       "      <th></th>\n",
       "      <th>Weapon_Description</th>\n",
       "      <th>Weapon_Used_Code</th>\n",
       "    </tr>\n",
       "  </thead>\n",
       "  <tbody>\n",
       "    <tr>\n",
       "      <th>0</th>\n",
       "      <td>NaN</td>\n",
       "      <td>NaN</td>\n",
       "    </tr>\n",
       "    <tr>\n",
       "      <th>1</th>\n",
       "      <td>STRONG-ARM (HANDS, FIST, FEET OR BODILY FORCE)</td>\n",
       "      <td>400.0</td>\n",
       "    </tr>\n",
       "    <tr>\n",
       "      <th>2</th>\n",
       "      <td>NaN</td>\n",
       "      <td>NaN</td>\n",
       "    </tr>\n",
       "    <tr>\n",
       "      <th>3</th>\n",
       "      <td>NaN</td>\n",
       "      <td>NaN</td>\n",
       "    </tr>\n",
       "    <tr>\n",
       "      <th>4</th>\n",
       "      <td>STRONG-ARM (HANDS, FIST, FEET OR BODILY FORCE)</td>\n",
       "      <td>400.0</td>\n",
       "    </tr>\n",
       "    <tr>\n",
       "      <th>...</th>\n",
       "      <td>...</td>\n",
       "      <td>...</td>\n",
       "    </tr>\n",
       "    <tr>\n",
       "      <th>19995</th>\n",
       "      <td>STRONG-ARM (HANDS, FIST, FEET OR BODILY FORCE)</td>\n",
       "      <td>400.0</td>\n",
       "    </tr>\n",
       "    <tr>\n",
       "      <th>19996</th>\n",
       "      <td>NaN</td>\n",
       "      <td>NaN</td>\n",
       "    </tr>\n",
       "    <tr>\n",
       "      <th>19997</th>\n",
       "      <td>NaN</td>\n",
       "      <td>NaN</td>\n",
       "    </tr>\n",
       "    <tr>\n",
       "      <th>19998</th>\n",
       "      <td>NaN</td>\n",
       "      <td>NaN</td>\n",
       "    </tr>\n",
       "    <tr>\n",
       "      <th>19999</th>\n",
       "      <td>NaN</td>\n",
       "      <td>NaN</td>\n",
       "    </tr>\n",
       "  </tbody>\n",
       "</table>\n",
       "<p>20000 rows × 2 columns</p>\n",
       "</div>"
      ],
      "text/plain": [
       "                                   Weapon_Description  Weapon_Used_Code\n",
       "0                                                 NaN               NaN\n",
       "1      STRONG-ARM (HANDS, FIST, FEET OR BODILY FORCE)             400.0\n",
       "2                                                 NaN               NaN\n",
       "3                                                 NaN               NaN\n",
       "4      STRONG-ARM (HANDS, FIST, FEET OR BODILY FORCE)             400.0\n",
       "...                                               ...               ...\n",
       "19995  STRONG-ARM (HANDS, FIST, FEET OR BODILY FORCE)             400.0\n",
       "19996                                             NaN               NaN\n",
       "19997                                             NaN               NaN\n",
       "19998                                             NaN               NaN\n",
       "19999                                             NaN               NaN\n",
       "\n",
       "[20000 rows x 2 columns]"
      ]
     },
     "execution_count": 27,
     "metadata": {},
     "output_type": "execute_result"
    }
   ],
   "source": [
    "train[['Weapon_Description', 'Weapon_Used_Code']]"
   ]
  },
  {
   "cell_type": "markdown",
   "id": "ecb662e0",
   "metadata": {
    "papermill": {
     "duration": 0.055459,
     "end_time": "2024-08-09T16:54:09.883060",
     "exception": false,
     "start_time": "2024-08-09T16:54:09.827601",
     "status": "completed"
    },
    "tags": []
   },
   "source": [
    "Similar case with status and status description"
   ]
  },
  {
   "cell_type": "markdown",
   "id": "f6c7af78",
   "metadata": {
    "papermill": {
     "duration": 0.056979,
     "end_time": "2024-08-09T16:54:09.995977",
     "exception": false,
     "start_time": "2024-08-09T16:54:09.938998",
     "status": "completed"
    },
    "tags": []
   },
   "source": [
    "    Status: Status of the case.\n",
    "    Status_Description: Description of the status code."
   ]
  },
  {
   "cell_type": "code",
   "execution_count": 28,
   "id": "1c742e47",
   "metadata": {
    "execution": {
     "iopub.execute_input": "2024-08-09T16:54:10.112268Z",
     "iopub.status.busy": "2024-08-09T16:54:10.111361Z",
     "iopub.status.idle": "2024-08-09T16:54:10.124116Z",
     "shell.execute_reply": "2024-08-09T16:54:10.122903Z"
    },
    "papermill": {
     "duration": 0.074079,
     "end_time": "2024-08-09T16:54:10.126669",
     "exception": false,
     "start_time": "2024-08-09T16:54:10.052590",
     "status": "completed"
    },
    "tags": []
   },
   "outputs": [
    {
     "data": {
      "text/plain": [
       "Status\n",
       "IC    15236\n",
       "AO     2597\n",
       "AA     2054\n",
       "JA       70\n",
       "JO       43\n",
       "Name: count, dtype: int64"
      ]
     },
     "execution_count": 28,
     "metadata": {},
     "output_type": "execute_result"
    }
   ],
   "source": [
    "train['Status'].value_counts()"
   ]
  },
  {
   "cell_type": "code",
   "execution_count": 29,
   "id": "a3f9770b",
   "metadata": {
    "execution": {
     "iopub.execute_input": "2024-08-09T16:54:10.243644Z",
     "iopub.status.busy": "2024-08-09T16:54:10.243204Z",
     "iopub.status.idle": "2024-08-09T16:54:10.267826Z",
     "shell.execute_reply": "2024-08-09T16:54:10.266588Z"
    },
    "papermill": {
     "duration": 0.087428,
     "end_time": "2024-08-09T16:54:10.270999",
     "exception": false,
     "start_time": "2024-08-09T16:54:10.183571",
     "status": "completed"
    },
    "tags": []
   },
   "outputs": [
    {
     "data": {
      "text/html": [
       "<div>\n",
       "<style scoped>\n",
       "    .dataframe tbody tr th:only-of-type {\n",
       "        vertical-align: middle;\n",
       "    }\n",
       "\n",
       "    .dataframe tbody tr th {\n",
       "        vertical-align: top;\n",
       "    }\n",
       "\n",
       "    .dataframe thead th {\n",
       "        text-align: right;\n",
       "    }\n",
       "</style>\n",
       "<table border=\"1\" class=\"dataframe\">\n",
       "  <thead>\n",
       "    <tr style=\"text-align: right;\">\n",
       "      <th></th>\n",
       "      <th>Status</th>\n",
       "      <th>Status_Description</th>\n",
       "    </tr>\n",
       "  </thead>\n",
       "  <tbody>\n",
       "    <tr>\n",
       "      <th>0</th>\n",
       "      <td>IC</td>\n",
       "      <td>Invest Cont</td>\n",
       "    </tr>\n",
       "    <tr>\n",
       "      <th>1</th>\n",
       "      <td>IC</td>\n",
       "      <td>Invest Cont</td>\n",
       "    </tr>\n",
       "  </tbody>\n",
       "</table>\n",
       "</div>"
      ],
      "text/plain": [
       "  Status Status_Description\n",
       "0     IC        Invest Cont\n",
       "1     IC        Invest Cont"
      ]
     },
     "execution_count": 29,
     "metadata": {},
     "output_type": "execute_result"
    }
   ],
   "source": [
    "train[train['Status']=='IC'][['Status', 'Status_Description']].head(2)"
   ]
  },
  {
   "cell_type": "code",
   "execution_count": 30,
   "id": "d9528599",
   "metadata": {
    "execution": {
     "iopub.execute_input": "2024-08-09T16:54:10.390198Z",
     "iopub.status.busy": "2024-08-09T16:54:10.389786Z",
     "iopub.status.idle": "2024-08-09T16:54:10.408831Z",
     "shell.execute_reply": "2024-08-09T16:54:10.407474Z"
    },
    "papermill": {
     "duration": 0.082076,
     "end_time": "2024-08-09T16:54:10.411555",
     "exception": false,
     "start_time": "2024-08-09T16:54:10.329479",
     "status": "completed"
    },
    "tags": []
   },
   "outputs": [
    {
     "data": {
      "text/html": [
       "<div>\n",
       "<style scoped>\n",
       "    .dataframe tbody tr th:only-of-type {\n",
       "        vertical-align: middle;\n",
       "    }\n",
       "\n",
       "    .dataframe tbody tr th {\n",
       "        vertical-align: top;\n",
       "    }\n",
       "\n",
       "    .dataframe thead th {\n",
       "        text-align: right;\n",
       "    }\n",
       "</style>\n",
       "<table border=\"1\" class=\"dataframe\">\n",
       "  <thead>\n",
       "    <tr style=\"text-align: right;\">\n",
       "      <th></th>\n",
       "      <th>Status</th>\n",
       "      <th>Status_Description</th>\n",
       "    </tr>\n",
       "  </thead>\n",
       "  <tbody>\n",
       "    <tr>\n",
       "      <th>5</th>\n",
       "      <td>AO</td>\n",
       "      <td>Adult Other</td>\n",
       "    </tr>\n",
       "    <tr>\n",
       "      <th>10</th>\n",
       "      <td>AO</td>\n",
       "      <td>Adult Other</td>\n",
       "    </tr>\n",
       "  </tbody>\n",
       "</table>\n",
       "</div>"
      ],
      "text/plain": [
       "   Status Status_Description\n",
       "5      AO        Adult Other\n",
       "10     AO        Adult Other"
      ]
     },
     "execution_count": 30,
     "metadata": {},
     "output_type": "execute_result"
    }
   ],
   "source": [
    "train[train['Status']=='AO'][['Status', 'Status_Description']].head(2)"
   ]
  },
  {
   "cell_type": "code",
   "execution_count": 31,
   "id": "ff0b6266",
   "metadata": {
    "execution": {
     "iopub.execute_input": "2024-08-09T16:54:10.530146Z",
     "iopub.status.busy": "2024-08-09T16:54:10.529754Z",
     "iopub.status.idle": "2024-08-09T16:54:10.547824Z",
     "shell.execute_reply": "2024-08-09T16:54:10.546611Z"
    },
    "papermill": {
     "duration": 0.080361,
     "end_time": "2024-08-09T16:54:10.550877",
     "exception": false,
     "start_time": "2024-08-09T16:54:10.470516",
     "status": "completed"
    },
    "tags": []
   },
   "outputs": [
    {
     "data": {
      "text/html": [
       "<div>\n",
       "<style scoped>\n",
       "    .dataframe tbody tr th:only-of-type {\n",
       "        vertical-align: middle;\n",
       "    }\n",
       "\n",
       "    .dataframe tbody tr th {\n",
       "        vertical-align: top;\n",
       "    }\n",
       "\n",
       "    .dataframe thead th {\n",
       "        text-align: right;\n",
       "    }\n",
       "</style>\n",
       "<table border=\"1\" class=\"dataframe\">\n",
       "  <thead>\n",
       "    <tr style=\"text-align: right;\">\n",
       "      <th></th>\n",
       "      <th>Status</th>\n",
       "      <th>Status_Description</th>\n",
       "    </tr>\n",
       "  </thead>\n",
       "  <tbody>\n",
       "    <tr>\n",
       "      <th>9</th>\n",
       "      <td>AA</td>\n",
       "      <td>Adult Arrest</td>\n",
       "    </tr>\n",
       "    <tr>\n",
       "      <th>28</th>\n",
       "      <td>AA</td>\n",
       "      <td>Adult Arrest</td>\n",
       "    </tr>\n",
       "  </tbody>\n",
       "</table>\n",
       "</div>"
      ],
      "text/plain": [
       "   Status Status_Description\n",
       "9      AA       Adult Arrest\n",
       "28     AA       Adult Arrest"
      ]
     },
     "execution_count": 31,
     "metadata": {},
     "output_type": "execute_result"
    }
   ],
   "source": [
    "train[train['Status']=='AA'][['Status', 'Status_Description']].head(2)"
   ]
  },
  {
   "cell_type": "code",
   "execution_count": 32,
   "id": "c8f34e9d",
   "metadata": {
    "execution": {
     "iopub.execute_input": "2024-08-09T16:54:10.669207Z",
     "iopub.status.busy": "2024-08-09T16:54:10.668796Z",
     "iopub.status.idle": "2024-08-09T16:54:10.686560Z",
     "shell.execute_reply": "2024-08-09T16:54:10.685319Z"
    },
    "papermill": {
     "duration": 0.079163,
     "end_time": "2024-08-09T16:54:10.689043",
     "exception": false,
     "start_time": "2024-08-09T16:54:10.609880",
     "status": "completed"
    },
    "tags": []
   },
   "outputs": [
    {
     "data": {
      "text/html": [
       "<div>\n",
       "<style scoped>\n",
       "    .dataframe tbody tr th:only-of-type {\n",
       "        vertical-align: middle;\n",
       "    }\n",
       "\n",
       "    .dataframe tbody tr th {\n",
       "        vertical-align: top;\n",
       "    }\n",
       "\n",
       "    .dataframe thead th {\n",
       "        text-align: right;\n",
       "    }\n",
       "</style>\n",
       "<table border=\"1\" class=\"dataframe\">\n",
       "  <thead>\n",
       "    <tr style=\"text-align: right;\">\n",
       "      <th></th>\n",
       "      <th>Status</th>\n",
       "      <th>Status_Description</th>\n",
       "    </tr>\n",
       "  </thead>\n",
       "  <tbody>\n",
       "    <tr>\n",
       "      <th>333</th>\n",
       "      <td>JA</td>\n",
       "      <td>Juv Arrest</td>\n",
       "    </tr>\n",
       "    <tr>\n",
       "      <th>456</th>\n",
       "      <td>JA</td>\n",
       "      <td>Juv Arrest</td>\n",
       "    </tr>\n",
       "  </tbody>\n",
       "</table>\n",
       "</div>"
      ],
      "text/plain": [
       "    Status Status_Description\n",
       "333     JA         Juv Arrest\n",
       "456     JA         Juv Arrest"
      ]
     },
     "execution_count": 32,
     "metadata": {},
     "output_type": "execute_result"
    }
   ],
   "source": [
    "train[train['Status']=='JA'][['Status', 'Status_Description']].head(2)"
   ]
  },
  {
   "cell_type": "code",
   "execution_count": 33,
   "id": "7ff28a06",
   "metadata": {
    "execution": {
     "iopub.execute_input": "2024-08-09T16:54:10.807736Z",
     "iopub.status.busy": "2024-08-09T16:54:10.807336Z",
     "iopub.status.idle": "2024-08-09T16:54:10.824432Z",
     "shell.execute_reply": "2024-08-09T16:54:10.823181Z"
    },
    "papermill": {
     "duration": 0.080251,
     "end_time": "2024-08-09T16:54:10.827269",
     "exception": false,
     "start_time": "2024-08-09T16:54:10.747018",
     "status": "completed"
    },
    "tags": []
   },
   "outputs": [
    {
     "data": {
      "text/html": [
       "<div>\n",
       "<style scoped>\n",
       "    .dataframe tbody tr th:only-of-type {\n",
       "        vertical-align: middle;\n",
       "    }\n",
       "\n",
       "    .dataframe tbody tr th {\n",
       "        vertical-align: top;\n",
       "    }\n",
       "\n",
       "    .dataframe thead th {\n",
       "        text-align: right;\n",
       "    }\n",
       "</style>\n",
       "<table border=\"1\" class=\"dataframe\">\n",
       "  <thead>\n",
       "    <tr style=\"text-align: right;\">\n",
       "      <th></th>\n",
       "      <th>Status</th>\n",
       "      <th>Status_Description</th>\n",
       "    </tr>\n",
       "  </thead>\n",
       "  <tbody>\n",
       "    <tr>\n",
       "      <th>427</th>\n",
       "      <td>JO</td>\n",
       "      <td>Juv Other</td>\n",
       "    </tr>\n",
       "    <tr>\n",
       "      <th>563</th>\n",
       "      <td>JO</td>\n",
       "      <td>Juv Other</td>\n",
       "    </tr>\n",
       "  </tbody>\n",
       "</table>\n",
       "</div>"
      ],
      "text/plain": [
       "    Status Status_Description\n",
       "427     JO          Juv Other\n",
       "563     JO          Juv Other"
      ]
     },
     "execution_count": 33,
     "metadata": {},
     "output_type": "execute_result"
    }
   ],
   "source": [
    "train[train['Status']=='JO'][['Status', 'Status_Description']].head(2)"
   ]
  },
  {
   "cell_type": "code",
   "execution_count": 34,
   "id": "68652990",
   "metadata": {
    "execution": {
     "iopub.execute_input": "2024-08-09T16:54:11.008588Z",
     "iopub.status.busy": "2024-08-09T16:54:11.008157Z",
     "iopub.status.idle": "2024-08-09T16:54:11.022106Z",
     "shell.execute_reply": "2024-08-09T16:54:11.020968Z"
    },
    "papermill": {
     "duration": 0.075679,
     "end_time": "2024-08-09T16:54:11.024650",
     "exception": false,
     "start_time": "2024-08-09T16:54:10.948971",
     "status": "completed"
    },
    "tags": []
   },
   "outputs": [
    {
     "data": {
      "text/html": [
       "<div>\n",
       "<style scoped>\n",
       "    .dataframe tbody tr th:only-of-type {\n",
       "        vertical-align: middle;\n",
       "    }\n",
       "\n",
       "    .dataframe tbody tr th {\n",
       "        vertical-align: top;\n",
       "    }\n",
       "\n",
       "    .dataframe thead th {\n",
       "        text-align: right;\n",
       "    }\n",
       "</style>\n",
       "<table border=\"1\" class=\"dataframe\">\n",
       "  <thead>\n",
       "    <tr style=\"text-align: right;\">\n",
       "      <th></th>\n",
       "      <th>Status</th>\n",
       "      <th>Status_Description</th>\n",
       "    </tr>\n",
       "  </thead>\n",
       "  <tbody>\n",
       "    <tr>\n",
       "      <th>0</th>\n",
       "      <td>IC</td>\n",
       "      <td>Invest Cont</td>\n",
       "    </tr>\n",
       "    <tr>\n",
       "      <th>1</th>\n",
       "      <td>IC</td>\n",
       "      <td>Invest Cont</td>\n",
       "    </tr>\n",
       "    <tr>\n",
       "      <th>2</th>\n",
       "      <td>IC</td>\n",
       "      <td>Invest Cont</td>\n",
       "    </tr>\n",
       "    <tr>\n",
       "      <th>3</th>\n",
       "      <td>IC</td>\n",
       "      <td>Invest Cont</td>\n",
       "    </tr>\n",
       "    <tr>\n",
       "      <th>4</th>\n",
       "      <td>IC</td>\n",
       "      <td>Invest Cont</td>\n",
       "    </tr>\n",
       "    <tr>\n",
       "      <th>...</th>\n",
       "      <td>...</td>\n",
       "      <td>...</td>\n",
       "    </tr>\n",
       "    <tr>\n",
       "      <th>19995</th>\n",
       "      <td>IC</td>\n",
       "      <td>Invest Cont</td>\n",
       "    </tr>\n",
       "    <tr>\n",
       "      <th>19996</th>\n",
       "      <td>IC</td>\n",
       "      <td>Invest Cont</td>\n",
       "    </tr>\n",
       "    <tr>\n",
       "      <th>19997</th>\n",
       "      <td>IC</td>\n",
       "      <td>Invest Cont</td>\n",
       "    </tr>\n",
       "    <tr>\n",
       "      <th>19998</th>\n",
       "      <td>IC</td>\n",
       "      <td>Invest Cont</td>\n",
       "    </tr>\n",
       "    <tr>\n",
       "      <th>19999</th>\n",
       "      <td>IC</td>\n",
       "      <td>Invest Cont</td>\n",
       "    </tr>\n",
       "  </tbody>\n",
       "</table>\n",
       "<p>20000 rows × 2 columns</p>\n",
       "</div>"
      ],
      "text/plain": [
       "      Status Status_Description\n",
       "0         IC        Invest Cont\n",
       "1         IC        Invest Cont\n",
       "2         IC        Invest Cont\n",
       "3         IC        Invest Cont\n",
       "4         IC        Invest Cont\n",
       "...      ...                ...\n",
       "19995     IC        Invest Cont\n",
       "19996     IC        Invest Cont\n",
       "19997     IC        Invest Cont\n",
       "19998     IC        Invest Cont\n",
       "19999     IC        Invest Cont\n",
       "\n",
       "[20000 rows x 2 columns]"
      ]
     },
     "execution_count": 34,
     "metadata": {},
     "output_type": "execute_result"
    }
   ],
   "source": [
    "train[['Status', 'Status_Description']]"
   ]
  },
  {
   "cell_type": "code",
   "execution_count": 35,
   "id": "f6ce861e",
   "metadata": {
    "execution": {
     "iopub.execute_input": "2024-08-09T16:54:11.143161Z",
     "iopub.status.busy": "2024-08-09T16:54:11.142063Z",
     "iopub.status.idle": "2024-08-09T16:54:11.154556Z",
     "shell.execute_reply": "2024-08-09T16:54:11.153296Z"
    },
    "papermill": {
     "duration": 0.07378,
     "end_time": "2024-08-09T16:54:11.157168",
     "exception": false,
     "start_time": "2024-08-09T16:54:11.083388",
     "status": "completed"
    },
    "tags": []
   },
   "outputs": [
    {
     "data": {
      "text/plain": [
       "Status_Description\n",
       "Invest Cont     15236\n",
       "Adult Other      2597\n",
       "Adult Arrest     2054\n",
       "Juv Arrest         70\n",
       "Juv Other          43\n",
       "Name: count, dtype: int64"
      ]
     },
     "execution_count": 35,
     "metadata": {},
     "output_type": "execute_result"
    }
   ],
   "source": [
    "train['Status_Description'].value_counts()"
   ]
  },
  {
   "cell_type": "markdown",
   "id": "3a8258a8",
   "metadata": {
    "papermill": {
     "duration": 0.05842,
     "end_time": "2024-08-09T16:54:11.274459",
     "exception": false,
     "start_time": "2024-08-09T16:54:11.216039",
     "status": "completed"
    },
    "tags": []
   },
   "source": [
    "    Premise_Code: Premise code indicating the location of the crime.\n",
    "    Premise_Description: Description of the premise code."
   ]
  },
  {
   "cell_type": "code",
   "execution_count": 36,
   "id": "9424b22b",
   "metadata": {
    "execution": {
     "iopub.execute_input": "2024-08-09T16:54:11.391443Z",
     "iopub.status.busy": "2024-08-09T16:54:11.391047Z",
     "iopub.status.idle": "2024-08-09T16:54:11.400907Z",
     "shell.execute_reply": "2024-08-09T16:54:11.399634Z"
    },
    "papermill": {
     "duration": 0.071778,
     "end_time": "2024-08-09T16:54:11.403749",
     "exception": false,
     "start_time": "2024-08-09T16:54:11.331971",
     "status": "completed"
    },
    "tags": []
   },
   "outputs": [
    {
     "data": {
      "text/plain": [
       "0        101.0\n",
       "1        216.0\n",
       "2        501.0\n",
       "3        101.0\n",
       "4        401.0\n",
       "         ...  \n",
       "19995    501.0\n",
       "19996    301.0\n",
       "19997    102.0\n",
       "19998    501.0\n",
       "19999    101.0\n",
       "Name: Premise_Code, Length: 20000, dtype: float64"
      ]
     },
     "execution_count": 36,
     "metadata": {},
     "output_type": "execute_result"
    }
   ],
   "source": [
    "train['Premise_Code']"
   ]
  },
  {
   "cell_type": "code",
   "execution_count": 37,
   "id": "afc2e1e0",
   "metadata": {
    "execution": {
     "iopub.execute_input": "2024-08-09T16:54:11.524107Z",
     "iopub.status.busy": "2024-08-09T16:54:11.523710Z",
     "iopub.status.idle": "2024-08-09T16:54:11.538297Z",
     "shell.execute_reply": "2024-08-09T16:54:11.537211Z"
    },
    "papermill": {
     "duration": 0.077088,
     "end_time": "2024-08-09T16:54:11.540876",
     "exception": false,
     "start_time": "2024-08-09T16:54:11.463788",
     "status": "completed"
    },
    "tags": []
   },
   "outputs": [
    {
     "data": {
      "text/html": [
       "<div>\n",
       "<style scoped>\n",
       "    .dataframe tbody tr th:only-of-type {\n",
       "        vertical-align: middle;\n",
       "    }\n",
       "\n",
       "    .dataframe tbody tr th {\n",
       "        vertical-align: top;\n",
       "    }\n",
       "\n",
       "    .dataframe thead th {\n",
       "        text-align: right;\n",
       "    }\n",
       "</style>\n",
       "<table border=\"1\" class=\"dataframe\">\n",
       "  <thead>\n",
       "    <tr style=\"text-align: right;\">\n",
       "      <th></th>\n",
       "      <th>Premise_Code</th>\n",
       "      <th>Premise_Description</th>\n",
       "    </tr>\n",
       "  </thead>\n",
       "  <tbody>\n",
       "    <tr>\n",
       "      <th>0</th>\n",
       "      <td>101.0</td>\n",
       "      <td>STREET</td>\n",
       "    </tr>\n",
       "    <tr>\n",
       "      <th>1</th>\n",
       "      <td>216.0</td>\n",
       "      <td>SWAP MEET</td>\n",
       "    </tr>\n",
       "    <tr>\n",
       "      <th>2</th>\n",
       "      <td>501.0</td>\n",
       "      <td>SINGLE FAMILY DWELLING</td>\n",
       "    </tr>\n",
       "    <tr>\n",
       "      <th>3</th>\n",
       "      <td>101.0</td>\n",
       "      <td>STREET</td>\n",
       "    </tr>\n",
       "    <tr>\n",
       "      <th>4</th>\n",
       "      <td>401.0</td>\n",
       "      <td>MINI-MART</td>\n",
       "    </tr>\n",
       "    <tr>\n",
       "      <th>...</th>\n",
       "      <td>...</td>\n",
       "      <td>...</td>\n",
       "    </tr>\n",
       "    <tr>\n",
       "      <th>19995</th>\n",
       "      <td>501.0</td>\n",
       "      <td>SINGLE FAMILY DWELLING</td>\n",
       "    </tr>\n",
       "    <tr>\n",
       "      <th>19996</th>\n",
       "      <td>301.0</td>\n",
       "      <td>GAS STATION</td>\n",
       "    </tr>\n",
       "    <tr>\n",
       "      <th>19997</th>\n",
       "      <td>102.0</td>\n",
       "      <td>SIDEWALK</td>\n",
       "    </tr>\n",
       "    <tr>\n",
       "      <th>19998</th>\n",
       "      <td>501.0</td>\n",
       "      <td>SINGLE FAMILY DWELLING</td>\n",
       "    </tr>\n",
       "    <tr>\n",
       "      <th>19999</th>\n",
       "      <td>101.0</td>\n",
       "      <td>STREET</td>\n",
       "    </tr>\n",
       "  </tbody>\n",
       "</table>\n",
       "<p>20000 rows × 2 columns</p>\n",
       "</div>"
      ],
      "text/plain": [
       "       Premise_Code     Premise_Description\n",
       "0             101.0                  STREET\n",
       "1             216.0               SWAP MEET\n",
       "2             501.0  SINGLE FAMILY DWELLING\n",
       "3             101.0                  STREET\n",
       "4             401.0               MINI-MART\n",
       "...             ...                     ...\n",
       "19995         501.0  SINGLE FAMILY DWELLING\n",
       "19996         301.0             GAS STATION\n",
       "19997         102.0                SIDEWALK\n",
       "19998         501.0  SINGLE FAMILY DWELLING\n",
       "19999         101.0                  STREET\n",
       "\n",
       "[20000 rows x 2 columns]"
      ]
     },
     "execution_count": 37,
     "metadata": {},
     "output_type": "execute_result"
    }
   ],
   "source": [
    "train[['Premise_Code', 'Premise_Description']]"
   ]
  },
  {
   "cell_type": "code",
   "execution_count": 38,
   "id": "33a0cd03",
   "metadata": {
    "execution": {
     "iopub.execute_input": "2024-08-09T16:54:11.659423Z",
     "iopub.status.busy": "2024-08-09T16:54:11.659010Z",
     "iopub.status.idle": "2024-08-09T16:54:11.672877Z",
     "shell.execute_reply": "2024-08-09T16:54:11.671680Z"
    },
    "papermill": {
     "duration": 0.076251,
     "end_time": "2024-08-09T16:54:11.675416",
     "exception": false,
     "start_time": "2024-08-09T16:54:11.599165",
     "status": "completed"
    },
    "tags": []
   },
   "outputs": [
    {
     "data": {
      "text/plain": [
       "Premise_Code           0\n",
       "Premise_Description    5\n",
       "dtype: int64"
      ]
     },
     "execution_count": 38,
     "metadata": {},
     "output_type": "execute_result"
    }
   ],
   "source": [
    "train[['Premise_Code', 'Premise_Description']].isna().sum()"
   ]
  },
  {
   "cell_type": "code",
   "execution_count": 39,
   "id": "18dd086b",
   "metadata": {
    "execution": {
     "iopub.execute_input": "2024-08-09T16:54:11.793219Z",
     "iopub.status.busy": "2024-08-09T16:54:11.792854Z",
     "iopub.status.idle": "2024-08-09T16:54:11.802599Z",
     "shell.execute_reply": "2024-08-09T16:54:11.801544Z"
    },
    "papermill": {
     "duration": 0.071917,
     "end_time": "2024-08-09T16:54:11.805561",
     "exception": false,
     "start_time": "2024-08-09T16:54:11.733644",
     "status": "completed"
    },
    "tags": []
   },
   "outputs": [
    {
     "name": "stdout",
     "output_type": "stream",
     "text": [
      "9884     418.0\n",
      "11029    418.0\n",
      "15562    418.0\n",
      "17306    418.0\n",
      "18204    418.0\n",
      "Name: Premise_Code, dtype: float64\n"
     ]
    }
   ],
   "source": [
    "null_description_rows = train[train['Premise_Description'].isnull()]\n",
    "print(null_description_rows['Premise_Code'])"
   ]
  },
  {
   "cell_type": "code",
   "execution_count": 40,
   "id": "1d622633",
   "metadata": {
    "execution": {
     "iopub.execute_input": "2024-08-09T16:54:11.926675Z",
     "iopub.status.busy": "2024-08-09T16:54:11.926289Z",
     "iopub.status.idle": "2024-08-09T16:54:11.957196Z",
     "shell.execute_reply": "2024-08-09T16:54:11.955838Z"
    },
    "papermill": {
     "duration": 0.094863,
     "end_time": "2024-08-09T16:54:11.959768",
     "exception": false,
     "start_time": "2024-08-09T16:54:11.864905",
     "status": "completed"
    },
    "tags": []
   },
   "outputs": [
    {
     "data": {
      "text/html": [
       "<div>\n",
       "<style scoped>\n",
       "    .dataframe tbody tr th:only-of-type {\n",
       "        vertical-align: middle;\n",
       "    }\n",
       "\n",
       "    .dataframe tbody tr th {\n",
       "        vertical-align: top;\n",
       "    }\n",
       "\n",
       "    .dataframe thead th {\n",
       "        text-align: right;\n",
       "    }\n",
       "</style>\n",
       "<table border=\"1\" class=\"dataframe\">\n",
       "  <thead>\n",
       "    <tr style=\"text-align: right;\">\n",
       "      <th></th>\n",
       "      <th>Location</th>\n",
       "      <th>Cross_Street</th>\n",
       "      <th>Latitude</th>\n",
       "      <th>Longitude</th>\n",
       "      <th>Date_Reported</th>\n",
       "      <th>Date_Occurred</th>\n",
       "      <th>Time_Occurred</th>\n",
       "      <th>Area_ID</th>\n",
       "      <th>Area_Name</th>\n",
       "      <th>Reporting_District_no</th>\n",
       "      <th>...</th>\n",
       "      <th>Victim_Age</th>\n",
       "      <th>Victim_Sex</th>\n",
       "      <th>Victim_Descent</th>\n",
       "      <th>Premise_Code</th>\n",
       "      <th>Premise_Description</th>\n",
       "      <th>Weapon_Used_Code</th>\n",
       "      <th>Weapon_Description</th>\n",
       "      <th>Status</th>\n",
       "      <th>Status_Description</th>\n",
       "      <th>Crime_Category</th>\n",
       "    </tr>\n",
       "  </thead>\n",
       "  <tbody>\n",
       "    <tr>\n",
       "      <th>9884</th>\n",
       "      <td>5600    MELROSE                      AV</td>\n",
       "      <td>NaN</td>\n",
       "      <td>34.0853</td>\n",
       "      <td>-118.3277</td>\n",
       "      <td>04/08/2020 12:00:00 AM</td>\n",
       "      <td>04/07/2020 12:00:00 AM</td>\n",
       "      <td>1000.0</td>\n",
       "      <td>6.0</td>\n",
       "      <td>Hollywood</td>\n",
       "      <td>676.0</td>\n",
       "      <td>...</td>\n",
       "      <td>62.0</td>\n",
       "      <td>M</td>\n",
       "      <td>O</td>\n",
       "      <td>418.0</td>\n",
       "      <td>NaN</td>\n",
       "      <td>400.0</td>\n",
       "      <td>STRONG-ARM (HANDS, FIST, FEET OR BODILY FORCE)</td>\n",
       "      <td>IC</td>\n",
       "      <td>Invest Cont</td>\n",
       "      <td>Violent Crimes</td>\n",
       "    </tr>\n",
       "    <tr>\n",
       "      <th>11029</th>\n",
       "      <td>2100 W  SLAUSON                      AV</td>\n",
       "      <td>NaN</td>\n",
       "      <td>33.9891</td>\n",
       "      <td>-118.3158</td>\n",
       "      <td>06/24/2020 12:00:00 AM</td>\n",
       "      <td>06/24/2020 12:00:00 AM</td>\n",
       "      <td>1420.0</td>\n",
       "      <td>12.0</td>\n",
       "      <td>77th Street</td>\n",
       "      <td>1233.0</td>\n",
       "      <td>...</td>\n",
       "      <td>37.0</td>\n",
       "      <td>M</td>\n",
       "      <td>B</td>\n",
       "      <td>418.0</td>\n",
       "      <td>NaN</td>\n",
       "      <td>400.0</td>\n",
       "      <td>STRONG-ARM (HANDS, FIST, FEET OR BODILY FORCE)</td>\n",
       "      <td>IC</td>\n",
       "      <td>Invest Cont</td>\n",
       "      <td>Violent Crimes</td>\n",
       "    </tr>\n",
       "    <tr>\n",
       "      <th>15562</th>\n",
       "      <td>1700 S  MAIN                         ST</td>\n",
       "      <td>NaN</td>\n",
       "      <td>33.9874</td>\n",
       "      <td>-118.4706</td>\n",
       "      <td>11/07/2020 12:00:00 AM</td>\n",
       "      <td>11/07/2020 12:00:00 AM</td>\n",
       "      <td>30.0</td>\n",
       "      <td>14.0</td>\n",
       "      <td>Pacific</td>\n",
       "      <td>1431.0</td>\n",
       "      <td>...</td>\n",
       "      <td>63.0</td>\n",
       "      <td>M</td>\n",
       "      <td>W</td>\n",
       "      <td>418.0</td>\n",
       "      <td>NaN</td>\n",
       "      <td>NaN</td>\n",
       "      <td>NaN</td>\n",
       "      <td>IC</td>\n",
       "      <td>Invest Cont</td>\n",
       "      <td>Property Crimes</td>\n",
       "    </tr>\n",
       "    <tr>\n",
       "      <th>17306</th>\n",
       "      <td>400 S  SAN VICENTE                  BL</td>\n",
       "      <td>NaN</td>\n",
       "      <td>34.0709</td>\n",
       "      <td>-118.3761</td>\n",
       "      <td>09/19/2020 12:00:00 AM</td>\n",
       "      <td>09/12/2020 12:00:00 AM</td>\n",
       "      <td>1200.0</td>\n",
       "      <td>7.0</td>\n",
       "      <td>Wilshire</td>\n",
       "      <td>722.0</td>\n",
       "      <td>...</td>\n",
       "      <td>52.0</td>\n",
       "      <td>M</td>\n",
       "      <td>O</td>\n",
       "      <td>418.0</td>\n",
       "      <td>NaN</td>\n",
       "      <td>NaN</td>\n",
       "      <td>NaN</td>\n",
       "      <td>IC</td>\n",
       "      <td>Invest Cont</td>\n",
       "      <td>Property Crimes</td>\n",
       "    </tr>\n",
       "    <tr>\n",
       "      <th>18204</th>\n",
       "      <td>8400 W  3RD                          ST</td>\n",
       "      <td>NaN</td>\n",
       "      <td>34.0730</td>\n",
       "      <td>-118.3731</td>\n",
       "      <td>06/07/2020 12:00:00 AM</td>\n",
       "      <td>05/30/2020 12:00:00 AM</td>\n",
       "      <td>1830.0</td>\n",
       "      <td>7.0</td>\n",
       "      <td>Wilshire</td>\n",
       "      <td>722.0</td>\n",
       "      <td>...</td>\n",
       "      <td>38.0</td>\n",
       "      <td>M</td>\n",
       "      <td>H</td>\n",
       "      <td>418.0</td>\n",
       "      <td>NaN</td>\n",
       "      <td>400.0</td>\n",
       "      <td>STRONG-ARM (HANDS, FIST, FEET OR BODILY FORCE)</td>\n",
       "      <td>IC</td>\n",
       "      <td>Invest Cont</td>\n",
       "      <td>Property Crimes</td>\n",
       "    </tr>\n",
       "  </tbody>\n",
       "</table>\n",
       "<p>5 rows × 22 columns</p>\n",
       "</div>"
      ],
      "text/plain": [
       "                                      Location Cross_Street  Latitude  \\\n",
       "9884   5600    MELROSE                      AV          NaN   34.0853   \n",
       "11029  2100 W  SLAUSON                      AV          NaN   33.9891   \n",
       "15562  1700 S  MAIN                         ST          NaN   33.9874   \n",
       "17306   400 S  SAN VICENTE                  BL          NaN   34.0709   \n",
       "18204  8400 W  3RD                          ST          NaN   34.0730   \n",
       "\n",
       "       Longitude           Date_Reported           Date_Occurred  \\\n",
       "9884   -118.3277  04/08/2020 12:00:00 AM  04/07/2020 12:00:00 AM   \n",
       "11029  -118.3158  06/24/2020 12:00:00 AM  06/24/2020 12:00:00 AM   \n",
       "15562  -118.4706  11/07/2020 12:00:00 AM  11/07/2020 12:00:00 AM   \n",
       "17306  -118.3761  09/19/2020 12:00:00 AM  09/12/2020 12:00:00 AM   \n",
       "18204  -118.3731  06/07/2020 12:00:00 AM  05/30/2020 12:00:00 AM   \n",
       "\n",
       "       Time_Occurred  Area_ID    Area_Name  Reporting_District_no  ...  \\\n",
       "9884          1000.0      6.0    Hollywood                  676.0  ...   \n",
       "11029         1420.0     12.0  77th Street                 1233.0  ...   \n",
       "15562           30.0     14.0      Pacific                 1431.0  ...   \n",
       "17306         1200.0      7.0     Wilshire                  722.0  ...   \n",
       "18204         1830.0      7.0     Wilshire                  722.0  ...   \n",
       "\n",
       "       Victim_Age Victim_Sex  Victim_Descent Premise_Code Premise_Description  \\\n",
       "9884         62.0          M               O        418.0                 NaN   \n",
       "11029        37.0          M               B        418.0                 NaN   \n",
       "15562        63.0          M               W        418.0                 NaN   \n",
       "17306        52.0          M               O        418.0                 NaN   \n",
       "18204        38.0          M               H        418.0                 NaN   \n",
       "\n",
       "       Weapon_Used_Code                              Weapon_Description  \\\n",
       "9884              400.0  STRONG-ARM (HANDS, FIST, FEET OR BODILY FORCE)   \n",
       "11029             400.0  STRONG-ARM (HANDS, FIST, FEET OR BODILY FORCE)   \n",
       "15562               NaN                                             NaN   \n",
       "17306               NaN                                             NaN   \n",
       "18204             400.0  STRONG-ARM (HANDS, FIST, FEET OR BODILY FORCE)   \n",
       "\n",
       "       Status Status_Description   Crime_Category  \n",
       "9884       IC        Invest Cont   Violent Crimes  \n",
       "11029      IC        Invest Cont   Violent Crimes  \n",
       "15562      IC        Invest Cont  Property Crimes  \n",
       "17306      IC        Invest Cont  Property Crimes  \n",
       "18204      IC        Invest Cont  Property Crimes  \n",
       "\n",
       "[5 rows x 22 columns]"
      ]
     },
     "execution_count": 40,
     "metadata": {},
     "output_type": "execute_result"
    }
   ],
   "source": [
    "null_description_rows"
   ]
  },
  {
   "cell_type": "code",
   "execution_count": 41,
   "id": "b14aedfa",
   "metadata": {
    "execution": {
     "iopub.execute_input": "2024-08-09T16:54:12.082326Z",
     "iopub.status.busy": "2024-08-09T16:54:12.081375Z",
     "iopub.status.idle": "2024-08-09T16:54:12.095451Z",
     "shell.execute_reply": "2024-08-09T16:54:12.094214Z"
    },
    "papermill": {
     "duration": 0.078436,
     "end_time": "2024-08-09T16:54:12.097932",
     "exception": false,
     "start_time": "2024-08-09T16:54:12.019496",
     "status": "completed"
    },
    "tags": []
   },
   "outputs": [
    {
     "data": {
      "text/html": [
       "<div>\n",
       "<style scoped>\n",
       "    .dataframe tbody tr th:only-of-type {\n",
       "        vertical-align: middle;\n",
       "    }\n",
       "\n",
       "    .dataframe tbody tr th {\n",
       "        vertical-align: top;\n",
       "    }\n",
       "\n",
       "    .dataframe thead th {\n",
       "        text-align: right;\n",
       "    }\n",
       "</style>\n",
       "<table border=\"1\" class=\"dataframe\">\n",
       "  <thead>\n",
       "    <tr style=\"text-align: right;\">\n",
       "      <th></th>\n",
       "      <th>Premise_Code</th>\n",
       "      <th>Premise_Description</th>\n",
       "    </tr>\n",
       "  </thead>\n",
       "  <tbody>\n",
       "    <tr>\n",
       "      <th>9884</th>\n",
       "      <td>418.0</td>\n",
       "      <td>NaN</td>\n",
       "    </tr>\n",
       "    <tr>\n",
       "      <th>11029</th>\n",
       "      <td>418.0</td>\n",
       "      <td>NaN</td>\n",
       "    </tr>\n",
       "    <tr>\n",
       "      <th>15562</th>\n",
       "      <td>418.0</td>\n",
       "      <td>NaN</td>\n",
       "    </tr>\n",
       "    <tr>\n",
       "      <th>17306</th>\n",
       "      <td>418.0</td>\n",
       "      <td>NaN</td>\n",
       "    </tr>\n",
       "    <tr>\n",
       "      <th>18204</th>\n",
       "      <td>418.0</td>\n",
       "      <td>NaN</td>\n",
       "    </tr>\n",
       "  </tbody>\n",
       "</table>\n",
       "</div>"
      ],
      "text/plain": [
       "       Premise_Code Premise_Description\n",
       "9884          418.0                 NaN\n",
       "11029         418.0                 NaN\n",
       "15562         418.0                 NaN\n",
       "17306         418.0                 NaN\n",
       "18204         418.0                 NaN"
      ]
     },
     "execution_count": 41,
     "metadata": {},
     "output_type": "execute_result"
    }
   ],
   "source": [
    "train[train['Premise_Code']==418.0][['Premise_Code', 'Premise_Description']]"
   ]
  },
  {
   "cell_type": "markdown",
   "id": "2f53685b",
   "metadata": {
    "papermill": {
     "duration": 0.058675,
     "end_time": "2024-08-09T16:54:12.215645",
     "exception": false,
     "start_time": "2024-08-09T16:54:12.156970",
     "status": "completed"
    },
    "tags": []
   },
   "source": [
    "On overall premise code and premise description we have 5 nulls for the premise code 418.0"
   ]
  },
  {
   "cell_type": "markdown",
   "id": "c78f4996",
   "metadata": {
    "papermill": {
     "duration": 0.05935,
     "end_time": "2024-08-09T16:54:12.336436",
     "exception": false,
     "start_time": "2024-08-09T16:54:12.277086",
     "status": "completed"
    },
    "tags": []
   },
   "source": [
    "    Data Visualizations"
   ]
  },
  {
   "cell_type": "code",
   "execution_count": 42,
   "id": "f6230d86",
   "metadata": {
    "execution": {
     "iopub.execute_input": "2024-08-09T16:54:12.462692Z",
     "iopub.status.busy": "2024-08-09T16:54:12.461717Z",
     "iopub.status.idle": "2024-08-09T16:54:12.468079Z",
     "shell.execute_reply": "2024-08-09T16:54:12.466925Z"
    },
    "papermill": {
     "duration": 0.075393,
     "end_time": "2024-08-09T16:54:12.470605",
     "exception": false,
     "start_time": "2024-08-09T16:54:12.395212",
     "status": "completed"
    },
    "tags": []
   },
   "outputs": [],
   "source": [
    "target = train[['Crime_Category']]"
   ]
  },
  {
   "cell_type": "code",
   "execution_count": 43,
   "id": "266678f2",
   "metadata": {
    "execution": {
     "iopub.execute_input": "2024-08-09T16:54:12.594304Z",
     "iopub.status.busy": "2024-08-09T16:54:12.593897Z",
     "iopub.status.idle": "2024-08-09T16:54:12.606170Z",
     "shell.execute_reply": "2024-08-09T16:54:12.604825Z"
    },
    "papermill": {
     "duration": 0.078333,
     "end_time": "2024-08-09T16:54:12.608539",
     "exception": false,
     "start_time": "2024-08-09T16:54:12.530206",
     "status": "completed"
    },
    "tags": []
   },
   "outputs": [
    {
     "data": {
      "text/plain": [
       "Crime_Category\n",
       "Property Crimes                  11666\n",
       "Violent Crimes                    4767\n",
       "Crimes against Public Order       1808\n",
       "Fraud and White-Collar Crimes     1355\n",
       "Crimes against Persons             225\n",
       "Other Crimes                       179\n",
       "Name: count, dtype: int64"
      ]
     },
     "execution_count": 43,
     "metadata": {},
     "output_type": "execute_result"
    }
   ],
   "source": [
    "train[\"Crime_Category\"].value_counts()"
   ]
  },
  {
   "cell_type": "markdown",
   "id": "6ad59a29",
   "metadata": {
    "papermill": {
     "duration": 0.059142,
     "end_time": "2024-08-09T16:54:12.727613",
     "exception": false,
     "start_time": "2024-08-09T16:54:12.668471",
     "status": "completed"
    },
    "tags": []
   },
   "source": [
    "* Property Crimes                  11666\n",
    "* Violent Crimes                    4767\n",
    "* Crimes against Public Order       1808\n",
    "* Fraud and White-Collar Crimes     1355\n",
    "* Crimes against Persons             225\n",
    "* Other Crimes                       179"
   ]
  },
  {
   "cell_type": "markdown",
   "id": "3b3b82ca",
   "metadata": {
    "papermill": {
     "duration": 0.059441,
     "end_time": "2024-08-09T16:54:12.845995",
     "exception": false,
     "start_time": "2024-08-09T16:54:12.786554",
     "status": "completed"
    },
    "tags": []
   },
   "source": [
    "This is a clear imbalance between the highest class and the lowest class"
   ]
  },
  {
   "cell_type": "code",
   "execution_count": 44,
   "id": "1853555a",
   "metadata": {
    "execution": {
     "iopub.execute_input": "2024-08-09T16:54:12.967137Z",
     "iopub.status.busy": "2024-08-09T16:54:12.966705Z",
     "iopub.status.idle": "2024-08-09T16:54:12.978739Z",
     "shell.execute_reply": "2024-08-09T16:54:12.977301Z"
    },
    "papermill": {
     "duration": 0.076466,
     "end_time": "2024-08-09T16:54:12.981686",
     "exception": false,
     "start_time": "2024-08-09T16:54:12.905220",
     "status": "completed"
    },
    "tags": []
   },
   "outputs": [
    {
     "name": "stdout",
     "output_type": "stream",
     "text": [
      "Property Crimes: 58.3%\n",
      "Violent Crimes: 23.8%\n",
      "Crimes against Public Order: 9.0%\n",
      "Fraud and White-Collar Crimes: 6.8%\n",
      "Crimes against Persons: 1.1%\n",
      "Other Crimes: 0.9%\n"
     ]
    }
   ],
   "source": [
    "\n",
    "category_counts = train[\"Crime_Category\"].value_counts()\n",
    "total_count = category_counts.sum()\n",
    "percentages = (category_counts / total_count) * 100\n",
    "for label, percentage in zip(category_counts.index, percentages):\n",
    "  print(f\"{label}: {percentage:.1f}%\")\n"
   ]
  },
  {
   "cell_type": "code",
   "execution_count": 45,
   "id": "42ca47e9",
   "metadata": {
    "execution": {
     "iopub.execute_input": "2024-08-09T16:54:13.104616Z",
     "iopub.status.busy": "2024-08-09T16:54:13.104189Z",
     "iopub.status.idle": "2024-08-09T16:54:13.508005Z",
     "shell.execute_reply": "2024-08-09T16:54:13.506721Z"
    },
    "papermill": {
     "duration": 0.46843,
     "end_time": "2024-08-09T16:54:13.510974",
     "exception": false,
     "start_time": "2024-08-09T16:54:13.042544",
     "status": "completed"
    },
    "tags": []
   },
   "outputs": [
    {
     "data": {
      "image/png": "[encoded data removed]",
      "text/plain": [
       "<Figure size 640x480 with 1 Axes>"
      ]
     },
     "metadata": {},
     "output_type": "display_data"
    }
   ],
   "source": [
    "import matplotlib.pyplot as plt \n",
    "import seaborn as sns\n",
    "train[\"Crime_Category\"].value_counts().plot(kind=\"bar\")\n",
    "plt.xlabel(\"Target Category\")\n",
    "plt.ylabel(\"Count\")\n",
    "plt.title(\"Distribution of Target Variable\")\n",
    "plt.show()\n",
    "\n"
   ]
  },
  {
   "cell_type": "code",
   "execution_count": 46,
   "id": "414d4beb",
   "metadata": {
    "execution": {
     "iopub.execute_input": "2024-08-09T16:54:13.633460Z",
     "iopub.status.busy": "2024-08-09T16:54:13.633031Z",
     "iopub.status.idle": "2024-08-09T16:54:13.822179Z",
     "shell.execute_reply": "2024-08-09T16:54:13.821074Z"
    },
    "papermill": {
     "duration": 0.254355,
     "end_time": "2024-08-09T16:54:13.826036",
     "exception": false,
     "start_time": "2024-08-09T16:54:13.571681",
     "status": "completed"
    },
    "tags": []
   },
   "outputs": [
    {
     "data": {
      "image/png": "[encoded data removed]",
      "text/plain": [
       "<Figure size 640x480 with 1 Axes>"
      ]
     },
     "metadata": {},
     "output_type": "display_data"
    },
    {
     "name": "stdout",
     "output_type": "stream",
     "text": [
      "Property Crimes: 58.3%\n",
      "Violent Crimes: 23.8%\n",
      "Crimes against Public Order: 9.0%\n",
      "Fraud and White-Collar Crimes: 6.8%\n",
      "Crimes against Persons: 1.1%\n",
      "Other Crimes: 0.9%\n"
     ]
    }
   ],
   "source": [
    "plt.pie(train[\"Crime_Category\"].value_counts(), labels=train[\"Crime_Category\"].unique(), autopct=\"%1.1f%%\")\n",
    "plt.title(\"Proportion of Target Categories\")\n",
    "plt.show()\n",
    "\n",
    "category_counts = train[\"Crime_Category\"].value_counts()\n",
    "total_count = category_counts.sum()\n",
    "percentages = (category_counts / total_count) * 100\n",
    "for label, percentage in zip(category_counts.index, percentages):\n",
    "  print(f\"{label}: {percentage:.1f}%\")\n"
   ]
  },
  {
   "cell_type": "markdown",
   "id": "bdb1be19",
   "metadata": {
    "papermill": {
     "duration": 0.061084,
     "end_time": "2024-08-09T16:54:13.950193",
     "exception": false,
     "start_time": "2024-08-09T16:54:13.889109",
     "status": "completed"
    },
    "tags": []
   },
   "source": [
    "Comparing the Target with the Victim sex"
   ]
  },
  {
   "cell_type": "code",
   "execution_count": 47,
   "id": "ac5ca405",
   "metadata": {
    "execution": {
     "iopub.execute_input": "2024-08-09T16:54:14.078096Z",
     "iopub.status.busy": "2024-08-09T16:54:14.077344Z",
     "iopub.status.idle": "2024-08-09T16:54:14.089485Z",
     "shell.execute_reply": "2024-08-09T16:54:14.088423Z"
    },
    "papermill": {
     "duration": 0.079212,
     "end_time": "2024-08-09T16:54:14.092204",
     "exception": false,
     "start_time": "2024-08-09T16:54:14.012992",
     "status": "completed"
    },
    "tags": []
   },
   "outputs": [
    {
     "data": {
      "text/plain": [
       "Victim_Sex\n",
       "M    8538\n",
       "F    7176\n",
       "X    1660\n",
       "H       2\n",
       "Name: count, dtype: int64"
      ]
     },
     "execution_count": 47,
     "metadata": {},
     "output_type": "execute_result"
    }
   ],
   "source": [
    "train[\"Victim_Sex\"].value_counts()"
   ]
  },
  {
   "cell_type": "code",
   "execution_count": 48,
   "id": "ad24d6e9",
   "metadata": {
    "execution": {
     "iopub.execute_input": "2024-08-09T16:54:14.217760Z",
     "iopub.status.busy": "2024-08-09T16:54:14.217368Z",
     "iopub.status.idle": "2024-08-09T16:54:14.455855Z",
     "shell.execute_reply": "2024-08-09T16:54:14.454022Z"
    },
    "papermill": {
     "duration": 0.306151,
     "end_time": "2024-08-09T16:54:14.459563",
     "exception": false,
     "start_time": "2024-08-09T16:54:14.153412",
     "status": "completed"
    },
    "tags": []
   },
   "outputs": [
    {
     "data": {
      "image/png": "[encoded data removed]",
      "text/plain": [
       "<Figure size 640x480 with 1 Axes>"
      ]
     },
     "metadata": {},
     "output_type": "display_data"
    }
   ],
   "source": [
    "import matplotlib.pyplot as plt \n",
    "import seaborn as sns\n",
    "train[\"Victim_Sex\"].value_counts().plot(kind=\"bar\")\n",
    "plt.xlabel(\"Victim Sex Category\")\n",
    "plt.ylabel(\"Count\")\n",
    "plt.title(\"Distribution of Victim Sex Variable\")\n",
    "plt.show()\n",
    "\n"
   ]
  },
  {
   "cell_type": "code",
   "execution_count": 49,
   "id": "d6545147",
   "metadata": {
    "execution": {
     "iopub.execute_input": "2024-08-09T16:54:14.586893Z",
     "iopub.status.busy": "2024-08-09T16:54:14.586472Z",
     "iopub.status.idle": "2024-08-09T16:54:14.598589Z",
     "shell.execute_reply": "2024-08-09T16:54:14.597415Z"
    },
    "papermill": {
     "duration": 0.078907,
     "end_time": "2024-08-09T16:54:14.601421",
     "exception": false,
     "start_time": "2024-08-09T16:54:14.522514",
     "status": "completed"
    },
    "tags": []
   },
   "outputs": [
    {
     "name": "stdout",
     "output_type": "stream",
     "text": [
      "M: 49.137%\n",
      "F: 41.298%\n",
      "X: 9.553%\n",
      "H: 0.012%\n"
     ]
    }
   ],
   "source": [
    "\n",
    "category_counts =train[\"Victim_Sex\"].value_counts()\n",
    "total_count = category_counts.sum()\n",
    "percentages = (category_counts / total_count) * 100\n",
    "for label, percentage in zip(category_counts.index, percentages):\n",
    "  print(f\"{label}: {percentage:.3f}%\")\n"
   ]
  },
  {
   "cell_type": "code",
   "execution_count": 50,
   "id": "2059b69b",
   "metadata": {
    "execution": {
     "iopub.execute_input": "2024-08-09T16:54:14.730622Z",
     "iopub.status.busy": "2024-08-09T16:54:14.729508Z",
     "iopub.status.idle": "2024-08-09T16:54:15.069853Z",
     "shell.execute_reply": "2024-08-09T16:54:15.068814Z"
    },
    "papermill": {
     "duration": 0.407666,
     "end_time": "2024-08-09T16:54:15.072293",
     "exception": false,
     "start_time": "2024-08-09T16:54:14.664627",
     "status": "completed"
    },
    "tags": []
   },
   "outputs": [
    {
     "data": {
      "image/png": "[encoded data removed]",
      "text/plain": [
       "<Figure size 640x480 with 1 Axes>"
      ]
     },
     "metadata": {},
     "output_type": "display_data"
    }
   ],
   "source": [
    "train.groupby('Crime_Category')['Victim_Age'].mean().plot(kind='bar')\n",
    "plt.xlabel('Crime Category')\n",
    "plt.ylabel('Average Victim Age')\n",
    "plt.title('Average Victim Age by Crime Category')\n",
    "plt.show()\n"
   ]
  },
  {
   "cell_type": "code",
   "execution_count": 51,
   "id": "607574f6",
   "metadata": {
    "execution": {
     "iopub.execute_input": "2024-08-09T16:54:15.201556Z",
     "iopub.status.busy": "2024-08-09T16:54:15.201149Z",
     "iopub.status.idle": "2024-08-09T16:54:15.213297Z",
     "shell.execute_reply": "2024-08-09T16:54:15.212064Z"
    },
    "papermill": {
     "duration": 0.080639,
     "end_time": "2024-08-09T16:54:15.216732",
     "exception": false,
     "start_time": "2024-08-09T16:54:15.136093",
     "status": "completed"
    },
    "tags": []
   },
   "outputs": [
    {
     "data": {
      "text/plain": [
       "Crime_Category\n",
       "Crimes against Persons           14.555556\n",
       "Crimes against Public Order      36.420907\n",
       "Fraud and White-Collar Crimes    39.284871\n",
       "Other Crimes                     25.949721\n",
       "Property Crimes                  26.072176\n",
       "Violent Crimes                   35.985316\n",
       "Name: Victim_Age, dtype: float64"
      ]
     },
     "execution_count": 51,
     "metadata": {},
     "output_type": "execute_result"
    }
   ],
   "source": [
    "train.groupby('Crime_Category')['Victim_Age'].mean()"
   ]
  },
  {
   "cell_type": "markdown",
   "id": "053d21bf",
   "metadata": {
    "papermill": {
     "duration": 0.063219,
     "end_time": "2024-08-09T16:54:15.345605",
     "exception": false,
     "start_time": "2024-08-09T16:54:15.282386",
     "status": "completed"
    },
    "tags": []
   },
   "source": [
    "This is the average age of the victim based on type of the crime happened. \n",
    "\n",
    "we can see the average age of victim for crime against persons class is only 14.55 ~ 15years. "
   ]
  },
  {
   "cell_type": "markdown",
   "id": "c80e1ca9",
   "metadata": {
    "papermill": {
     "duration": 0.0645,
     "end_time": "2024-08-09T16:54:15.473977",
     "exception": false,
     "start_time": "2024-08-09T16:54:15.409477",
     "status": "completed"
    },
    "tags": []
   },
   "source": [
    "Plot based on Area Name and Crime category"
   ]
  },
  {
   "cell_type": "code",
   "execution_count": 52,
   "id": "27d67b54",
   "metadata": {
    "execution": {
     "iopub.execute_input": "2024-08-09T16:54:15.603697Z",
     "iopub.status.busy": "2024-08-09T16:54:15.603308Z",
     "iopub.status.idle": "2024-08-09T16:54:16.168640Z",
     "shell.execute_reply": "2024-08-09T16:54:16.167462Z"
    },
    "papermill": {
     "duration": 0.632727,
     "end_time": "2024-08-09T16:54:16.171193",
     "exception": false,
     "start_time": "2024-08-09T16:54:15.538466",
     "status": "completed"
    },
    "tags": []
   },
   "outputs": [
    {
     "data": {
      "image/png": "[encoded data removed]",
      "text/plain": [
       "<Figure size 1000x600 with 1 Axes>"
      ]
     },
     "metadata": {},
     "output_type": "display_data"
    }
   ],
   "source": [
    "target_value_counts = train.groupby(['Area_Name', 'Crime_Category'])['Crime_Category'].count().unstack(fill_value=0)\n",
    "\n",
    "top_6_areas = target_value_counts.sum(axis=1).sort_values(ascending=False).head(6).index\n",
    "filtered_data = target_value_counts.loc[top_6_areas]\n",
    "fig, ax = plt.subplots(figsize=(10, 6))\n",
    "filtered_data.plot(kind='bar', ax=ax)\n",
    "plt.xlabel('Area Name')\n",
    "plt.ylabel('Count')\n",
    "plt.title('Top 6 Areas Distribution of Crime Categories')\n",
    "plt.xticks(rotation=45, ha='right')  \n",
    "plt.legend(title='Crime Category', \n",
    "           bbox_to_anchor=(1.05, 1), \n",
    "           loc='upper left', \n",
    "           fontsize=8)\n",
    "plt.tight_layout()\n",
    "plt.show()"
   ]
  },
  {
   "cell_type": "markdown",
   "id": "a7e8aa36",
   "metadata": {
    "papermill": {
     "duration": 0.06539,
     "end_time": "2024-08-09T16:54:16.302866",
     "exception": false,
     "start_time": "2024-08-09T16:54:16.237476",
     "status": "completed"
    },
    "tags": []
   },
   "source": [
    "These are the top 6 areas with higher crime rate. \n",
    "\n",
    "    77th Street    1345\n",
    "    Pacific        1157\n",
    "    Central        1156\n",
    "    Southwest      1130\n",
    "    Southeast      1067\n",
    "    N Hollywood    1065"
   ]
  },
  {
   "cell_type": "markdown",
   "id": "82496dba",
   "metadata": {
    "papermill": {
     "duration": 0.067985,
     "end_time": "2024-08-09T16:54:16.434422",
     "exception": false,
     "start_time": "2024-08-09T16:54:16.366437",
     "status": "completed"
    },
    "tags": []
   },
   "source": [
    "Univariate Analysis"
   ]
  },
  {
   "cell_type": "markdown",
   "id": "dcf1f75d",
   "metadata": {
    "papermill": {
     "duration": 0.082162,
     "end_time": "2024-08-09T16:54:16.585683",
     "exception": false,
     "start_time": "2024-08-09T16:54:16.503521",
     "status": "completed"
    },
    "tags": []
   },
   "source": [
    "We are going to check the distribution of Victim age"
   ]
  },
  {
   "cell_type": "code",
   "execution_count": 53,
   "id": "8a1897a4",
   "metadata": {
    "execution": {
     "iopub.execute_input": "2024-08-09T16:54:16.718771Z",
     "iopub.status.busy": "2024-08-09T16:54:16.718162Z",
     "iopub.status.idle": "2024-08-09T16:54:16.761355Z",
     "shell.execute_reply": "2024-08-09T16:54:16.760169Z"
    },
    "papermill": {
     "duration": 0.111842,
     "end_time": "2024-08-09T16:54:16.764050",
     "exception": false,
     "start_time": "2024-08-09T16:54:16.652208",
     "status": "completed"
    },
    "tags": []
   },
   "outputs": [
    {
     "data": {
      "text/html": [
       "<div>\n",
       "<style scoped>\n",
       "    .dataframe tbody tr th:only-of-type {\n",
       "        vertical-align: middle;\n",
       "    }\n",
       "\n",
       "    .dataframe tbody tr th {\n",
       "        vertical-align: top;\n",
       "    }\n",
       "\n",
       "    .dataframe thead th {\n",
       "        text-align: right;\n",
       "    }\n",
       "</style>\n",
       "<table border=\"1\" class=\"dataframe\">\n",
       "  <thead>\n",
       "    <tr style=\"text-align: right;\">\n",
       "      <th></th>\n",
       "      <th>Location</th>\n",
       "      <th>Cross_Street</th>\n",
       "      <th>Latitude</th>\n",
       "      <th>Longitude</th>\n",
       "      <th>Date_Reported</th>\n",
       "      <th>Date_Occurred</th>\n",
       "      <th>Time_Occurred</th>\n",
       "      <th>Area_ID</th>\n",
       "      <th>Area_Name</th>\n",
       "      <th>Reporting_District_no</th>\n",
       "      <th>...</th>\n",
       "      <th>Victim_Age</th>\n",
       "      <th>Victim_Sex</th>\n",
       "      <th>Victim_Descent</th>\n",
       "      <th>Premise_Code</th>\n",
       "      <th>Premise_Description</th>\n",
       "      <th>Weapon_Used_Code</th>\n",
       "      <th>Weapon_Description</th>\n",
       "      <th>Status</th>\n",
       "      <th>Status_Description</th>\n",
       "      <th>Crime_Category</th>\n",
       "    </tr>\n",
       "  </thead>\n",
       "  <tbody>\n",
       "    <tr>\n",
       "      <th>4</th>\n",
       "      <td>7100 S  VERMONT                      AV</td>\n",
       "      <td>NaN</td>\n",
       "      <td>33.9787</td>\n",
       "      <td>-118.2918</td>\n",
       "      <td>02/25/2020 12:00:00 AM</td>\n",
       "      <td>02/25/2020 12:00:00 AM</td>\n",
       "      <td>1130.0</td>\n",
       "      <td>12.0</td>\n",
       "      <td>77th Street</td>\n",
       "      <td>1245.0</td>\n",
       "      <td>...</td>\n",
       "      <td>0.0</td>\n",
       "      <td>X</td>\n",
       "      <td>X</td>\n",
       "      <td>401.0</td>\n",
       "      <td>MINI-MART</td>\n",
       "      <td>400.0</td>\n",
       "      <td>STRONG-ARM (HANDS, FIST, FEET OR BODILY FORCE)</td>\n",
       "      <td>IC</td>\n",
       "      <td>Invest Cont</td>\n",
       "      <td>Property Crimes</td>\n",
       "    </tr>\n",
       "    <tr>\n",
       "      <th>6</th>\n",
       "      <td>1600 N  SOTO                         ST</td>\n",
       "      <td>NaN</td>\n",
       "      <td>34.0623</td>\n",
       "      <td>-118.1980</td>\n",
       "      <td>08/17/2020 12:00:00 AM</td>\n",
       "      <td>08/17/2020 12:00:00 AM</td>\n",
       "      <td>1840.0</td>\n",
       "      <td>4.0</td>\n",
       "      <td>Hollenbeck</td>\n",
       "      <td>448.0</td>\n",
       "      <td>...</td>\n",
       "      <td>0.0</td>\n",
       "      <td>X</td>\n",
       "      <td>X</td>\n",
       "      <td>202.0</td>\n",
       "      <td>LIQUOR STORE</td>\n",
       "      <td>NaN</td>\n",
       "      <td>NaN</td>\n",
       "      <td>IC</td>\n",
       "      <td>Invest Cont</td>\n",
       "      <td>Property Crimes</td>\n",
       "    </tr>\n",
       "    <tr>\n",
       "      <th>8</th>\n",
       "      <td>5500    COLDWATER CA                 AV</td>\n",
       "      <td>NaN</td>\n",
       "      <td>34.1781</td>\n",
       "      <td>-118.4179</td>\n",
       "      <td>01/28/2020 12:00:00 AM</td>\n",
       "      <td>01/26/2020 12:00:00 AM</td>\n",
       "      <td>1600.0</td>\n",
       "      <td>9.0</td>\n",
       "      <td>Van Nuys</td>\n",
       "      <td>939.0</td>\n",
       "      <td>...</td>\n",
       "      <td>0.0</td>\n",
       "      <td>NaN</td>\n",
       "      <td>NaN</td>\n",
       "      <td>104.0</td>\n",
       "      <td>DRIVEWAY</td>\n",
       "      <td>NaN</td>\n",
       "      <td>NaN</td>\n",
       "      <td>IC</td>\n",
       "      <td>Invest Cont</td>\n",
       "      <td>Property Crimes</td>\n",
       "    </tr>\n",
       "    <tr>\n",
       "      <th>12</th>\n",
       "      <td>100    THE GROVE                    DR</td>\n",
       "      <td>NaN</td>\n",
       "      <td>34.0761</td>\n",
       "      <td>-118.3563</td>\n",
       "      <td>02/03/2020 12:00:00 AM</td>\n",
       "      <td>02/03/2020 12:00:00 AM</td>\n",
       "      <td>500.0</td>\n",
       "      <td>7.0</td>\n",
       "      <td>Wilshire</td>\n",
       "      <td>724.0</td>\n",
       "      <td>...</td>\n",
       "      <td>0.0</td>\n",
       "      <td>NaN</td>\n",
       "      <td>NaN</td>\n",
       "      <td>101.0</td>\n",
       "      <td>STREET</td>\n",
       "      <td>NaN</td>\n",
       "      <td>NaN</td>\n",
       "      <td>IC</td>\n",
       "      <td>Invest Cont</td>\n",
       "      <td>Property Crimes</td>\n",
       "    </tr>\n",
       "    <tr>\n",
       "      <th>15</th>\n",
       "      <td>3000    JOHNSTON                     ST</td>\n",
       "      <td>NaN</td>\n",
       "      <td>34.0805</td>\n",
       "      <td>-118.2087</td>\n",
       "      <td>07/31/2020 12:00:00 AM</td>\n",
       "      <td>07/31/2020 12:00:00 AM</td>\n",
       "      <td>1700.0</td>\n",
       "      <td>4.0</td>\n",
       "      <td>Hollenbeck</td>\n",
       "      <td>414.0</td>\n",
       "      <td>...</td>\n",
       "      <td>0.0</td>\n",
       "      <td>NaN</td>\n",
       "      <td>NaN</td>\n",
       "      <td>101.0</td>\n",
       "      <td>STREET</td>\n",
       "      <td>NaN</td>\n",
       "      <td>NaN</td>\n",
       "      <td>IC</td>\n",
       "      <td>Invest Cont</td>\n",
       "      <td>Property Crimes</td>\n",
       "    </tr>\n",
       "    <tr>\n",
       "      <th>...</th>\n",
       "      <td>...</td>\n",
       "      <td>...</td>\n",
       "      <td>...</td>\n",
       "      <td>...</td>\n",
       "      <td>...</td>\n",
       "      <td>...</td>\n",
       "      <td>...</td>\n",
       "      <td>...</td>\n",
       "      <td>...</td>\n",
       "      <td>...</td>\n",
       "      <td>...</td>\n",
       "      <td>...</td>\n",
       "      <td>...</td>\n",
       "      <td>...</td>\n",
       "      <td>...</td>\n",
       "      <td>...</td>\n",
       "      <td>...</td>\n",
       "      <td>...</td>\n",
       "      <td>...</td>\n",
       "      <td>...</td>\n",
       "      <td>...</td>\n",
       "    </tr>\n",
       "    <tr>\n",
       "      <th>19989</th>\n",
       "      <td>22100    GRESHAM                      ST</td>\n",
       "      <td>NaN</td>\n",
       "      <td>34.2304</td>\n",
       "      <td>-118.6083</td>\n",
       "      <td>08/22/2020 12:00:00 AM</td>\n",
       "      <td>08/22/2020 12:00:00 AM</td>\n",
       "      <td>400.0</td>\n",
       "      <td>21.0</td>\n",
       "      <td>Topanga</td>\n",
       "      <td>2103.0</td>\n",
       "      <td>...</td>\n",
       "      <td>0.0</td>\n",
       "      <td>NaN</td>\n",
       "      <td>NaN</td>\n",
       "      <td>101.0</td>\n",
       "      <td>STREET</td>\n",
       "      <td>NaN</td>\n",
       "      <td>NaN</td>\n",
       "      <td>IC</td>\n",
       "      <td>Invest Cont</td>\n",
       "      <td>Property Crimes</td>\n",
       "    </tr>\n",
       "    <tr>\n",
       "      <th>19991</th>\n",
       "      <td>3900    BERRYMAN                     AV</td>\n",
       "      <td>NaN</td>\n",
       "      <td>34.0078</td>\n",
       "      <td>-118.4217</td>\n",
       "      <td>03/06/2020 12:00:00 AM</td>\n",
       "      <td>03/05/2020 12:00:00 AM</td>\n",
       "      <td>2100.0</td>\n",
       "      <td>14.0</td>\n",
       "      <td>Pacific</td>\n",
       "      <td>1449.0</td>\n",
       "      <td>...</td>\n",
       "      <td>0.0</td>\n",
       "      <td>NaN</td>\n",
       "      <td>NaN</td>\n",
       "      <td>104.0</td>\n",
       "      <td>DRIVEWAY</td>\n",
       "      <td>NaN</td>\n",
       "      <td>NaN</td>\n",
       "      <td>IC</td>\n",
       "      <td>Invest Cont</td>\n",
       "      <td>Property Crimes</td>\n",
       "    </tr>\n",
       "    <tr>\n",
       "      <th>19993</th>\n",
       "      <td>2500    CRENSHAW                     BL</td>\n",
       "      <td>NaN</td>\n",
       "      <td>34.0337</td>\n",
       "      <td>-118.3344</td>\n",
       "      <td>06/13/2020 12:00:00 AM</td>\n",
       "      <td>06/13/2020 12:00:00 AM</td>\n",
       "      <td>1008.0</td>\n",
       "      <td>3.0</td>\n",
       "      <td>Southwest</td>\n",
       "      <td>313.0</td>\n",
       "      <td>...</td>\n",
       "      <td>0.0</td>\n",
       "      <td>NaN</td>\n",
       "      <td>NaN</td>\n",
       "      <td>108.0</td>\n",
       "      <td>PARKING LOT</td>\n",
       "      <td>NaN</td>\n",
       "      <td>NaN</td>\n",
       "      <td>IC</td>\n",
       "      <td>Invest Cont</td>\n",
       "      <td>Property Crimes</td>\n",
       "    </tr>\n",
       "    <tr>\n",
       "      <th>19996</th>\n",
       "      <td>16900    ROSCOE                       BL</td>\n",
       "      <td>NaN</td>\n",
       "      <td>34.2212</td>\n",
       "      <td>-118.5011</td>\n",
       "      <td>12/25/2020 12:00:00 AM</td>\n",
       "      <td>12/25/2020 12:00:00 AM</td>\n",
       "      <td>259.0</td>\n",
       "      <td>10.0</td>\n",
       "      <td>West Valley</td>\n",
       "      <td>1008.0</td>\n",
       "      <td>...</td>\n",
       "      <td>0.0</td>\n",
       "      <td>M</td>\n",
       "      <td>W</td>\n",
       "      <td>301.0</td>\n",
       "      <td>GAS STATION</td>\n",
       "      <td>NaN</td>\n",
       "      <td>NaN</td>\n",
       "      <td>IC</td>\n",
       "      <td>Invest Cont</td>\n",
       "      <td>Property Crimes</td>\n",
       "    </tr>\n",
       "    <tr>\n",
       "      <th>19999</th>\n",
       "      <td>DALTON                       AV</td>\n",
       "      <td>VERNON                       AV</td>\n",
       "      <td>34.0037</td>\n",
       "      <td>-118.3034</td>\n",
       "      <td>02/18/2020 12:00:00 AM</td>\n",
       "      <td>02/17/2020 12:00:00 AM</td>\n",
       "      <td>1800.0</td>\n",
       "      <td>3.0</td>\n",
       "      <td>Southwest</td>\n",
       "      <td>397.0</td>\n",
       "      <td>...</td>\n",
       "      <td>0.0</td>\n",
       "      <td>NaN</td>\n",
       "      <td>NaN</td>\n",
       "      <td>101.0</td>\n",
       "      <td>STREET</td>\n",
       "      <td>NaN</td>\n",
       "      <td>NaN</td>\n",
       "      <td>IC</td>\n",
       "      <td>Invest Cont</td>\n",
       "      <td>Property Crimes</td>\n",
       "    </tr>\n",
       "  </tbody>\n",
       "</table>\n",
       "<p>4834 rows × 22 columns</p>\n",
       "</div>"
      ],
      "text/plain": [
       "                                       Location  \\\n",
       "4       7100 S  VERMONT                      AV   \n",
       "6       1600 N  SOTO                         ST   \n",
       "8       5500    COLDWATER CA                 AV   \n",
       "12       100    THE GROVE                    DR   \n",
       "15      3000    JOHNSTON                     ST   \n",
       "...                                         ...   \n",
       "19989  22100    GRESHAM                      ST   \n",
       "19991   3900    BERRYMAN                     AV   \n",
       "19993   2500    CRENSHAW                     BL   \n",
       "19996  16900    ROSCOE                       BL   \n",
       "19999           DALTON                       AV   \n",
       "\n",
       "                          Cross_Street  Latitude  Longitude  \\\n",
       "4                                  NaN   33.9787  -118.2918   \n",
       "6                                  NaN   34.0623  -118.1980   \n",
       "8                                  NaN   34.1781  -118.4179   \n",
       "12                                 NaN   34.0761  -118.3563   \n",
       "15                                 NaN   34.0805  -118.2087   \n",
       "...                                ...       ...        ...   \n",
       "19989                              NaN   34.2304  -118.6083   \n",
       "19991                              NaN   34.0078  -118.4217   \n",
       "19993                              NaN   34.0337  -118.3344   \n",
       "19996                              NaN   34.2212  -118.5011   \n",
       "19999  VERNON                       AV   34.0037  -118.3034   \n",
       "\n",
       "                Date_Reported           Date_Occurred  Time_Occurred  Area_ID  \\\n",
       "4      02/25/2020 12:00:00 AM  02/25/2020 12:00:00 AM         1130.0     12.0   \n",
       "6      08/17/2020 12:00:00 AM  08/17/2020 12:00:00 AM         1840.0      4.0   \n",
       "8      01/28/2020 12:00:00 AM  01/26/2020 12:00:00 AM         1600.0      9.0   \n",
       "12     02/03/2020 12:00:00 AM  02/03/2020 12:00:00 AM          500.0      7.0   \n",
       "15     07/31/2020 12:00:00 AM  07/31/2020 12:00:00 AM         1700.0      4.0   \n",
       "...                       ...                     ...            ...      ...   \n",
       "19989  08/22/2020 12:00:00 AM  08/22/2020 12:00:00 AM          400.0     21.0   \n",
       "19991  03/06/2020 12:00:00 AM  03/05/2020 12:00:00 AM         2100.0     14.0   \n",
       "19993  06/13/2020 12:00:00 AM  06/13/2020 12:00:00 AM         1008.0      3.0   \n",
       "19996  12/25/2020 12:00:00 AM  12/25/2020 12:00:00 AM          259.0     10.0   \n",
       "19999  02/18/2020 12:00:00 AM  02/17/2020 12:00:00 AM         1800.0      3.0   \n",
       "\n",
       "         Area_Name  Reporting_District_no  ...  Victim_Age Victim_Sex  \\\n",
       "4      77th Street                 1245.0  ...         0.0          X   \n",
       "6       Hollenbeck                  448.0  ...         0.0          X   \n",
       "8         Van Nuys                  939.0  ...         0.0        NaN   \n",
       "12        Wilshire                  724.0  ...         0.0        NaN   \n",
       "15      Hollenbeck                  414.0  ...         0.0        NaN   \n",
       "...            ...                    ...  ...         ...        ...   \n",
       "19989      Topanga                 2103.0  ...         0.0        NaN   \n",
       "19991      Pacific                 1449.0  ...         0.0        NaN   \n",
       "19993    Southwest                  313.0  ...         0.0        NaN   \n",
       "19996  West Valley                 1008.0  ...         0.0          M   \n",
       "19999    Southwest                  397.0  ...         0.0        NaN   \n",
       "\n",
       "       Victim_Descent Premise_Code Premise_Description  Weapon_Used_Code  \\\n",
       "4                   X        401.0           MINI-MART             400.0   \n",
       "6                   X        202.0        LIQUOR STORE               NaN   \n",
       "8                 NaN        104.0            DRIVEWAY               NaN   \n",
       "12                NaN        101.0              STREET               NaN   \n",
       "15                NaN        101.0              STREET               NaN   \n",
       "...               ...          ...                 ...               ...   \n",
       "19989             NaN        101.0              STREET               NaN   \n",
       "19991             NaN        104.0            DRIVEWAY               NaN   \n",
       "19993             NaN        108.0         PARKING LOT               NaN   \n",
       "19996               W        301.0         GAS STATION               NaN   \n",
       "19999             NaN        101.0              STREET               NaN   \n",
       "\n",
       "                                   Weapon_Description  Status  \\\n",
       "4      STRONG-ARM (HANDS, FIST, FEET OR BODILY FORCE)      IC   \n",
       "6                                                 NaN      IC   \n",
       "8                                                 NaN      IC   \n",
       "12                                                NaN      IC   \n",
       "15                                                NaN      IC   \n",
       "...                                               ...     ...   \n",
       "19989                                             NaN      IC   \n",
       "19991                                             NaN      IC   \n",
       "19993                                             NaN      IC   \n",
       "19996                                             NaN      IC   \n",
       "19999                                             NaN      IC   \n",
       "\n",
       "      Status_Description   Crime_Category  \n",
       "4            Invest Cont  Property Crimes  \n",
       "6            Invest Cont  Property Crimes  \n",
       "8            Invest Cont  Property Crimes  \n",
       "12           Invest Cont  Property Crimes  \n",
       "15           Invest Cont  Property Crimes  \n",
       "...                  ...              ...  \n",
       "19989        Invest Cont  Property Crimes  \n",
       "19991        Invest Cont  Property Crimes  \n",
       "19993        Invest Cont  Property Crimes  \n",
       "19996        Invest Cont  Property Crimes  \n",
       "19999        Invest Cont  Property Crimes  \n",
       "\n",
       "[4834 rows x 22 columns]"
      ]
     },
     "execution_count": 53,
     "metadata": {},
     "output_type": "execute_result"
    }
   ],
   "source": [
    "train[train['Victim_Age']<=0]"
   ]
  },
  {
   "cell_type": "markdown",
   "id": "5825f3bc",
   "metadata": {
    "papermill": {
     "duration": 0.066178,
     "end_time": "2024-08-09T16:54:16.896597",
     "exception": false,
     "start_time": "2024-08-09T16:54:16.830419",
     "status": "completed"
    },
    "tags": []
   },
   "source": [
    "as you can see there are 4834 ~ 5000 rows with the victim age <=0. This shouldn't be the case. either we round off the negatives to zero or replace the value with a null or replace with a hardcoded value."
   ]
  },
  {
   "cell_type": "code",
   "execution_count": 54,
   "id": "4c7d78e0",
   "metadata": {
    "execution": {
     "iopub.execute_input": "2024-08-09T16:54:17.029177Z",
     "iopub.status.busy": "2024-08-09T16:54:17.028816Z",
     "iopub.status.idle": "2024-08-09T16:54:17.062028Z",
     "shell.execute_reply": "2024-08-09T16:54:17.060838Z"
    },
    "papermill": {
     "duration": 0.101822,
     "end_time": "2024-08-09T16:54:17.064952",
     "exception": false,
     "start_time": "2024-08-09T16:54:16.963130",
     "status": "completed"
    },
    "tags": []
   },
   "outputs": [
    {
     "data": {
      "text/html": [
       "<div>\n",
       "<style scoped>\n",
       "    .dataframe tbody tr th:only-of-type {\n",
       "        vertical-align: middle;\n",
       "    }\n",
       "\n",
       "    .dataframe tbody tr th {\n",
       "        vertical-align: top;\n",
       "    }\n",
       "\n",
       "    .dataframe thead th {\n",
       "        text-align: right;\n",
       "    }\n",
       "</style>\n",
       "<table border=\"1\" class=\"dataframe\">\n",
       "  <thead>\n",
       "    <tr style=\"text-align: right;\">\n",
       "      <th></th>\n",
       "      <th>Location</th>\n",
       "      <th>Cross_Street</th>\n",
       "      <th>Latitude</th>\n",
       "      <th>Longitude</th>\n",
       "      <th>Date_Reported</th>\n",
       "      <th>Date_Occurred</th>\n",
       "      <th>Time_Occurred</th>\n",
       "      <th>Area_ID</th>\n",
       "      <th>Area_Name</th>\n",
       "      <th>Reporting_District_no</th>\n",
       "      <th>...</th>\n",
       "      <th>Victim_Age</th>\n",
       "      <th>Victim_Sex</th>\n",
       "      <th>Victim_Descent</th>\n",
       "      <th>Premise_Code</th>\n",
       "      <th>Premise_Description</th>\n",
       "      <th>Weapon_Used_Code</th>\n",
       "      <th>Weapon_Description</th>\n",
       "      <th>Status</th>\n",
       "      <th>Status_Description</th>\n",
       "      <th>Crime_Category</th>\n",
       "    </tr>\n",
       "  </thead>\n",
       "  <tbody>\n",
       "    <tr>\n",
       "      <th>251</th>\n",
       "      <td>1700    ORCHID                       AV</td>\n",
       "      <td>NaN</td>\n",
       "      <td>34.1030</td>\n",
       "      <td>-118.3402</td>\n",
       "      <td>06/02/2023 12:00:00 AM</td>\n",
       "      <td>05/31/2020 12:00:00 AM</td>\n",
       "      <td>430.0</td>\n",
       "      <td>6.0</td>\n",
       "      <td>Hollywood</td>\n",
       "      <td>645.0</td>\n",
       "      <td>...</td>\n",
       "      <td>-2.0</td>\n",
       "      <td>X</td>\n",
       "      <td>X</td>\n",
       "      <td>203.0</td>\n",
       "      <td>OTHER BUSINESS</td>\n",
       "      <td>500.0</td>\n",
       "      <td>UNKNOWN WEAPON/OTHER WEAPON</td>\n",
       "      <td>IC</td>\n",
       "      <td>Invest Cont</td>\n",
       "      <td>Property Crimes</td>\n",
       "    </tr>\n",
       "    <tr>\n",
       "      <th>717</th>\n",
       "      <td>16800    SAN FERNANDO MISSION         BL</td>\n",
       "      <td>NaN</td>\n",
       "      <td>34.2720</td>\n",
       "      <td>-118.4978</td>\n",
       "      <td>05/25/2023 12:00:00 AM</td>\n",
       "      <td>06/02/2020 12:00:00 AM</td>\n",
       "      <td>1.0</td>\n",
       "      <td>17.0</td>\n",
       "      <td>Devonshire</td>\n",
       "      <td>1737.0</td>\n",
       "      <td>...</td>\n",
       "      <td>-2.0</td>\n",
       "      <td>M</td>\n",
       "      <td>W</td>\n",
       "      <td>501.0</td>\n",
       "      <td>SINGLE FAMILY DWELLING</td>\n",
       "      <td>NaN</td>\n",
       "      <td>NaN</td>\n",
       "      <td>IC</td>\n",
       "      <td>Invest Cont</td>\n",
       "      <td>Fraud and White-Collar Crimes</td>\n",
       "    </tr>\n",
       "    <tr>\n",
       "      <th>5877</th>\n",
       "      <td>4100    GREENBRIAR                   LN</td>\n",
       "      <td>NaN</td>\n",
       "      <td>34.1459</td>\n",
       "      <td>-118.5350</td>\n",
       "      <td>05/19/2021 12:00:00 AM</td>\n",
       "      <td>01/01/2020 12:00:00 AM</td>\n",
       "      <td>1200.0</td>\n",
       "      <td>10.0</td>\n",
       "      <td>West Valley</td>\n",
       "      <td>1094.0</td>\n",
       "      <td>...</td>\n",
       "      <td>-1.0</td>\n",
       "      <td>M</td>\n",
       "      <td>O</td>\n",
       "      <td>501.0</td>\n",
       "      <td>SINGLE FAMILY DWELLING</td>\n",
       "      <td>NaN</td>\n",
       "      <td>NaN</td>\n",
       "      <td>IC</td>\n",
       "      <td>Invest Cont</td>\n",
       "      <td>Property Crimes</td>\n",
       "    </tr>\n",
       "    <tr>\n",
       "      <th>11008</th>\n",
       "      <td>12200    WILSHIRE                     BL</td>\n",
       "      <td>NaN</td>\n",
       "      <td>34.0432</td>\n",
       "      <td>-118.4685</td>\n",
       "      <td>06/20/2022 12:00:00 AM</td>\n",
       "      <td>06/19/2020 12:00:00 AM</td>\n",
       "      <td>1600.0</td>\n",
       "      <td>8.0</td>\n",
       "      <td>West LA</td>\n",
       "      <td>841.0</td>\n",
       "      <td>...</td>\n",
       "      <td>-1.0</td>\n",
       "      <td>X</td>\n",
       "      <td>X</td>\n",
       "      <td>203.0</td>\n",
       "      <td>OTHER BUSINESS</td>\n",
       "      <td>NaN</td>\n",
       "      <td>NaN</td>\n",
       "      <td>IC</td>\n",
       "      <td>Invest Cont</td>\n",
       "      <td>Property Crimes</td>\n",
       "    </tr>\n",
       "    <tr>\n",
       "      <th>12993</th>\n",
       "      <td>13000    OXNARD                       ST</td>\n",
       "      <td>NaN</td>\n",
       "      <td>34.1794</td>\n",
       "      <td>-118.4161</td>\n",
       "      <td>03/16/2022 12:00:00 AM</td>\n",
       "      <td>03/13/2020 12:00:00 AM</td>\n",
       "      <td>1200.0</td>\n",
       "      <td>9.0</td>\n",
       "      <td>Van Nuys</td>\n",
       "      <td>939.0</td>\n",
       "      <td>...</td>\n",
       "      <td>-1.0</td>\n",
       "      <td>F</td>\n",
       "      <td>W</td>\n",
       "      <td>721.0</td>\n",
       "      <td>HIGH SCHOOL</td>\n",
       "      <td>NaN</td>\n",
       "      <td>NaN</td>\n",
       "      <td>IC</td>\n",
       "      <td>Invest Cont</td>\n",
       "      <td>Property Crimes</td>\n",
       "    </tr>\n",
       "    <tr>\n",
       "      <th>14021</th>\n",
       "      <td>8600 S  SEPULVEDA                    BL</td>\n",
       "      <td>NaN</td>\n",
       "      <td>33.9598</td>\n",
       "      <td>-118.3962</td>\n",
       "      <td>01/18/2022 12:00:00 AM</td>\n",
       "      <td>07/16/2020 12:00:00 AM</td>\n",
       "      <td>300.0</td>\n",
       "      <td>14.0</td>\n",
       "      <td>Pacific</td>\n",
       "      <td>1487.0</td>\n",
       "      <td>...</td>\n",
       "      <td>-1.0</td>\n",
       "      <td>X</td>\n",
       "      <td>X</td>\n",
       "      <td>203.0</td>\n",
       "      <td>OTHER BUSINESS</td>\n",
       "      <td>NaN</td>\n",
       "      <td>NaN</td>\n",
       "      <td>IC</td>\n",
       "      <td>Invest Cont</td>\n",
       "      <td>Property Crimes</td>\n",
       "    </tr>\n",
       "  </tbody>\n",
       "</table>\n",
       "<p>6 rows × 22 columns</p>\n",
       "</div>"
      ],
      "text/plain": [
       "                                       Location Cross_Street  Latitude  \\\n",
       "251     1700    ORCHID                       AV          NaN   34.1030   \n",
       "717    16800    SAN FERNANDO MISSION         BL          NaN   34.2720   \n",
       "5877    4100    GREENBRIAR                   LN          NaN   34.1459   \n",
       "11008  12200    WILSHIRE                     BL          NaN   34.0432   \n",
       "12993  13000    OXNARD                       ST          NaN   34.1794   \n",
       "14021   8600 S  SEPULVEDA                    BL          NaN   33.9598   \n",
       "\n",
       "       Longitude           Date_Reported           Date_Occurred  \\\n",
       "251    -118.3402  06/02/2023 12:00:00 AM  05/31/2020 12:00:00 AM   \n",
       "717    -118.4978  05/25/2023 12:00:00 AM  06/02/2020 12:00:00 AM   \n",
       "5877   -118.5350  05/19/2021 12:00:00 AM  01/01/2020 12:00:00 AM   \n",
       "11008  -118.4685  06/20/2022 12:00:00 AM  06/19/2020 12:00:00 AM   \n",
       "12993  -118.4161  03/16/2022 12:00:00 AM  03/13/2020 12:00:00 AM   \n",
       "14021  -118.3962  01/18/2022 12:00:00 AM  07/16/2020 12:00:00 AM   \n",
       "\n",
       "       Time_Occurred  Area_ID    Area_Name  Reporting_District_no  ...  \\\n",
       "251            430.0      6.0    Hollywood                  645.0  ...   \n",
       "717              1.0     17.0   Devonshire                 1737.0  ...   \n",
       "5877          1200.0     10.0  West Valley                 1094.0  ...   \n",
       "11008         1600.0      8.0      West LA                  841.0  ...   \n",
       "12993         1200.0      9.0     Van Nuys                  939.0  ...   \n",
       "14021          300.0     14.0      Pacific                 1487.0  ...   \n",
       "\n",
       "       Victim_Age Victim_Sex  Victim_Descent Premise_Code  \\\n",
       "251          -2.0          X               X        203.0   \n",
       "717          -2.0          M               W        501.0   \n",
       "5877         -1.0          M               O        501.0   \n",
       "11008        -1.0          X               X        203.0   \n",
       "12993        -1.0          F               W        721.0   \n",
       "14021        -1.0          X               X        203.0   \n",
       "\n",
       "          Premise_Description  Weapon_Used_Code           Weapon_Description  \\\n",
       "251            OTHER BUSINESS             500.0  UNKNOWN WEAPON/OTHER WEAPON   \n",
       "717    SINGLE FAMILY DWELLING               NaN                          NaN   \n",
       "5877   SINGLE FAMILY DWELLING               NaN                          NaN   \n",
       "11008          OTHER BUSINESS               NaN                          NaN   \n",
       "12993             HIGH SCHOOL               NaN                          NaN   \n",
       "14021          OTHER BUSINESS               NaN                          NaN   \n",
       "\n",
       "       Status Status_Description                 Crime_Category  \n",
       "251        IC        Invest Cont                Property Crimes  \n",
       "717        IC        Invest Cont  Fraud and White-Collar Crimes  \n",
       "5877       IC        Invest Cont                Property Crimes  \n",
       "11008      IC        Invest Cont                Property Crimes  \n",
       "12993      IC        Invest Cont                Property Crimes  \n",
       "14021      IC        Invest Cont                Property Crimes  \n",
       "\n",
       "[6 rows x 22 columns]"
      ]
     },
     "execution_count": 54,
     "metadata": {},
     "output_type": "execute_result"
    }
   ],
   "source": [
    "train[train['Victim_Age']<0]"
   ]
  },
  {
   "cell_type": "markdown",
   "id": "8f6efcb3",
   "metadata": {
    "papermill": {
     "duration": 0.066843,
     "end_time": "2024-08-09T16:54:17.197384",
     "exception": false,
     "start_time": "2024-08-09T16:54:17.130541",
     "status": "completed"
    },
    "tags": []
   },
   "source": [
    "we have only 6 rows with victim age as negative"
   ]
  },
  {
   "cell_type": "markdown",
   "id": "eb54fa3f",
   "metadata": {
    "papermill": {
     "duration": 0.065153,
     "end_time": "2024-08-09T16:54:17.330595",
     "exception": false,
     "start_time": "2024-08-09T16:54:17.265442",
     "status": "completed"
    },
    "tags": []
   },
   "source": [
    "------------------------------------------------------------"
   ]
  },
  {
   "cell_type": "markdown",
   "id": "ebc9cf80",
   "metadata": {
    "papermill": {
     "duration": 0.064786,
     "end_time": "2024-08-09T16:54:17.460560",
     "exception": false,
     "start_time": "2024-08-09T16:54:17.395774",
     "status": "completed"
    },
    "tags": []
   },
   "source": [
    "**Feature Engineering**"
   ]
  },
  {
   "cell_type": "code",
   "execution_count": 55,
   "id": "57faf1a9",
   "metadata": {
    "execution": {
     "iopub.execute_input": "2024-08-09T16:54:17.597341Z",
     "iopub.status.busy": "2024-08-09T16:54:17.596891Z",
     "iopub.status.idle": "2024-08-09T16:54:17.627057Z",
     "shell.execute_reply": "2024-08-09T16:54:17.625771Z"
    },
    "papermill": {
     "duration": 0.100011,
     "end_time": "2024-08-09T16:54:17.629897",
     "exception": false,
     "start_time": "2024-08-09T16:54:17.529886",
     "status": "completed"
    },
    "tags": []
   },
   "outputs": [
    {
     "name": "stderr",
     "output_type": "stream",
     "text": [
      "/tmp/ipykernel_18/2259347491.py:9: FutureWarning: Downcasting behavior in `replace` is deprecated and will be removed in a future version. To retain the old behavior, explicitly call `result.infer_objects(copy=False)`. To opt-in to the future behavior, set `pd.set_option('future.no_silent_downcasting', True)`\n",
      "  train['Crime_Category'] = train['Crime_Category'].replace(replacement_dict)\n"
     ]
    }
   ],
   "source": [
    "#We can also use a label encoder here\n",
    "\n",
    "replacement_dict = {'Property Crimes': 0,\n",
    "                    'Violent Crimes': 1,\n",
    "                    'Crimes against Public Order': 2,\n",
    "                    'Fraud and White-Collar Crimes': 3,\n",
    "                    'Crimes against Persons': 4,  \n",
    "                    'Other Crimes': 5} \n",
    "train['Crime_Category'] = train['Crime_Category'].replace(replacement_dict)\n"
   ]
  },
  {
   "cell_type": "markdown",
   "id": "b2c46c7e",
   "metadata": {
    "papermill": {
     "duration": 0.065819,
     "end_time": "2024-08-09T16:54:17.760742",
     "exception": false,
     "start_time": "2024-08-09T16:54:17.694923",
     "status": "completed"
    },
    "tags": []
   },
   "source": [
    "Outlier analysis"
   ]
  },
  {
   "cell_type": "code",
   "execution_count": 56,
   "id": "1dd6a4da",
   "metadata": {
    "execution": {
     "iopub.execute_input": "2024-08-09T16:54:17.896577Z",
     "iopub.status.busy": "2024-08-09T16:54:17.896096Z",
     "iopub.status.idle": "2024-08-09T16:54:18.103015Z",
     "shell.execute_reply": "2024-08-09T16:54:18.101732Z"
    },
    "papermill": {
     "duration": 0.278056,
     "end_time": "2024-08-09T16:54:18.105739",
     "exception": false,
     "start_time": "2024-08-09T16:54:17.827683",
     "status": "completed"
    },
    "tags": []
   },
   "outputs": [
    {
     "data": {
      "image/png": "[encoded data removed]",
      "text/plain": [
       "<Figure size 640x480 with 1 Axes>"
      ]
     },
     "metadata": {},
     "output_type": "display_data"
    }
   ],
   "source": [
    "sns.boxplot(x=train['Victim_Age'])\n",
    "plt.show()"
   ]
  },
  {
   "cell_type": "markdown",
   "id": "ead338b6",
   "metadata": {
    "papermill": {
     "duration": 0.069515,
     "end_time": "2024-08-09T16:54:18.242673",
     "exception": false,
     "start_time": "2024-08-09T16:54:18.173158",
     "status": "completed"
    },
    "tags": []
   },
   "source": [
    "Outlier analysis using IQR"
   ]
  },
  {
   "cell_type": "code",
   "execution_count": 57,
   "id": "c549ce03",
   "metadata": {
    "execution": {
     "iopub.execute_input": "2024-08-09T16:54:18.379164Z",
     "iopub.status.busy": "2024-08-09T16:54:18.378742Z",
     "iopub.status.idle": "2024-08-09T16:54:18.645764Z",
     "shell.execute_reply": "2024-08-09T16:54:18.644564Z"
    },
    "papermill": {
     "duration": 0.337928,
     "end_time": "2024-08-09T16:54:18.648474",
     "exception": false,
     "start_time": "2024-08-09T16:54:18.310546",
     "status": "completed"
    },
    "tags": []
   },
   "outputs": [
    {
     "data": {
      "text/plain": [
       "<Axes: title={'center': 'Victim_Age'}>"
      ]
     },
     "execution_count": 57,
     "metadata": {},
     "output_type": "execute_result"
    },
    {
     "data": {
      "image/png": "[encoded data removed]",
      "text/plain": [
       "<Figure size 640x480 with 1 Axes>"
      ]
     },
     "metadata": {},
     "output_type": "display_data"
    }
   ],
   "source": [
    "train['Victim_Age'].plot(kind=\"box\", title=\"Victim_Age\")"
   ]
  },
  {
   "cell_type": "code",
   "execution_count": 58,
   "id": "204af41c",
   "metadata": {
    "execution": {
     "iopub.execute_input": "2024-08-09T16:54:18.782568Z",
     "iopub.status.busy": "2024-08-09T16:54:18.781294Z",
     "iopub.status.idle": "2024-08-09T16:54:18.800979Z",
     "shell.execute_reply": "2024-08-09T16:54:18.799786Z"
    },
    "papermill": {
     "duration": 0.089595,
     "end_time": "2024-08-09T16:54:18.803847",
     "exception": false,
     "start_time": "2024-08-09T16:54:18.714252",
     "status": "completed"
    },
    "tags": []
   },
   "outputs": [
    {
     "data": {
      "text/plain": [
       "(19987, 22)"
      ]
     },
     "execution_count": 58,
     "metadata": {},
     "output_type": "execute_result"
    }
   ],
   "source": [
    "Q1 = train['Victim_Age'].quantile(0.25)\n",
    "Q3 = train['Victim_Age'].quantile(0.75)\n",
    "IQR = Q3 - Q1\n",
    "\n",
    "lower_bound = Q1 - 1.5 * IQR\n",
    "upper_bound = Q3 +  1.5 * IQR\n",
    "new_data = train[(train['Victim_Age'] > lower_bound) & (train['Victim_Age'] < upper_bound)]\n",
    "new_data.shape"
   ]
  },
  {
   "cell_type": "code",
   "execution_count": 59,
   "id": "d337eb1b",
   "metadata": {
    "execution": {
     "iopub.execute_input": "2024-08-09T16:54:18.939784Z",
     "iopub.status.busy": "2024-08-09T16:54:18.939374Z",
     "iopub.status.idle": "2024-08-09T16:54:18.958277Z",
     "shell.execute_reply": "2024-08-09T16:54:18.957113Z"
    },
    "papermill": {
     "duration": 0.090971,
     "end_time": "2024-08-09T16:54:18.960861",
     "exception": false,
     "start_time": "2024-08-09T16:54:18.869890",
     "status": "completed"
    },
    "tags": []
   },
   "outputs": [
    {
     "data": {
      "text/plain": [
       "(19987, 22)"
      ]
     },
     "execution_count": 59,
     "metadata": {},
     "output_type": "execute_result"
    }
   ],
   "source": [
    "Q1 = train['Victim_Age'].quantile(0.25)\n",
    "Q3 = train['Victim_Age'].quantile(0.75)\n",
    "IQR = Q3 - Q1\n",
    "\n",
    "lower_bound = Q1 - 1.5 * IQR\n",
    "upper_bound = Q3 +  1.5 * IQR\n",
    "train = train[(train['Victim_Age'] > lower_bound) & (train['Victim_Age'] < upper_bound)]\n",
    "train.shape"
   ]
  },
  {
   "cell_type": "code",
   "execution_count": 60,
   "id": "b27b2864",
   "metadata": {
    "execution": {
     "iopub.execute_input": "2024-08-09T16:54:19.096845Z",
     "iopub.status.busy": "2024-08-09T16:54:19.096430Z",
     "iopub.status.idle": "2024-08-09T16:54:19.103839Z",
     "shell.execute_reply": "2024-08-09T16:54:19.102622Z"
    },
    "papermill": {
     "duration": 0.078122,
     "end_time": "2024-08-09T16:54:19.106480",
     "exception": false,
     "start_time": "2024-08-09T16:54:19.028358",
     "status": "completed"
    },
    "tags": []
   },
   "outputs": [
    {
     "data": {
      "text/plain": [
       "(-39.0, 97.0)"
      ]
     },
     "execution_count": 60,
     "metadata": {},
     "output_type": "execute_result"
    }
   ],
   "source": [
    "lower_bound, upper_bound"
   ]
  },
  {
   "cell_type": "code",
   "execution_count": 61,
   "id": "193dc240",
   "metadata": {
    "execution": {
     "iopub.execute_input": "2024-08-09T16:54:19.247116Z",
     "iopub.status.busy": "2024-08-09T16:54:19.246728Z",
     "iopub.status.idle": "2024-08-09T16:54:19.253711Z",
     "shell.execute_reply": "2024-08-09T16:54:19.252542Z"
    },
    "papermill": {
     "duration": 0.083273,
     "end_time": "2024-08-09T16:54:19.256868",
     "exception": false,
     "start_time": "2024-08-09T16:54:19.173595",
     "status": "completed"
    },
    "tags": []
   },
   "outputs": [
    {
     "data": {
      "text/plain": [
       "(12.0, 46.0)"
      ]
     },
     "execution_count": 61,
     "metadata": {},
     "output_type": "execute_result"
    }
   ],
   "source": [
    "Q1, Q3"
   ]
  },
  {
   "cell_type": "code",
   "execution_count": 62,
   "id": "8d4241ef",
   "metadata": {
    "execution": {
     "iopub.execute_input": "2024-08-09T16:54:19.393269Z",
     "iopub.status.busy": "2024-08-09T16:54:19.392881Z",
     "iopub.status.idle": "2024-08-09T16:54:19.411303Z",
     "shell.execute_reply": "2024-08-09T16:54:19.409862Z"
    },
    "papermill": {
     "duration": 0.089047,
     "end_time": "2024-08-09T16:54:19.414048",
     "exception": false,
     "start_time": "2024-08-09T16:54:19.325001",
     "status": "completed"
    },
    "tags": []
   },
   "outputs": [
    {
     "data": {
      "text/html": [
       "<div>\n",
       "<style scoped>\n",
       "    .dataframe tbody tr th:only-of-type {\n",
       "        vertical-align: middle;\n",
       "    }\n",
       "\n",
       "    .dataframe tbody tr th {\n",
       "        vertical-align: top;\n",
       "    }\n",
       "\n",
       "    .dataframe thead th {\n",
       "        text-align: right;\n",
       "    }\n",
       "</style>\n",
       "<table border=\"1\" class=\"dataframe\">\n",
       "  <thead>\n",
       "    <tr style=\"text-align: right;\">\n",
       "      <th></th>\n",
       "      <th>Location</th>\n",
       "      <th>Cross_Street</th>\n",
       "      <th>Latitude</th>\n",
       "      <th>Longitude</th>\n",
       "      <th>Date_Reported</th>\n",
       "      <th>Date_Occurred</th>\n",
       "      <th>Time_Occurred</th>\n",
       "      <th>Area_ID</th>\n",
       "      <th>Area_Name</th>\n",
       "      <th>Reporting_District_no</th>\n",
       "      <th>...</th>\n",
       "      <th>Victim_Age</th>\n",
       "      <th>Victim_Sex</th>\n",
       "      <th>Victim_Descent</th>\n",
       "      <th>Premise_Code</th>\n",
       "      <th>Premise_Description</th>\n",
       "      <th>Weapon_Used_Code</th>\n",
       "      <th>Weapon_Description</th>\n",
       "      <th>Status</th>\n",
       "      <th>Status_Description</th>\n",
       "      <th>Crime_Category</th>\n",
       "    </tr>\n",
       "  </thead>\n",
       "  <tbody>\n",
       "  </tbody>\n",
       "</table>\n",
       "<p>0 rows × 22 columns</p>\n",
       "</div>"
      ],
      "text/plain": [
       "Empty DataFrame\n",
       "Columns: [Location, Cross_Street, Latitude, Longitude, Date_Reported, Date_Occurred, Time_Occurred, Area_ID, Area_Name, Reporting_District_no, Part 1-2, Modus_Operandi, Victim_Age, Victim_Sex, Victim_Descent, Premise_Code, Premise_Description, Weapon_Used_Code, Weapon_Description, Status, Status_Description, Crime_Category]\n",
       "Index: []\n",
       "\n",
       "[0 rows x 22 columns]"
      ]
     },
     "execution_count": 62,
     "metadata": {},
     "output_type": "execute_result"
    }
   ],
   "source": [
    "train[train['Victim_Age']>97]"
   ]
  },
  {
   "cell_type": "markdown",
   "id": "094d5d5f",
   "metadata": {
    "papermill": {
     "duration": 0.067762,
     "end_time": "2024-08-09T16:54:19.549639",
     "exception": false,
     "start_time": "2024-08-09T16:54:19.481877",
     "status": "completed"
    },
    "tags": []
   },
   "source": [
    "These are the 13 outliers which we dropped"
   ]
  },
  {
   "cell_type": "markdown",
   "id": "3d5b7a00",
   "metadata": {
    "papermill": {
     "duration": 0.067682,
     "end_time": "2024-08-09T16:54:19.684716",
     "exception": false,
     "start_time": "2024-08-09T16:54:19.617034",
     "status": "completed"
    },
    "tags": []
   },
   "source": [
    "Creating new columns from the existing ones"
   ]
  },
  {
   "cell_type": "code",
   "execution_count": 63,
   "id": "3c1517af",
   "metadata": {
    "execution": {
     "iopub.execute_input": "2024-08-09T16:54:19.822325Z",
     "iopub.status.busy": "2024-08-09T16:54:19.821419Z",
     "iopub.status.idle": "2024-08-09T16:54:20.036656Z",
     "shell.execute_reply": "2024-08-09T16:54:20.035596Z"
    },
    "papermill": {
     "duration": 0.287872,
     "end_time": "2024-08-09T16:54:20.040737",
     "exception": false,
     "start_time": "2024-08-09T16:54:19.752865",
     "status": "completed"
    },
    "tags": []
   },
   "outputs": [
    {
     "name": "stdout",
     "output_type": "stream",
     "text": [
      "                                       Location  \\\n",
      "0       4500    CARPENTER                    AV   \n",
      "1               45TH                         ST   \n",
      "2        600 E  MARTIN LUTHER KING JR        BL   \n",
      "3      14900    ORO GRANDE                   ST   \n",
      "4       7100 S  VERMONT                      AV   \n",
      "...                                         ...   \n",
      "19995   5100 W  ADAMS                        BL   \n",
      "19996  16900    ROSCOE                       BL   \n",
      "19997   1000 S  SHENANDOAH                   ST   \n",
      "19998    300 W  SEPULVEDA                    ST   \n",
      "19999           DALTON                       AV   \n",
      "\n",
      "                          Cross_Street  Latitude  Longitude Date_Reported  \\\n",
      "0                                  NaN   34.1522  -118.3910    2020-03-09   \n",
      "1      ALAMEDA                      ST   34.0028  -118.2391    2020-02-27   \n",
      "2                                  NaN   34.0111  -118.2653    2020-08-21   \n",
      "3                                  NaN   34.2953  -118.4590    2020-11-08   \n",
      "4                                  NaN   33.9787  -118.2918    2020-02-25   \n",
      "...                                ...       ...        ...           ...   \n",
      "19995                              NaN   34.0334  -118.3523    2020-05-24   \n",
      "19996                              NaN   34.2212  -118.5011    2020-12-25   \n",
      "19997                              NaN   34.0571  -118.3815    2020-09-25   \n",
      "19998                              NaN   33.7451  -118.2835    2020-06-10   \n",
      "19999  VERNON                       AV   34.0037  -118.3034    2020-02-18   \n",
      "\n",
      "      Date_Occurred  Time_Occurred  Area_ID    Area_Name  \\\n",
      "0        2020-03-06         1800.0     15.0  N Hollywood   \n",
      "1        2020-02-27         1345.0     13.0       Newton   \n",
      "2        2020-08-21          605.0     13.0       Newton   \n",
      "3        2020-11-06         1800.0     19.0      Mission   \n",
      "4        2020-02-25         1130.0     12.0  77th Street   \n",
      "...             ...            ...      ...          ...   \n",
      "19995    2020-05-24          700.0      3.0    Southwest   \n",
      "19996    2020-12-25          259.0     10.0  West Valley   \n",
      "19997    2020-09-25         1400.0      8.0      West LA   \n",
      "19998    2020-06-10          600.0      5.0       Harbor   \n",
      "19999    2020-02-17         1800.0      3.0    Southwest   \n",
      "\n",
      "       Reporting_District_no  ...  Victim_Sex Victim_Descent  Premise_Code  \\\n",
      "0                     1563.0  ...           M              W         101.0   \n",
      "1                     1367.0  ...           M              H         216.0   \n",
      "2                     1343.0  ...           M              B         501.0   \n",
      "3                     1924.0  ...           M              H         101.0   \n",
      "4                     1245.0  ...           X              X         401.0   \n",
      "...                      ...  ...         ...            ...           ...   \n",
      "19995                  303.0  ...           M              H         501.0   \n",
      "19996                 1008.0  ...           M              W         301.0   \n",
      "19997                  849.0  ...           M              H         102.0   \n",
      "19998                  558.0  ...           F              H         501.0   \n",
      "19999                  397.0  ...         NaN            NaN         101.0   \n",
      "\n",
      "          Premise_Description Weapon_Used_Code  \\\n",
      "0                      STREET              NaN   \n",
      "1                   SWAP MEET            400.0   \n",
      "2      SINGLE FAMILY DWELLING              NaN   \n",
      "3                      STREET              NaN   \n",
      "4                   MINI-MART            400.0   \n",
      "...                       ...              ...   \n",
      "19995  SINGLE FAMILY DWELLING            400.0   \n",
      "19996             GAS STATION              NaN   \n",
      "19997                SIDEWALK              NaN   \n",
      "19998  SINGLE FAMILY DWELLING              NaN   \n",
      "19999                  STREET              NaN   \n",
      "\n",
      "                                   Weapon_Description Status  \\\n",
      "0                                                 NaN     IC   \n",
      "1      STRONG-ARM (HANDS, FIST, FEET OR BODILY FORCE)     IC   \n",
      "2                                                 NaN     IC   \n",
      "3                                                 NaN     IC   \n",
      "4      STRONG-ARM (HANDS, FIST, FEET OR BODILY FORCE)     IC   \n",
      "...                                               ...    ...   \n",
      "19995  STRONG-ARM (HANDS, FIST, FEET OR BODILY FORCE)     IC   \n",
      "19996                                             NaN     IC   \n",
      "19997                                             NaN     IC   \n",
      "19998                                             NaN     IC   \n",
      "19999                                             NaN     IC   \n",
      "\n",
      "       Status_Description Crime_Category  \\\n",
      "0             Invest Cont              0   \n",
      "1             Invest Cont              0   \n",
      "2             Invest Cont              0   \n",
      "3             Invest Cont              0   \n",
      "4             Invest Cont              0   \n",
      "...                   ...            ...   \n",
      "19995         Invest Cont              1   \n",
      "19996         Invest Cont              0   \n",
      "19997         Invest Cont              0   \n",
      "19998         Invest Cont              2   \n",
      "19999         Invest Cont              0   \n",
      "\n",
      "      time_between_date_occured_and_reported  \n",
      "0                                       4320  \n",
      "1                                          0  \n",
      "2                                          0  \n",
      "3                                       2880  \n",
      "4                                          0  \n",
      "...                                      ...  \n",
      "19995                                      0  \n",
      "19996                                      0  \n",
      "19997                                      0  \n",
      "19998                                      0  \n",
      "19999                                   1440  \n",
      "\n",
      "[19987 rows x 23 columns]\n"
     ]
    },
    {
     "name": "stderr",
     "output_type": "stream",
     "text": [
      "/tmp/ipykernel_18/1605677976.py:2: UserWarning: Could not infer format, so each element will be parsed individually, falling back to `dateutil`. To ensure parsing is consistent and as-expected, please specify a format.\n",
      "  train['Date_Reported'] = pd.to_datetime(train['Date_Reported'])\n",
      "/tmp/ipykernel_18/1605677976.py:3: UserWarning: Could not infer format, so each element will be parsed individually, falling back to `dateutil`. To ensure parsing is consistent and as-expected, please specify a format.\n",
      "  train['Date_Occurred'] = pd.to_datetime(train['Date_Occurred'])\n"
     ]
    }
   ],
   "source": [
    "# Convert the date columns to datetime format\n",
    "train['Date_Reported'] = pd.to_datetime(train['Date_Reported'])\n",
    "train['Date_Occurred'] = pd.to_datetime(train['Date_Occurred'])\n",
    "\n",
    "# Calculate the difference in minutes\n",
    "train['time_between_date_occured_and_reported'] = (train['Date_Reported'] - train['Date_Occurred']) / pd.Timedelta(minutes=1)\n",
    "\n",
    "# Get the absolute difference in minutes\n",
    "train['time_between_date_occured_and_reported'] = train['time_between_date_occured_and_reported'].abs().astype(int)\n",
    "\n",
    "# Print the dataframe\n",
    "print(train)"
   ]
  },
  {
   "cell_type": "markdown",
   "id": "9c1f4dec",
   "metadata": {
    "papermill": {
     "duration": 0.067077,
     "end_time": "2024-08-09T16:54:20.175182",
     "exception": false,
     "start_time": "2024-08-09T16:54:20.108105",
     "status": "completed"
    },
    "tags": []
   },
   "source": [
    "Put it in pipelines"
   ]
  },
  {
   "cell_type": "code",
   "execution_count": 64,
   "id": "65f22eb6",
   "metadata": {
    "execution": {
     "iopub.execute_input": "2024-08-09T16:54:20.315422Z",
     "iopub.status.busy": "2024-08-09T16:54:20.314159Z",
     "iopub.status.idle": "2024-08-09T16:54:20.467067Z",
     "shell.execute_reply": "2024-08-09T16:54:20.465973Z"
    },
    "papermill": {
     "duration": 0.228285,
     "end_time": "2024-08-09T16:54:20.472619",
     "exception": false,
     "start_time": "2024-08-09T16:54:20.244334",
     "status": "completed"
    },
    "tags": []
   },
   "outputs": [
    {
     "name": "stdout",
     "output_type": "stream",
     "text": [
      "                                      Location  \\\n",
      "0      1500    LEIGHTON                     AV   \n",
      "1       100 S  NORMANDIE                    AV   \n",
      "2       300 E  111TH                        ST   \n",
      "3      1300 S  LA BREA                      AV   \n",
      "4     11000    MORRISON                     ST   \n",
      "...                                        ...   \n",
      "4995   4600    MASCOT                       ST   \n",
      "4996   2200 E  7TH                          ST   \n",
      "4997           LANGDON                      AV   \n",
      "4998    400 E  5TH                          ST   \n",
      "4999  10100 S  SAN PEDRO                    ST   \n",
      "\n",
      "                         Cross_Street  Latitude  Longitude Date_Reported  \\\n",
      "0                                 NaN   34.0128  -118.3045    2020-03-03   \n",
      "1                                 NaN   34.0726  -118.3029    2020-06-01   \n",
      "2                                 NaN   33.9348  -118.2695    2020-08-28   \n",
      "3                                 NaN   34.0497  -118.3442    2020-12-23   \n",
      "4                                 NaN   34.1611  -118.3704    2020-08-30   \n",
      "...                               ...       ...        ...           ...   \n",
      "4995                              NaN   34.0409  -118.3408    2020-06-05   \n",
      "4996                              NaN   34.0347  -118.2253    2020-12-02   \n",
      "4997  TUPPER                       ST   34.2392  -118.4698    2020-11-21   \n",
      "4998                              NaN   34.0453  -118.2443    2020-03-01   \n",
      "4999                              NaN   33.9438  -118.2695    2020-10-09   \n",
      "\n",
      "     Date_Occurred  Time_Occurred  Area_ID    Area_Name  \\\n",
      "0       2020-03-03         2000.0      3.0    Southwest   \n",
      "1       2020-04-25         1700.0     20.0      Olympic   \n",
      "2       2020-08-27          900.0     18.0    Southeast   \n",
      "3       2020-12-03         2200.0      7.0     Wilshire   \n",
      "4       2020-08-29          130.0     15.0  N Hollywood   \n",
      "...            ...            ...      ...          ...   \n",
      "4995    2020-06-04         2100.0      7.0     Wilshire   \n",
      "4996    2020-11-25         1530.0      4.0   Hollenbeck   \n",
      "4997    2020-11-21         2100.0     19.0      Mission   \n",
      "4998    2020-02-29         2335.0      1.0      Central   \n",
      "4999    2020-10-09          320.0     18.0    Southeast   \n",
      "\n",
      "      Reporting_District_no  ...  Victim_Age Victim_Sex  Victim_Descent  \\\n",
      "0                     376.0  ...        28.0          F               H   \n",
      "1                    2014.0  ...        26.0          M               B   \n",
      "2                    1844.0  ...        62.0          F               B   \n",
      "3                     765.0  ...         0.0        NaN             NaN   \n",
      "4                    1555.0  ...        37.0          F               W   \n",
      "...                     ...  ...         ...        ...             ...   \n",
      "4995                  775.0  ...         0.0        NaN             NaN   \n",
      "4996                  471.0  ...         0.0          X               X   \n",
      "4997                 1961.0  ...        38.0          M               H   \n",
      "4998                  147.0  ...        41.0          M               B   \n",
      "4999                 1823.0  ...        49.0          M               B   \n",
      "\n",
      "     Premise_Code                           Premise_Description  \\\n",
      "0           501.0                        SINGLE FAMILY DWELLING   \n",
      "1           502.0  MULTI-UNIT DWELLING (APARTMENT, DUPLEX, ETC)   \n",
      "2           721.0                                   HIGH SCHOOL   \n",
      "3           108.0                                   PARKING LOT   \n",
      "4           501.0                        SINGLE FAMILY DWELLING   \n",
      "...           ...                                           ...   \n",
      "4995        101.0                                        STREET   \n",
      "4996        116.0                                 OTHER/OUTSIDE   \n",
      "4997        101.0                                        STREET   \n",
      "4998        502.0  MULTI-UNIT DWELLING (APARTMENT, DUPLEX, ETC)   \n",
      "4999        122.0                      VEHICLE, PASSENGER/TRUCK   \n",
      "\n",
      "      Weapon_Used_Code                              Weapon_Description  \\\n",
      "0                400.0  STRONG-ARM (HANDS, FIST, FEET OR BODILY FORCE)   \n",
      "1                  NaN                                             NaN   \n",
      "2                  NaN                                             NaN   \n",
      "3                  NaN                                             NaN   \n",
      "4                  NaN                                             NaN   \n",
      "...                ...                                             ...   \n",
      "4995               NaN                                             NaN   \n",
      "4996               NaN                                             NaN   \n",
      "4997             400.0  STRONG-ARM (HANDS, FIST, FEET OR BODILY FORCE)   \n",
      "4998             500.0                     UNKNOWN WEAPON/OTHER WEAPON   \n",
      "4999               NaN                                             NaN   \n",
      "\n",
      "      Status Status_Description time_between_date_occured_and_reported  \n",
      "0         IC        Invest Cont                                      0  \n",
      "1         IC        Invest Cont                                  53280  \n",
      "2         IC        Invest Cont                                   1440  \n",
      "3         IC        Invest Cont                                  28800  \n",
      "4         AO        Adult Other                                   1440  \n",
      "...      ...                ...                                    ...  \n",
      "4995      IC        Invest Cont                                   1440  \n",
      "4996      IC        Invest Cont                                  10080  \n",
      "4997      AA       Adult Arrest                                      0  \n",
      "4998      AO        Adult Other                                   1440  \n",
      "4999      IC        Invest Cont                                      0  \n",
      "\n",
      "[5000 rows x 22 columns]\n"
     ]
    },
    {
     "name": "stderr",
     "output_type": "stream",
     "text": [
      "/tmp/ipykernel_18/3883583963.py:2: UserWarning: Could not infer format, so each element will be parsed individually, falling back to `dateutil`. To ensure parsing is consistent and as-expected, please specify a format.\n",
      "  test['Date_Reported'] = pd.to_datetime(test['Date_Reported'])\n",
      "/tmp/ipykernel_18/3883583963.py:3: UserWarning: Could not infer format, so each element will be parsed individually, falling back to `dateutil`. To ensure parsing is consistent and as-expected, please specify a format.\n",
      "  test['Date_Occurred'] = pd.to_datetime(test['Date_Occurred'])\n"
     ]
    }
   ],
   "source": [
    "# Convert the date columns to datetime format\n",
    "test['Date_Reported'] = pd.to_datetime(test['Date_Reported'])\n",
    "test['Date_Occurred'] = pd.to_datetime(test['Date_Occurred'])\n",
    "\n",
    "# Calculate the difference in minutes\n",
    "test['time_between_date_occured_and_reported'] = (test['Date_Reported'] - test['Date_Occurred']) / pd.Timedelta(minutes=1)\n",
    "\n",
    "# Get the absolute difference in minutes\n",
    "test['time_between_date_occured_and_reported'] = test['time_between_date_occured_and_reported'].abs().astype(int)\n",
    "\n",
    "# Print the dataframe\n",
    "print(test)"
   ]
  },
  {
   "cell_type": "markdown",
   "id": "d78c015f",
   "metadata": {
    "papermill": {
     "duration": 0.06769,
     "end_time": "2024-08-09T16:54:20.610475",
     "exception": false,
     "start_time": "2024-08-09T16:54:20.542785",
     "status": "completed"
    },
    "tags": []
   },
   "source": [
    "Modus Operandi"
   ]
  },
  {
   "cell_type": "code",
   "execution_count": 65,
   "id": "d9ddd512",
   "metadata": {
    "execution": {
     "iopub.execute_input": "2024-08-09T16:54:20.748179Z",
     "iopub.status.busy": "2024-08-09T16:54:20.747741Z",
     "iopub.status.idle": "2024-08-09T16:54:20.991257Z",
     "shell.execute_reply": "2024-08-09T16:54:20.990089Z"
    },
    "papermill": {
     "duration": 0.316229,
     "end_time": "2024-08-09T16:54:20.994184",
     "exception": false,
     "start_time": "2024-08-09T16:54:20.677955",
     "status": "completed"
    },
    "tags": []
   },
   "outputs": [
    {
     "name": "stdout",
     "output_type": "stream",
     "text": [
      "Code mapping: {'0': '1', '0100': '2', '0104': '3', '0105': '4', '0110': '5', '0112': '6', '0113': '7', '0114': '8', '0115': '9', '0117': '10', '0120': '11', '0121': '12', '0200': '13', '0201': '14', '0202': '15', '0206': '16', '0207': '17', '0209': '18', '0210': '19', '0211': '20', '0212': '21', '0213': '22', '0216': '23', '0217': '24', '0220': '25', '0301': '26', '0302': '27', '0303': '28', '0304': '29', '0305': '30', '0307': '31', '0308': '32', '0309': '33', '0310': '34', '0311': '35', '0312': '36', '0314': '37', '0315': '38', '0316': '39', '0319': '40', '0321': '41', '0322': '42', '0323': '43', '0324': '44', '0325': '45', '0326': '46', '0327': '47', '0328': '48', '0329': '49', '0330': '50', '0332': '51', '0334': '52', '0335': '53', '0336': '54', '0337': '55', '0338': '56', '0339': '57', '0340': '58', '0341': '59', '0342': '60', '0343': '61', '0344': '62', '0345': '63', '0346': '64', '0347': '65', '0349': '66', '0350': '67', '0351': '68', '0352': '69', '0353': '70', '0354': '71', '0355': '72', '0356': '73', '0357': '74', '0358': '75', '0359': '76', '0360': '77', '0361': '78', '0362': '79', '0363': '80', '0364': '81', '0365': '82', '0366': '83', '0368': '84', '0369': '85', '0370': '86', '0371': '87', '0372': '88', '0373': '89', '0374': '90', '0375': '91', '0377': '92', '0378': '93', '0379': '94', '0380': '95', '0381': '96', '0382': '97', '0383': '98', '0384': '99', '0385': '100', '0386': '101', '0387': '102', '0388': '103', '0389': '104', '0390': '105', '0391': '106', '0392': '107', '0394': '108', '0395': '109', '0396': '110', '0397': '111', '0398': '112', '0399': '113', '0400': '114', '0401': '115', '0402': '116', '0404': '117', '0405': '118', '0406': '119', '0407': '120', '0408': '121', '0409': '122', '0410': '123', '0411': '124', '0413': '125', '0414': '126', '0416': '127', '0417': '128', '0418': '129', '0419': '130', '0420': '131', '0421': '132', '0422': '133', '0424': '134', '0425': '135', '0426': '136', '0429': '137', '0430': '138', '0431': '139', '0432': '140', '0433': '141', '0434': '142', '0437': '143', '0440': '144', '0442': '145', '0443': '146', '0444': '147', '0445': '148', '0446': '149', '0447': '150', '0448': '151', '0449': '152', '0450': '153', '0451': '154', '0500': '155', '0501': '156', '0503': '157', '0505': '158', '0507': '159', '0508': '160', '0509': '161', '0510': '162', '0512': '163', '0513': '164', '0514': '165', '0515': '166', '0516': '167', '0519': '168', '0520': '169', '0522': '170', '0525': '171', '0526': '172', '0527': '173', '0528': '174', '0529': '175', '0531': '176', '0532': '177', '0533': '178', '0534': '179', '0536': '180', '0537': '181', '0538': '182', '0541': '183', '0542': '184', '0543': '185', '0544': '186', '0545': '187', '0547': '188', '0549': '189', '0550': '190', '0551': '191', '0552': '192', '0553': '193', '0554': '194', '0555': '195', '0556': '196', '0557': '197', '0558': '198', '0559': '199', '0561': '200', '0562': '201', '0601': '202', '0602': '203', '0603': '204', '0604': '205', '0605': '206', '0701': '207', '0800': '208', '0850': '209', '0851': '210', '0853': '211', '0855': '212', '0856': '213', '0857': '214', '0858': '215', '0859': '216', '0902': '217', '0903': '218', '0906': '219', '0907': '220', '0908': '221', '0910': '222', '0911': '223', '0912': '224', '0913': '225', '0914': '226', '0915': '227', '0916': '228', '0917': '229', '0919': '230', '0922': '231', '0923': '232', '0924': '233', '0925': '234', '0926': '235', '0927': '236', '0928': '237', '0929': '238', '0930': '239', '0931': '240', '0933': '241', '0935': '242', '0938': '243', '0940': '244', '0942': '245', '0944': '246', '0945': '247', '0946': '248', '0947': '249', '1000': '250', '1006': '251', '1008': '252', '1009': '253', '1012': '254', '1013': '255', '1017': '256', '1018': '257', '1019': '258', '1020': '259', '1021': '260', '1022': '261', '1026': '262', '1028': '263', '1100': '264', '1202': '265', '1203': '266', '1204': '267', '1205': '268', '1206': '269', '1210': '270', '1211': '271', '1212': '272', '1213': '273', '1214': '274', '1215': '275', '1216': '276', '1218': '277', '1219': '278', '1221': '279', '1222': '280', '1223': '281', '1224': '282', '1225': '283', '1227': '284', '1229': '285', '1230': '286', '1232': '287', '1233': '288', '1234': '289', '1236': '290', '1237': '291', '1238': '292', '1239': '293', '1240': '294', '1241': '295', '1242': '296', '1243': '297', '1245': '298', '1248': '299', '1251': '300', '1252': '301', '1253': '302', '1254': '303', '1256': '304', '1257': '305', '1258': '306', '1259': '307', '1260': '308', '1261': '309', '1262': '310', '1265': '311', '1266': '312', '1267': '313', '1268': '314', '1270': '315', '1271': '316', '1273': '317', '1274': '318', '1275': '319', '1276': '320', '1277': '321', '1278': '322', '1279': '323', '1281': '324', '1300': '325', '1301': '326', '1302': '327', '1303': '328', '1304': '329', '1305': '330', '1306': '331', '1307': '332', '1308': '333', '1309': '334', '1310': '335', '1311': '336', '1312': '337', '1313': '338', '1315': '339', '1316': '340', '1317': '341', '1318': '342', '1401': '343', '1402': '344', '1403': '345', '1404': '346', '1405': '347', '1406': '348', '1407': '349', '1408': '350', '1409': '351', '1410': '352', '1411': '353', '1413': '354', '1414': '355', '1415': '356', '1416': '357', '1419': '358', '1420': '359', '1501': '360', '1510': '361', '1512': '362', '1513': '363', '1514': '364', '1516': '365', '1517': '366', '1519': '367', '1520': '368', '1522': '369', '1528': '370', '1531': '371', '1536': '372', '1538': '373', '1601': '374', '1602': '375', '1604': '376', '1605': '377', '1606': '378', '1607': '379', '1608': '380', '1609': '381', '1610': '382', '1611': '383', '1612': '384', '1701': '385', '1702': '386', '1801': '387', '1802': '388', '1803': '389', '1804': '390', '1805': '391', '1807': '392', '1809': '393', '1810': '394', '1811': '395', '1812': '396', '1813': '397', '1814': '398', '1815': '399', '1816': '400', '1817': '401', '1818': '402', '1819': '403', '1820': '404', '1821': '405', '1822': '406', '1823': '407', '1824': '408', '1900': '409', '1901': '410', '1902': '411', '1903': '412', '1906': '413', '1908': '414', '1910': '415', '1912': '416', '1913': '417', '1914': '418', '1915': '419', '1916': '420', '2000': '421', '2001': '422', '2002': '423', '2003': '424', '2004': '425', '2005': '426', '2006': '427', '2007': '428', '2009': '429', '2011': '430', '2013': '431', '2014': '432', '2018': '433', '2019': '434', '2020': '435', '2021': '436', '2022': '437', '2023': '438', '2024': '439', '2025': '440', '2027': '441', '2028': '442', '2029': '443', '2030': '444', '2031': '445', '2032': '446', '2033': '447', '2034': '448', '2035': '449', '2036': '450', '2037': '451', '2038': '452', '2040': '453', '2041': '454', '2042': '455', '2045': '456', '2046': '457', '2047': '458', '2048': '459', '2049': '460', '2050': '461', '2051': '462', '2052': '463', '2053': '464', '2054': '465', '2055': '466', '2056': '467', '2058': '468', '2059': '469', '2060': '470', '2104': '471', '2108': '472', '2126': '473', '2157': '474', '2201': '475', '2204': '476', '2303': '477', '2304': '478', '3003': '479', '3004': '480', '4025': '481', '9999': '482'}\n",
      "Training data:\n",
      "                            Modus_Operandi Encoded_Modus_Operandi\n",
      "0                                     0385                    100\n",
      "1  0906 0352 0371 0446 1822 0344 0416 0417  219698714940662127128\n",
      "2                                0329 1202                  49265\n",
      "3                                0329 1300                  49325\n",
      "4            0416 0945 1822 0400 0417 0344      12724740611412862\n",
      "Encoding complete for training data. Mapping saved to 'modus_operandi_mapping.json'\n",
      "\n",
      "Test data:\n",
      "                  Modus_Operandi Encoded_Modus_Operandi\n",
      "0  0416 1241 1243 1813 1821 2000     127295297397405421\n",
      "1                      0344 0394                  62108\n",
      "2  1822 0701 1914 0355 1202 0100        406207418722652\n",
      "3                              0                      1\n",
      "4                           1501                    360\n",
      "Test data encoding complete.\n"
     ]
    }
   ],
   "source": [
    "import pandas as pd\n",
    "import re\n",
    "import json\n",
    "import numpy as np\n",
    "\n",
    "# Step 1: Replace NaN with '0' in the training data\n",
    "train['Modus_Operandi'] = train['Modus_Operandi'].fillna('0')\n",
    "\n",
    "# Step 2: Extract unique codes and create a mapping\n",
    "unique_codes = set()\n",
    "for item in train['Modus_Operandi']:\n",
    "    if isinstance(item, str):\n",
    "        codes = re.findall(r'\\d+', item)\n",
    "        unique_codes.update(codes)\n",
    "\n",
    "code_mapping = {code: str(i+1) for i, code in enumerate(sorted(unique_codes))}\n",
    "\n",
    "print(\"Code mapping:\", code_mapping)\n",
    "\n",
    "# Step 3: Create a function to encode the Modus Operandi\n",
    "def encode_modus_operandi(mo_string, mapping):\n",
    "    if pd.isna(mo_string) or mo_string == '':\n",
    "        return '0'\n",
    "    \n",
    "    if not isinstance(mo_string, str):\n",
    "        mo_string = str(mo_string)\n",
    "    \n",
    "    codes = re.findall(r'\\d+', mo_string)\n",
    "    encoded = [mapping.get(code, '0') for code in codes]\n",
    "    return ''.join(encoded) if encoded else '0'\n",
    "\n",
    "# Step 4: Apply the encoding to the Modus Operandi column in training data\n",
    "train['Encoded_Modus_Operandi'] = train['Modus_Operandi'].apply(lambda x: encode_modus_operandi(x, code_mapping))\n",
    "\n",
    "# Print the first few rows of training data to verify the encoding\n",
    "print(\"Training data:\")\n",
    "print(train[['Modus_Operandi', 'Encoded_Modus_Operandi']].head())\n",
    "\n",
    "# Save the code mapping for future reference\n",
    "with open('modus_operandi_mapping.json', 'w') as f:\n",
    "    json.dump(code_mapping, f)\n",
    "\n",
    "print(\"Encoding complete for training data. Mapping saved to 'modus_operandi_mapping.json'\")\n",
    "\n",
    "# Now, process the test data\n",
    "\n",
    "# Load the mapping (this step is redundant here but useful if run separately)\n",
    "with open('modus_operandi_mapping.json', 'r') as f:\n",
    "    code_mapping = json.load(f)\n",
    "\n",
    "# Replace NaN with '0' in the test data\n",
    "test['Modus_Operandi'] = test['Modus_Operandi'].fillna('0')\n",
    "\n",
    "# Apply encoding to test data\n",
    "test['Encoded_Modus_Operandi'] = test['Modus_Operandi'].apply(lambda x: encode_modus_operandi(x, code_mapping))\n",
    "\n",
    "# Print the first few rows of test data to verify the encoding\n",
    "print(\"\\nTest data:\")\n",
    "print(test[['Modus_Operandi', 'Encoded_Modus_Operandi']].head())\n",
    "\n",
    "print(\"Test data encoding complete.\")"
   ]
  },
  {
   "cell_type": "markdown",
   "id": "655c4479",
   "metadata": {
    "papermill": {
     "duration": 0.06718,
     "end_time": "2024-08-09T16:54:21.129712",
     "exception": false,
     "start_time": "2024-08-09T16:54:21.062532",
     "status": "completed"
    },
    "tags": []
   },
   "source": [
    "dropping columns"
   ]
  },
  {
   "cell_type": "markdown",
   "id": "8f8c84cc",
   "metadata": {
    "papermill": {
     "duration": 0.06857,
     "end_time": "2024-08-09T16:54:21.267215",
     "exception": false,
     "start_time": "2024-08-09T16:54:21.198645",
     "status": "completed"
    },
    "tags": []
   },
   "source": [
    "Based on the above EDA and Observations"
   ]
  },
  {
   "cell_type": "code",
   "execution_count": 66,
   "id": "33994a86",
   "metadata": {
    "execution": {
     "iopub.execute_input": "2024-08-09T16:54:21.407008Z",
     "iopub.status.busy": "2024-08-09T16:54:21.406596Z",
     "iopub.status.idle": "2024-08-09T16:54:21.421043Z",
     "shell.execute_reply": "2024-08-09T16:54:21.419643Z"
    },
    "papermill": {
     "duration": 0.088153,
     "end_time": "2024-08-09T16:54:21.424167",
     "exception": false,
     "start_time": "2024-08-09T16:54:21.336014",
     "status": "completed"
    },
    "tags": []
   },
   "outputs": [],
   "source": [
    "X_train = train.drop(['Location', 'Date_Reported',\n",
    "       'Date_Occurred', 'Area_Name',\n",
    "       'Modus_Operandi',\n",
    "        'Premise_Description',\n",
    "       'Weapon_Description', 'Status_Description','Crime_Category','Cross_Street'], axis=1)\n",
    "X_test = test.drop(['Location', 'Date_Reported',\n",
    "       'Date_Occurred', 'Area_Name',\n",
    "       'Modus_Operandi',\n",
    "        'Premise_Description',\n",
    "       'Weapon_Description', 'Status_Description','Cross_Street'], axis=1)\n",
    "Y_train = train[['Crime_Category']]"
   ]
  },
  {
   "cell_type": "code",
   "execution_count": 67,
   "id": "7a3a214f",
   "metadata": {
    "execution": {
     "iopub.execute_input": "2024-08-09T16:54:21.566074Z",
     "iopub.status.busy": "2024-08-09T16:54:21.565685Z",
     "iopub.status.idle": "2024-08-09T16:54:21.573384Z",
     "shell.execute_reply": "2024-08-09T16:54:21.572043Z"
    },
    "papermill": {
     "duration": 0.082423,
     "end_time": "2024-08-09T16:54:21.576051",
     "exception": false,
     "start_time": "2024-08-09T16:54:21.493628",
     "status": "completed"
    },
    "tags": []
   },
   "outputs": [
    {
     "data": {
      "text/plain": [
       "Index(['Latitude', 'Longitude', 'Time_Occurred', 'Area_ID',\n",
       "       'Reporting_District_no', 'Part 1-2', 'Victim_Age', 'Victim_Sex',\n",
       "       'Victim_Descent', 'Premise_Code', 'Weapon_Used_Code', 'Status',\n",
       "       'time_between_date_occured_and_reported', 'Encoded_Modus_Operandi'],\n",
       "      dtype='object')"
      ]
     },
     "execution_count": 67,
     "metadata": {},
     "output_type": "execute_result"
    }
   ],
   "source": [
    "X_train.columns"
   ]
  },
  {
   "cell_type": "code",
   "execution_count": 68,
   "id": "fdd09131",
   "metadata": {
    "execution": {
     "iopub.execute_input": "2024-08-09T16:54:21.716226Z",
     "iopub.status.busy": "2024-08-09T16:54:21.715799Z",
     "iopub.status.idle": "2024-08-09T16:54:21.723877Z",
     "shell.execute_reply": "2024-08-09T16:54:21.722660Z"
    },
    "papermill": {
     "duration": 0.082274,
     "end_time": "2024-08-09T16:54:21.726370",
     "exception": false,
     "start_time": "2024-08-09T16:54:21.644096",
     "status": "completed"
    },
    "tags": []
   },
   "outputs": [
    {
     "data": {
      "text/plain": [
       "((19987, 14), (5000, 14))"
      ]
     },
     "execution_count": 68,
     "metadata": {},
     "output_type": "execute_result"
    }
   ],
   "source": [
    "X_train.shape, X_test.shape"
   ]
  },
  {
   "cell_type": "code",
   "execution_count": 69,
   "id": "55dfd4c4",
   "metadata": {
    "execution": {
     "iopub.execute_input": "2024-08-09T16:54:21.869190Z",
     "iopub.status.busy": "2024-08-09T16:54:21.868294Z",
     "iopub.status.idle": "2024-08-09T16:54:21.876216Z",
     "shell.execute_reply": "2024-08-09T16:54:21.874746Z"
    },
    "papermill": {
     "duration": 0.082367,
     "end_time": "2024-08-09T16:54:21.879028",
     "exception": false,
     "start_time": "2024-08-09T16:54:21.796661",
     "status": "completed"
    },
    "tags": []
   },
   "outputs": [],
   "source": [
    "new_categories = set(test['Victim_Descent'].unique()) - set(train['Victim_Descent'].unique())"
   ]
  },
  {
   "cell_type": "code",
   "execution_count": 70,
   "id": "c10d758f",
   "metadata": {
    "execution": {
     "iopub.execute_input": "2024-08-09T16:54:22.025013Z",
     "iopub.status.busy": "2024-08-09T16:54:22.024423Z",
     "iopub.status.idle": "2024-08-09T16:54:22.032129Z",
     "shell.execute_reply": "2024-08-09T16:54:22.031005Z"
    },
    "papermill": {
     "duration": 0.085865,
     "end_time": "2024-08-09T16:54:22.034918",
     "exception": false,
     "start_time": "2024-08-09T16:54:21.949053",
     "status": "completed"
    },
    "tags": []
   },
   "outputs": [
    {
     "data": {
      "text/plain": [
       "{'S'}"
      ]
     },
     "execution_count": 70,
     "metadata": {},
     "output_type": "execute_result"
    }
   ],
   "source": [
    "new_categories"
   ]
  },
  {
   "cell_type": "code",
   "execution_count": 71,
   "id": "098bffcf",
   "metadata": {
    "execution": {
     "iopub.execute_input": "2024-08-09T16:54:22.177148Z",
     "iopub.status.busy": "2024-08-09T16:54:22.176705Z",
     "iopub.status.idle": "2024-08-09T16:54:22.181715Z",
     "shell.execute_reply": "2024-08-09T16:54:22.180458Z"
    },
    "papermill": {
     "duration": 0.078906,
     "end_time": "2024-08-09T16:54:22.184445",
     "exception": false,
     "start_time": "2024-08-09T16:54:22.105539",
     "status": "completed"
    },
    "tags": []
   },
   "outputs": [],
   "source": [
    "#X_test=X_test.loc[~X_test['Victim_Descent'].isin(new_categories)]"
   ]
  },
  {
   "cell_type": "code",
   "execution_count": 72,
   "id": "63fdfacc",
   "metadata": {
    "execution": {
     "iopub.execute_input": "2024-08-09T16:54:22.329498Z",
     "iopub.status.busy": "2024-08-09T16:54:22.329045Z",
     "iopub.status.idle": "2024-08-09T16:54:22.334465Z",
     "shell.execute_reply": "2024-08-09T16:54:22.333162Z"
    },
    "papermill": {
     "duration": 0.081836,
     "end_time": "2024-08-09T16:54:22.337000",
     "exception": false,
     "start_time": "2024-08-09T16:54:22.255164",
     "status": "completed"
    },
    "tags": []
   },
   "outputs": [],
   "source": [
    "#X_test=X_test.loc[~X_test['Victim_Descent'].isin(new_categories)]"
   ]
  },
  {
   "cell_type": "code",
   "execution_count": 73,
   "id": "b278c563",
   "metadata": {
    "execution": {
     "iopub.execute_input": "2024-08-09T16:54:22.476261Z",
     "iopub.status.busy": "2024-08-09T16:54:22.475473Z",
     "iopub.status.idle": "2024-08-09T16:54:22.483740Z",
     "shell.execute_reply": "2024-08-09T16:54:22.482657Z"
    },
    "papermill": {
     "duration": 0.080658,
     "end_time": "2024-08-09T16:54:22.486566",
     "exception": false,
     "start_time": "2024-08-09T16:54:22.405908",
     "status": "completed"
    },
    "tags": []
   },
   "outputs": [],
   "source": [
    "X_test['Victim_Descent'] = X_test['Victim_Descent'].replace(to_replace=new_categories, value=np.nan)"
   ]
  },
  {
   "cell_type": "code",
   "execution_count": 74,
   "id": "3d13d8ba",
   "metadata": {
    "execution": {
     "iopub.execute_input": "2024-08-09T16:54:22.632390Z",
     "iopub.status.busy": "2024-08-09T16:54:22.631975Z",
     "iopub.status.idle": "2024-08-09T16:54:22.644103Z",
     "shell.execute_reply": "2024-08-09T16:54:22.642717Z"
    },
    "papermill": {
     "duration": 0.086678,
     "end_time": "2024-08-09T16:54:22.647191",
     "exception": false,
     "start_time": "2024-08-09T16:54:22.560513",
     "status": "completed"
    },
    "tags": []
   },
   "outputs": [
    {
     "data": {
      "text/plain": [
       "set()"
      ]
     },
     "execution_count": 74,
     "metadata": {},
     "output_type": "execute_result"
    }
   ],
   "source": [
    "new_categories = set(X_test['Victim_Descent'].unique()) - set(train['Victim_Descent'].unique())\n",
    "new_categories"
   ]
  },
  {
   "cell_type": "code",
   "execution_count": 75,
   "id": "d6c6b065",
   "metadata": {
    "execution": {
     "iopub.execute_input": "2024-08-09T16:54:22.792171Z",
     "iopub.status.busy": "2024-08-09T16:54:22.791742Z",
     "iopub.status.idle": "2024-08-09T16:54:22.800748Z",
     "shell.execute_reply": "2024-08-09T16:54:22.799491Z"
    },
    "papermill": {
     "duration": 0.085926,
     "end_time": "2024-08-09T16:54:22.803847",
     "exception": false,
     "start_time": "2024-08-09T16:54:22.717921",
     "status": "completed"
    },
    "tags": []
   },
   "outputs": [
    {
     "data": {
      "text/plain": [
       "\"new_categories = set(test['Cross_Street'].unique()) - set(train['Cross_Street'].unique())\\nX_test['Cross_Street'] = X_test['Cross_Street'].replace(to_replace=new_categories, value=np.nan)\""
      ]
     },
     "execution_count": 75,
     "metadata": {},
     "output_type": "execute_result"
    }
   ],
   "source": [
    "'''new_categories = set(test['Cross_Street'].unique()) - set(train['Cross_Street'].unique())\n",
    "X_test['Cross_Street'] = X_test['Cross_Street'].replace(to_replace=new_categories, value=np.nan)'''"
   ]
  },
  {
   "cell_type": "code",
   "execution_count": 76,
   "id": "d6101bc1",
   "metadata": {
    "execution": {
     "iopub.execute_input": "2024-08-09T16:54:22.947370Z",
     "iopub.status.busy": "2024-08-09T16:54:22.946964Z",
     "iopub.status.idle": "2024-08-09T16:54:22.960634Z",
     "shell.execute_reply": "2024-08-09T16:54:22.959471Z"
    },
    "papermill": {
     "duration": 0.089306,
     "end_time": "2024-08-09T16:54:22.963383",
     "exception": false,
     "start_time": "2024-08-09T16:54:22.874077",
     "status": "completed"
    },
    "tags": []
   },
   "outputs": [],
   "source": [
    "new_categories = set(test['Location'].unique()) - set(train['Location'].unique())\n"
   ]
  },
  {
   "cell_type": "code",
   "execution_count": 77,
   "id": "ecfe8801",
   "metadata": {
    "execution": {
     "iopub.execute_input": "2024-08-09T16:54:23.102092Z",
     "iopub.status.busy": "2024-08-09T16:54:23.101711Z",
     "iopub.status.idle": "2024-08-09T16:54:23.130598Z",
     "shell.execute_reply": "2024-08-09T16:54:23.129318Z"
    },
    "papermill": {
     "duration": 0.102781,
     "end_time": "2024-08-09T16:54:23.134935",
     "exception": false,
     "start_time": "2024-08-09T16:54:23.032154",
     "status": "completed"
    },
    "tags": []
   },
   "outputs": [
    {
     "data": {
      "text/plain": [
       "{'2100    VENICE                       BL',\n",
       " '8300    KEOKUK                       AV',\n",
       " '23900    VICTORY                      BL',\n",
       " '2100    SANTA ANA',\n",
       " '2400    MARATHON                     ST',\n",
       " '1900 N  BEVERLY                      DR',\n",
       " '5100    3RD                          AV',\n",
       " '6200    TOPANGA                      BL',\n",
       " '1500    EWING                        ST',\n",
       " '11600    HAYNES                       ST',\n",
       " '900 E  JEFFERSON                    BL',\n",
       " '11000    PEORIA                       ST',\n",
       " '6900    KNOWLTON                     PL',\n",
       " '6200    BLUCHER                      AV',\n",
       " '4300    WESTLAWN',\n",
       " '6600    IRVINE                       AV',\n",
       " '16800 W  VENTURA                      BL',\n",
       " '4500    CAMELLIA                     AV',\n",
       " '400 N  STANLEY                      AV',\n",
       " '200 E  MANCHESTER                   AV',\n",
       " '3500 W  54TH                         ST',\n",
       " '4300 W  28TH                         ST',\n",
       " '1400    CERRO GORDO                  ST',\n",
       " '1800    SILVER LAKE                  BL',\n",
       " 'INDIANA                      ST',\n",
       " '800 S  GRETNA GREEN                 WY',\n",
       " '4300    WOODMAN                      AV',\n",
       " '800    RONAN                        AV',\n",
       " '1700 W  L                            ST',\n",
       " '3900    BUCKINGHAM                   RD',\n",
       " '1500 N  BRONSON                      AV',\n",
       " '15000 W  VENTURA                      BL',\n",
       " '2000 S  SHERBOURNE                   DR',\n",
       " '2300    JAMES M WOOD                 BL',\n",
       " '5000    LYNNFIELD                    ST',\n",
       " '1500 S  NORMANDIE                    AV',\n",
       " '5900 W  3RD                          ST',\n",
       " '2700    LANFRANCO                    ST',\n",
       " '3300    LINDA VISTA                  TR',\n",
       " '8900    SAN FERNANDO                 RD',\n",
       " '4700    ARCOLA                       AV',\n",
       " '7400    JUMILLA                      AV',\n",
       " 'ARLINGTON',\n",
       " '5000    SUNNYSLOPE                   AV',\n",
       " '9400    BANDERA                      ST',\n",
       " '11000 S  FIGUEROA                     ST',\n",
       " '3100    FAIRMOUNT                    ST',\n",
       " '1400 S  DURANGO                      AV',\n",
       " '13500    SAYRE                        ST',\n",
       " '16300 W  SUNSET                       BL',\n",
       " '2500    BUCKINGHAM                   RD',\n",
       " '8800    GREENBUSH                    AV',\n",
       " '9000    LA TUNA CANYON               RD',\n",
       " 'TOBERMAN',\n",
       " '600 S  AVENUE 21',\n",
       " 'ELKHART',\n",
       " '11900 S  SAN PEDRO                    ST',\n",
       " '6600    GLADE                        AV',\n",
       " '6000    SELMA                        AV',\n",
       " '6800    CORBIN                       AV',\n",
       " '11500    MAGNOLIA                     BL',\n",
       " '19500    PRAIRIE                      ST',\n",
       " 'HOLLYWOOD                    FY',\n",
       " '600 W  18TH                         ST',\n",
       " '10400    MYRNA                        ST',\n",
       " '5400    FALLBROOK                    AV',\n",
       " '1400 E  ANAHEIM                      ST',\n",
       " '700 W  8TH                          ST',\n",
       " '4200    SANTA ROSALIA                DR',\n",
       " '10000    HADDON                       AV',\n",
       " '4500    RUSSELL                      AV',\n",
       " '3700 S  VICTORIA                     AV',\n",
       " '14400    SHERMAN                      WY',\n",
       " '500 W  42ND                         ST',\n",
       " '500 E  AVENUE 28',\n",
       " '1900    COLDWATER CANYON             DR',\n",
       " '13700    SAYRE                        ST',\n",
       " '900 W  21ST                         ST',\n",
       " '700 E  9TH                          ST',\n",
       " '18500    EDDY                         ST',\n",
       " '2200    GLENDALE                     BL',\n",
       " '8700    METTLER                      ST',\n",
       " '13100    CREWE                        ST',\n",
       " '800    GREEN                        AV',\n",
       " '6000    FULTON                       AV',\n",
       " '10300    MCCORMICK                    ST',\n",
       " '2300    FLETCHER                     DR',\n",
       " '23100 W  VENTURA                      BL',\n",
       " '700 E  85TH                         ST',\n",
       " 'BARHAM',\n",
       " '200    MUSEUM                       DR',\n",
       " '6100 W  PICO                         BL',\n",
       " '6300    SYLMAR                       AV',\n",
       " '1900    EASTLAKE                     AV',\n",
       " '9800    HAAS                         AV',\n",
       " 'HUNTER',\n",
       " '3600 S  SAN PEDRO                    ST',\n",
       " 'LUCILLE',\n",
       " '12000    EDGECLIFF                    AV',\n",
       " '6600    ELMER                        AV',\n",
       " '6300    MONTEREY                     RD',\n",
       " '20200    GAULT                        ST',\n",
       " '11600    KLING                        ST',\n",
       " '2900    SAWTELLE                     BL',\n",
       " '10200    WHITEGATE                    AV',\n",
       " '3100    DERONDA                      DR',\n",
       " '4000    MONTEREY                     RD',\n",
       " '1100    CRYSTAL                      ST',\n",
       " '200 E  30TH                         ST',\n",
       " '6400 W  PARK GLENN                   DR',\n",
       " '4600    MARWOOD                      DR',\n",
       " '6100    BELLAIRE                     AV',\n",
       " '7600 W  HOLLYWOOD                    BL',\n",
       " '11800    BALBOA                       BL',\n",
       " '2900    GILMERTON                    AV',\n",
       " '7600    SALE                         AV',\n",
       " 'CHIMINEAS',\n",
       " '800 W  7TH                          ST',\n",
       " '4300    LEIMERT                      BL',\n",
       " '1400    12TH                         AV',\n",
       " '20700    KINGSBURY                    ST',\n",
       " '1000    3RD                          AV',\n",
       " '700 S  ALMA                         ST',\n",
       " '16400    VENTURA                      BL',\n",
       " '13300    GOLETA                       ST',\n",
       " '200 E  105TH                        ST',\n",
       " 'SANFORD                      ST',\n",
       " '1100    RAVENNA                      AV',\n",
       " '300 N  MOTT                         ST',\n",
       " '3400    8TH                          AV',\n",
       " '14800    PLUMMER                      ST',\n",
       " '22000    CALVERT                      ST',\n",
       " 'BESSEMER                     ST',\n",
       " '11700    DARLINGTON                   AV',\n",
       " '3500 S  HILL                         ST',\n",
       " '1000 E  33RD                         ST',\n",
       " '6400    CRENSHAW                     BL',\n",
       " '14600    OLIVE VIEW                   DR',\n",
       " '6500    DENNY                        AV',\n",
       " '3400    REDWOOD                      AV',\n",
       " '20300    SHERMAN                      WY',\n",
       " '8000    CANBY                        AV',\n",
       " '2500 S  PALM GROVE                   AV',\n",
       " '4600    EAGLE ROCK                   BL',\n",
       " '2200 S  BARRINGTON                   AV',\n",
       " '1700 S  LA BREA                      AV',\n",
       " '700 W  EL SEGUNDO                   BL',\n",
       " 'SICHEL',\n",
       " '5200    ZELZAH                       AV',\n",
       " '7500    GLORIA                       AV',\n",
       " '1600    COLORADO                     BL',\n",
       " '6500    YARMOUTH                     AV',\n",
       " '2ND                          AV',\n",
       " '200 N  MYERS                        ST',\n",
       " '3300    LIVONIA                      AV',\n",
       " '1600 E  33RD                         ST',\n",
       " '12800    HERRICK                      AV',\n",
       " '10100    BREIDT                       AV',\n",
       " '5500    ELMER                        AV',\n",
       " '20500    LASSEN                       ST',\n",
       " '5900    LANKERSHIM                   BL',\n",
       " '5700    SANTA MONICA                 BL',\n",
       " '4400    CANOGA                       DR',\n",
       " '7600    MACHREA                      ST',\n",
       " '17900    LULL                         ST',\n",
       " '12700    SARAH                        ST',\n",
       " '400 N  HARVARD                      BL',\n",
       " '9700 S  CENTRAL                      AV',\n",
       " '12700    OXNARD                       ST',\n",
       " '800 E  76TH                         ST',\n",
       " '1200 E  MARTIN LUTHER KING JR        BL',\n",
       " '22700    CALABASH                     ST',\n",
       " '8100    SEPULVEDA                    PL',\n",
       " '2200    CAMBRIDGE                    ST',\n",
       " '15800    STAGG                        ST',\n",
       " '21100    SUPERIOR                     ST',\n",
       " '7900    VAN NUYS                     BL',\n",
       " 'HESBY',\n",
       " '3400 E  8TH                          ST',\n",
       " '900 S  HILL                         ST',\n",
       " '2100    CITY VIEW                    AV',\n",
       " '3000 S  FIGUEROA                     ST',\n",
       " '7600    KESTER                       AV',\n",
       " '5400    ROMAINE                      ST',\n",
       " '2300 W  48TH                         ST',\n",
       " 'ESSEX                        ST',\n",
       " '1100    MARINE                       AV',\n",
       " 'COLDEN',\n",
       " '7200    9TH                          AV',\n",
       " '2100    GATES                        ST',\n",
       " '1600 S  FIGUEROA                     ST',\n",
       " '12800 W  MUSCATINE                    ST',\n",
       " '11600    VALERIO                      ST',\n",
       " '6500    RIGGS                        PL',\n",
       " '6500    LANKERSHIM                   BL',\n",
       " 'BEACH                        ST',\n",
       " '8200    VAN NOORD                    AV',\n",
       " '1600 W  OLYMPIC                      BL',\n",
       " '2900    QUEENSBURY                   DR',\n",
       " '1400 S  WESTMORELAND                 AV',\n",
       " '12400    EDGECLIFF                    AV',\n",
       " '600 S  NORTON                       AV',\n",
       " '8000    GENESTA                      AV',\n",
       " 'BELLANCA                     BL',\n",
       " '7100    RAMSGATE                     AV',\n",
       " '300 S  CUMMINGS                     ST',\n",
       " '300 N  MARIPOSA                     AV',\n",
       " '2600    GLENDON                      AV',\n",
       " '2900    CRENSHAW                     BL',\n",
       " '2000 W  JEFFERSON                    BL',\n",
       " '2700 S  CLOVERDALE                   AV',\n",
       " '3000    12TH                         AV',\n",
       " '6000 W  HOLLYWOOD                    BL',\n",
       " 'NATIONAL',\n",
       " '11000    COHASSET                     ST',\n",
       " '200 W  27TH                         ST',\n",
       " '14500    CHATSWORTH                   DR',\n",
       " '1100 W  83RD                         ST',\n",
       " '2800    GLENN                        AV',\n",
       " '6800    BEN                          AV',\n",
       " 'SCHOENBORN                   ST',\n",
       " '12200    WOODLEY                      AV',\n",
       " '7000    CANOGA                       AV',\n",
       " 'LE CONTE                     AV',\n",
       " '1000    MCFARLAND                    AV',\n",
       " 'GARLAND',\n",
       " '8000    DEERING                      AV',\n",
       " '14600    LA MAIDA ST                  ST',\n",
       " '2000    ARGYLE                       AV',\n",
       " '1700 E  ANAHEIM                      ST',\n",
       " '100 E  23RD                         ST',\n",
       " '800 W  30TH                         ST',\n",
       " '18800    VICTORY                      BL',\n",
       " '17700 S  FIGUEROA                     ST',\n",
       " '600 E  47TH                         ST',\n",
       " '15600    MULHOLLAND                   DR',\n",
       " '7600 W  MELROSE                      AV',\n",
       " '1200    QUEEN ANNE                   PL',\n",
       " '400 N  MOTT                         ST',\n",
       " '8800    RESEDA                       BL',\n",
       " '12600    JIMENO                       AV',\n",
       " '1500 N  GOWER                        ST',\n",
       " '18400    VICTORY                      BL',\n",
       " '21800    ECCLES                       ST',\n",
       " '700 E  JEFFERSON                    BL',\n",
       " '1800 E  97TH                         ST',\n",
       " '800 E  COMMERCIAL                   ST',\n",
       " '3000 W  FLORENCE                     AV',\n",
       " '12800    OXNARD                       ST',\n",
       " '5600    MAMMOTH                      AV',\n",
       " '11300    GAVIOTA                      AV',\n",
       " '600 S  HARBOR                       BL',\n",
       " '8800    HILLCROFT                    DR',\n",
       " '3700    DALTON                       AV',\n",
       " '17700    HATTERAS                     ST',\n",
       " '3400    MORGAN                       AV',\n",
       " '13500    SIMSHAW                      AV',\n",
       " '1300    VINE                         ST',\n",
       " '1300 S  MAIN                         ST',\n",
       " '17700    TRIBUNE                      ST',\n",
       " '1300    BELLEVUE                     AV',\n",
       " '8000    LINCOLN                      BL',\n",
       " '4500    MAPLEWOOD                    AV',\n",
       " '200 E  92ND                         ST',\n",
       " '900 W  11TH                         ST',\n",
       " '21400    SALAMANCA                    AV',\n",
       " '1400 W  30TH                         ST',\n",
       " '20800    VERCELLI                     WY',\n",
       " 'TABOR',\n",
       " '5400    YARMOUTH                     AV',\n",
       " 'SANTA FE',\n",
       " '2400 E  15TH                         ST',\n",
       " '1600 S  GARTH                        AV',\n",
       " '1300 N  FRIES                        AV',\n",
       " '1500    SUNSET PLAZA                 DR',\n",
       " '500 E  47TH                         ST',\n",
       " '7400    TROOST                       AV',\n",
       " '15200    VENTURA                      BL',\n",
       " '6700    DENNY                        AV',\n",
       " '18500    VINCENNES                    ST',\n",
       " '26100    VERMONT                      AV',\n",
       " '5400    AURA                         AV',\n",
       " '3200 S  FLOWER                       ST',\n",
       " '8000    LA TUNA CANYON               RD',\n",
       " '13900    JUDD                         ST',\n",
       " '5300    HERMITAGE                    AV',\n",
       " '8500    EDWIN                        DR',\n",
       " '10100    HALBRENT                     AV',\n",
       " '12100    WASHINGTON                   PL',\n",
       " '1300    FEDORA                       ST',\n",
       " '3100 W  TEMPLE                       ST',\n",
       " '09300 N  SEPULVEDA                    BL',\n",
       " '800 S  SHENANDOAH                   ST',\n",
       " '4700 S  BROADWAY',\n",
       " '4100 S  NORTON                       AV',\n",
       " '1100    AMHERST                      AV',\n",
       " '300 S  HIGHLAND                     AV',\n",
       " 'EL CENTRO                    AV',\n",
       " '1400    ANGELUS                      AV',\n",
       " '2100 E  2ND                          ST',\n",
       " '200 N  CARONDELET                   ST',\n",
       " '3400 W  OLYMPIC                      BL',\n",
       " '182ND                        ST',\n",
       " '5600    WILLOW CREST                 AV',\n",
       " '17100    RAYMER                       ST',\n",
       " '7000    INDEPENDENCE                 AV',\n",
       " '8700    DELGANY                      AV',\n",
       " '19300    PARTHENIA                    ST',\n",
       " 'RAYMER                       ST',\n",
       " '2500    ROSCOMARE                    RD',\n",
       " '3600    RUTHELEN                     ST',\n",
       " '10100    VALLEY CIRCLE                BL',\n",
       " '1800 N  ALVARADO                     ST',\n",
       " '1400 N  EVERGREEN                    AV',\n",
       " '7600 N  SEPULVEDA                    BL',\n",
       " '12900    BRADLEY                      AV',\n",
       " '5200    LATHROP                      ST',\n",
       " '600    CRESTMOORE                   PL',\n",
       " '3800 S  NORTON                       AV',\n",
       " '11000    MORRISON                     ST',\n",
       " 'RANDI',\n",
       " '1000    PIONEER                      AV',\n",
       " '3200    BETTY                        DR',\n",
       " '15000    VANOWEN                      ST',\n",
       " '12900    DICKENS                      ST',\n",
       " '3100    CAHUENGA                     BL',\n",
       " '1800 N  KINGSLEY                     DR',\n",
       " '900 E  42ND                         PL',\n",
       " '11700    BELLAGIO                     RD',\n",
       " '800    DOWNEY                       WY',\n",
       " '14900    NORDHOFF                     ST',\n",
       " '9300    JORDAN                       AV',\n",
       " '15100    SYLVAN                       ST',\n",
       " '17000    BOLLINGER                    DR',\n",
       " '1400 N  MARTEL                       AV',\n",
       " '800    TOYOPA                       DR',\n",
       " '600    TULAROSA                     DR',\n",
       " 'VERNON',\n",
       " '2700 S  COCHRAN                      AV',\n",
       " 'S  HOPE                         ST',\n",
       " '1300 N  GENESEE                      AV',\n",
       " '1300    253RD                        ST',\n",
       " '1400 S  UNION                        AV',\n",
       " '11400    SHERMAN                      WY',\n",
       " '20300    KINZIE                       ST',\n",
       " '12300    LOUISE                       AV',\n",
       " '1300    VIENNA                       WY',\n",
       " '6000    WILBUR                       AV',\n",
       " 'N  JUANITA',\n",
       " '11700    SATICOY                      ST',\n",
       " 'ELKWOOD                      ST',\n",
       " '3600    CAHUENGA                     BL',\n",
       " '4800    WILLOW CREST                 AV',\n",
       " '4200    WOODCLIFF                    RD',\n",
       " '4300    VAN NUYS                     BL',\n",
       " 'BREEZE                       AV',\n",
       " '8500    MOORCROFT                    AV',\n",
       " '700 W  ROSECRANS                    AV',\n",
       " '9700    HELEN                        AV',\n",
       " '19900    LISA                         LN',\n",
       " '400 W  108TH                        ST',\n",
       " '100 W  E                            ST',\n",
       " '6600    BONSALLO                     AV',\n",
       " '3900 W  MARTIN LUTHER KING JR        BL',\n",
       " '2000    PURDUE                       AV',\n",
       " '7100    WOODLAKE                     AV',\n",
       " 'POMEROY',\n",
       " '300 W  56TH                         ST',\n",
       " '5500    MELVIN                       AV',\n",
       " 'KANSAS',\n",
       " '5800    TAMPA                        AV',\n",
       " '16900    BLACKHAWK                    ST',\n",
       " 'ENTRADA                      DR',\n",
       " '7500    WHITLOCK                     AV',\n",
       " '2800    BARRY                        AV',\n",
       " '11900 W  VENTURA                      BL',\n",
       " '11400 S  SAN PEDRO                    ST',\n",
       " '1100 N  AVENUE 56',\n",
       " '1500 W  93RD                         ST',\n",
       " '5700    BECK                         AV',\n",
       " '900    VERNON                       AV',\n",
       " '9000    AVALON                       BL',\n",
       " '12700    GAULT                        ST',\n",
       " '8500 S  NORMANDIE                    AV',\n",
       " '3900    DENKER                       AV',\n",
       " '600 E  109TH                        ST',\n",
       " '1000    GOODRICH                     AV',\n",
       " '6400    COLDWATER CANYON             AV',\n",
       " '5300    BLACKWELDER                  ST',\n",
       " '1900    SHERIDAN                     ST',\n",
       " '400    ROSE                         AV',\n",
       " '600 N  SEPULVEDA                    BL',\n",
       " 'KINGSTON',\n",
       " '20300 S  VERMONT                      AV',\n",
       " '6600    MARYLAND                     DR',\n",
       " '3800    LAVELL                       DR',\n",
       " '6300    SIMPSON                      AV',\n",
       " '3700 E  7TH                          ST',\n",
       " '8800    MENLO                        AV',\n",
       " '7200    TUJUNGA                      AV',\n",
       " '3900    GLENFELIZ                    BL',\n",
       " '11200    ELKWOOD                      ST',\n",
       " '11700    ARCHWOOD                     ST',\n",
       " 'SATICOY                      AV',\n",
       " '300 W  AVENUE 37',\n",
       " '2100    SCOTT                        AV',\n",
       " '1500 N  ALVARADO                     ST',\n",
       " '21800    DUMETZ                       RD',\n",
       " '12500    GREENE                       AV',\n",
       " '2200    TERRACE HEIGHTS              AV',\n",
       " '700    LOOKOUT                      DR',\n",
       " '7900    BAKMAN                       AV',\n",
       " '1100 W  53RD                         ST',\n",
       " '4700    WHITE OAK                    AV',\n",
       " '2400    THURMAN                      AV',\n",
       " '24100    GILMORE                      ST',\n",
       " '12000 S  BROADWAY',\n",
       " 'EUBANK                       ST',\n",
       " '400 S  WILLAMAN                     DR',\n",
       " '25100    BELLE PORTE                  AV',\n",
       " 'CLAYTON',\n",
       " '5700    GEYSER                       AV',\n",
       " '3200    FAY                          AV',\n",
       " '5000    BUFFALO                      AV',\n",
       " '8600    COLUMBUS                     AV',\n",
       " '6300    WOODLEY                      AV',\n",
       " '1400    TREMONT                      ST',\n",
       " '2600    LOOSMORE                     ST',\n",
       " '4600    ST ELMO                      DR',\n",
       " '1500 W  45TH                         ST',\n",
       " '13600    RAYEN                        ST',\n",
       " '10500    VICTORY                      BL',\n",
       " '800 W  PACIFIC COAST                HY',\n",
       " '8300    HARGIS                       ST',\n",
       " '1400    GREENFIELD                   AV',\n",
       " '700    JACKSON                      ST',\n",
       " '12100    MAXWELLTON                   RD',\n",
       " 'ARTHUR',\n",
       " '2500    IVAN HILL                    TR',\n",
       " '2300 E  6TH                          ST',\n",
       " '1300 S  BUNDY                        DR',\n",
       " '1700 W  37TH                         ST',\n",
       " '2200 E  8TH                          ST',\n",
       " '4300    MAMMOTH                      AV',\n",
       " '14300 S  DENVER                       AV',\n",
       " 'SAWYER                       AV',\n",
       " '2500 W  54TH                         ST',\n",
       " '12700    ARCHWOOD                     ST',\n",
       " '2800    LEEWARD                      AV',\n",
       " '1000 N  MISSION                      RD',\n",
       " '22700    DENKER                       AV',\n",
       " '9500    MASON                        AV',\n",
       " '16800    BURBANK                      BL',\n",
       " '8400    WINNETKA                     AV',\n",
       " 'ESTRELLA',\n",
       " '4000    MCCLUNG                      DR',\n",
       " 'LEGHORN',\n",
       " '25600    NORMANDIE                    AV',\n",
       " '2900 N  COOLIDGE                     AV',\n",
       " '1100 N  ARDMORE                      AV',\n",
       " '500 E  M                            ST',\n",
       " '8000    LENA                         AV',\n",
       " '1200 W  WASHINGTON                   BL',\n",
       " '200 S  PALOS VERDES                 ST',\n",
       " '1500 W  223RD                        ST',\n",
       " '200 N  KENMORE                      AV',\n",
       " '3200    CABRILLO                     BL',\n",
       " '5100    RUSSO                        ST',\n",
       " '1500 E  101ST                        ST',\n",
       " 'BRIDLE RIDGE                 RD',\n",
       " '2100    WHITMORE                     AV',\n",
       " '11400    SHARP                        AV',\n",
       " '4200    8TH                          AV',\n",
       " '2100    CENTURY PARK                 LN',\n",
       " '3400    EXPOSITION                   BL',\n",
       " '8700    WONDERLAND                   AV',\n",
       " '900    ISLAND                       AV',\n",
       " '22000    OXNARD                       ST',\n",
       " '16700    SUNBURST                     ST',\n",
       " '4600 W  WASHINGTON                   BL',\n",
       " '300 W  E                            ST',\n",
       " '1300 W  70TH                         ST',\n",
       " '5600    CIMARRON                     ST',\n",
       " '6100 S  HOBART                       BL',\n",
       " 'LEEWARD                      AV',\n",
       " '600    LINCOLN                      BL',\n",
       " '2800    BUDAU                        AV',\n",
       " '10900    BLOOMFIELD                   ST',\n",
       " '500 E  PICO                         BL',\n",
       " '11300 S  LA CIENEGA                   BL',\n",
       " '400    VETERAN                      AV',\n",
       " '400 S  SAVANNAH                     ST',\n",
       " 'WINDSOR',\n",
       " '7000 W  MELROSE                      AV',\n",
       " '5800 S  HALLDALE                     AV',\n",
       " '11200    MOORPARK                     ST',\n",
       " '7800    WHITE OAK                    AV',\n",
       " '8000    CLEMENS                      AV',\n",
       " '1800 W  77TH                         ST',\n",
       " '4500    MELBOURNE                    AV',\n",
       " '4700 S  HOOVER                       ST',\n",
       " '6400    BELMAR                       AV',\n",
       " '9400 S  HOBART                       BL',\n",
       " '800 W  102ND                        ST',\n",
       " '100 W  88TH                         ST',\n",
       " '1000    CYPRESS                      AV',\n",
       " '4100 W  22ND                         PL',\n",
       " '16700    MAYALL                       ST',\n",
       " '2800    HYPERION                     AV',\n",
       " '100 E  AVENUE 45',\n",
       " 'FRANCIS                      AV',\n",
       " '12400    WASHINGTON                   PL',\n",
       " '2700 W  VERNON                       AV',\n",
       " '1500 S  CENTRE                       ST',\n",
       " '2800 S  VICTORIA                     AV',\n",
       " '1400 W  WASHINGTON                   BL',\n",
       " '3100    ROWENA                       AV',\n",
       " '16800    LIVORNO                      DR',\n",
       " 'MCDONALD',\n",
       " 'BISHOP                       RD',\n",
       " '700    SAN JULIAN                   ST',\n",
       " '15300    MAGNOLIA                     BL',\n",
       " '1300    AMHERST                      AV',\n",
       " '2300 E  11TH                         ST',\n",
       " '20700    STAGG                        ST',\n",
       " '2800    RESERVOIR                    ST',\n",
       " '200 N  RAMPART                      BL',\n",
       " '2700 S  NORMANDIE                    AV',\n",
       " '19500    BUSINESS CENTER              DR',\n",
       " '8700    SHIRLEY                      AV',\n",
       " '4600    NATICK                       AV',\n",
       " '17000    OAK VIEW                     DR',\n",
       " '10400    LORENZO                      PL',\n",
       " '5000    ARGUS                        DR',\n",
       " '12500    JOLETTE                      AV',\n",
       " '3400    CHADWICK                     DR',\n",
       " '3300    WHITTIER                     BL',\n",
       " '15400    BROWNWOOD                    PL',\n",
       " '2100    YOSEMITE                     DR',\n",
       " '3200    MORGAN                       AV',\n",
       " '13900    HUSTON                       ST',\n",
       " '1900    CARMONA                      AV',\n",
       " '3500    FARMDALE                     AV',\n",
       " '5700    CHICOPEE                     AV',\n",
       " '3200    EAGLE                        ST',\n",
       " '8000    HESPERIA                     AV',\n",
       " '18600    BURBANK                      BL',\n",
       " 'N  MISSION                      RD',\n",
       " '10900    ORION                        AV',\n",
       " 'VERDUGO',\n",
       " 'WILL ROGERS                  ST',\n",
       " 'M                            ST',\n",
       " '4900    AVALON                       BL',\n",
       " '3400    PALOMA                       ST',\n",
       " '100 W  112TH                        ST',\n",
       " '2800 S  GRAND CANAL                  CT',\n",
       " '2600    HAUSER                       BL',\n",
       " '13700    VANOWEN                      ST',\n",
       " '800 W  60TH                         ST',\n",
       " '3000 S  VERMONT                      AV',\n",
       " '2700    OBAMA                        BL',\n",
       " '3400    RAYMOND                      AV',\n",
       " '16900    KNOLLWOOD                    DR',\n",
       " '9700    AVALON                       BL',\n",
       " '9600    BEACHY                       AV',\n",
       " '2800 W  54TH                         ST',\n",
       " '4400    BEVERLY                      BL',\n",
       " 'W  14TH                         ST',\n",
       " 'LEMON                        ST',\n",
       " '8700    HADDON                       AV',\n",
       " '800 N  VIRGIL                       AV',\n",
       " '6700    TUJUNGA                      AV',\n",
       " '5200    LA RODA                      AV',\n",
       " '2500    BEVERWIL                     DR',\n",
       " '13200    LOUVRE                       ST',\n",
       " '5400 S  ST ANDREWS                   PL',\n",
       " 'BUNDY                        DR',\n",
       " '16400    DONMETZ                      ST',\n",
       " '10200    OMELVENY                     AV',\n",
       " '16300    WATERMAN                     DR',\n",
       " '200 S  CABRILLO                     AV',\n",
       " '3100    MIDVALE                      AV',\n",
       " '800 S  SAN PEDRO                    ST',\n",
       " '20000    COMMUNITY                    ST',\n",
       " '8700    GREGORY                      WY',\n",
       " '1800 E  106TH                        ST',\n",
       " '5300 W  CENTINELA                    AV',\n",
       " '22800    COHASSET                     ST',\n",
       " '2500    JAMES M WOOD                 BL',\n",
       " 'BLYTHE',\n",
       " '2000    CENTURY                      PK',\n",
       " '1300    PENNSYLVANIA                 AV',\n",
       " '7100    BAIRD                        AV',\n",
       " '3500    COUNTRY CLUB                 DR',\n",
       " '300 W  62ND                         ST',\n",
       " '8600    BOTHWELL                     RD',\n",
       " '400 W  70TH                         ST',\n",
       " '17900    EMELITA                      ST',\n",
       " '22700    SATICOY                      ST',\n",
       " '8500    GULLO                        AV',\n",
       " 'BEACHWOOD',\n",
       " '4400    STANSBURY                    AV',\n",
       " '1400    JAMES M WOOD                 BL',\n",
       " '10800    BURBANK                      BL',\n",
       " '100    PACIFIC                      AV',\n",
       " '100 E  36TH                         PL',\n",
       " '6600    PACIFIC                      AV',\n",
       " '11300    RIVERSIDE                    DR',\n",
       " '24100    FRAMPTON                     AV',\n",
       " '12400    SYLVAN                       ST',\n",
       " 'DIX                          ST',\n",
       " '5900    FAYETTE                      ST',\n",
       " '200    BERTH',\n",
       " '300 W  48TH                         ST',\n",
       " '5500    LEXINGTON                    AV',\n",
       " '1500 S  MESA                         ST',\n",
       " '1700 E  4TH                          ST',\n",
       " '6800    KESTER                       AV',\n",
       " '2700 W  12TH                         ST',\n",
       " '10600    MISSOURI                     AV',\n",
       " '2000 W  27TH                         ST',\n",
       " '1300 S  BEACON                       ST',\n",
       " 'ESSEX',\n",
       " 'NEBRASKA',\n",
       " '1600 E  53RD                         ST',\n",
       " '3000    GRAND VIEW                   BL',\n",
       " 'PARK VIEW                    ST',\n",
       " '6900    DE LONGPRE                   AV',\n",
       " '300 W  OLYMPIC                      BL',\n",
       " '19500    ARMINTA                      ST',\n",
       " 'CENTURY                      AV',\n",
       " '11400    CAERN                        AV',\n",
       " '7800    BAIRD                        AV',\n",
       " '2100    SACRAMENTO                   ST',\n",
       " '10100    GENESTA                      AV',\n",
       " '4100 W  59TH                         ST',\n",
       " '2000    MAYVIEW                      DR',\n",
       " '7000    SHOUP                        AV',\n",
       " '1600 N  MARTEL                       AV',\n",
       " '12400    WILSHIRE                     BL',\n",
       " '300 E  49TH                         ST',\n",
       " '9000 S  MAIN                         ST',\n",
       " '1900 N  BRONSON                      AV',\n",
       " '1000 S  BEDFORD                      ST',\n",
       " '5200    HOLLYWOOD                    BL',\n",
       " '17200    CHATSWORTH                   ST',\n",
       " '5400    WEST                         BL',\n",
       " '2300    SAN MARCO                    DR',\n",
       " '3800    FREDONIA                     DR',\n",
       " '3500 N  MISSION                      RD',\n",
       " '1300    WILSHIRE                     BL',\n",
       " '2200    SANTA ANA                    BL',\n",
       " '12400    FIELDING',\n",
       " '18800    RUNNYMEDE                    ST',\n",
       " '14700    SAN FERNANDO                 RD',\n",
       " 'HANCOCK                      ST',\n",
       " '1600    CARMONA                      AV',\n",
       " '1800 W  OLYMPIC                      BL',\n",
       " '4500    COLLEGE VIEW                 AV',\n",
       " '3200 S  BARRINGTON                   AV',\n",
       " '200 N  AVALON                       BL',\n",
       " '6100 S  MAIN                         ST',\n",
       " '800 W  40TH                         PL',\n",
       " '5100 S  MANHATTAN                    PL',\n",
       " '1500    WELLESLEY                    AV',\n",
       " '4300    PALMERO                      DR',\n",
       " '10800    MEMORY PARK                  AV',\n",
       " '13800    WOODCOCK                     AV',\n",
       " '900 W  48TH                         ST',\n",
       " '1300    LAVETA                       TR',\n",
       " '3200 E  OLYMPIC                      BL',\n",
       " '2500 S  BENTLEY                      AV',\n",
       " '1300 N  MANSFIELD                    AV',\n",
       " 'ROSELAKE                     ST',\n",
       " '1500 N  ST ANDREWS                   PL',\n",
       " '400 S  CENTRE                       ST',\n",
       " '6300    LEXINGTON                    AV',\n",
       " '6400    TOPANGA CANYON               BL',\n",
       " '4600 N  HUNTINGTON                   DR',\n",
       " 'MISSION                      RD',\n",
       " '2600    DALTON                       AV',\n",
       " '1500 W  29TH                         ST',\n",
       " '21100    CHASE                        ST',\n",
       " '1500 S  SYCAMORE                     AV',\n",
       " '5100 W  MELROSE                      AV',\n",
       " '400 S  HEWITT                       ST',\n",
       " '4400    FRANCIS                      AV',\n",
       " '4800 S  SEPULVEDA                    BL',\n",
       " '8000    GEORGETOWN                   AV',\n",
       " '7700    DARBY                        AV',\n",
       " '11600    HAMLIN                       ST',\n",
       " '7000    CALHOUN                      AV',\n",
       " '16100    COLUMBUS                     LN',\n",
       " '9700    HAAS                         AV',\n",
       " '6200    OAKDALE                      AV',\n",
       " '12200    STAGG                        ST',\n",
       " '2400    2ND                          AV',\n",
       " '19100    ENADIA                       WY',\n",
       " '3900    SENECA                       AV',\n",
       " '7800 W  79TH                         ST',\n",
       " '18600    BRASILIA                     DR',\n",
       " '900 W  34TH                         ST',\n",
       " '4900    HARTWICK                     ST',\n",
       " '900 W  69TH                         ST',\n",
       " '100 S  ARDEN                        BL',\n",
       " '6400    CIMARRON                     ST',\n",
       " '11600    GATEWAY                      BL',\n",
       " '3000 W  76TH                         ST',\n",
       " 'DUCOMMON',\n",
       " '9400    DE SOTO                      AV',\n",
       " '2700    FORRESTER                    DR',\n",
       " '15200    MONTE                        ST',\n",
       " '1200    EXPOSITION                   BL',\n",
       " '8000    NORWICH                      AV',\n",
       " '1900    ORCHARD                      AV',\n",
       " '1100    BAY VIEW                     AV',\n",
       " '11600    GLENOAKS                     BL',\n",
       " '20200    VENTURA                      BL',\n",
       " '5700    CAZAUX                       DR',\n",
       " '1700    BARRY                        AV',\n",
       " '9300    STANWIN                      AV',\n",
       " '4200    LEXINGTON                    AV',\n",
       " '10900    TOPANGA CANYON               BL',\n",
       " '1600 E  4TH                          ST',\n",
       " '4200 S  CENTRAL                      AV',\n",
       " '2000    PENMAR                       AV',\n",
       " '4700    VANALDEN                     AV',\n",
       " '10500    KALMIA                       ST',\n",
       " '800 E  41ST                         PL',\n",
       " '700 E  109TH                        PL',\n",
       " '1700    YOSEMITE                     DR',\n",
       " '2000 W  39TH                         ST',\n",
       " '2200    MINER                        ST',\n",
       " '12200    BURBANK                      BL',\n",
       " 'GLESS',\n",
       " '1300    BOND                         ST',\n",
       " '500 W  78TH                         ST',\n",
       " '800    LUCILE                       AV',\n",
       " '14300    SAYRE                        ST',\n",
       " '1400 S  BEACON                       ST',\n",
       " '4300    FULTON                       AV',\n",
       " '7700    DENSMORE                     AV',\n",
       " '100 S  SERRANO                      AV',\n",
       " '10800    DORA                         ST',\n",
       " '22500    VANOWEN                      ST',\n",
       " '1400 S  SAN PEDRO                    ST',\n",
       " '900 E  108TH                        ST',\n",
       " '8500 S  SEPULVEDA                    BL',\n",
       " '300    DE NEVE                      DR',\n",
       " '400 W  80TH                         ST',\n",
       " '200    5TH                          AV',\n",
       " '4900    GENEVIEVE                    AV',\n",
       " '15000    CHATSWORTH                   ST',\n",
       " '12500    BRADLEY                      AV',\n",
       " 'HOOPER',\n",
       " '17200    BIENVENEDA                   PL',\n",
       " '7300    EL MANOR                     AV',\n",
       " '13400    GLENOAKS                     BL',\n",
       " '12700    NORRIS                       AV',\n",
       " '1400    BARRY                        AV',\n",
       " '1700 S  BENTLEY                      AV',\n",
       " '7900    BLACKBURN                    AV',\n",
       " '2600 S  GARTH                        AV',\n",
       " 'BERTH 153',\n",
       " '300 N  FULLER                       AV',\n",
       " '2800    LAMBERT                      PL',\n",
       " '18000    GAULT                        ST',\n",
       " '200 S  AVENUE 22',\n",
       " '5200    GLEN ELLEN                   PL',\n",
       " 'LURLINE',\n",
       " '3500    HUNTER                       ST',\n",
       " '4600    COLORADO                     BL',\n",
       " '13600    LEADWELL                     ST',\n",
       " '1500 W  54TH                         ST',\n",
       " '10600    FITZROY                      AV',\n",
       " '88TH',\n",
       " '14000    CALVERT                      ST',\n",
       " '69TH',\n",
       " '12000 W  VENTURA                      BL',\n",
       " 'SCHRADER',\n",
       " 'FRIAR                        ST',\n",
       " '4100 W  41ST                         ST',\n",
       " 'COLTON                       ST',\n",
       " '2300 E  IMPERIAL',\n",
       " '600 N  BREED                        ST',\n",
       " '253RD                        ST',\n",
       " '600    WASHINGTON                   BL',\n",
       " 'INDUSTRIAL                   ST',\n",
       " '6500    BELLA VISTA                  WY',\n",
       " '5300    OBAMA                        BL',\n",
       " '500 W  37TH                         ST',\n",
       " 'DIXIE CANYON',\n",
       " 'MASON                        ST',\n",
       " '900 N  BEAUDRY                      AV',\n",
       " '3500 W  PICO                         BL',\n",
       " '11700    IDAHO                        AV',\n",
       " '14100    SYLVAN                       ST',\n",
       " '7800    YOLANDA                      AV',\n",
       " '18600    CHATSWORTH                   ST',\n",
       " '1600 E  104TH                        ST',\n",
       " '500    RIALTO                       AV',\n",
       " '700 N  EDINBURGH                    AV',\n",
       " '6400    BALBOA                       BL',\n",
       " 'LAKESIDE',\n",
       " 'GOLDEN STATE',\n",
       " '15100    FOOTHILL                     BL',\n",
       " '1600    MICHELTORENA                 ST',\n",
       " 'MONTE VISTA',\n",
       " '21500    MULHOLLAND                   DR',\n",
       " '5200 S  FIGUEROA                     ST',\n",
       " '1200    ISLAND                       AV',\n",
       " '3700    CARDIFF                      AV',\n",
       " '5600    WHITNALL                     HY',\n",
       " '1700    GRANVILLE                    AV',\n",
       " '3600 S  VERMONT                      AV',\n",
       " '2900    WAVERLY                      DR',\n",
       " '6800    TUJUNGA                      AV',\n",
       " '4500    CALHOUN                      AV',\n",
       " '11500    PALA MESA                    DR',\n",
       " '700 S  MORENO                       AV',\n",
       " '10000    RUFFNER                      AV',\n",
       " '10000 S  MANHATTAN                    PL',\n",
       " '2000 S  HAUSER                       BL',\n",
       " '6800    LAUREN CANYON                BL',\n",
       " '13700    ELDRIDGE                     AV',\n",
       " '9200    AVIATION                     BL',\n",
       " '300 W  81ST                         ST',\n",
       " 'BONNIE BRAE                  ST',\n",
       " '2000 S  STRONGS                      DR',\n",
       " '14800    LASSEN                       ST',\n",
       " '400 W  50TH                         ST',\n",
       " '10100 S  SAN PEDRO                    ST',\n",
       " '19700    NORDHOFF                     PL',\n",
       " '4500    LONG BEACH                   AV',\n",
       " '22000    COVELLO                      ST',\n",
       " '200 N  PARK VIEW                    ST',\n",
       " 'SAN FELICIANO',\n",
       " '1200 W  81ST                         PL',\n",
       " '8000    HOLLYWOOD                    BL',\n",
       " '1000 S  LUCERNE                      BL',\n",
       " '5900    WILLOUGHBY                   AV',\n",
       " '6300 N  FIGUEROA                     ST',\n",
       " 'WHITTIER                     BL',\n",
       " '7800    CLEARFIELD                   AV',\n",
       " '2400 E  16TH                         ST',\n",
       " '3500    OVERLAND                     AV',\n",
       " '600 N  SYCAMORE                     AV',\n",
       " '1800    BUTLER                       AV',\n",
       " '6700    VESPER                       AV',\n",
       " '500    ISLAND                       AV',\n",
       " '500 W  10TH                         ST',\n",
       " '2500    BARRY                        AV',\n",
       " '19500    HARTLAND                     ST',\n",
       " '00    WASHINGTON                   BL',\n",
       " '7200    MCCOOL                       AV',\n",
       " '11800 S  PARK                         AV',\n",
       " '16800    BALBOA                       LN',\n",
       " '1600    LAGOON                       AV',\n",
       " '19100    HAMLIN                       ST',\n",
       " 'MICHIGAN                     AV',\n",
       " '400    LUCAS                        AV',\n",
       " '11400    VISTA DEL MAR',\n",
       " '7200    RUBIO                        AV',\n",
       " '9200    KINGLET                      DR',\n",
       " '4000    TIVOLI                       AV',\n",
       " '3000    7TH                          AV',\n",
       " '1700 S  CRESCENT                     AV',\n",
       " '19600    DICKENS                      ST',\n",
       " '7300    LASAINE                      AV',\n",
       " '10100    REMMET                       AV',\n",
       " '2300    HOLGATE                      SQ',\n",
       " 'ANZAC                        AV',\n",
       " '4800    PICKFORD                     ST',\n",
       " '1100    FLINT                        AV',\n",
       " 'ELMYRA                       ST',\n",
       " 'SAN FERNANDO                 BL',\n",
       " '14200 W  VENTURA                      BL',\n",
       " '400    HOWLAND CANAL                CT',\n",
       " '1300 W  ANAHEIM                      ST',\n",
       " '13200    VANOWEN                      ST',\n",
       " '6400    ORION                        AV',\n",
       " '10500    WOLDRICH                     ST',\n",
       " '4100    KNOBHILL                     DR',\n",
       " '20800    PARTHENIA                    ST',\n",
       " '3300    DESCANSO                     DR',\n",
       " '2200 E  ANAHEIM                      ST',\n",
       " '3500    DIVISION                     ST',\n",
       " '4700    FERNDALE                     ST',\n",
       " '8700    TELFAIR                      AV',\n",
       " '1700 W  35TH                         ST',\n",
       " '3400    DESCANSO                     DR',\n",
       " '5900    WHITSETT                     AV',\n",
       " '8600    BELFORD                      AV',\n",
       " '7800 W  SUNSET                       BL',\n",
       " '400 N  VENICE                       BL',\n",
       " '4100 W  AVENUE 42',\n",
       " '9900    EDMORE                       PL',\n",
       " '3600 W  54TH                         ST',\n",
       " '22800    LANARK                       ST',\n",
       " '1400 N  MAIN                         ST',\n",
       " '300 S  CITRUS                       AV',\n",
       " '1500 E  96TH                         ST',\n",
       " '500 W  103RD                        ST',\n",
       " '6600    AVALON                       BL',\n",
       " 'CANYON LAKE                  DR',\n",
       " '3800    GOLDWYN                      TR',\n",
       " '1000 E  COLON                        ST',\n",
       " '600    GIBBONS                      ST',\n",
       " 'LAKE HOLLYWOOD               DR',\n",
       " 'AVALON                       ST',\n",
       " '5400    6TH                          AV',\n",
       " '4200    CAMPBELL                     DR',\n",
       " '4200    LONGRIDGE                    AV',\n",
       " '4100 S  BROADWAY',\n",
       " 'CRESCENT HEIGHTS             BL',\n",
       " 'W  55TH                         ST',\n",
       " '16400    TUPPER                       ST',\n",
       " '3900 S  WILTON                       PL',\n",
       " '8700    LIBERATOR                    AV',\n",
       " '4600 S  GRAMERCY                     PL',\n",
       " '700    OCEAN FRONT                  WK',\n",
       " '11300    CALIFA                       ST',\n",
       " '10900    ARCHWOOD                     ST',\n",
       " '100 N  NORMANDIE                    AV',\n",
       " 'CENTINELA',\n",
       " '100 S  THURSTON                     AV',\n",
       " '100 W  99TH                         ST',\n",
       " '1000 N  BROADWAY',\n",
       " 'VERNON                       ST',\n",
       " '9800    WHITAKER                     AV',\n",
       " '7200    DE SOTO                      AV',\n",
       " '300    ISLAND                       AV',\n",
       " '3200    GLENN                        AV',\n",
       " '8600    ORCHARD                      AV',\n",
       " '1400 E  3RD                          ST',\n",
       " 'INDEPENDENCE',\n",
       " '5300    LA CRESTA                    CT',\n",
       " '9600    RESEDA                       BL',\n",
       " '1900    HOLLY                        DR',\n",
       " '800 W  MARTIN LUTHER KING JR        BL',\n",
       " '600 N  GAFFEY                       PL',\n",
       " '800 W  54TH                         ST',\n",
       " '19900    ARCHWOOD                     ST',\n",
       " '12100    MAGNOLIA                     BL',\n",
       " '900 W  60TH                         ST',\n",
       " '1400 E  98TH                         ST',\n",
       " '10800    CAMARILLO                    ST',\n",
       " '4400 W  58TH                         PL',\n",
       " '16300    PACIFIC COAST                HY',\n",
       " '8300    TYRONE                       AV',\n",
       " '7200    TYRONE                       AV',\n",
       " 'MARATHON',\n",
       " '5300    VINELAND                     AV',\n",
       " '11800    GATEWAY                      BL',\n",
       " '11400 S  FIGUEROA                     ST',\n",
       " '18800    LANARK                       ST',\n",
       " '4800    AVALON                       BL',\n",
       " '7800    HAYVENHURST                  AV',\n",
       " 'S  DENKER                       BL',\n",
       " '11500    DONA TERESA                  DR',\n",
       " '2100    PATRICTIA                    AV',\n",
       " '2700 W  AVENUE 34',\n",
       " '2600    MANHATTEN                    PL',\n",
       " '19300    CALIFA                       ST',\n",
       " '4200    INGLEWOOD                    BL',\n",
       " 'BECK                         AV',\n",
       " '600 S  CHICAGO                      ST',\n",
       " '600    BRITTANIA                    ST',\n",
       " '5200    ASCOT                        AV',\n",
       " '1400    RIO VISTA                    AV',\n",
       " 'SUMMITROSE                   ST',\n",
       " '1800 W  39TH                         ST',\n",
       " '4300    FARMDALE                     AV',\n",
       " '7000 S  LA CIENEGA                   BL',\n",
       " '5100 W  OLYMPIC                      BL',\n",
       " '6000    FARMDALE                     AV',\n",
       " '200 N  AVENUE 56',\n",
       " '14300    PINNEY                       ST',\n",
       " '4000    INGRAHAM                     ST',\n",
       " '800 E  88TH                         ST',\n",
       " '4800    GALENDO                      ST',\n",
       " '6100    PICKFORD                     ST',\n",
       " '700 W  SUMMERLAND                   AV',\n",
       " '800 S  CITRUS                       AV',\n",
       " '8600    BURNET                       AV',\n",
       " '100 E  AVENUE 35',\n",
       " '500 S  BREED                        ST',\n",
       " '1600 W  MICHAEL                      LN',\n",
       " '900 W  UPLAND                       AV',\n",
       " '600 W  41ST',\n",
       " '4600 S  VAN NESS                     AV',\n",
       " '1700    HAUSER                       BL',\n",
       " '1500 W  71ST                         ST',\n",
       " '700 W  17TH                         ST',\n",
       " '13700    CARL                         ST',\n",
       " '6100    LAUREL CANYON                BL',\n",
       " '2000    AVENUE OF THE STARS',\n",
       " '100 E  62ND                         ST',\n",
       " '1400    SELBY                        AV',\n",
       " '4400    CORLISS                      ST',\n",
       " ...}"
      ]
     },
     "execution_count": 77,
     "metadata": {},
     "output_type": "execute_result"
    }
   ],
   "source": [
    "new_categories"
   ]
  },
  {
   "cell_type": "code",
   "execution_count": 78,
   "id": "85e339d1",
   "metadata": {
    "execution": {
     "iopub.execute_input": "2024-08-09T16:54:23.279336Z",
     "iopub.status.busy": "2024-08-09T16:54:23.278925Z",
     "iopub.status.idle": "2024-08-09T16:54:23.286654Z",
     "shell.execute_reply": "2024-08-09T16:54:23.285437Z"
    },
    "papermill": {
     "duration": 0.082629,
     "end_time": "2024-08-09T16:54:23.289177",
     "exception": false,
     "start_time": "2024-08-09T16:54:23.206548",
     "status": "completed"
    },
    "tags": []
   },
   "outputs": [
    {
     "data": {
      "text/plain": [
       "((19987, 14), (5000, 14))"
      ]
     },
     "execution_count": 78,
     "metadata": {},
     "output_type": "execute_result"
    }
   ],
   "source": [
    "X_train.shape, X_test.shape"
   ]
  },
  {
   "cell_type": "code",
   "execution_count": 79,
   "id": "63b241d1",
   "metadata": {
    "execution": {
     "iopub.execute_input": "2024-08-09T16:54:23.435341Z",
     "iopub.status.busy": "2024-08-09T16:54:23.434944Z",
     "iopub.status.idle": "2024-08-09T16:54:23.655851Z",
     "shell.execute_reply": "2024-08-09T16:54:23.654817Z"
    },
    "papermill": {
     "duration": 0.296979,
     "end_time": "2024-08-09T16:54:23.658668",
     "exception": false,
     "start_time": "2024-08-09T16:54:23.361689",
     "status": "completed"
    },
    "tags": []
   },
   "outputs": [],
   "source": [
    "from sklearn.preprocessing import LabelEncoder, OrdinalEncoder\n",
    "\n",
    "'''label_cross_street  = LabelEncoder()\n",
    "X_train['Cross_Street'].fillna(\"missing\")\n",
    "X_test['Cross_Street'].fillna(\"missing\")\n",
    "label_cross_street  = LabelEncoder()\n",
    "X_train['Cross_Street'] = label_cross_street.fit_transform(X_train['Cross_Street'])\n",
    "X_test['Cross_Street'] = label_cross_street.transform(X_test['Cross_Street'])'''\n",
    "\n",
    "label_status  = LabelEncoder()\n",
    "X_train['Status'].fillna(\"missing\")\n",
    "X_test['Status'].fillna(\"missing\")\n",
    "\n",
    "X_train['Status'] = label_status.fit_transform(X_train['Status'])\n",
    "X_test['Status'] = label_status.transform(X_test['Status'])\n",
    "\n",
    "label_victim_descent  = LabelEncoder()\n",
    "X_train['Victim_Descent'].fillna(\"missing\")\n",
    "X_test['Victim_Descent'].fillna(\"missing\")\n",
    "X_train['Victim_Descent'] = label_victim_descent.fit_transform(X_train['Victim_Descent'])\n",
    "X_test['Victim_Descent'] = label_victim_descent.transform(X_test['Victim_Descent'])\n",
    "\n",
    "label_victim_sex  = LabelEncoder()\n",
    "X_train['Victim_Sex'].fillna(\"missing\")\n",
    "X_test['Victim_Sex'].fillna(\"missing\")\n",
    "X_train['Victim_Sex'] = label_status.fit_transform(X_train['Victim_Sex'])\n",
    "X_test['Victim_Sex'] = label_status.transform(X_test['Victim_Sex'])\n",
    "\n"
   ]
  },
  {
   "cell_type": "code",
   "execution_count": 80,
   "id": "319ea12b",
   "metadata": {
    "execution": {
     "iopub.execute_input": "2024-08-09T16:54:23.801852Z",
     "iopub.status.busy": "2024-08-09T16:54:23.801378Z",
     "iopub.status.idle": "2024-08-09T16:54:23.807117Z",
     "shell.execute_reply": "2024-08-09T16:54:23.805746Z"
    },
    "papermill": {
     "duration": 0.080927,
     "end_time": "2024-08-09T16:54:23.809934",
     "exception": false,
     "start_time": "2024-08-09T16:54:23.729007",
     "status": "completed"
    },
    "tags": []
   },
   "outputs": [],
   "source": [
    "# from sklearn.impute import SimpleImputer\n",
    "# value = 99999\n",
    "# # Specify the strategy as 'constant' and the fill_value as your desired static value\n",
    "# imputer = SimpleImputer(strategy='constant', fill_value=value)\n"
   ]
  },
  {
   "cell_type": "code",
   "execution_count": 81,
   "id": "c6780f08",
   "metadata": {
    "execution": {
     "iopub.execute_input": "2024-08-09T16:54:23.952961Z",
     "iopub.status.busy": "2024-08-09T16:54:23.952560Z",
     "iopub.status.idle": "2024-08-09T16:54:24.241006Z",
     "shell.execute_reply": "2024-08-09T16:54:24.239450Z"
    },
    "papermill": {
     "duration": 0.363646,
     "end_time": "2024-08-09T16:54:24.243794",
     "exception": false,
     "start_time": "2024-08-09T16:54:23.880148",
     "status": "completed"
    },
    "tags": []
   },
   "outputs": [],
   "source": [
    "from sklearn.impute import SimpleImputer\n",
    "imputer = SimpleImputer(strategy='mean')\n"
   ]
  },
  {
   "cell_type": "code",
   "execution_count": 82,
   "id": "81bcab6b",
   "metadata": {
    "execution": {
     "iopub.execute_input": "2024-08-09T16:54:24.392963Z",
     "iopub.status.busy": "2024-08-09T16:54:24.392571Z",
     "iopub.status.idle": "2024-08-09T16:54:24.552533Z",
     "shell.execute_reply": "2024-08-09T16:54:24.551470Z"
    },
    "papermill": {
     "duration": 0.236701,
     "end_time": "2024-08-09T16:54:24.555383",
     "exception": false,
     "start_time": "2024-08-09T16:54:24.318682",
     "status": "completed"
    },
    "tags": []
   },
   "outputs": [],
   "source": [
    "X_train = imputer.fit_transform(X_train)\n",
    "X_test = imputer.transform(X_test)"
   ]
  },
  {
   "cell_type": "markdown",
   "id": "3a5e52fc",
   "metadata": {
    "papermill": {
     "duration": 0.072138,
     "end_time": "2024-08-09T16:54:24.697217",
     "exception": false,
     "start_time": "2024-08-09T16:54:24.625079",
     "status": "completed"
    },
    "tags": []
   },
   "source": [
    "Using KNN imputer"
   ]
  },
  {
   "cell_type": "code",
   "execution_count": 83,
   "id": "34a441f5",
   "metadata": {
    "execution": {
     "iopub.execute_input": "2024-08-09T16:54:24.841939Z",
     "iopub.status.busy": "2024-08-09T16:54:24.841054Z",
     "iopub.status.idle": "2024-08-09T16:54:24.846997Z",
     "shell.execute_reply": "2024-08-09T16:54:24.845313Z"
    },
    "papermill": {
     "duration": 0.082649,
     "end_time": "2024-08-09T16:54:24.850956",
     "exception": false,
     "start_time": "2024-08-09T16:54:24.768307",
     "status": "completed"
    },
    "tags": []
   },
   "outputs": [],
   "source": [
    "# from sklearn.impute import SimpleImputer, KNNImputer\n",
    "# imputer = KNNImputer(n_neighbors=5)\n",
    "# X_train = imputer.fit_transform(X_train)\n",
    "# X_test = imputer.transform(X_test)\n"
   ]
  },
  {
   "cell_type": "code",
   "execution_count": 84,
   "id": "b8221d4c",
   "metadata": {
    "execution": {
     "iopub.execute_input": "2024-08-09T16:54:25.007736Z",
     "iopub.status.busy": "2024-08-09T16:54:25.007151Z",
     "iopub.status.idle": "2024-08-09T16:54:25.018458Z",
     "shell.execute_reply": "2024-08-09T16:54:25.017311Z"
    },
    "papermill": {
     "duration": 0.092815,
     "end_time": "2024-08-09T16:54:25.022550",
     "exception": false,
     "start_time": "2024-08-09T16:54:24.929735",
     "status": "completed"
    },
    "tags": []
   },
   "outputs": [
    {
     "name": "stdout",
     "output_type": "stream",
     "text": [
      "Crime_Category    int8\n",
      "dtype: object\n"
     ]
    },
    {
     "name": "stderr",
     "output_type": "stream",
     "text": [
      "/tmp/ipykernel_18/4014897255.py:2: SettingWithCopyWarning: \n",
      "A value is trying to be set on a copy of a slice from a DataFrame.\n",
      "Try using .loc[row_indexer,col_indexer] = value instead\n",
      "\n",
      "See the caveats in the documentation: https://pandas.pydata.org/pandas-docs/stable/user_guide/indexing.html#returning-a-view-versus-a-copy\n",
      "  Y_train['Crime_Category'] = Y_train['Crime_Category'].astype('category')\n",
      "/tmp/ipykernel_18/4014897255.py:4: SettingWithCopyWarning: \n",
      "A value is trying to be set on a copy of a slice from a DataFrame.\n",
      "Try using .loc[row_indexer,col_indexer] = value instead\n",
      "\n",
      "See the caveats in the documentation: https://pandas.pydata.org/pandas-docs/stable/user_guide/indexing.html#returning-a-view-versus-a-copy\n",
      "  Y_train['Crime_Category'] = Y_train['Crime_Category'].cat.codes\n"
     ]
    }
   ],
   "source": [
    "# Convert Crime_Category to category type\n",
    "Y_train['Crime_Category'] = Y_train['Crime_Category'].astype('category')\n",
    "# Encode the categorical column to numeric values\n",
    "Y_train['Crime_Category'] = Y_train['Crime_Category'].cat.codes\n",
    "print(Y_train.dtypes)"
   ]
  },
  {
   "cell_type": "code",
   "execution_count": 85,
   "id": "eac31941",
   "metadata": {
    "execution": {
     "iopub.execute_input": "2024-08-09T16:54:25.181176Z",
     "iopub.status.busy": "2024-08-09T16:54:25.180674Z",
     "iopub.status.idle": "2024-08-09T16:54:25.188320Z",
     "shell.execute_reply": "2024-08-09T16:54:25.187167Z"
    },
    "papermill": {
     "duration": 0.087771,
     "end_time": "2024-08-09T16:54:25.190974",
     "exception": false,
     "start_time": "2024-08-09T16:54:25.103203",
     "status": "completed"
    },
    "tags": []
   },
   "outputs": [
    {
     "data": {
      "text/plain": [
       "(5000, 14)"
      ]
     },
     "execution_count": 85,
     "metadata": {},
     "output_type": "execute_result"
    }
   ],
   "source": [
    "X_test.shape"
   ]
  },
  {
   "cell_type": "code",
   "execution_count": 86,
   "id": "f6f55401",
   "metadata": {
    "execution": {
     "iopub.execute_input": "2024-08-09T16:54:25.350176Z",
     "iopub.status.busy": "2024-08-09T16:54:25.348823Z",
     "iopub.status.idle": "2024-08-09T16:54:25.359050Z",
     "shell.execute_reply": "2024-08-09T16:54:25.357462Z"
    },
    "papermill": {
     "duration": 0.092704,
     "end_time": "2024-08-09T16:54:25.362714",
     "exception": false,
     "start_time": "2024-08-09T16:54:25.270010",
     "status": "completed"
    },
    "tags": []
   },
   "outputs": [
    {
     "data": {
      "text/plain": [
       "array([[ 3.40128000e+01, -1.18304500e+02,  2.00000000e+03, ...,\n",
       "         2.00000000e+00,  0.00000000e+00,  1.27295297e+17],\n",
       "       [ 3.40726000e+01, -1.18302900e+02,  1.70000000e+03, ...,\n",
       "         2.00000000e+00,  5.32800000e+04,  6.21080000e+04],\n",
       "       [ 3.39348000e+01, -1.18269500e+02,  9.00000000e+02, ...,\n",
       "         2.00000000e+00,  1.44000000e+03,  4.06207419e+14],\n",
       "       ...,\n",
       "       [ 3.42392000e+01, -1.18469800e+02,  2.10000000e+03, ...,\n",
       "         0.00000000e+00,  0.00000000e+00,  2.25401127e+08],\n",
       "       [ 3.40453000e+01, -1.18244300e+02,  2.33500000e+03, ...,\n",
       "         1.00000000e+00,  1.44000000e+03,  1.27000000e+02],\n",
       "       [ 3.39438000e+01, -1.18269500e+02,  3.20000000e+02, ...,\n",
       "         2.00000000e+00,  0.00000000e+00,  4.06490000e+04]])"
      ]
     },
     "execution_count": 86,
     "metadata": {},
     "output_type": "execute_result"
    }
   ],
   "source": [
    "X_test"
   ]
  },
  {
   "cell_type": "code",
   "execution_count": 87,
   "id": "8f758fc2",
   "metadata": {
    "execution": {
     "iopub.execute_input": "2024-08-09T16:54:25.514896Z",
     "iopub.status.busy": "2024-08-09T16:54:25.514373Z",
     "iopub.status.idle": "2024-08-09T16:54:25.523939Z",
     "shell.execute_reply": "2024-08-09T16:54:25.522633Z"
    },
    "papermill": {
     "duration": 0.087729,
     "end_time": "2024-08-09T16:54:25.526950",
     "exception": false,
     "start_time": "2024-08-09T16:54:25.439221",
     "status": "completed"
    },
    "tags": []
   },
   "outputs": [],
   "source": [
    "X_train = pd.DataFrame(X_train, columns = ['Latitude', 'Longitude', 'Time_Occurred', 'Area_ID',\n",
    "       'Reporting_District_no', 'Part 1-2', 'Victim_Age', 'Victim_Sex',\n",
    "       'Victim_Descent', 'Premise_Code', 'Weapon_Used_Code', 'Status','Encoded_Modus_Operandi',\n",
    "       'time_between_date_occured_and_reported'])\n",
    "X_test = pd.DataFrame(X_test, columns = ['Latitude', 'Longitude', 'Time_Occurred', 'Area_ID',\n",
    "       'Reporting_District_no', 'Part 1-2', 'Victim_Age', 'Victim_Sex',\n",
    "       'Victim_Descent', 'Premise_Code', 'Weapon_Used_Code', 'Status','Encoded_Modus_Operandi',\n",
    "       'time_between_date_occured_and_reported'])"
   ]
  },
  {
   "cell_type": "code",
   "execution_count": 88,
   "id": "8a28300e",
   "metadata": {
    "execution": {
     "iopub.execute_input": "2024-08-09T16:54:25.676209Z",
     "iopub.status.busy": "2024-08-09T16:54:25.675362Z",
     "iopub.status.idle": "2024-08-09T16:54:25.680748Z",
     "shell.execute_reply": "2024-08-09T16:54:25.679779Z"
    },
    "papermill": {
     "duration": 0.079668,
     "end_time": "2024-08-09T16:54:25.683194",
     "exception": false,
     "start_time": "2024-08-09T16:54:25.603526",
     "status": "completed"
    },
    "tags": []
   },
   "outputs": [],
   "source": [
    "numeric_cols = ['Latitude', 'Longitude', 'Time_Occurred', 'Area_ID',\n",
    "       'Reporting_District_no', 'Part 1-2', 'Victim_Age',\n",
    "        'Premise_Code', 'Weapon_Used_Code',\n",
    "       'time_between_date_occured_and_reported']"
   ]
  },
  {
   "cell_type": "code",
   "execution_count": 89,
   "id": "1bb8c065",
   "metadata": {
    "execution": {
     "iopub.execute_input": "2024-08-09T16:54:25.827933Z",
     "iopub.status.busy": "2024-08-09T16:54:25.827476Z",
     "iopub.status.idle": "2024-08-09T16:54:25.845486Z",
     "shell.execute_reply": "2024-08-09T16:54:25.844309Z"
    },
    "papermill": {
     "duration": 0.093394,
     "end_time": "2024-08-09T16:54:25.848911",
     "exception": false,
     "start_time": "2024-08-09T16:54:25.755517",
     "status": "completed"
    },
    "tags": []
   },
   "outputs": [],
   "source": [
    "from sklearn.preprocessing import MinMaxScaler\n",
    "scaler = MinMaxScaler()\n",
    "X_train[numeric_cols] = scaler.fit_transform(X_train[numeric_cols])\n",
    "X_test[numeric_cols] = scaler.transform(X_test[numeric_cols])"
   ]
  },
  {
   "cell_type": "code",
   "execution_count": 90,
   "id": "1aab0672",
   "metadata": {
    "execution": {
     "iopub.execute_input": "2024-08-09T16:54:26.002434Z",
     "iopub.status.busy": "2024-08-09T16:54:26.001455Z",
     "iopub.status.idle": "2024-08-09T16:54:26.009995Z",
     "shell.execute_reply": "2024-08-09T16:54:26.008290Z"
    },
    "papermill": {
     "duration": 0.086952,
     "end_time": "2024-08-09T16:54:26.012710",
     "exception": false,
     "start_time": "2024-08-09T16:54:25.925758",
     "status": "completed"
    },
    "tags": []
   },
   "outputs": [
    {
     "data": {
      "text/plain": [
       "((19987, 14), (19987, 1))"
      ]
     },
     "execution_count": 90,
     "metadata": {},
     "output_type": "execute_result"
    }
   ],
   "source": [
    "X_train.shape, Y_train.shape"
   ]
  },
  {
   "cell_type": "code",
   "execution_count": 91,
   "id": "46c1af6c",
   "metadata": {
    "execution": {
     "iopub.execute_input": "2024-08-09T16:54:26.167383Z",
     "iopub.status.busy": "2024-08-09T16:54:26.166345Z",
     "iopub.status.idle": "2024-08-09T16:54:26.176824Z",
     "shell.execute_reply": "2024-08-09T16:54:26.175685Z"
    },
    "papermill": {
     "duration": 0.091198,
     "end_time": "2024-08-09T16:54:26.179609",
     "exception": false,
     "start_time": "2024-08-09T16:54:26.088411",
     "status": "completed"
    },
    "tags": []
   },
   "outputs": [],
   "source": [
    "X_train = pd.DataFrame(X_train, columns = ['Latitude', 'Longitude', 'Time_Occurred', 'Area_ID',\n",
    "       'Reporting_District_no', 'Part 1-2', 'Victim_Age', 'Victim_Sex',\n",
    "       'Victim_Descent', 'Premise_Code', 'Weapon_Used_Code', 'Status',\n",
    "       'time_between_date_occured_and_reported'])\n",
    "X_test = pd.DataFrame(X_test, columns = ['Latitude', 'Longitude', 'Time_Occurred', 'Area_ID',\n",
    "       'Reporting_District_no', 'Part 1-2', 'Victim_Age', 'Victim_Sex',\n",
    "       'Victim_Descent', 'Premise_Code', 'Weapon_Used_Code', 'Status',\n",
    "       'time_between_date_occured_and_reported'])"
   ]
  },
  {
   "cell_type": "code",
   "execution_count": 92,
   "id": "5827cf14",
   "metadata": {
    "execution": {
     "iopub.execute_input": "2024-08-09T16:54:26.325863Z",
     "iopub.status.busy": "2024-08-09T16:54:26.325420Z",
     "iopub.status.idle": "2024-08-09T16:54:26.348380Z",
     "shell.execute_reply": "2024-08-09T16:54:26.347033Z"
    },
    "papermill": {
     "duration": 0.099606,
     "end_time": "2024-08-09T16:54:26.351356",
     "exception": false,
     "start_time": "2024-08-09T16:54:26.251750",
     "status": "completed"
    },
    "tags": []
   },
   "outputs": [
    {
     "data": {
      "text/html": [
       "<div>\n",
       "<style scoped>\n",
       "    .dataframe tbody tr th:only-of-type {\n",
       "        vertical-align: middle;\n",
       "    }\n",
       "\n",
       "    .dataframe tbody tr th {\n",
       "        vertical-align: top;\n",
       "    }\n",
       "\n",
       "    .dataframe thead th {\n",
       "        text-align: right;\n",
       "    }\n",
       "</style>\n",
       "<table border=\"1\" class=\"dataframe\">\n",
       "  <thead>\n",
       "    <tr style=\"text-align: right;\">\n",
       "      <th></th>\n",
       "      <th>Latitude</th>\n",
       "      <th>Longitude</th>\n",
       "      <th>Time_Occurred</th>\n",
       "      <th>Area_ID</th>\n",
       "      <th>Reporting_District_no</th>\n",
       "      <th>Part 1-2</th>\n",
       "      <th>Victim_Age</th>\n",
       "      <th>Victim_Sex</th>\n",
       "      <th>Victim_Descent</th>\n",
       "      <th>Premise_Code</th>\n",
       "      <th>Weapon_Used_Code</th>\n",
       "      <th>Status</th>\n",
       "      <th>time_between_date_occured_and_reported</th>\n",
       "    </tr>\n",
       "  </thead>\n",
       "  <tbody>\n",
       "    <tr>\n",
       "      <th>0</th>\n",
       "      <td>0.994876</td>\n",
       "      <td>0.002296</td>\n",
       "      <td>0.762935</td>\n",
       "      <td>0.70</td>\n",
       "      <td>0.697519</td>\n",
       "      <td>0.0</td>\n",
       "      <td>0.785714</td>\n",
       "      <td>2.0</td>\n",
       "      <td>14.0</td>\n",
       "      <td>0.000000</td>\n",
       "      <td>0.641103</td>\n",
       "      <td>2.0</td>\n",
       "      <td>2.159877e-28</td>\n",
       "    </tr>\n",
       "    <tr>\n",
       "      <th>1</th>\n",
       "      <td>0.990524</td>\n",
       "      <td>0.003576</td>\n",
       "      <td>0.569975</td>\n",
       "      <td>0.60</td>\n",
       "      <td>0.604008</td>\n",
       "      <td>0.0</td>\n",
       "      <td>0.438776</td>\n",
       "      <td>2.0</td>\n",
       "      <td>6.0</td>\n",
       "      <td>0.132488</td>\n",
       "      <td>0.722222</td>\n",
       "      <td>2.0</td>\n",
       "      <td>4.793154e-10</td>\n",
       "    </tr>\n",
       "    <tr>\n",
       "      <th>2</th>\n",
       "      <td>0.990766</td>\n",
       "      <td>0.003355</td>\n",
       "      <td>0.256149</td>\n",
       "      <td>0.60</td>\n",
       "      <td>0.592557</td>\n",
       "      <td>1.0</td>\n",
       "      <td>0.704082</td>\n",
       "      <td>2.0</td>\n",
       "      <td>1.0</td>\n",
       "      <td>0.460829</td>\n",
       "      <td>0.641103</td>\n",
       "      <td>2.0</td>\n",
       "      <td>1.074790e-25</td>\n",
       "    </tr>\n",
       "    <tr>\n",
       "      <th>3</th>\n",
       "      <td>0.999045</td>\n",
       "      <td>0.001723</td>\n",
       "      <td>0.762935</td>\n",
       "      <td>0.90</td>\n",
       "      <td>0.869752</td>\n",
       "      <td>0.0</td>\n",
       "      <td>0.642857</td>\n",
       "      <td>2.0</td>\n",
       "      <td>6.0</td>\n",
       "      <td>0.000000</td>\n",
       "      <td>0.641103</td>\n",
       "      <td>2.0</td>\n",
       "      <td>1.076099e-25</td>\n",
       "    </tr>\n",
       "    <tr>\n",
       "      <th>4</th>\n",
       "      <td>0.989822</td>\n",
       "      <td>0.003132</td>\n",
       "      <td>0.478796</td>\n",
       "      <td>0.55</td>\n",
       "      <td>0.545802</td>\n",
       "      <td>0.0</td>\n",
       "      <td>0.020408</td>\n",
       "      <td>3.0</td>\n",
       "      <td>15.0</td>\n",
       "      <td>0.345622</td>\n",
       "      <td>0.722222</td>\n",
       "      <td>2.0</td>\n",
       "      <td>2.776149e-14</td>\n",
       "    </tr>\n",
       "  </tbody>\n",
       "</table>\n",
       "</div>"
      ],
      "text/plain": [
       "   Latitude  Longitude  Time_Occurred  Area_ID  Reporting_District_no  \\\n",
       "0  0.994876   0.002296       0.762935     0.70               0.697519   \n",
       "1  0.990524   0.003576       0.569975     0.60               0.604008   \n",
       "2  0.990766   0.003355       0.256149     0.60               0.592557   \n",
       "3  0.999045   0.001723       0.762935     0.90               0.869752   \n",
       "4  0.989822   0.003132       0.478796     0.55               0.545802   \n",
       "\n",
       "   Part 1-2  Victim_Age  Victim_Sex  Victim_Descent  Premise_Code  \\\n",
       "0       0.0    0.785714         2.0            14.0      0.000000   \n",
       "1       0.0    0.438776         2.0             6.0      0.132488   \n",
       "2       1.0    0.704082         2.0             1.0      0.460829   \n",
       "3       0.0    0.642857         2.0             6.0      0.000000   \n",
       "4       0.0    0.020408         3.0            15.0      0.345622   \n",
       "\n",
       "   Weapon_Used_Code  Status  time_between_date_occured_and_reported  \n",
       "0          0.641103     2.0                            2.159877e-28  \n",
       "1          0.722222     2.0                            4.793154e-10  \n",
       "2          0.641103     2.0                            1.074790e-25  \n",
       "3          0.641103     2.0                            1.076099e-25  \n",
       "4          0.722222     2.0                            2.776149e-14  "
      ]
     },
     "execution_count": 92,
     "metadata": {},
     "output_type": "execute_result"
    }
   ],
   "source": [
    "X_train.head()"
   ]
  },
  {
   "cell_type": "markdown",
   "id": "4c34f7ba",
   "metadata": {
    "papermill": {
     "duration": 0.080035,
     "end_time": "2024-08-09T16:54:26.505911",
     "exception": false,
     "start_time": "2024-08-09T16:54:26.425876",
     "status": "completed"
    },
    "tags": []
   },
   "source": [
    "-----------------------------------------------------------------------------------------------------------------------------------------"
   ]
  },
  {
   "cell_type": "markdown",
   "id": "5732672f",
   "metadata": {
    "papermill": {
     "duration": 0.071617,
     "end_time": "2024-08-09T16:54:26.680689",
     "exception": false,
     "start_time": "2024-08-09T16:54:26.609072",
     "status": "completed"
    },
    "tags": []
   },
   "source": [
    "Creating DataPreperation"
   ]
  },
  {
   "cell_type": "code",
   "execution_count": 93,
   "id": "cf0853e6",
   "metadata": {
    "execution": {
     "iopub.execute_input": "2024-08-09T16:54:26.827860Z",
     "iopub.status.busy": "2024-08-09T16:54:26.827441Z",
     "iopub.status.idle": "2024-08-09T16:54:26.834701Z",
     "shell.execute_reply": "2024-08-09T16:54:26.833637Z"
    },
    "papermill": {
     "duration": 0.08393,
     "end_time": "2024-08-09T16:54:26.837140",
     "exception": false,
     "start_time": "2024-08-09T16:54:26.753210",
     "status": "completed"
    },
    "tags": []
   },
   "outputs": [
    {
     "data": {
      "text/plain": [
       "((19987, 13), (19987, 1))"
      ]
     },
     "execution_count": 93,
     "metadata": {},
     "output_type": "execute_result"
    }
   ],
   "source": [
    "X_train.shape, Y_train.shape"
   ]
  },
  {
   "cell_type": "code",
   "execution_count": 94,
   "id": "371dabe9",
   "metadata": {
    "execution": {
     "iopub.execute_input": "2024-08-09T16:54:26.983309Z",
     "iopub.status.busy": "2024-08-09T16:54:26.982855Z",
     "iopub.status.idle": "2024-08-09T16:54:27.008618Z",
     "shell.execute_reply": "2024-08-09T16:54:27.007229Z"
    },
    "papermill": {
     "duration": 0.102696,
     "end_time": "2024-08-09T16:54:27.011514",
     "exception": false,
     "start_time": "2024-08-09T16:54:26.908818",
     "status": "completed"
    },
    "tags": []
   },
   "outputs": [
    {
     "data": {
      "text/html": [
       "<div>\n",
       "<style scoped>\n",
       "    .dataframe tbody tr th:only-of-type {\n",
       "        vertical-align: middle;\n",
       "    }\n",
       "\n",
       "    .dataframe tbody tr th {\n",
       "        vertical-align: top;\n",
       "    }\n",
       "\n",
       "    .dataframe thead th {\n",
       "        text-align: right;\n",
       "    }\n",
       "</style>\n",
       "<table border=\"1\" class=\"dataframe\">\n",
       "  <thead>\n",
       "    <tr style=\"text-align: right;\">\n",
       "      <th></th>\n",
       "      <th>Latitude</th>\n",
       "      <th>Longitude</th>\n",
       "      <th>Time_Occurred</th>\n",
       "      <th>Area_ID</th>\n",
       "      <th>Reporting_District_no</th>\n",
       "      <th>Part 1-2</th>\n",
       "      <th>Victim_Age</th>\n",
       "      <th>Victim_Sex</th>\n",
       "      <th>Victim_Descent</th>\n",
       "      <th>Premise_Code</th>\n",
       "      <th>Weapon_Used_Code</th>\n",
       "      <th>Status</th>\n",
       "      <th>time_between_date_occured_and_reported</th>\n",
       "    </tr>\n",
       "  </thead>\n",
       "  <tbody>\n",
       "    <tr>\n",
       "      <th>0</th>\n",
       "      <td>0.994876</td>\n",
       "      <td>0.002296</td>\n",
       "      <td>0.762935</td>\n",
       "      <td>0.7</td>\n",
       "      <td>0.697519</td>\n",
       "      <td>0.0</td>\n",
       "      <td>0.785714</td>\n",
       "      <td>2.0</td>\n",
       "      <td>14.0</td>\n",
       "      <td>0.000000</td>\n",
       "      <td>0.641103</td>\n",
       "      <td>2.0</td>\n",
       "      <td>2.159877e-28</td>\n",
       "    </tr>\n",
       "    <tr>\n",
       "      <th>1</th>\n",
       "      <td>0.990524</td>\n",
       "      <td>0.003576</td>\n",
       "      <td>0.569975</td>\n",
       "      <td>0.6</td>\n",
       "      <td>0.604008</td>\n",
       "      <td>0.0</td>\n",
       "      <td>0.438776</td>\n",
       "      <td>2.0</td>\n",
       "      <td>6.0</td>\n",
       "      <td>0.132488</td>\n",
       "      <td>0.722222</td>\n",
       "      <td>2.0</td>\n",
       "      <td>4.793154e-10</td>\n",
       "    </tr>\n",
       "    <tr>\n",
       "      <th>2</th>\n",
       "      <td>0.990766</td>\n",
       "      <td>0.003355</td>\n",
       "      <td>0.256149</td>\n",
       "      <td>0.6</td>\n",
       "      <td>0.592557</td>\n",
       "      <td>1.0</td>\n",
       "      <td>0.704082</td>\n",
       "      <td>2.0</td>\n",
       "      <td>1.0</td>\n",
       "      <td>0.460829</td>\n",
       "      <td>0.641103</td>\n",
       "      <td>2.0</td>\n",
       "      <td>1.074790e-25</td>\n",
       "    </tr>\n",
       "  </tbody>\n",
       "</table>\n",
       "</div>"
      ],
      "text/plain": [
       "   Latitude  Longitude  Time_Occurred  Area_ID  Reporting_District_no  \\\n",
       "0  0.994876   0.002296       0.762935      0.7               0.697519   \n",
       "1  0.990524   0.003576       0.569975      0.6               0.604008   \n",
       "2  0.990766   0.003355       0.256149      0.6               0.592557   \n",
       "\n",
       "   Part 1-2  Victim_Age  Victim_Sex  Victim_Descent  Premise_Code  \\\n",
       "0       0.0    0.785714         2.0            14.0      0.000000   \n",
       "1       0.0    0.438776         2.0             6.0      0.132488   \n",
       "2       1.0    0.704082         2.0             1.0      0.460829   \n",
       "\n",
       "   Weapon_Used_Code  Status  time_between_date_occured_and_reported  \n",
       "0          0.641103     2.0                            2.159877e-28  \n",
       "1          0.722222     2.0                            4.793154e-10  \n",
       "2          0.641103     2.0                            1.074790e-25  "
      ]
     },
     "execution_count": 94,
     "metadata": {},
     "output_type": "execute_result"
    }
   ],
   "source": [
    "X_train.head(3)"
   ]
  },
  {
   "cell_type": "code",
   "execution_count": 95,
   "id": "981e20c6",
   "metadata": {
    "execution": {
     "iopub.execute_input": "2024-08-09T16:54:27.172602Z",
     "iopub.status.busy": "2024-08-09T16:54:27.172174Z",
     "iopub.status.idle": "2024-08-09T16:54:27.180167Z",
     "shell.execute_reply": "2024-08-09T16:54:27.179048Z"
    },
    "papermill": {
     "duration": 0.098837,
     "end_time": "2024-08-09T16:54:27.182718",
     "exception": false,
     "start_time": "2024-08-09T16:54:27.083881",
     "status": "completed"
    },
    "tags": []
   },
   "outputs": [
    {
     "data": {
      "text/plain": [
       "['__notebook__.ipynb', 'modus_operandi_mapping.json']"
      ]
     },
     "execution_count": 95,
     "metadata": {},
     "output_type": "execute_result"
    }
   ],
   "source": [
    "import os\n",
    "os.listdir() #prints the output directory"
   ]
  },
  {
   "cell_type": "code",
   "execution_count": 96,
   "id": "21f85fd8",
   "metadata": {
    "execution": {
     "iopub.execute_input": "2024-08-09T16:54:27.336879Z",
     "iopub.status.busy": "2024-08-09T16:54:27.336478Z",
     "iopub.status.idle": "2024-08-09T16:54:28.301200Z",
     "shell.execute_reply": "2024-08-09T16:54:28.299717Z"
    },
    "papermill": {
     "duration": 1.045937,
     "end_time": "2024-08-09T16:54:28.305153",
     "exception": false,
     "start_time": "2024-08-09T16:54:27.259216",
     "status": "completed"
    },
    "tags": []
   },
   "outputs": [
    {
     "name": "stdout",
     "output_type": "stream",
     "text": [
      "Columns in train: ['Location', 'Cross_Street', 'Latitude', 'Longitude', 'Date_Reported', 'Date_Occurred', 'Time_Occurred', 'Area_ID', 'Area_Name', 'Reporting_District_no', 'Part 1-2', 'Modus_Operandi', 'Victim_Age', 'Victim_Sex', 'Victim_Descent', 'Premise_Code', 'Premise_Description', 'Weapon_Used_Code', 'Weapon_Description', 'Status', 'Status_Description', 'Crime_Category']\n",
      "Estimator - Victim_Descent_est - saved successfully\n",
      "Estimator - Status_est - saved successfully\n",
      "Estimator - Victim_Sex_est - saved successfully\n",
      "Index(['Location', 'Cross_Street', 'Latitude', 'Longitude', 'Date_Reported',\n",
      "       'Date_Occurred', 'Time_Occurred', 'Area_ID', 'Area_Name',\n",
      "       'Reporting_District_no', 'Part 1-2', 'Modus_Operandi', 'Victim_Age',\n",
      "       'Victim_Sex', 'Victim_Descent', 'Premise_Code', 'Premise_Description',\n",
      "       'Weapon_Used_Code', 'Weapon_Description', 'Status',\n",
      "       'Status_Description'],\n",
      "      dtype='object')\n"
     ]
    },
    {
     "name": "stderr",
     "output_type": "stream",
     "text": [
      "/tmp/ipykernel_18/3378112972.py:118: UserWarning: Could not infer format, so each element will be parsed individually, falling back to `dateutil`. To ensure parsing is consistent and as-expected, please specify a format.\n",
      "  self.train_split['Date_Reported'] = pd.to_datetime(self.train_split['Date_Reported'])\n",
      "/tmp/ipykernel_18/3378112972.py:119: UserWarning: Could not infer format, so each element will be parsed individually, falling back to `dateutil`. To ensure parsing is consistent and as-expected, please specify a format.\n",
      "  self.train_split['Date_Occurred'] = pd.to_datetime(self.train_split['Date_Occurred'])\n",
      "/tmp/ipykernel_18/3378112972.py:123: UserWarning: Could not infer format, so each element will be parsed individually, falling back to `dateutil`. To ensure parsing is consistent and as-expected, please specify a format.\n",
      "  self.val_split['Date_Reported'] = pd.to_datetime(self.val_split['Date_Reported'])\n",
      "/tmp/ipykernel_18/3378112972.py:124: UserWarning: Could not infer format, so each element will be parsed individually, falling back to `dateutil`. To ensure parsing is consistent and as-expected, please specify a format.\n",
      "  self.val_split['Date_Occurred'] = pd.to_datetime(self.val_split['Date_Occurred'])\n"
     ]
    },
    {
     "name": "stdout",
     "output_type": "stream",
     "text": [
      "Index(['Location', 'Cross_Street', 'Latitude', 'Longitude', 'Date_Reported',\n",
      "       'Date_Occurred', 'Time_Occurred', 'Area_ID', 'Area_Name',\n",
      "       'Reporting_District_no', 'Part 1-2', 'Modus_Operandi', 'Victim_Age',\n",
      "       'Victim_Sex', 'Victim_Descent', 'Premise_Code', 'Premise_Description',\n",
      "       'Weapon_Used_Code', 'Weapon_Description', 'Status',\n",
      "       'Status_Description', 'time_between_date_occured_and_reported'],\n",
      "      dtype='object')\n",
      "Code mapping created and saved.\n",
      "Modus Operandi encoding complete.\n",
      "Index(['Location', 'Cross_Street', 'Latitude', 'Longitude', 'Date_Reported',\n",
      "       'Date_Occurred', 'Time_Occurred', 'Area_ID', 'Area_Name',\n",
      "       'Reporting_District_no', 'Part 1-2', 'Modus_Operandi', 'Victim_Age',\n",
      "       'Victim_Sex', 'Victim_Descent', 'Premise_Code', 'Premise_Description',\n",
      "       'Weapon_Used_Code', 'Weapon_Description', 'Status',\n",
      "       'Status_Description', 'time_between_date_occured_and_reported',\n",
      "       'Encoded_Modus_Operandi'],\n",
      "      dtype='object')\n",
      "Index(['Latitude', 'Longitude', 'Time_Occurred', 'Area_ID',\n",
      "       'Reporting_District_no', 'Part 1-2', 'Victim_Age', 'Victim_Sex',\n",
      "       'Victim_Descent', 'Premise_Code', 'Weapon_Used_Code', 'Status',\n",
      "       'time_between_date_occured_and_reported', 'Encoded_Modus_Operandi'],\n",
      "      dtype='object')\n",
      "Index(['Latitude', 'Longitude', 'Time_Occurred', 'Area_ID',\n",
      "       'Reporting_District_no', 'Part 1-2', 'Victim_Age', 'Victim_Sex',\n",
      "       'Victim_Descent', 'Premise_Code', 'Weapon_Used_Code', 'Status',\n",
      "       'time_between_date_occured_and_reported', 'Encoded_Modus_Operandi'],\n",
      "      dtype='object')\n",
      "Estimator - imputer_est - saved successfully\n",
      "Estimator - Latitude_scaler_est - saved successfully\n",
      "Estimator - Longitude_scaler_est - saved successfully\n",
      "Estimator - Time_Occurred_scaler_est - saved successfully\n",
      "Estimator - Area_ID_scaler_est - saved successfully\n",
      "Estimator - Reporting_District_no_scaler_est - saved successfully\n",
      "Estimator - Part 1-2_scaler_est - saved successfully\n",
      "Estimator - Victim_Age_scaler_est - saved successfully\n",
      "Estimator - Premise_Code_scaler_est - saved successfully\n",
      "Estimator - Weapon_Used_Code_scaler_est - saved successfully\n",
      "Estimator - time_between_date_occured_and_reported_scaler_est - saved successfully\n"
     ]
    },
    {
     "name": "stderr",
     "output_type": "stream",
     "text": [
      "/tmp/ipykernel_18/3378112972.py:182: FutureWarning: Downcasting behavior in `replace` is deprecated and will be removed in a future version. To retain the old behavior, explicitly call `result.infer_objects(copy=False)`. To opt-in to the future behavior, set `pd.set_option('future.no_silent_downcasting', True)`\n",
      "  self.train_labels['Crime_Category'] = self.train_labels['Crime_Category'].replace(replacement_dict)\n",
      "/tmp/ipykernel_18/3378112972.py:183: FutureWarning: Downcasting behavior in `replace` is deprecated and will be removed in a future version. To retain the old behavior, explicitly call `result.infer_objects(copy=False)`. To opt-in to the future behavior, set `pd.set_option('future.no_silent_downcasting', True)`\n",
      "  self.val_labels['Crime_Category'] = self.val_labels['Crime_Category'].replace(replacement_dict)\n"
     ]
    }
   ],
   "source": [
    "import os\n",
    "import json\n",
    "import pickle\n",
    "import pandas as pd\n",
    "import re\n",
    "import numpy as np\n",
    "from scipy import stats\n",
    "from sklearn.impute import SimpleImputer\n",
    "from sklearn.model_selection import train_test_split\n",
    "from sklearn.preprocessing import MinMaxScaler\n",
    "from sklearn.preprocessing import LabelEncoder\n",
    "\n",
    "\n",
    "class DataPrep:\n",
    "    def __init__(self, X, y, modelartifacts_path, test_size=0.2):\n",
    "        \"\"\"\n",
    "        Splits data into training and validation sets.\n",
    "\n",
    "        Args:\n",
    "            X: Features.\n",
    "            y: Target variable.\n",
    "            modelartifacts_path: Path to save model artifacts.\n",
    "            test_size: Proportion of data for the validation set (default: 0.2).\n",
    "        \"\"\"\n",
    "        X_train, X_val, y_train, y_val = train_test_split(\n",
    "            X, y, test_size=test_size, random_state=42\n",
    "        )\n",
    "        self.train_split = X_train\n",
    "        self.val_split = X_val\n",
    "        self.train_labels = y_train\n",
    "        self.val_labels = y_val\n",
    "        self.modelartifacts_path = modelartifacts_path\n",
    "        self.dir_path = f\"{self.modelartifacts_path}/\"\n",
    "        os.makedirs(self.dir_path, exist_ok=True)\n",
    "        \n",
    "    def save_object(self, feature, est):\n",
    "        \"\"\"\n",
    "        Save the estimator object to a file.\n",
    "\n",
    "        Parameters:\n",
    "        - self: The instance of the class.\n",
    "        - feature (str): The name of the feature or model.\n",
    "        - est: The estimator object to be saved. It can be either a dictionary\n",
    "               (if `estimator` is of type dict) or an object supported by pickle.\n",
    "\n",
    "        Returns:\n",
    "        - None\n",
    "        \"\"\"\n",
    "\n",
    "        # Check if directory exists, create it if not\n",
    "        if not os.path.exists(self.dir_path):\n",
    "            os.makedirs(self.dir_path)\n",
    "\n",
    "        # Save based on type\n",
    "        if isinstance(est, dict):\n",
    "            with open(f\"{self.dir_path}/{feature}_est.json\", \"w\") as f:\n",
    "                json.dump(est, f)\n",
    "        else:\n",
    "            with open(f\"{self.dir_path}/{feature}_est.pkl\", \"wb\") as f:\n",
    "                pickle.dump(est, f)\n",
    "\n",
    "        # No exception handling, assumes successful save\n",
    "        print(f\"Estimator - {feature}_est - saved successfully\")\n",
    "        \n",
    "    def label_encode(self):\n",
    "        features = ['Victim_Descent', 'Status', 'Victim_Sex']\n",
    "        for feature in features:\n",
    "            label_encoder = LabelEncoder()\n",
    "            new_categories = set(self.val_split[feature].unique()) - set(self.train_split[feature].unique())\n",
    "            if new_categories:\n",
    "                self.val_split[feature] = self.val_split[feature].replace(to_replace=new_categories, value=np.nan)\n",
    "\n",
    "            self.train_split[feature] = self.train_split[feature].fillna(\"missing\")\n",
    "            self.val_split[feature] = self.val_split[feature].fillna(\"missing\")\n",
    "\n",
    "            self.train_split[feature] = label_encoder.fit_transform(self.train_split[feature])\n",
    "            self.val_split[feature] = label_encoder.transform(self.val_split[feature])\n",
    "            self.save_object(feature, label_encoder)\n",
    "\n",
    "                    \n",
    "    def imputation(self,):\n",
    "        imputer = SimpleImputer(strategy='mean')\n",
    "        self.train_split = imputer.fit_transform(self.train_split)\n",
    "        self.val_split = imputer.transform(self.val_split)\n",
    "        self.save_object(f\"imputer\", imputer)\n",
    "        \n",
    "    \n",
    "    def scaling(self,):\n",
    "        scaler = MinMaxScaler()\n",
    "\n",
    "        # Recreate DataFrames to ensure correct structure after imputation\n",
    "        self.train_split = pd.DataFrame(self.train_split, columns=['Latitude', 'Longitude', 'Time_Occurred', 'Area_ID',\n",
    "        'Reporting_District_no', 'Part 1-2', 'Victim_Age', 'Victim_Sex',\n",
    "        'Victim_Descent', 'Premise_Code', 'Weapon_Used_Code', 'Status',\n",
    "        'time_between_date_occured_and_reported', 'Encoded_Modus_Operandi'])\n",
    "        self.val_split = pd.DataFrame(self.val_split, columns=['Latitude', 'Longitude', 'Time_Occurred', 'Area_ID',\n",
    "        'Reporting_District_no', 'Part 1-2', 'Victim_Age', 'Victim_Sex',\n",
    "        'Victim_Descent', 'Premise_Code', 'Weapon_Used_Code', 'Status',\n",
    "        'time_between_date_occured_and_reported', 'Encoded_Modus_Operandi'])\n",
    "\n",
    "        # Columns for scaling\n",
    "        numeric_cols = ['Latitude', 'Longitude', 'Time_Occurred', 'Area_ID',\n",
    "        'Reporting_District_no', 'Part 1-2', 'Victim_Age',\n",
    "            'Premise_Code', 'Weapon_Used_Code',\n",
    "        'time_between_date_occured_and_reported']\n",
    "\n",
    "        for col in numeric_cols:\n",
    "            # Reshape the data to 2D before transforming\n",
    "            self.train_split[col] = scaler.fit_transform(self.train_split[[col]])\n",
    "            self.val_split[col] = scaler.transform(self.val_split[[col]])\n",
    "\n",
    "            self.save_object(f\"{col}_scaler\", scaler)\n",
    "\n",
    "        \n",
    "    \n",
    "    def feature_generation(self):\n",
    "        #generating new features\n",
    "        self.train_split['Date_Reported'] = pd.to_datetime(self.train_split['Date_Reported'])\n",
    "        self.train_split['Date_Occurred'] = pd.to_datetime(self.train_split['Date_Occurred'])\n",
    "        self.train_split['time_between_date_occured_and_reported'] = (self.train_split['Date_Reported'] - self.train_split['Date_Occurred']) / pd.Timedelta(minutes=1)\n",
    "        self.train_split['time_between_date_occured_and_reported'] = self.train_split['time_between_date_occured_and_reported'].abs().astype(int)\n",
    "\n",
    "        self.val_split['Date_Reported'] = pd.to_datetime(self.val_split['Date_Reported'])\n",
    "        self.val_split['Date_Occurred'] = pd.to_datetime(self.val_split['Date_Occurred'])\n",
    "        self.val_split['time_between_date_occured_and_reported'] = (self.val_split['Date_Reported'] - self.val_split['Date_Occurred']) / pd.Timedelta(minutes=1)\n",
    "        self.val_split['time_between_date_occured_and_reported'] = self.val_split['time_between_date_occured_and_reported'].abs().astype(int)\n",
    "        \n",
    "    def encode_modus_operandi(self, is_training=True, mapping_file='modus_operandi_mapping.json'):\n",
    "        def encode_mo(mo_string, mapping):\n",
    "            if pd.isna(mo_string) or mo_string == '':\n",
    "                return '0'\n",
    "\n",
    "            if not isinstance(mo_string, str):\n",
    "                mo_string = str(mo_string)\n",
    "\n",
    "            codes = re.findall(r'\\d+', mo_string)\n",
    "            encoded = [mapping.get(code, '0') for code in codes]\n",
    "            return ''.join(encoded) if encoded else '0'\n",
    "\n",
    "        # Replace NaN with '0'\n",
    "        self.train_split['Modus_Operandi'] = self.train_split['Modus_Operandi'].fillna('0')\n",
    "        if not is_training:\n",
    "            self.val_split['Modus_Operandi'] = self.val_split['Modus_Operandi'].fillna('0')\n",
    "\n",
    "        if is_training:\n",
    "            # Extract unique codes and create a mapping\n",
    "            unique_codes = set()\n",
    "            for item in self.train_split['Modus_Operandi']:\n",
    "                if isinstance(item, str):\n",
    "                    codes = re.findall(r'\\d+', item)\n",
    "                    unique_codes.update(codes)\n",
    "\n",
    "            code_mapping = {code: str(i+1) for i, code in enumerate(sorted(unique_codes))}\n",
    "\n",
    "            # Save the mapping\n",
    "            with open(f\"{self.dir_path}/{mapping_file}\", 'w') as f:\n",
    "                json.dump(code_mapping, f)\n",
    "\n",
    "            print(\"Code mapping created and saved.\")\n",
    "        else:\n",
    "            # Load the mapping\n",
    "            with open(f\"{self.dir_path}/{mapping_file}\", 'r') as f:\n",
    "                code_mapping = json.load(f)\n",
    "\n",
    "        # Apply encoding\n",
    "        self.train_split['Encoded_Modus_Operandi'] = self.train_split['Modus_Operandi'].apply(lambda x: encode_mo(x, code_mapping))\n",
    "#         if not is_training:\n",
    "#             self.val_split['Encoded_Modus_Operandi'] = self.val_split['Modus_Operandi'].apply(lambda x: encode_mo(x, code_mapping))\n",
    "        self.val_split['Encoded_Modus_Operandi'] = self.val_split['Modus_Operandi'].apply(lambda x: encode_mo(x, code_mapping))\n",
    "\n",
    "        print(\"Modus Operandi encoding complete.\")\n",
    "        \n",
    "    def output_mapping(self):\n",
    "        \n",
    "        replacement_dict = {'Property Crimes': 0,\n",
    "                      'Violent Crimes': 1,\n",
    "                      'Crimes against Public Order': 2,\n",
    "                      'Fraud and White-Collar Crimes': 3,\n",
    "                      'Crimes against Persons': 4,\n",
    "                      'Other Crimes': 5}\n",
    "\n",
    "        self.train_labels['Crime_Category'] = self.train_labels['Crime_Category'].replace(replacement_dict)\n",
    "        self.val_labels['Crime_Category'] = self.val_labels['Crime_Category'].replace(replacement_dict)\n",
    "\n",
    "\n",
    "    \n",
    "    def drop_columns(self,):\n",
    "        self.train_split.drop(['Location', 'Date_Reported',\n",
    "       'Date_Occurred', 'Area_Name',\n",
    "       'Modus_Operandi',\n",
    "        'Premise_Description',\n",
    "       'Weapon_Description', 'Status_Description','Cross_Street'],axis=1, inplace=True)\n",
    "        self.val_split.drop(['Location', 'Date_Reported',\n",
    "       'Date_Occurred', 'Area_Name',\n",
    "       'Modus_Operandi',\n",
    "        'Premise_Description',\n",
    "       'Weapon_Description', 'Status_Description','Cross_Street'],axis=1, inplace=True)\n",
    "    \n",
    "    def process(self,):\n",
    "        self.label_encode()\n",
    "        print(self.train_split.columns)\n",
    "        self.feature_generation()\n",
    "        print(self.train_split.columns)\n",
    "        self.encode_modus_operandi()\n",
    "        print(self.train_split.columns)\n",
    "        self.drop_columns()\n",
    "        print(self.train_split.columns)\n",
    "        print(self.val_split.columns)\n",
    "        self.imputation()\n",
    "        self.scaling()\n",
    "        self.output_mapping()\n",
    "        return self.train_split, self.val_split, self.train_labels, self.val_labels\n",
    "\n",
    "    \n",
    "train = pd.read_csv(\"/kaggle/input/crime-cast-forecasting-crime-categories/train.csv\")\n",
    "test = pd.read_csv(\"/kaggle/input/crime-cast-forecasting-crime-categories/test.csv\")\n",
    "print(\"Columns in train:\", train.columns.tolist())\n",
    "#drop outliers\n",
    "Q1 = train['Victim_Age'].quantile(0.25)\n",
    "Q3 = train['Victim_Age'].quantile(0.75)\n",
    "IQR = Q3 - Q1\n",
    "lower_bound = Q1 - 1.5 * IQR\n",
    "upper_bound = Q3 +  1.5 * IQR\n",
    "train = train[(train['Victim_Age'] > lower_bound) & (train['Victim_Age'] < upper_bound)]\n",
    "train.shape\n",
    "Y_train = train[['Crime_Category']]\n",
    "X_train = train.drop(['Crime_Category'], axis=1)\n",
    "X = X_train.copy()\n",
    "y = Y_train.copy()\n",
    "output_path = '/kaggle/working/estimators'\n",
    "\n",
    "data_prep = DataPrep(X, y, output_path, test_size=0.2)\n",
    "\n",
    "X_train_split, X_val_split, Y_train_split, Y_val_split = data_prep.process()\n"
   ]
  },
  {
   "cell_type": "code",
   "execution_count": 97,
   "id": "52bea381",
   "metadata": {
    "execution": {
     "iopub.execute_input": "2024-08-09T16:54:28.455159Z",
     "iopub.status.busy": "2024-08-09T16:54:28.454378Z",
     "iopub.status.idle": "2024-08-09T16:54:28.462847Z",
     "shell.execute_reply": "2024-08-09T16:54:28.461729Z"
    },
    "papermill": {
     "duration": 0.086092,
     "end_time": "2024-08-09T16:54:28.465747",
     "exception": false,
     "start_time": "2024-08-09T16:54:28.379655",
     "status": "completed"
    },
    "tags": []
   },
   "outputs": [
    {
     "data": {
      "text/plain": [
       "((15989, 14), (3998, 14), (15989, 1), (3998, 1))"
      ]
     },
     "execution_count": 97,
     "metadata": {},
     "output_type": "execute_result"
    }
   ],
   "source": [
    "X_train_split.shape , X_val_split.shape , Y_train_split.shape , Y_val_split.shape"
   ]
  },
  {
   "cell_type": "code",
   "execution_count": 98,
   "id": "c57735cf",
   "metadata": {
    "execution": {
     "iopub.execute_input": "2024-08-09T16:54:28.621906Z",
     "iopub.status.busy": "2024-08-09T16:54:28.621488Z",
     "iopub.status.idle": "2024-08-09T16:54:28.657664Z",
     "shell.execute_reply": "2024-08-09T16:54:28.656426Z"
    },
    "papermill": {
     "duration": 0.115526,
     "end_time": "2024-08-09T16:54:28.660689",
     "exception": false,
     "start_time": "2024-08-09T16:54:28.545163",
     "status": "completed"
    },
    "tags": []
   },
   "outputs": [
    {
     "data": {
      "text/html": [
       "<div>\n",
       "<style scoped>\n",
       "    .dataframe tbody tr th:only-of-type {\n",
       "        vertical-align: middle;\n",
       "    }\n",
       "\n",
       "    .dataframe tbody tr th {\n",
       "        vertical-align: top;\n",
       "    }\n",
       "\n",
       "    .dataframe thead th {\n",
       "        text-align: right;\n",
       "    }\n",
       "</style>\n",
       "<table border=\"1\" class=\"dataframe\">\n",
       "  <thead>\n",
       "    <tr style=\"text-align: right;\">\n",
       "      <th></th>\n",
       "      <th>Latitude</th>\n",
       "      <th>Longitude</th>\n",
       "      <th>Time_Occurred</th>\n",
       "      <th>Area_ID</th>\n",
       "      <th>Reporting_District_no</th>\n",
       "      <th>Part 1-2</th>\n",
       "      <th>Victim_Age</th>\n",
       "      <th>Victim_Sex</th>\n",
       "      <th>Victim_Descent</th>\n",
       "      <th>Premise_Code</th>\n",
       "      <th>Weapon_Used_Code</th>\n",
       "      <th>Status</th>\n",
       "      <th>time_between_date_occured_and_reported</th>\n",
       "      <th>Encoded_Modus_Operandi</th>\n",
       "    </tr>\n",
       "  </thead>\n",
       "  <tbody>\n",
       "    <tr>\n",
       "      <th>0</th>\n",
       "      <td>0.991855</td>\n",
       "      <td>0.003389</td>\n",
       "      <td>0.387617</td>\n",
       "      <td>0.00</td>\n",
       "      <td>0.029103</td>\n",
       "      <td>1.0</td>\n",
       "      <td>0.367347</td>\n",
       "      <td>1.0</td>\n",
       "      <td>9.0</td>\n",
       "      <td>0.001153</td>\n",
       "      <td>0.722222</td>\n",
       "      <td>2.0</td>\n",
       "      <td>0.000000</td>\n",
       "      <td>1.223884e+08</td>\n",
       "    </tr>\n",
       "    <tr>\n",
       "      <th>1</th>\n",
       "      <td>0.995549</td>\n",
       "      <td>0.001171</td>\n",
       "      <td>0.860899</td>\n",
       "      <td>0.45</td>\n",
       "      <td>0.450382</td>\n",
       "      <td>0.0</td>\n",
       "      <td>0.285714</td>\n",
       "      <td>0.0</td>\n",
       "      <td>0.0</td>\n",
       "      <td>0.461361</td>\n",
       "      <td>0.642616</td>\n",
       "      <td>2.0</td>\n",
       "      <td>0.009047</td>\n",
       "      <td>3.881964e+08</td>\n",
       "    </tr>\n",
       "    <tr>\n",
       "      <th>2</th>\n",
       "      <td>0.988464</td>\n",
       "      <td>0.003599</td>\n",
       "      <td>0.041985</td>\n",
       "      <td>0.85</td>\n",
       "      <td>0.833969</td>\n",
       "      <td>0.0</td>\n",
       "      <td>0.357143</td>\n",
       "      <td>1.0</td>\n",
       "      <td>6.0</td>\n",
       "      <td>0.000000</td>\n",
       "      <td>0.963768</td>\n",
       "      <td>2.0</td>\n",
       "      <td>0.000000</td>\n",
       "      <td>3.884731e+18</td>\n",
       "    </tr>\n",
       "    <tr>\n",
       "      <th>3</th>\n",
       "      <td>0.992152</td>\n",
       "      <td>0.002021</td>\n",
       "      <td>0.805344</td>\n",
       "      <td>0.35</td>\n",
       "      <td>0.347328</td>\n",
       "      <td>1.0</td>\n",
       "      <td>0.632653</td>\n",
       "      <td>0.0</td>\n",
       "      <td>14.0</td>\n",
       "      <td>0.117647</td>\n",
       "      <td>0.642616</td>\n",
       "      <td>2.0</td>\n",
       "      <td>0.000696</td>\n",
       "      <td>4.738828e+07</td>\n",
       "    </tr>\n",
       "    <tr>\n",
       "      <th>4</th>\n",
       "      <td>0.989358</td>\n",
       "      <td>0.003189</td>\n",
       "      <td>0.000000</td>\n",
       "      <td>0.55</td>\n",
       "      <td>0.556298</td>\n",
       "      <td>0.0</td>\n",
       "      <td>0.479592</td>\n",
       "      <td>0.0</td>\n",
       "      <td>1.0</td>\n",
       "      <td>0.138408</td>\n",
       "      <td>0.642616</td>\n",
       "      <td>2.0</td>\n",
       "      <td>0.011134</td>\n",
       "      <td>3.886026e+07</td>\n",
       "    </tr>\n",
       "    <tr>\n",
       "      <th>...</th>\n",
       "      <td>...</td>\n",
       "      <td>...</td>\n",
       "      <td>...</td>\n",
       "      <td>...</td>\n",
       "      <td>...</td>\n",
       "      <td>...</td>\n",
       "      <td>...</td>\n",
       "      <td>...</td>\n",
       "      <td>...</td>\n",
       "      <td>...</td>\n",
       "      <td>...</td>\n",
       "      <td>...</td>\n",
       "      <td>...</td>\n",
       "      <td>...</td>\n",
       "    </tr>\n",
       "    <tr>\n",
       "      <th>15984</th>\n",
       "      <td>0.991036</td>\n",
       "      <td>0.002178</td>\n",
       "      <td>0.828668</td>\n",
       "      <td>0.65</td>\n",
       "      <td>0.622615</td>\n",
       "      <td>0.0</td>\n",
       "      <td>0.346939</td>\n",
       "      <td>0.0</td>\n",
       "      <td>6.0</td>\n",
       "      <td>0.462514</td>\n",
       "      <td>0.722222</td>\n",
       "      <td>1.0</td>\n",
       "      <td>0.000000</td>\n",
       "      <td>2.173803e+20</td>\n",
       "    </tr>\n",
       "    <tr>\n",
       "      <th>15985</th>\n",
       "      <td>0.994637</td>\n",
       "      <td>0.002241</td>\n",
       "      <td>0.063189</td>\n",
       "      <td>0.70</td>\n",
       "      <td>0.710878</td>\n",
       "      <td>0.0</td>\n",
       "      <td>0.357143</td>\n",
       "      <td>0.0</td>\n",
       "      <td>6.0</td>\n",
       "      <td>0.000000</td>\n",
       "      <td>0.642616</td>\n",
       "      <td>1.0</td>\n",
       "      <td>0.000000</td>\n",
       "      <td>3.886260e+06</td>\n",
       "    </tr>\n",
       "    <tr>\n",
       "      <th>15986</th>\n",
       "      <td>0.993419</td>\n",
       "      <td>0.002792</td>\n",
       "      <td>0.945293</td>\n",
       "      <td>0.25</td>\n",
       "      <td>0.255248</td>\n",
       "      <td>0.0</td>\n",
       "      <td>0.438776</td>\n",
       "      <td>1.0</td>\n",
       "      <td>1.0</td>\n",
       "      <td>0.000000</td>\n",
       "      <td>0.012077</td>\n",
       "      <td>1.0</td>\n",
       "      <td>0.000696</td>\n",
       "      <td>3.271103e+27</td>\n",
       "    </tr>\n",
       "    <tr>\n",
       "      <th>15987</th>\n",
       "      <td>0.989373</td>\n",
       "      <td>0.002912</td>\n",
       "      <td>0.521204</td>\n",
       "      <td>0.55</td>\n",
       "      <td>0.554389</td>\n",
       "      <td>1.0</td>\n",
       "      <td>0.367347</td>\n",
       "      <td>0.0</td>\n",
       "      <td>1.0</td>\n",
       "      <td>0.461361</td>\n",
       "      <td>0.722222</td>\n",
       "      <td>2.0</td>\n",
       "      <td>0.000000</td>\n",
       "      <td>4.032174e+17</td>\n",
       "    </tr>\n",
       "    <tr>\n",
       "      <th>15988</th>\n",
       "      <td>0.994855</td>\n",
       "      <td>0.001809</td>\n",
       "      <td>0.690840</td>\n",
       "      <td>0.40</td>\n",
       "      <td>0.421279</td>\n",
       "      <td>0.0</td>\n",
       "      <td>0.285714</td>\n",
       "      <td>1.0</td>\n",
       "      <td>1.0</td>\n",
       "      <td>0.008074</td>\n",
       "      <td>0.642616</td>\n",
       "      <td>2.0</td>\n",
       "      <td>0.000696</td>\n",
       "      <td>6.000000e+01</td>\n",
       "    </tr>\n",
       "  </tbody>\n",
       "</table>\n",
       "<p>15989 rows × 14 columns</p>\n",
       "</div>"
      ],
      "text/plain": [
       "       Latitude  Longitude  Time_Occurred  Area_ID  Reporting_District_no  \\\n",
       "0      0.991855   0.003389       0.387617     0.00               0.029103   \n",
       "1      0.995549   0.001171       0.860899     0.45               0.450382   \n",
       "2      0.988464   0.003599       0.041985     0.85               0.833969   \n",
       "3      0.992152   0.002021       0.805344     0.35               0.347328   \n",
       "4      0.989358   0.003189       0.000000     0.55               0.556298   \n",
       "...         ...        ...            ...      ...                    ...   \n",
       "15984  0.991036   0.002178       0.828668     0.65               0.622615   \n",
       "15985  0.994637   0.002241       0.063189     0.70               0.710878   \n",
       "15986  0.993419   0.002792       0.945293     0.25               0.255248   \n",
       "15987  0.989373   0.002912       0.521204     0.55               0.554389   \n",
       "15988  0.994855   0.001809       0.690840     0.40               0.421279   \n",
       "\n",
       "       Part 1-2  Victim_Age  Victim_Sex  Victim_Descent  Premise_Code  \\\n",
       "0           1.0    0.367347         1.0             9.0      0.001153   \n",
       "1           0.0    0.285714         0.0             0.0      0.461361   \n",
       "2           0.0    0.357143         1.0             6.0      0.000000   \n",
       "3           1.0    0.632653         0.0            14.0      0.117647   \n",
       "4           0.0    0.479592         0.0             1.0      0.138408   \n",
       "...         ...         ...         ...             ...           ...   \n",
       "15984       0.0    0.346939         0.0             6.0      0.462514   \n",
       "15985       0.0    0.357143         0.0             6.0      0.000000   \n",
       "15986       0.0    0.438776         1.0             1.0      0.000000   \n",
       "15987       1.0    0.367347         0.0             1.0      0.461361   \n",
       "15988       0.0    0.285714         1.0             1.0      0.008074   \n",
       "\n",
       "       Weapon_Used_Code  Status  time_between_date_occured_and_reported  \\\n",
       "0              0.722222     2.0                                0.000000   \n",
       "1              0.642616     2.0                                0.009047   \n",
       "2              0.963768     2.0                                0.000000   \n",
       "3              0.642616     2.0                                0.000696   \n",
       "4              0.642616     2.0                                0.011134   \n",
       "...                 ...     ...                                     ...   \n",
       "15984          0.722222     1.0                                0.000000   \n",
       "15985          0.642616     1.0                                0.000000   \n",
       "15986          0.012077     1.0                                0.000696   \n",
       "15987          0.722222     2.0                                0.000000   \n",
       "15988          0.642616     2.0                                0.000696   \n",
       "\n",
       "       Encoded_Modus_Operandi  \n",
       "0                1.223884e+08  \n",
       "1                3.881964e+08  \n",
       "2                3.884731e+18  \n",
       "3                4.738828e+07  \n",
       "4                3.886026e+07  \n",
       "...                       ...  \n",
       "15984            2.173803e+20  \n",
       "15985            3.886260e+06  \n",
       "15986            3.271103e+27  \n",
       "15987            4.032174e+17  \n",
       "15988            6.000000e+01  \n",
       "\n",
       "[15989 rows x 14 columns]"
      ]
     },
     "execution_count": 98,
     "metadata": {},
     "output_type": "execute_result"
    }
   ],
   "source": [
    "X_train_split"
   ]
  },
  {
   "cell_type": "markdown",
   "id": "cfe5f12a",
   "metadata": {
    "papermill": {
     "duration": 0.080728,
     "end_time": "2024-08-09T16:54:28.818317",
     "exception": false,
     "start_time": "2024-08-09T16:54:28.737589",
     "status": "completed"
    },
    "tags": []
   },
   "source": [
    "-----------------------------------------------------------------------------------------------------------------------------"
   ]
  },
  {
   "cell_type": "markdown",
   "id": "2dae0fe9",
   "metadata": {
    "papermill": {
     "duration": 0.076366,
     "end_time": "2024-08-09T16:54:28.969151",
     "exception": false,
     "start_time": "2024-08-09T16:54:28.892785",
     "status": "completed"
    },
    "tags": []
   },
   "source": [
    "**Model Building**"
   ]
  },
  {
   "cell_type": "code",
   "execution_count": 99,
   "id": "f5e55df4",
   "metadata": {
    "execution": {
     "iopub.execute_input": "2024-08-09T16:54:29.125423Z",
     "iopub.status.busy": "2024-08-09T16:54:29.124947Z",
     "iopub.status.idle": "2024-08-09T16:57:01.135330Z",
     "shell.execute_reply": "2024-08-09T16:57:01.134278Z"
    },
    "papermill": {
     "duration": 152.09313,
     "end_time": "2024-08-09T16:57:01.138298",
     "exception": false,
     "start_time": "2024-08-09T16:54:29.045168",
     "status": "completed"
    },
    "tags": []
   },
   "outputs": [
    {
     "name": "stdout",
     "output_type": "stream",
     "text": [
      "(15989, 14)\n",
      "(15989, 1)\n",
      "Model name: LogisticRegression()\n",
      "Model name: LogisticRegression()\n"
     ]
    },
    {
     "name": "stderr",
     "output_type": "stream",
     "text": [
      "/opt/conda/lib/python3.10/site-packages/sklearn/utils/validation.py:1143: DataConversionWarning: A column-vector y was passed when a 1d array was expected. Please change the shape of y to (n_samples, ), for example using ravel().\n",
      "  y = column_or_1d(y, warn=True)\n",
      "/opt/conda/lib/python3.10/site-packages/sklearn/linear_model/_logistic.py:458: ConvergenceWarning: lbfgs failed to converge (status=2):\n",
      "ABNORMAL_TERMINATION_IN_LNSRCH.\n",
      "\n",
      "Increase the number of iterations (max_iter) or scale the data as shown in:\n",
      "    https://scikit-learn.org/stable/modules/preprocessing.html\n",
      "Please also refer to the documentation for alternative solver options:\n",
      "    https://scikit-learn.org/stable/modules/linear_model.html#logistic-regression\n",
      "  n_iter_i = _check_optimize_result(\n",
      "/opt/conda/lib/python3.10/site-packages/sklearn/utils/validation.py:1143: DataConversionWarning: A column-vector y was passed when a 1d array was expected. Please change the shape of y to (n_samples, ), for example using ravel().\n",
      "  y = column_or_1d(y, warn=True)\n",
      "/opt/conda/lib/python3.10/site-packages/sklearn/linear_model/_logistic.py:458: ConvergenceWarning: lbfgs failed to converge (status=2):\n",
      "ABNORMAL_TERMINATION_IN_LNSRCH.\n",
      "\n",
      "Increase the number of iterations (max_iter) or scale the data as shown in:\n",
      "    https://scikit-learn.org/stable/modules/preprocessing.html\n",
      "Please also refer to the documentation for alternative solver options:\n",
      "    https://scikit-learn.org/stable/modules/linear_model.html#logistic-regression\n",
      "  n_iter_i = _check_optimize_result(\n",
      "/opt/conda/lib/python3.10/site-packages/sklearn/utils/validation.py:1143: DataConversionWarning: A column-vector y was passed when a 1d array was expected. Please change the shape of y to (n_samples, ), for example using ravel().\n",
      "  y = column_or_1d(y, warn=True)\n",
      "/opt/conda/lib/python3.10/site-packages/sklearn/linear_model/_logistic.py:458: ConvergenceWarning: lbfgs failed to converge (status=2):\n",
      "ABNORMAL_TERMINATION_IN_LNSRCH.\n",
      "\n",
      "Increase the number of iterations (max_iter) or scale the data as shown in:\n",
      "    https://scikit-learn.org/stable/modules/preprocessing.html\n",
      "Please also refer to the documentation for alternative solver options:\n",
      "    https://scikit-learn.org/stable/modules/linear_model.html#logistic-regression\n",
      "  n_iter_i = _check_optimize_result(\n",
      "/opt/conda/lib/python3.10/site-packages/sklearn/utils/validation.py:1143: DataConversionWarning: A column-vector y was passed when a 1d array was expected. Please change the shape of y to (n_samples, ), for example using ravel().\n",
      "  y = column_or_1d(y, warn=True)\n"
     ]
    },
    {
     "name": "stdout",
     "output_type": "stream",
     "text": [
      "Model name: LogisticRegression()\n",
      "Model name: LogisticRegression()\n"
     ]
    },
    {
     "name": "stderr",
     "output_type": "stream",
     "text": [
      "/opt/conda/lib/python3.10/site-packages/sklearn/linear_model/_logistic.py:458: ConvergenceWarning: lbfgs failed to converge (status=2):\n",
      "ABNORMAL_TERMINATION_IN_LNSRCH.\n",
      "\n",
      "Increase the number of iterations (max_iter) or scale the data as shown in:\n",
      "    https://scikit-learn.org/stable/modules/preprocessing.html\n",
      "Please also refer to the documentation for alternative solver options:\n",
      "    https://scikit-learn.org/stable/modules/linear_model.html#logistic-regression\n",
      "  n_iter_i = _check_optimize_result(\n",
      "/opt/conda/lib/python3.10/site-packages/sklearn/utils/validation.py:1143: DataConversionWarning: A column-vector y was passed when a 1d array was expected. Please change the shape of y to (n_samples, ), for example using ravel().\n",
      "  y = column_or_1d(y, warn=True)\n",
      "/opt/conda/lib/python3.10/site-packages/sklearn/linear_model/_logistic.py:458: ConvergenceWarning: lbfgs failed to converge (status=2):\n",
      "ABNORMAL_TERMINATION_IN_LNSRCH.\n",
      "\n",
      "Increase the number of iterations (max_iter) or scale the data as shown in:\n",
      "    https://scikit-learn.org/stable/modules/preprocessing.html\n",
      "Please also refer to the documentation for alternative solver options:\n",
      "    https://scikit-learn.org/stable/modules/linear_model.html#logistic-regression\n",
      "  n_iter_i = _check_optimize_result(\n"
     ]
    },
    {
     "name": "stdout",
     "output_type": "stream",
     "text": [
      "Model name: LogisticRegression()\n",
      "Model name: KNeighborsClassifier()\n"
     ]
    },
    {
     "name": "stderr",
     "output_type": "stream",
     "text": [
      "/opt/conda/lib/python3.10/site-packages/sklearn/neighbors/_classification.py:215: DataConversionWarning: A column-vector y was passed when a 1d array was expected. Please change the shape of y to (n_samples,), for example using ravel().\n",
      "  return self._fit(X, y)\n"
     ]
    },
    {
     "name": "stdout",
     "output_type": "stream",
     "text": [
      "Model name: KNeighborsClassifier()\n"
     ]
    },
    {
     "name": "stderr",
     "output_type": "stream",
     "text": [
      "/opt/conda/lib/python3.10/site-packages/sklearn/neighbors/_classification.py:215: DataConversionWarning: A column-vector y was passed when a 1d array was expected. Please change the shape of y to (n_samples,), for example using ravel().\n",
      "  return self._fit(X, y)\n"
     ]
    },
    {
     "name": "stdout",
     "output_type": "stream",
     "text": [
      "Model name: KNeighborsClassifier()\n"
     ]
    },
    {
     "name": "stderr",
     "output_type": "stream",
     "text": [
      "/opt/conda/lib/python3.10/site-packages/sklearn/neighbors/_classification.py:215: DataConversionWarning: A column-vector y was passed when a 1d array was expected. Please change the shape of y to (n_samples,), for example using ravel().\n",
      "  return self._fit(X, y)\n"
     ]
    },
    {
     "name": "stdout",
     "output_type": "stream",
     "text": [
      "Model name: KNeighborsClassifier()\n"
     ]
    },
    {
     "name": "stderr",
     "output_type": "stream",
     "text": [
      "/opt/conda/lib/python3.10/site-packages/sklearn/neighbors/_classification.py:215: DataConversionWarning: A column-vector y was passed when a 1d array was expected. Please change the shape of y to (n_samples,), for example using ravel().\n",
      "  return self._fit(X, y)\n"
     ]
    },
    {
     "name": "stdout",
     "output_type": "stream",
     "text": [
      "Model name: KNeighborsClassifier()\n"
     ]
    },
    {
     "name": "stderr",
     "output_type": "stream",
     "text": [
      "/opt/conda/lib/python3.10/site-packages/sklearn/neighbors/_classification.py:215: DataConversionWarning: A column-vector y was passed when a 1d array was expected. Please change the shape of y to (n_samples,), for example using ravel().\n",
      "  return self._fit(X, y)\n"
     ]
    },
    {
     "name": "stdout",
     "output_type": "stream",
     "text": [
      "Model name: GaussianNB()\n",
      "Model name: GaussianNB()\n",
      "Model name: GaussianNB()\n",
      "Model name: GaussianNB()\n",
      "Model name: GaussianNB()\n",
      "Model name: SVC()\n"
     ]
    },
    {
     "name": "stderr",
     "output_type": "stream",
     "text": [
      "/opt/conda/lib/python3.10/site-packages/sklearn/utils/validation.py:1143: DataConversionWarning: A column-vector y was passed when a 1d array was expected. Please change the shape of y to (n_samples, ), for example using ravel().\n",
      "  y = column_or_1d(y, warn=True)\n",
      "/opt/conda/lib/python3.10/site-packages/sklearn/utils/validation.py:1143: DataConversionWarning: A column-vector y was passed when a 1d array was expected. Please change the shape of y to (n_samples, ), for example using ravel().\n",
      "  y = column_or_1d(y, warn=True)\n",
      "/opt/conda/lib/python3.10/site-packages/sklearn/utils/validation.py:1143: DataConversionWarning: A column-vector y was passed when a 1d array was expected. Please change the shape of y to (n_samples, ), for example using ravel().\n",
      "  y = column_or_1d(y, warn=True)\n",
      "/opt/conda/lib/python3.10/site-packages/sklearn/utils/validation.py:1143: DataConversionWarning: A column-vector y was passed when a 1d array was expected. Please change the shape of y to (n_samples, ), for example using ravel().\n",
      "  y = column_or_1d(y, warn=True)\n",
      "/opt/conda/lib/python3.10/site-packages/sklearn/utils/validation.py:1143: DataConversionWarning: A column-vector y was passed when a 1d array was expected. Please change the shape of y to (n_samples, ), for example using ravel().\n",
      "  y = column_or_1d(y, warn=True)\n",
      "/opt/conda/lib/python3.10/site-packages/sklearn/utils/validation.py:1143: DataConversionWarning: A column-vector y was passed when a 1d array was expected. Please change the shape of y to (n_samples, ), for example using ravel().\n",
      "  y = column_or_1d(y, warn=True)\n"
     ]
    },
    {
     "name": "stdout",
     "output_type": "stream",
     "text": [
      "Model name: SVC()\n"
     ]
    },
    {
     "name": "stderr",
     "output_type": "stream",
     "text": [
      "/opt/conda/lib/python3.10/site-packages/sklearn/utils/validation.py:1143: DataConversionWarning: A column-vector y was passed when a 1d array was expected. Please change the shape of y to (n_samples, ), for example using ravel().\n",
      "  y = column_or_1d(y, warn=True)\n"
     ]
    },
    {
     "name": "stdout",
     "output_type": "stream",
     "text": [
      "Model name: SVC()\n"
     ]
    },
    {
     "name": "stderr",
     "output_type": "stream",
     "text": [
      "/opt/conda/lib/python3.10/site-packages/sklearn/utils/validation.py:1143: DataConversionWarning: A column-vector y was passed when a 1d array was expected. Please change the shape of y to (n_samples, ), for example using ravel().\n",
      "  y = column_or_1d(y, warn=True)\n"
     ]
    },
    {
     "name": "stdout",
     "output_type": "stream",
     "text": [
      "Model name: SVC()\n"
     ]
    },
    {
     "name": "stderr",
     "output_type": "stream",
     "text": [
      "/opt/conda/lib/python3.10/site-packages/sklearn/utils/validation.py:1143: DataConversionWarning: A column-vector y was passed when a 1d array was expected. Please change the shape of y to (n_samples, ), for example using ravel().\n",
      "  y = column_or_1d(y, warn=True)\n"
     ]
    },
    {
     "name": "stdout",
     "output_type": "stream",
     "text": [
      "Model name: SVC()\n"
     ]
    },
    {
     "name": "stderr",
     "output_type": "stream",
     "text": [
      "/opt/conda/lib/python3.10/site-packages/sklearn/utils/validation.py:1143: DataConversionWarning: A column-vector y was passed when a 1d array was expected. Please change the shape of y to (n_samples, ), for example using ravel().\n",
      "  y = column_or_1d(y, warn=True)\n"
     ]
    },
    {
     "name": "stdout",
     "output_type": "stream",
     "text": [
      "Model name: GradientBoostingClassifier()\n"
     ]
    },
    {
     "name": "stderr",
     "output_type": "stream",
     "text": [
      "/opt/conda/lib/python3.10/site-packages/sklearn/ensemble/_gb.py:437: DataConversionWarning: A column-vector y was passed when a 1d array was expected. Please change the shape of y to (n_samples, ), for example using ravel().\n",
      "  y = column_or_1d(y, warn=True)\n"
     ]
    },
    {
     "name": "stdout",
     "output_type": "stream",
     "text": [
      "Model name: GradientBoostingClassifier()\n"
     ]
    },
    {
     "name": "stderr",
     "output_type": "stream",
     "text": [
      "/opt/conda/lib/python3.10/site-packages/sklearn/ensemble/_gb.py:437: DataConversionWarning: A column-vector y was passed when a 1d array was expected. Please change the shape of y to (n_samples, ), for example using ravel().\n",
      "  y = column_or_1d(y, warn=True)\n"
     ]
    },
    {
     "name": "stdout",
     "output_type": "stream",
     "text": [
      "Model name: GradientBoostingClassifier()\n"
     ]
    },
    {
     "name": "stderr",
     "output_type": "stream",
     "text": [
      "/opt/conda/lib/python3.10/site-packages/sklearn/ensemble/_gb.py:437: DataConversionWarning: A column-vector y was passed when a 1d array was expected. Please change the shape of y to (n_samples, ), for example using ravel().\n",
      "  y = column_or_1d(y, warn=True)\n"
     ]
    },
    {
     "name": "stdout",
     "output_type": "stream",
     "text": [
      "Model name: GradientBoostingClassifier()\n"
     ]
    },
    {
     "name": "stderr",
     "output_type": "stream",
     "text": [
      "/opt/conda/lib/python3.10/site-packages/sklearn/ensemble/_gb.py:437: DataConversionWarning: A column-vector y was passed when a 1d array was expected. Please change the shape of y to (n_samples, ), for example using ravel().\n",
      "  y = column_or_1d(y, warn=True)\n"
     ]
    },
    {
     "name": "stdout",
     "output_type": "stream",
     "text": [
      "Model name: GradientBoostingClassifier()\n"
     ]
    },
    {
     "name": "stderr",
     "output_type": "stream",
     "text": [
      "/opt/conda/lib/python3.10/site-packages/sklearn/ensemble/_gb.py:437: DataConversionWarning: A column-vector y was passed when a 1d array was expected. Please change the shape of y to (n_samples, ), for example using ravel().\n",
      "  y = column_or_1d(y, warn=True)\n"
     ]
    },
    {
     "name": "stdout",
     "output_type": "stream",
     "text": [
      "Model name: RandomForestClassifier()\n"
     ]
    },
    {
     "name": "stderr",
     "output_type": "stream",
     "text": [
      "/tmp/ipykernel_18/3611017381.py:38: DataConversionWarning: A column-vector y was passed when a 1d array was expected. Please change the shape of y to (n_samples,), for example using ravel().\n",
      "  model.fit(X_train_cv, y_train_cv)\n"
     ]
    },
    {
     "name": "stdout",
     "output_type": "stream",
     "text": [
      "Model name: RandomForestClassifier()\n"
     ]
    },
    {
     "name": "stderr",
     "output_type": "stream",
     "text": [
      "/tmp/ipykernel_18/3611017381.py:38: DataConversionWarning: A column-vector y was passed when a 1d array was expected. Please change the shape of y to (n_samples,), for example using ravel().\n",
      "  model.fit(X_train_cv, y_train_cv)\n"
     ]
    },
    {
     "name": "stdout",
     "output_type": "stream",
     "text": [
      "Model name: RandomForestClassifier()\n"
     ]
    },
    {
     "name": "stderr",
     "output_type": "stream",
     "text": [
      "/tmp/ipykernel_18/3611017381.py:38: DataConversionWarning: A column-vector y was passed when a 1d array was expected. Please change the shape of y to (n_samples,), for example using ravel().\n",
      "  model.fit(X_train_cv, y_train_cv)\n"
     ]
    },
    {
     "name": "stdout",
     "output_type": "stream",
     "text": [
      "Model name: RandomForestClassifier()\n"
     ]
    },
    {
     "name": "stderr",
     "output_type": "stream",
     "text": [
      "/tmp/ipykernel_18/3611017381.py:38: DataConversionWarning: A column-vector y was passed when a 1d array was expected. Please change the shape of y to (n_samples,), for example using ravel().\n",
      "  model.fit(X_train_cv, y_train_cv)\n"
     ]
    },
    {
     "name": "stdout",
     "output_type": "stream",
     "text": [
      "Model name: RandomForestClassifier()\n"
     ]
    },
    {
     "name": "stderr",
     "output_type": "stream",
     "text": [
      "/tmp/ipykernel_18/3611017381.py:38: DataConversionWarning: A column-vector y was passed when a 1d array was expected. Please change the shape of y to (n_samples,), for example using ravel().\n",
      "  model.fit(X_train_cv, y_train_cv)\n"
     ]
    },
    {
     "name": "stdout",
     "output_type": "stream",
     "text": [
      "Model name: XGBClassifier(base_score=None, booster=None, callbacks=None,\n",
      "              colsample_bylevel=None, colsample_bynode=None,\n",
      "              colsample_bytree=None, device=None, early_stopping_rounds=None,\n",
      "              enable_categorical=False, eval_metric=None, feature_types=None,\n",
      "              gamma=None, grow_policy=None, importance_type=None,\n",
      "              interaction_constraints=None, learning_rate=None, max_bin=None,\n",
      "              max_cat_threshold=None, max_cat_to_onehot=None,\n",
      "              max_delta_step=None, max_depth=None, max_leaves=None,\n",
      "              min_child_weight=None, missing=nan, monotone_constraints=None,\n",
      "              multi_strategy=None, n_estimators=None, n_jobs=None,\n",
      "              num_parallel_tree=None, random_state=None, ...)\n",
      "Model name: XGBClassifier(base_score=None, booster=None, callbacks=None,\n",
      "              colsample_bylevel=None, colsample_bynode=None,\n",
      "              colsample_bytree=None, device=None, early_stopping_rounds=None,\n",
      "              enable_categorical=False, eval_metric=None, feature_types=None,\n",
      "              gamma=None, grow_policy=None, importance_type=None,\n",
      "              interaction_constraints=None, learning_rate=None, max_bin=None,\n",
      "              max_cat_threshold=None, max_cat_to_onehot=None,\n",
      "              max_delta_step=None, max_depth=None, max_leaves=None,\n",
      "              min_child_weight=None, missing=nan, monotone_constraints=None,\n",
      "              multi_strategy=None, n_estimators=None, n_jobs=None,\n",
      "              num_parallel_tree=None, objective='multi:softprob', ...)\n",
      "Model name: XGBClassifier(base_score=None, booster=None, callbacks=None,\n",
      "              colsample_bylevel=None, colsample_bynode=None,\n",
      "              colsample_bytree=None, device=None, early_stopping_rounds=None,\n",
      "              enable_categorical=False, eval_metric=None, feature_types=None,\n",
      "              gamma=None, grow_policy=None, importance_type=None,\n",
      "              interaction_constraints=None, learning_rate=None, max_bin=None,\n",
      "              max_cat_threshold=None, max_cat_to_onehot=None,\n",
      "              max_delta_step=None, max_depth=None, max_leaves=None,\n",
      "              min_child_weight=None, missing=nan, monotone_constraints=None,\n",
      "              multi_strategy=None, n_estimators=None, n_jobs=None,\n",
      "              num_parallel_tree=None, objective='multi:softprob', ...)\n",
      "Model name: XGBClassifier(base_score=None, booster=None, callbacks=None,\n",
      "              colsample_bylevel=None, colsample_bynode=None,\n",
      "              colsample_bytree=None, device=None, early_stopping_rounds=None,\n",
      "              enable_categorical=False, eval_metric=None, feature_types=None,\n",
      "              gamma=None, grow_policy=None, importance_type=None,\n",
      "              interaction_constraints=None, learning_rate=None, max_bin=None,\n",
      "              max_cat_threshold=None, max_cat_to_onehot=None,\n",
      "              max_delta_step=None, max_depth=None, max_leaves=None,\n",
      "              min_child_weight=None, missing=nan, monotone_constraints=None,\n",
      "              multi_strategy=None, n_estimators=None, n_jobs=None,\n",
      "              num_parallel_tree=None, objective='multi:softprob', ...)\n",
      "Model name: XGBClassifier(base_score=None, booster=None, callbacks=None,\n",
      "              colsample_bylevel=None, colsample_bynode=None,\n",
      "              colsample_bytree=None, device=None, early_stopping_rounds=None,\n",
      "              enable_categorical=False, eval_metric=None, feature_types=None,\n",
      "              gamma=None, grow_policy=None, importance_type=None,\n",
      "              interaction_constraints=None, learning_rate=None, max_bin=None,\n",
      "              max_cat_threshold=None, max_cat_to_onehot=None,\n",
      "              max_delta_step=None, max_depth=None, max_leaves=None,\n",
      "              min_child_weight=None, missing=nan, monotone_constraints=None,\n",
      "              multi_strategy=None, n_estimators=None, n_jobs=None,\n",
      "              num_parallel_tree=None, objective='multi:softprob', ...)\n",
      "                     Mean Accuracy\n",
      "Logistic Regression       0.584840\n",
      "KNN                       0.835575\n",
      "Naive Bayes               0.017011\n",
      "SVM                       0.589530\n",
      "Gradient Boosting         0.904184\n",
      "Random Forest             0.882982\n",
      "XGBoost                   0.907061\n"
     ]
    }
   ],
   "source": [
    "import pandas as pd\n",
    "from sklearn.model_selection import KFold\n",
    "from sklearn.metrics import accuracy_score\n",
    "from sklearn.linear_model import LogisticRegression\n",
    "from sklearn.neighbors import KNeighborsClassifier\n",
    "from sklearn.naive_bayes import GaussianNB\n",
    "from sklearn.svm import SVC\n",
    "from sklearn.ensemble import GradientBoostingClassifier, RandomForestClassifier\n",
    "import xgboost as xgb\n",
    "from sklearn.tree import DecisionTreeClassifier\n",
    "\n",
    "\n",
    "X = X_train_split.copy()\n",
    "y = Y_train_split.copy()\n",
    "\n",
    "print(X.shape)\n",
    "print(y.shape)\n",
    "models = {\n",
    "    'Logistic Regression': LogisticRegression(),\n",
    "    'KNN': KNeighborsClassifier(),\n",
    "    'Naive Bayes': GaussianNB(),\n",
    "    'SVM': SVC(),\n",
    "    'Gradient Boosting': GradientBoostingClassifier(),\n",
    "    'Random Forest': RandomForestClassifier(),\n",
    "    'XGBoost': xgb.XGBClassifier()\n",
    "}\n",
    "\n",
    "# K-fold cross-validation\n",
    "kf = KFold(n_splits=5, shuffle=True, random_state=42)\n",
    "results = {}\n",
    "\n",
    "for name, model in models.items():\n",
    "    accuracies = []\n",
    "    for train_index, test_index in kf.split(X):\n",
    "        X_train_cv, X_test_cv = X.iloc[train_index], X.iloc[test_index]\n",
    "        y_train_cv, y_test_cv = y.iloc[train_index], y.iloc[test_index]\n",
    "        print(\"Model name:\", model)\n",
    "        model.fit(X_train_cv, y_train_cv)\n",
    "        y_pred = model.predict(X_test_cv)\n",
    "        accuracy = accuracy_score(y_test_cv, y_pred)\n",
    "        accuracies.append(accuracy)\n",
    "    results[name] = sum(accuracies) / len(accuracies)\n",
    "\n",
    "df = pd.DataFrame.from_dict(results, orient='index', columns=['Mean Accuracy'])\n",
    "print(df)\n"
   ]
  },
  {
   "cell_type": "code",
   "execution_count": 100,
   "id": "72ea146c",
   "metadata": {
    "execution": {
     "iopub.execute_input": "2024-08-09T16:57:01.303034Z",
     "iopub.status.busy": "2024-08-09T16:57:01.302577Z",
     "iopub.status.idle": "2024-08-09T16:57:01.309123Z",
     "shell.execute_reply": "2024-08-09T16:57:01.307885Z"
    },
    "papermill": {
     "duration": 0.08948,
     "end_time": "2024-08-09T16:57:01.311562",
     "exception": false,
     "start_time": "2024-08-09T16:57:01.222082",
     "status": "completed"
    },
    "tags": []
   },
   "outputs": [],
   "source": [
    "df = df.sort_values(by='Mean Accuracy', ascending=False)"
   ]
  },
  {
   "cell_type": "code",
   "execution_count": 101,
   "id": "db4f95c2",
   "metadata": {
    "execution": {
     "iopub.execute_input": "2024-08-09T16:57:01.474578Z",
     "iopub.status.busy": "2024-08-09T16:57:01.473225Z",
     "iopub.status.idle": "2024-08-09T16:57:01.485357Z",
     "shell.execute_reply": "2024-08-09T16:57:01.484109Z"
    },
    "papermill": {
     "duration": 0.096018,
     "end_time": "2024-08-09T16:57:01.488083",
     "exception": false,
     "start_time": "2024-08-09T16:57:01.392065",
     "status": "completed"
    },
    "tags": []
   },
   "outputs": [
    {
     "data": {
      "text/html": [
       "<div>\n",
       "<style scoped>\n",
       "    .dataframe tbody tr th:only-of-type {\n",
       "        vertical-align: middle;\n",
       "    }\n",
       "\n",
       "    .dataframe tbody tr th {\n",
       "        vertical-align: top;\n",
       "    }\n",
       "\n",
       "    .dataframe thead th {\n",
       "        text-align: right;\n",
       "    }\n",
       "</style>\n",
       "<table border=\"1\" class=\"dataframe\">\n",
       "  <thead>\n",
       "    <tr style=\"text-align: right;\">\n",
       "      <th></th>\n",
       "      <th>Mean Accuracy</th>\n",
       "    </tr>\n",
       "  </thead>\n",
       "  <tbody>\n",
       "    <tr>\n",
       "      <th>XGBoost</th>\n",
       "      <td>0.907061</td>\n",
       "    </tr>\n",
       "    <tr>\n",
       "      <th>Gradient Boosting</th>\n",
       "      <td>0.904184</td>\n",
       "    </tr>\n",
       "    <tr>\n",
       "      <th>Random Forest</th>\n",
       "      <td>0.882982</td>\n",
       "    </tr>\n",
       "    <tr>\n",
       "      <th>KNN</th>\n",
       "      <td>0.835575</td>\n",
       "    </tr>\n",
       "    <tr>\n",
       "      <th>SVM</th>\n",
       "      <td>0.589530</td>\n",
       "    </tr>\n",
       "    <tr>\n",
       "      <th>Logistic Regression</th>\n",
       "      <td>0.584840</td>\n",
       "    </tr>\n",
       "    <tr>\n",
       "      <th>Naive Bayes</th>\n",
       "      <td>0.017011</td>\n",
       "    </tr>\n",
       "  </tbody>\n",
       "</table>\n",
       "</div>"
      ],
      "text/plain": [
       "                     Mean Accuracy\n",
       "XGBoost                   0.907061\n",
       "Gradient Boosting         0.904184\n",
       "Random Forest             0.882982\n",
       "KNN                       0.835575\n",
       "SVM                       0.589530\n",
       "Logistic Regression       0.584840\n",
       "Naive Bayes               0.017011"
      ]
     },
     "execution_count": 101,
     "metadata": {},
     "output_type": "execute_result"
    }
   ],
   "source": [
    "df"
   ]
  },
  {
   "cell_type": "code",
   "execution_count": 102,
   "id": "53837f7d",
   "metadata": {
    "execution": {
     "iopub.execute_input": "2024-08-09T16:57:01.646461Z",
     "iopub.status.busy": "2024-08-09T16:57:01.646047Z",
     "iopub.status.idle": "2024-08-09T16:57:01.650888Z",
     "shell.execute_reply": "2024-08-09T16:57:01.649771Z"
    },
    "papermill": {
     "duration": 0.087383,
     "end_time": "2024-08-09T16:57:01.653365",
     "exception": false,
     "start_time": "2024-08-09T16:57:01.565982",
     "status": "completed"
    },
    "tags": []
   },
   "outputs": [],
   "source": [
    "# train = X_train.copy()\n",
    "# target = Y_train.copy()\n"
   ]
  },
  {
   "cell_type": "code",
   "execution_count": 103,
   "id": "ad2d55ff",
   "metadata": {
    "execution": {
     "iopub.execute_input": "2024-08-09T16:57:01.815513Z",
     "iopub.status.busy": "2024-08-09T16:57:01.815087Z",
     "iopub.status.idle": "2024-08-09T16:57:01.819892Z",
     "shell.execute_reply": "2024-08-09T16:57:01.818656Z"
    },
    "papermill": {
     "duration": 0.091017,
     "end_time": "2024-08-09T16:57:01.822441",
     "exception": false,
     "start_time": "2024-08-09T16:57:01.731424",
     "status": "completed"
    },
    "tags": []
   },
   "outputs": [],
   "source": [
    "# train.shape, target.shape"
   ]
  },
  {
   "cell_type": "code",
   "execution_count": null,
   "id": "f65e28a6",
   "metadata": {
    "papermill": {
     "duration": 0.07832,
     "end_time": "2024-08-09T16:57:01.979856",
     "exception": false,
     "start_time": "2024-08-09T16:57:01.901536",
     "status": "completed"
    },
    "tags": []
   },
   "outputs": [],
   "source": []
  },
  {
   "cell_type": "code",
   "execution_count": 104,
   "id": "130bbfd7",
   "metadata": {
    "execution": {
     "iopub.execute_input": "2024-08-09T16:57:02.139788Z",
     "iopub.status.busy": "2024-08-09T16:57:02.139397Z",
     "iopub.status.idle": "2024-08-09T16:57:02.144038Z",
     "shell.execute_reply": "2024-08-09T16:57:02.143007Z"
    },
    "papermill": {
     "duration": 0.087109,
     "end_time": "2024-08-09T16:57:02.146399",
     "exception": false,
     "start_time": "2024-08-09T16:57:02.059290",
     "status": "completed"
    },
    "tags": []
   },
   "outputs": [],
   "source": [
    "from sklearn.model_selection import train_test_split\n"
   ]
  },
  {
   "cell_type": "code",
   "execution_count": 105,
   "id": "50c436f9",
   "metadata": {
    "execution": {
     "iopub.execute_input": "2024-08-09T16:57:02.309934Z",
     "iopub.status.busy": "2024-08-09T16:57:02.309539Z",
     "iopub.status.idle": "2024-08-09T16:57:41.827766Z",
     "shell.execute_reply": "2024-08-09T16:57:41.826167Z"
    },
    "papermill": {
     "duration": 39.60702,
     "end_time": "2024-08-09T16:57:41.835922",
     "exception": false,
     "start_time": "2024-08-09T16:57:02.228902",
     "status": "completed"
    },
    "tags": []
   },
   "outputs": [
    {
     "name": "stderr",
     "output_type": "stream",
     "text": [
      "/opt/conda/lib/python3.10/site-packages/sklearn/utils/validation.py:1143: DataConversionWarning: A column-vector y was passed when a 1d array was expected. Please change the shape of y to (n_samples, ), for example using ravel().\n",
      "  y = column_or_1d(y, warn=True)\n",
      "/opt/conda/lib/python3.10/site-packages/sklearn/linear_model/_logistic.py:458: ConvergenceWarning: lbfgs failed to converge (status=2):\n",
      "ABNORMAL_TERMINATION_IN_LNSRCH.\n",
      "\n",
      "Increase the number of iterations (max_iter) or scale the data as shown in:\n",
      "    https://scikit-learn.org/stable/modules/preprocessing.html\n",
      "Please also refer to the documentation for alternative solver options:\n",
      "    https://scikit-learn.org/stable/modules/linear_model.html#logistic-regression\n",
      "  n_iter_i = _check_optimize_result(\n",
      "/opt/conda/lib/python3.10/site-packages/sklearn/metrics/_classification.py:1344: UndefinedMetricWarning: Precision and F-score are ill-defined and being set to 0.0 in labels with no predicted samples. Use `zero_division` parameter to control this behavior.\n",
      "  _warn_prf(average, modifier, msg_start, len(result))\n",
      "/opt/conda/lib/python3.10/site-packages/sklearn/metrics/_classification.py:1344: UndefinedMetricWarning: Precision and F-score are ill-defined and being set to 0.0 in labels with no predicted samples. Use `zero_division` parameter to control this behavior.\n",
      "  _warn_prf(average, modifier, msg_start, len(result))\n",
      "/opt/conda/lib/python3.10/site-packages/sklearn/metrics/_classification.py:1344: UndefinedMetricWarning: Precision and F-score are ill-defined and being set to 0.0 in labels with no predicted samples. Use `zero_division` parameter to control this behavior.\n",
      "  _warn_prf(average, modifier, msg_start, len(result))\n",
      "/opt/conda/lib/python3.10/site-packages/sklearn/neighbors/_classification.py:215: DataConversionWarning: A column-vector y was passed when a 1d array was expected. Please change the shape of y to (n_samples,), for example using ravel().\n",
      "  return self._fit(X, y)\n"
     ]
    },
    {
     "name": "stdout",
     "output_type": "stream",
     "text": [
      "Classification Report for Logistic Regression:\n",
      "               precision    recall  f1-score   support\n",
      "\n",
      "           0       0.58      1.00      0.73      2305\n",
      "           1       0.00      0.00      0.00      1001\n",
      "           2       0.00      0.00      0.00       355\n",
      "           3       0.00      0.00      0.00       260\n",
      "           4       0.00      0.00      0.00        38\n",
      "           5       0.00      0.00      0.00        39\n",
      "\n",
      "    accuracy                           0.58      3998\n",
      "   macro avg       0.10      0.17      0.12      3998\n",
      "weighted avg       0.33      0.58      0.42      3998\n",
      "\n",
      "Logistic Regression Accuracy: 0.5765\n",
      "\n",
      "Classification Report for KNN:\n",
      "               precision    recall  f1-score   support\n",
      "\n",
      "           0       0.90      0.93      0.92      2305\n",
      "           1       0.78      0.82      0.80      1001\n",
      "           2       0.61      0.48      0.54       355\n",
      "           3       0.83      0.79      0.81       260\n",
      "           4       0.36      0.11      0.16        38\n",
      "           5       0.38      0.08      0.13        39\n",
      "\n",
      "    accuracy                           0.84      3998\n",
      "   macro avg       0.64      0.54      0.56      3998\n",
      "weighted avg       0.83      0.84      0.83      3998\n",
      "\n",
      "KNN Accuracy: 0.8402\n",
      "\n",
      "Classification Report for Naive Bayes:\n",
      "               precision    recall  f1-score   support\n",
      "\n",
      "           0       0.20      0.00      0.01      2305\n",
      "           1       0.83      0.01      0.03      1001\n",
      "           2       0.00      0.00      0.00       355\n",
      "           3       0.00      0.00      0.00       260\n",
      "           4       0.00      0.00      0.00        38\n",
      "           5       0.01      1.00      0.02        39\n",
      "\n",
      "    accuracy                           0.02      3998\n",
      "   macro avg       0.17      0.17      0.01      3998\n",
      "weighted avg       0.32      0.02      0.01      3998\n",
      "\n",
      "Naive Bayes Accuracy: 0.0150\n",
      "\n"
     ]
    },
    {
     "name": "stderr",
     "output_type": "stream",
     "text": [
      "/opt/conda/lib/python3.10/site-packages/sklearn/utils/validation.py:1143: DataConversionWarning: A column-vector y was passed when a 1d array was expected. Please change the shape of y to (n_samples, ), for example using ravel().\n",
      "  y = column_or_1d(y, warn=True)\n",
      "/opt/conda/lib/python3.10/site-packages/sklearn/metrics/_classification.py:1344: UndefinedMetricWarning: Precision and F-score are ill-defined and being set to 0.0 in labels with no predicted samples. Use `zero_division` parameter to control this behavior.\n",
      "  _warn_prf(average, modifier, msg_start, len(result))\n",
      "/opt/conda/lib/python3.10/site-packages/sklearn/metrics/_classification.py:1344: UndefinedMetricWarning: Precision and F-score are ill-defined and being set to 0.0 in labels with no predicted samples. Use `zero_division` parameter to control this behavior.\n",
      "  _warn_prf(average, modifier, msg_start, len(result))\n",
      "/opt/conda/lib/python3.10/site-packages/sklearn/metrics/_classification.py:1344: UndefinedMetricWarning: Precision and F-score are ill-defined and being set to 0.0 in labels with no predicted samples. Use `zero_division` parameter to control this behavior.\n",
      "  _warn_prf(average, modifier, msg_start, len(result))\n",
      "/opt/conda/lib/python3.10/site-packages/sklearn/utils/validation.py:1143: DataConversionWarning: A column-vector y was passed when a 1d array was expected. Please change the shape of y to (n_samples, ), for example using ravel().\n",
      "  y = column_or_1d(y, warn=True)\n",
      "/opt/conda/lib/python3.10/site-packages/sklearn/metrics/_classification.py:1344: UndefinedMetricWarning: Precision and F-score are ill-defined and being set to 0.0 in labels with no predicted samples. Use `zero_division` parameter to control this behavior.\n",
      "  _warn_prf(average, modifier, msg_start, len(result))\n",
      "/opt/conda/lib/python3.10/site-packages/sklearn/metrics/_classification.py:1344: UndefinedMetricWarning: Precision and F-score are ill-defined and being set to 0.0 in labels with no predicted samples. Use `zero_division` parameter to control this behavior.\n",
      "  _warn_prf(average, modifier, msg_start, len(result))\n",
      "/opt/conda/lib/python3.10/site-packages/sklearn/metrics/_classification.py:1344: UndefinedMetricWarning: Precision and F-score are ill-defined and being set to 0.0 in labels with no predicted samples. Use `zero_division` parameter to control this behavior.\n",
      "  _warn_prf(average, modifier, msg_start, len(result))\n",
      "/opt/conda/lib/python3.10/site-packages/sklearn/ensemble/_gb.py:437: DataConversionWarning: A column-vector y was passed when a 1d array was expected. Please change the shape of y to (n_samples, ), for example using ravel().\n",
      "  y = column_or_1d(y, warn=True)\n"
     ]
    },
    {
     "name": "stdout",
     "output_type": "stream",
     "text": [
      "Classification Report for SVM:\n",
      "               precision    recall  f1-score   support\n",
      "\n",
      "           0       0.58      1.00      0.73      2305\n",
      "           1       0.83      0.01      0.03      1001\n",
      "           2       0.00      0.00      0.00       355\n",
      "           3       0.00      0.00      0.00       260\n",
      "           4       0.00      0.00      0.00        38\n",
      "           5       0.00      0.00      0.00        39\n",
      "\n",
      "    accuracy                           0.58      3998\n",
      "   macro avg       0.24      0.17      0.13      3998\n",
      "weighted avg       0.54      0.58      0.43      3998\n",
      "\n",
      "SVM Accuracy: 0.5795\n",
      "\n",
      "Classification Report for Gradient Boosting:\n",
      "               precision    recall  f1-score   support\n",
      "\n",
      "           0       0.96      0.95      0.96      2305\n",
      "           1       0.87      0.93      0.90      1001\n",
      "           2       0.76      0.71      0.73       355\n",
      "           3       0.83      0.85      0.84       260\n",
      "           4       0.59      0.53      0.56        38\n",
      "           5       0.41      0.23      0.30        39\n",
      "\n",
      "    accuracy                           0.91      3998\n",
      "   macro avg       0.74      0.70      0.71      3998\n",
      "weighted avg       0.90      0.91      0.91      3998\n",
      "\n",
      "Gradient Boosting Accuracy: 0.9072\n",
      "\n"
     ]
    },
    {
     "name": "stderr",
     "output_type": "stream",
     "text": [
      "/tmp/ipykernel_18/69261227.py:31: DataConversionWarning: A column-vector y was passed when a 1d array was expected. Please change the shape of y to (n_samples,), for example using ravel().\n",
      "  model.fit(X_train_split, Y_train_split)\n"
     ]
    },
    {
     "name": "stdout",
     "output_type": "stream",
     "text": [
      "Classification Report for Random Forest:\n",
      "               precision    recall  f1-score   support\n",
      "\n",
      "           0       0.93      0.95      0.94      2305\n",
      "           1       0.88      0.92      0.90      1001\n",
      "           2       0.75      0.62      0.68       355\n",
      "           3       0.82      0.79      0.80       260\n",
      "           4       0.88      0.39      0.55        38\n",
      "           5       0.25      0.03      0.05        39\n",
      "\n",
      "    accuracy                           0.89      3998\n",
      "   macro avg       0.75      0.62      0.65      3998\n",
      "weighted avg       0.88      0.89      0.88      3998\n",
      "\n",
      "Random Forest Accuracy: 0.8917\n",
      "\n",
      "Classification Report for XGBoost:\n",
      "               precision    recall  f1-score   support\n",
      "\n",
      "           0       0.96      0.96      0.96      2305\n",
      "           1       0.89      0.93      0.91      1001\n",
      "           2       0.76      0.74      0.75       355\n",
      "           3       0.84      0.87      0.86       260\n",
      "           4       0.68      0.55      0.61        38\n",
      "           5       0.42      0.13      0.20        39\n",
      "\n",
      "    accuracy                           0.92      3998\n",
      "   macro avg       0.76      0.70      0.71      3998\n",
      "weighted avg       0.91      0.92      0.91      3998\n",
      "\n",
      "XGBoost Accuracy: 0.9152\n",
      "\n"
     ]
    },
    {
     "name": "stderr",
     "output_type": "stream",
     "text": [
      "/opt/conda/lib/python3.10/site-packages/sklearn/utils/validation.py:1143: DataConversionWarning: A column-vector y was passed when a 1d array was expected. Please change the shape of y to (n_samples, ), for example using ravel().\n",
      "  y = column_or_1d(y, warn=True)\n"
     ]
    },
    {
     "name": "stdout",
     "output_type": "stream",
     "text": [
      "Classification Report for Polynomial Regression:\n",
      "               precision    recall  f1-score   support\n",
      "\n",
      "           0       0.58      1.00      0.73      2305\n",
      "           1       0.00      0.00      0.00      1001\n",
      "           2       0.00      0.00      0.00       355\n",
      "           3       0.00      0.00      0.00       260\n",
      "           4       0.00      0.00      0.00        38\n",
      "           5       0.00      0.00      0.00        39\n",
      "\n",
      "    accuracy                           0.58      3998\n",
      "   macro avg       0.10      0.17      0.12      3998\n",
      "weighted avg       0.33      0.58      0.42      3998\n",
      "\n",
      "Polynomial Regression Accuracy: 0.5765\n",
      "\n",
      "**Model Accuracies**\n",
      "            Algorithm  Accuracy\n",
      "  Logistic Regression  0.576538\n",
      "                  KNN  0.840170\n",
      "          Naive Bayes  0.015008\n",
      "                  SVM  0.579540\n",
      "    Gradient Boosting  0.907204\n",
      "        Random Forest  0.891696\n",
      "              XGBoost  0.915208\n",
      "Polynomial Regression  0.576538\n"
     ]
    },
    {
     "name": "stderr",
     "output_type": "stream",
     "text": [
      "/opt/conda/lib/python3.10/site-packages/sklearn/linear_model/_logistic.py:458: ConvergenceWarning: lbfgs failed to converge (status=2):\n",
      "ABNORMAL_TERMINATION_IN_LNSRCH.\n",
      "\n",
      "Increase the number of iterations (max_iter) or scale the data as shown in:\n",
      "    https://scikit-learn.org/stable/modules/preprocessing.html\n",
      "Please also refer to the documentation for alternative solver options:\n",
      "    https://scikit-learn.org/stable/modules/linear_model.html#logistic-regression\n",
      "  n_iter_i = _check_optimize_result(\n",
      "/opt/conda/lib/python3.10/site-packages/sklearn/metrics/_classification.py:1344: UndefinedMetricWarning: Precision and F-score are ill-defined and being set to 0.0 in labels with no predicted samples. Use `zero_division` parameter to control this behavior.\n",
      "  _warn_prf(average, modifier, msg_start, len(result))\n",
      "/opt/conda/lib/python3.10/site-packages/sklearn/metrics/_classification.py:1344: UndefinedMetricWarning: Precision and F-score are ill-defined and being set to 0.0 in labels with no predicted samples. Use `zero_division` parameter to control this behavior.\n",
      "  _warn_prf(average, modifier, msg_start, len(result))\n",
      "/opt/conda/lib/python3.10/site-packages/sklearn/metrics/_classification.py:1344: UndefinedMetricWarning: Precision and F-score are ill-defined and being set to 0.0 in labels with no predicted samples. Use `zero_division` parameter to control this behavior.\n",
      "  _warn_prf(average, modifier, msg_start, len(result))\n"
     ]
    }
   ],
   "source": [
    "import pandas as pd\n",
    "from sklearn.model_selection import train_test_split\n",
    "from sklearn.metrics import accuracy_score, classification_report\n",
    "from sklearn.linear_model import LogisticRegression\n",
    "from sklearn.neighbors import KNeighborsClassifier\n",
    "from sklearn.naive_bayes import GaussianNB\n",
    "from sklearn.svm import SVC\n",
    "from sklearn.ensemble import GradientBoostingClassifier, RandomForestClassifier\n",
    "import xgboost as xgb\n",
    "from sklearn.tree import DecisionTreeClassifier\n",
    "from sklearn.preprocessing import PolynomialFeatures\n",
    "from sklearn.pipeline import Pipeline\n",
    "\n",
    "\n",
    "# Split data into training and testing sets\n",
    "# X_train_split, X_val_split, Y_train_split, Y_val_split = train_test_split(train, target, test_size=0.3, random_state=42, stratify=target)\n",
    "models = {\n",
    "    'Logistic Regression': LogisticRegression(),\n",
    "    'KNN': KNeighborsClassifier(),\n",
    "    'Naive Bayes': GaussianNB(),\n",
    "    'SVM': SVC(),\n",
    "    'Gradient Boosting': GradientBoostingClassifier(),\n",
    "    'Random Forest': RandomForestClassifier(),\n",
    "    'XGBoost': xgb.XGBClassifier(),\n",
    "    'Polynomial Regression': Pipeline([('poly', PolynomialFeatures(degree=2)), ('linear', LogisticRegression())])\n",
    "}\n",
    "\n",
    "results = []\n",
    "\n",
    "for name, model in models.items():\n",
    "    model.fit(X_train_split, Y_train_split)\n",
    "    y_pred = model.predict(X_val_split)\n",
    "    accuracy = accuracy_score(Y_val_split, y_pred)\n",
    "    results.append({'Algorithm': name, 'Accuracy': accuracy})\n",
    "    print(f\"Classification Report for {name}:\\n\", classification_report(Y_val_split, y_pred))\n",
    "    print(f\"{name} Accuracy: {accuracy:.4f}\\n\")\n",
    "\n",
    "df = pd.DataFrame(results)\n",
    "\n",
    "print(\"**Model Accuracies**\")\n",
    "print(df.to_string(index=False))\n"
   ]
  },
  {
   "cell_type": "code",
   "execution_count": 106,
   "id": "ac2cba0d",
   "metadata": {
    "execution": {
     "iopub.execute_input": "2024-08-09T16:57:42.031753Z",
     "iopub.status.busy": "2024-08-09T16:57:42.031354Z",
     "iopub.status.idle": "2024-08-09T16:57:42.044364Z",
     "shell.execute_reply": "2024-08-09T16:57:42.043061Z"
    },
    "papermill": {
     "duration": 0.09702,
     "end_time": "2024-08-09T16:57:42.046878",
     "exception": false,
     "start_time": "2024-08-09T16:57:41.949858",
     "status": "completed"
    },
    "tags": []
   },
   "outputs": [
    {
     "data": {
      "text/html": [
       "<div>\n",
       "<style scoped>\n",
       "    .dataframe tbody tr th:only-of-type {\n",
       "        vertical-align: middle;\n",
       "    }\n",
       "\n",
       "    .dataframe tbody tr th {\n",
       "        vertical-align: top;\n",
       "    }\n",
       "\n",
       "    .dataframe thead th {\n",
       "        text-align: right;\n",
       "    }\n",
       "</style>\n",
       "<table border=\"1\" class=\"dataframe\">\n",
       "  <thead>\n",
       "    <tr style=\"text-align: right;\">\n",
       "      <th></th>\n",
       "      <th>Algorithm</th>\n",
       "      <th>Accuracy</th>\n",
       "    </tr>\n",
       "  </thead>\n",
       "  <tbody>\n",
       "    <tr>\n",
       "      <th>6</th>\n",
       "      <td>XGBoost</td>\n",
       "      <td>0.915208</td>\n",
       "    </tr>\n",
       "    <tr>\n",
       "      <th>4</th>\n",
       "      <td>Gradient Boosting</td>\n",
       "      <td>0.907204</td>\n",
       "    </tr>\n",
       "    <tr>\n",
       "      <th>5</th>\n",
       "      <td>Random Forest</td>\n",
       "      <td>0.891696</td>\n",
       "    </tr>\n",
       "    <tr>\n",
       "      <th>1</th>\n",
       "      <td>KNN</td>\n",
       "      <td>0.840170</td>\n",
       "    </tr>\n",
       "    <tr>\n",
       "      <th>3</th>\n",
       "      <td>SVM</td>\n",
       "      <td>0.579540</td>\n",
       "    </tr>\n",
       "    <tr>\n",
       "      <th>0</th>\n",
       "      <td>Logistic Regression</td>\n",
       "      <td>0.576538</td>\n",
       "    </tr>\n",
       "    <tr>\n",
       "      <th>7</th>\n",
       "      <td>Polynomial Regression</td>\n",
       "      <td>0.576538</td>\n",
       "    </tr>\n",
       "    <tr>\n",
       "      <th>2</th>\n",
       "      <td>Naive Bayes</td>\n",
       "      <td>0.015008</td>\n",
       "    </tr>\n",
       "  </tbody>\n",
       "</table>\n",
       "</div>"
      ],
      "text/plain": [
       "               Algorithm  Accuracy\n",
       "6                XGBoost  0.915208\n",
       "4      Gradient Boosting  0.907204\n",
       "5          Random Forest  0.891696\n",
       "1                    KNN  0.840170\n",
       "3                    SVM  0.579540\n",
       "0    Logistic Regression  0.576538\n",
       "7  Polynomial Regression  0.576538\n",
       "2            Naive Bayes  0.015008"
      ]
     },
     "execution_count": 106,
     "metadata": {},
     "output_type": "execute_result"
    }
   ],
   "source": [
    "df = df.sort_values(by='Accuracy', ascending=False)\n",
    "df"
   ]
  },
  {
   "cell_type": "markdown",
   "id": "e6707522",
   "metadata": {
    "papermill": {
     "duration": 0.080318,
     "end_time": "2024-08-09T16:57:42.207019",
     "exception": false,
     "start_time": "2024-08-09T16:57:42.126701",
     "status": "completed"
    },
    "tags": []
   },
   "source": [
    "Hyper parameter tuning using GridSearchCV"
   ]
  },
  {
   "cell_type": "code",
   "execution_count": 107,
   "id": "e601f6dc",
   "metadata": {
    "execution": {
     "iopub.execute_input": "2024-08-09T16:57:42.373925Z",
     "iopub.status.busy": "2024-08-09T16:57:42.373106Z",
     "iopub.status.idle": "2024-08-09T16:57:42.378883Z",
     "shell.execute_reply": "2024-08-09T16:57:42.377704Z"
    },
    "papermill": {
     "duration": 0.092029,
     "end_time": "2024-08-09T16:57:42.381431",
     "exception": false,
     "start_time": "2024-08-09T16:57:42.289402",
     "status": "completed"
    },
    "tags": []
   },
   "outputs": [],
   "source": [
    "# from sklearn.model_selection import GridSearchCV\n",
    "# import xgboost as xgb\n",
    "# xgb = xgb.XGBClassifier()\n",
    "# # Define parameters\n",
    "# parameters_xg = {\n",
    "#     'learning_rate': [0.1, 0.01, 0.05],\n",
    "#     'n_estimators': [100, 200, 300],\n",
    "#     'min_child_weight': [1, 3, 5],\n",
    "#     'max_depth': [3, 5, 7],\n",
    "#     'gamma': [0, 0.1, 0.5],\n",
    "#     'subsample': [0.8, 1.0],\n",
    "#     'colsample_bytree': [0.8, 1.0],\n",
    "#     'scale_pos_weight': [1, 2, 3]\n",
    "# }\n",
    "# from sklearn.metrics import make_scorer, f1_score\n",
    "# scorer = make_scorer(f1_score, average='macro')\n",
    "\n",
    "# grid_search = GridSearchCV(xgb, parameters_xg, cv=5, scoring='accuracy', verbose=True, n_jobs=-1)\n",
    "# grid_search.fit(X_train,Y_train)\n",
    "# print(grid_search.best_params_)\n",
    "# print(grid_search.best_score_)\n",
    "# print(grid_search.best_estimator_)\n",
    "\n"
   ]
  },
  {
   "cell_type": "markdown",
   "id": "3d36627a",
   "metadata": {
    "papermill": {
     "duration": 0.080004,
     "end_time": "2024-08-09T16:57:42.542157",
     "exception": false,
     "start_time": "2024-08-09T16:57:42.462153",
     "status": "completed"
    },
    "tags": []
   },
   "source": [
    "{'colsample_bytree': 1.0, 'gamma': 0.5, 'learning_rate': 0.1, 'max_depth': 3, 'min_child_weight': 5, 'n_estimators': 200, 'scale_pos_weight': 1, 'subsample': 0.8}\n",
    "0.6652241744237148\n",
    "XGBClassifier(base_score=None, booster=None, callbacks=None,\n",
    "              colsample_bylevel=None, colsample_bynode=None,\n",
    "              colsample_bytree=1.0, device=None, early_stopping_rounds=None,\n",
    "              enable_categorical=False, eval_metric=None, feature_types=None,\n",
    "              gamma=0.5, grow_policy=None, importance_type=None,\n",
    "              interaction_constraints=None, learning_rate=0.1, max_bin=None,\n",
    "              max_cat_threshold=None, max_cat_to_onehot=None,\n",
    "              max_delta_step=None, max_depth=3, max_leaves=None,\n",
    "              min_child_weight=5, missing=nan, monotone_constraints=None,\n",
    "              multi_strategy=None, n_estimators=200, n_jobs=None,\n",
    "              num_parallel_tree=None, objective='multi:softprob', ...)"
   ]
  },
  {
   "cell_type": "markdown",
   "id": "feed6b61",
   "metadata": {
    "papermill": {
     "duration": 0.079788,
     "end_time": "2024-08-09T16:57:42.701606",
     "exception": false,
     "start_time": "2024-08-09T16:57:42.621818",
     "status": "completed"
    },
    "tags": []
   },
   "source": [
    "{'colsample_bytree': 0.8, 'gamma': 0, 'learning_rate': 0.05, 'max_depth': 7, 'min_child_weight': 5, 'n_estimators': 100, 'scale_pos_weight': 1, 'subsample': 1.0}\n",
    "0.8703161813581296\n",
    "XGBClassifier(base_score=None, booster=None, callbacks=None,\n",
    "              colsample_bylevel=None, colsample_bynode=None,\n",
    "              colsample_bytree=0.8, device=None, early_stopping_rounds=None,\n",
    "              enable_categorical=False, eval_metric=None, feature_types=None,\n",
    "              gamma=0, grow_policy=None, importance_type=None,\n",
    "              interaction_constraints=None, learning_rate=0.05, max_bin=None,\n",
    "              max_cat_threshold=None, max_cat_to_onehot=None,\n",
    "              max_delta_step=None, max_depth=7, max_leaves=None,\n",
    "              min_child_weight=5, missing=nan, monotone_constraints=None,\n",
    "              multi_strategy=None, n_estimators=100, n_jobs=None,\n",
    "              num_parallel_tree=None, objective='multi:softprob', ...)"
   ]
  },
  {
   "cell_type": "markdown",
   "id": "de1cb84e",
   "metadata": {
    "papermill": {
     "duration": 0.079215,
     "end_time": "2024-08-09T16:57:42.861278",
     "exception": false,
     "start_time": "2024-08-09T16:57:42.782063",
     "status": "completed"
    },
    "tags": []
   },
   "source": [
    "On validation"
   ]
  },
  {
   "cell_type": "markdown",
   "id": "7a5af217",
   "metadata": {
    "papermill": {
     "duration": 0.079599,
     "end_time": "2024-08-09T16:57:43.020521",
     "exception": false,
     "start_time": "2024-08-09T16:57:42.940922",
     "status": "completed"
    },
    "tags": []
   },
   "source": [
    "after hyper parameter tuning"
   ]
  },
  {
   "cell_type": "code",
   "execution_count": 108,
   "id": "23fd5b03",
   "metadata": {
    "execution": {
     "iopub.execute_input": "2024-08-09T16:57:43.182699Z",
     "iopub.status.busy": "2024-08-09T16:57:43.182284Z",
     "iopub.status.idle": "2024-08-09T16:57:43.190717Z",
     "shell.execute_reply": "2024-08-09T16:57:43.189646Z"
    },
    "papermill": {
     "duration": 0.092524,
     "end_time": "2024-08-09T16:57:43.193541",
     "exception": false,
     "start_time": "2024-08-09T16:57:43.101017",
     "status": "completed"
    },
    "tags": []
   },
   "outputs": [],
   "source": [
    "import xgboost as xgb \n",
    "from sklearn.model_selection import train_test_split\n",
    "from sklearn.multiclass import OneVsOneClassifier, OneVsOneClassifier\n",
    "# X_train_split, X_val_split, Y_train_split, Y_val_split = train_test_split(train, target, test_size=0.3, random_state=42, stratify=target)"
   ]
  },
  {
   "cell_type": "code",
   "execution_count": 109,
   "id": "bc4781f9",
   "metadata": {
    "execution": {
     "iopub.execute_input": "2024-08-09T16:57:43.356325Z",
     "iopub.status.busy": "2024-08-09T16:57:43.355870Z",
     "iopub.status.idle": "2024-08-09T16:57:45.205438Z",
     "shell.execute_reply": "2024-08-09T16:57:45.204217Z"
    },
    "papermill": {
     "duration": 1.933367,
     "end_time": "2024-08-09T16:57:45.208292",
     "exception": false,
     "start_time": "2024-08-09T16:57:43.274925",
     "status": "completed"
    },
    "tags": []
   },
   "outputs": [
    {
     "name": "stderr",
     "output_type": "stream",
     "text": [
      "/opt/conda/lib/python3.10/site-packages/xgboost/core.py:160: UserWarning: [16:57:43] WARNING: /workspace/src/learner.cc:742: \n",
      "Parameters: { \"scale_pos_weight\" } are not used.\n",
      "\n",
      "  warnings.warn(smsg, UserWarning)\n"
     ]
    },
    {
     "data": {
      "text/html": [
       "<style>#sk-container-id-1 {color: black;background-color: white;}#sk-container-id-1 pre{padding: 0;}#sk-container-id-1 div.sk-toggleable {background-color: white;}#sk-container-id-1 label.sk-toggleable__label {cursor: pointer;display: block;width: 100%;margin-bottom: 0;padding: 0.3em;box-sizing: border-box;text-align: center;}#sk-container-id-1 label.sk-toggleable__label-arrow:before {content: \"▸\";float: left;margin-right: 0.25em;color: #696969;}#sk-container-id-1 label.sk-toggleable__label-arrow:hover:before {color: black;}#sk-container-id-1 div.sk-estimator:hover label.sk-toggleable__label-arrow:before {color: black;}#sk-container-id-1 div.sk-toggleable__content {max-height: 0;max-width: 0;overflow: hidden;text-align: left;background-color: #f0f8ff;}#sk-container-id-1 div.sk-toggleable__content pre {margin: 0.2em;color: black;border-radius: 0.25em;background-color: #f0f8ff;}#sk-container-id-1 input.sk-toggleable__control:checked~div.sk-toggleable__content {max-height: 200px;max-width: 100%;overflow: auto;}#sk-container-id-1 input.sk-toggleable__control:checked~label.sk-toggleable__label-arrow:before {content: \"▾\";}#sk-container-id-1 div.sk-estimator input.sk-toggleable__control:checked~label.sk-toggleable__label {background-color: #d4ebff;}#sk-container-id-1 div.sk-label input.sk-toggleable__control:checked~label.sk-toggleable__label {background-color: #d4ebff;}#sk-container-id-1 input.sk-hidden--visually {border: 0;clip: rect(1px 1px 1px 1px);clip: rect(1px, 1px, 1px, 1px);height: 1px;margin: -1px;overflow: hidden;padding: 0;position: absolute;width: 1px;}#sk-container-id-1 div.sk-estimator {font-family: monospace;background-color: #f0f8ff;border: 1px dotted black;border-radius: 0.25em;box-sizing: border-box;margin-bottom: 0.5em;}#sk-container-id-1 div.sk-estimator:hover {background-color: #d4ebff;}#sk-container-id-1 div.sk-parallel-item::after {content: \"\";width: 100%;border-bottom: 1px solid gray;flex-grow: 1;}#sk-container-id-1 div.sk-label:hover label.sk-toggleable__label {background-color: #d4ebff;}#sk-container-id-1 div.sk-serial::before {content: \"\";position: absolute;border-left: 1px solid gray;box-sizing: border-box;top: 0;bottom: 0;left: 50%;z-index: 0;}#sk-container-id-1 div.sk-serial {display: flex;flex-direction: column;align-items: center;background-color: white;padding-right: 0.2em;padding-left: 0.2em;position: relative;}#sk-container-id-1 div.sk-item {position: relative;z-index: 1;}#sk-container-id-1 div.sk-parallel {display: flex;align-items: stretch;justify-content: center;background-color: white;position: relative;}#sk-container-id-1 div.sk-item::before, #sk-container-id-1 div.sk-parallel-item::before {content: \"\";position: absolute;border-left: 1px solid gray;box-sizing: border-box;top: 0;bottom: 0;left: 50%;z-index: -1;}#sk-container-id-1 div.sk-parallel-item {display: flex;flex-direction: column;z-index: 1;position: relative;background-color: white;}#sk-container-id-1 div.sk-parallel-item:first-child::after {align-self: flex-end;width: 50%;}#sk-container-id-1 div.sk-parallel-item:last-child::after {align-self: flex-start;width: 50%;}#sk-container-id-1 div.sk-parallel-item:only-child::after {width: 0;}#sk-container-id-1 div.sk-dashed-wrapped {border: 1px dashed gray;margin: 0 0.4em 0.5em 0.4em;box-sizing: border-box;padding-bottom: 0.4em;background-color: white;}#sk-container-id-1 div.sk-label label {font-family: monospace;font-weight: bold;display: inline-block;line-height: 1.2em;}#sk-container-id-1 div.sk-label-container {text-align: center;}#sk-container-id-1 div.sk-container {/* jupyter's `normalize.less` sets `[hidden] { display: none; }` but bootstrap.min.css set `[hidden] { display: none !important; }` so we also need the `!important` here to be able to override the default hidden behavior on the sphinx rendered scikit-learn.org. See: https://github.com/scikit-learn/scikit-learn/issues/21755 */display: inline-block !important;position: relative;}#sk-container-id-1 div.sk-text-repr-fallback {display: none;}</style><div id=\"sk-container-id-1\" class=\"sk-top-container\"><div class=\"sk-text-repr-fallback\"><pre>XGBClassifier(base_score=None, booster=None, callbacks=None,\n",
       "              colsample_bylevel=None, colsample_bynode=None,\n",
       "              colsample_bytree=1.0, device=None, early_stopping_rounds=None,\n",
       "              enable_categorical=False, eval_metric=None, feature_types=None,\n",
       "              gamma=0.5, grow_policy=None, importance_type=None,\n",
       "              interaction_constraints=None, learning_rate=0.1, max_bin=None,\n",
       "              max_cat_threshold=None, max_cat_to_onehot=None,\n",
       "              max_delta_step=None, max_depth=7, max_leaves=None,\n",
       "              min_child_weight=3, missing=nan, monotone_constraints=None,\n",
       "              multi_strategy=None, n_estimators=200, n_jobs=None,\n",
       "              num_parallel_tree=None, objective=&#x27;multi:softprob&#x27;, ...)</pre><b>In a Jupyter environment, please rerun this cell to show the HTML representation or trust the notebook. <br />On GitHub, the HTML representation is unable to render, please try loading this page with nbviewer.org.</b></div><div class=\"sk-container\" hidden><div class=\"sk-item\"><div class=\"sk-estimator sk-toggleable\"><input class=\"sk-toggleable__control sk-hidden--visually\" id=\"sk-estimator-id-1\" type=\"checkbox\" checked><label for=\"sk-estimator-id-1\" class=\"sk-toggleable__label sk-toggleable__label-arrow\">XGBClassifier</label><div class=\"sk-toggleable__content\"><pre>XGBClassifier(base_score=None, booster=None, callbacks=None,\n",
       "              colsample_bylevel=None, colsample_bynode=None,\n",
       "              colsample_bytree=1.0, device=None, early_stopping_rounds=None,\n",
       "              enable_categorical=False, eval_metric=None, feature_types=None,\n",
       "              gamma=0.5, grow_policy=None, importance_type=None,\n",
       "              interaction_constraints=None, learning_rate=0.1, max_bin=None,\n",
       "              max_cat_threshold=None, max_cat_to_onehot=None,\n",
       "              max_delta_step=None, max_depth=7, max_leaves=None,\n",
       "              min_child_weight=3, missing=nan, monotone_constraints=None,\n",
       "              multi_strategy=None, n_estimators=200, n_jobs=None,\n",
       "              num_parallel_tree=None, objective=&#x27;multi:softprob&#x27;, ...)</pre></div></div></div></div></div>"
      ],
      "text/plain": [
       "XGBClassifier(base_score=None, booster=None, callbacks=None,\n",
       "              colsample_bylevel=None, colsample_bynode=None,\n",
       "              colsample_bytree=1.0, device=None, early_stopping_rounds=None,\n",
       "              enable_categorical=False, eval_metric=None, feature_types=None,\n",
       "              gamma=0.5, grow_policy=None, importance_type=None,\n",
       "              interaction_constraints=None, learning_rate=0.1, max_bin=None,\n",
       "              max_cat_threshold=None, max_cat_to_onehot=None,\n",
       "              max_delta_step=None, max_depth=7, max_leaves=None,\n",
       "              min_child_weight=3, missing=nan, monotone_constraints=None,\n",
       "              multi_strategy=None, n_estimators=200, n_jobs=None,\n",
       "              num_parallel_tree=None, objective='multi:softprob', ...)"
      ]
     },
     "execution_count": 109,
     "metadata": {},
     "output_type": "execute_result"
    }
   ],
   "source": [
    "\n",
    "xgb_model = xgb.XGBClassifier(max_depth=7, n_estimators=200, min_child_weight=3, gamma=0.5, subsample=1.0, colsample_bytree=1.0, scale_pos_weight=1, learning_rate=0.1,objective='multi:softprob')\n",
    "# xgb_model = xgb.XGBClassifier(base_score=None, booster=None, callbacks=None,\n",
    "#               colsample_bylevel=None, colsample_bynode=None,\n",
    "#               colsample_bytree=0.8, device=None, early_stopping_rounds=None,\n",
    "#               enable_categorical=False, eval_metric=None, feature_types=None,\n",
    "#               gamma=0, grow_policy=None, importance_type=None,\n",
    "#               interaction_constraints=None, learning_rate=0.05, max_bin=None,\n",
    "#               max_cat_threshold=None, max_cat_to_onehot=None,\n",
    "#               max_delta_step=None, max_depth=7, max_leaves=None,\n",
    "#               min_child_weight=5, missing=np.nan, monotone_constraints=None,\n",
    "#               multi_strategy=None, n_estimators=100, n_jobs=None,\n",
    "#               num_parallel_tree=None, objective='multi:softprob')\n",
    "\n",
    "xgb_model.fit(X_train_split, Y_train_split)"
   ]
  },
  {
   "cell_type": "code",
   "execution_count": 110,
   "id": "fc1ffc5d",
   "metadata": {
    "execution": {
     "iopub.execute_input": "2024-08-09T16:57:45.376132Z",
     "iopub.status.busy": "2024-08-09T16:57:45.375163Z",
     "iopub.status.idle": "2024-08-09T16:57:45.523817Z",
     "shell.execute_reply": "2024-08-09T16:57:45.522416Z"
    },
    "papermill": {
     "duration": 0.234909,
     "end_time": "2024-08-09T16:57:45.526428",
     "exception": false,
     "start_time": "2024-08-09T16:57:45.291519",
     "status": "completed"
    },
    "tags": []
   },
   "outputs": [
    {
     "name": "stdout",
     "output_type": "stream",
     "text": [
      "Classification Report:\n",
      "              precision    recall  f1-score   support\n",
      "\n",
      "           0     0.9856    0.9830    0.9843      9351\n",
      "           1     0.9412    0.9777    0.9591      3765\n",
      "           2     0.9156    0.8734    0.8940      1453\n",
      "           3     0.9272    0.9433    0.9351      1093\n",
      "           4     0.9667    0.9305    0.9482       187\n",
      "           5     0.9324    0.4929    0.6449       140\n",
      "\n",
      "    accuracy                         0.9642     15989\n",
      "   macro avg     0.9448    0.8668    0.8943     15989\n",
      "weighted avg     0.9641    0.9642    0.9634     15989\n",
      "\n"
     ]
    }
   ],
   "source": [
    "# Predictions\n",
    "y_pred = xgb_model.predict(X_train_split)\n",
    "\n",
    "y_pred = pd.DataFrame(y_pred, columns=['Crime_Category'])\n",
    "print(\"Classification Report:\")\n",
    "print(classification_report(Y_train_split, y_pred, digits=4))"
   ]
  },
  {
   "cell_type": "code",
   "execution_count": 111,
   "id": "b330df6d",
   "metadata": {
    "execution": {
     "iopub.execute_input": "2024-08-09T16:57:45.689935Z",
     "iopub.status.busy": "2024-08-09T16:57:45.689511Z",
     "iopub.status.idle": "2024-08-09T16:57:45.747982Z",
     "shell.execute_reply": "2024-08-09T16:57:45.746479Z"
    },
    "papermill": {
     "duration": 0.143344,
     "end_time": "2024-08-09T16:57:45.750567",
     "exception": false,
     "start_time": "2024-08-09T16:57:45.607223",
     "status": "completed"
    },
    "tags": []
   },
   "outputs": [
    {
     "name": "stdout",
     "output_type": "stream",
     "text": [
      "Classification Report:\n",
      "              precision    recall  f1-score   support\n",
      "\n",
      "           0     0.9639    0.9601    0.9620      2305\n",
      "           1     0.8908    0.9291    0.9095      1001\n",
      "           2     0.7507    0.7465    0.7486       355\n",
      "           3     0.8378    0.8346    0.8362       260\n",
      "           4     0.6875    0.5789    0.6286        38\n",
      "           5     0.4286    0.1538    0.2264        39\n",
      "\n",
      "    accuracy                         0.9137      3998\n",
      "   macro avg     0.7599    0.7005    0.7185      3998\n",
      "weighted avg     0.9106    0.9137    0.9114      3998\n",
      "\n"
     ]
    }
   ],
   "source": [
    "# Predictions\n",
    "y_pred = xgb_model.predict(X_val_split)\n",
    "\n",
    "y_pred = pd.DataFrame(y_pred, columns=['Crime_Category'])\n",
    "print(\"Classification Report:\")\n",
    "print(classification_report(Y_val_split, y_pred, digits=4))"
   ]
  },
  {
   "cell_type": "markdown",
   "id": "c8d72169",
   "metadata": {
    "papermill": {
     "duration": 0.080344,
     "end_time": "2024-08-09T16:57:45.911280",
     "exception": false,
     "start_time": "2024-08-09T16:57:45.830936",
     "status": "completed"
    },
    "tags": []
   },
   "source": [
    "Visualizing Feature importances"
   ]
  },
  {
   "cell_type": "code",
   "execution_count": 112,
   "id": "907ca8ef",
   "metadata": {
    "execution": {
     "iopub.execute_input": "2024-08-09T16:57:46.078226Z",
     "iopub.status.busy": "2024-08-09T16:57:46.077806Z",
     "iopub.status.idle": "2024-08-09T16:57:46.627814Z",
     "shell.execute_reply": "2024-08-09T16:57:46.626626Z"
    },
    "papermill": {
     "duration": 0.636503,
     "end_time": "2024-08-09T16:57:46.630532",
     "exception": false,
     "start_time": "2024-08-09T16:57:45.994029",
     "status": "completed"
    },
    "tags": []
   },
   "outputs": [
    {
     "name": "stdout",
     "output_type": "stream",
     "text": [
      "                                   feature  importance\n",
      "5                                 Part 1-2    0.366814\n",
      "10                        Weapon_Used_Code    0.283069\n",
      "12  time_between_date_occured_and_reported    0.096133\n",
      "13                  Encoded_Modus_Operandi    0.047648\n",
      "9                             Premise_Code    0.040085\n",
      "6                               Victim_Age    0.032019\n",
      "11                                  Status    0.030507\n",
      "7                               Victim_Sex    0.026684\n",
      "8                           Victim_Descent    0.021042\n",
      "3                                  Area_ID    0.012186\n",
      "0                                 Latitude    0.011495\n",
      "2                            Time_Occurred    0.011159\n",
      "1                                Longitude    0.010771\n",
      "4                    Reporting_District_no    0.010388\n"
     ]
    },
    {
     "data": {
      "image/png": "[encoded data removed]",
      "text/plain": [
       "<Figure size 1000x600 with 1 Axes>"
      ]
     },
     "metadata": {},
     "output_type": "display_data"
    }
   ],
   "source": [
    "\n",
    "importance_df = pd.DataFrame({'feature': X_train_split.columns, 'importance': xgb_model.feature_importances_})\n",
    "importance_df = importance_df.sort_values('importance', ascending=False)\n",
    "\n",
    "print(importance_df)\n",
    "importance_df.plot(kind='bar', x='feature', y='importance', figsize=(10, 6))\n",
    "plt.title('XGBoost Feature Importance')\n",
    "plt.ylabel('Importance')\n",
    "plt.show()\n"
   ]
  },
  {
   "cell_type": "markdown",
   "id": "27342722",
   "metadata": {
    "papermill": {
     "duration": 0.084909,
     "end_time": "2024-08-09T16:57:46.797522",
     "exception": false,
     "start_time": "2024-08-09T16:57:46.712613",
     "status": "completed"
    },
    "tags": []
   },
   "source": [
    "Part 1-2 is the highest contributing column in the prediction"
   ]
  },
  {
   "cell_type": "code",
   "execution_count": 113,
   "id": "f264ad23",
   "metadata": {
    "execution": {
     "iopub.execute_input": "2024-08-09T16:57:46.966152Z",
     "iopub.status.busy": "2024-08-09T16:57:46.965746Z",
     "iopub.status.idle": "2024-08-09T16:57:46.972338Z",
     "shell.execute_reply": "2024-08-09T16:57:46.970460Z"
    },
    "papermill": {
     "duration": 0.095385,
     "end_time": "2024-08-09T16:57:46.975662",
     "exception": false,
     "start_time": "2024-08-09T16:57:46.880277",
     "status": "completed"
    },
    "tags": []
   },
   "outputs": [],
   "source": [
    "# from sklearn.neural_network import MLPClassifier\n",
    "# from sklearn.metrics import accuracy_score, classification_report\n",
    "\n",
    "# # Define and train the MLP classifier\n",
    "# mlp = MLPClassifier(hidden_layer_sizes=(128), activation='tanh', solver='adam', random_state=42)\n",
    "# mlp.fit(X_train_split, Y_train_split)\n",
    "\n",
    "# # Predictions\n",
    "# '''y_pred = mlp.predict_proba(X_val)\n",
    "# y_pred = (y_pred > 0.5).astype(int)'''\n",
    "\n",
    "\n",
    "# # Predictions\n",
    "# y_pred = mlp.predict(X_val_split)\n",
    "\n",
    "# y_pred = pd.DataFrame(y_pred, columns=['Crime_Category'])\n",
    "# # More detailed classification report\n",
    "# print(\"Classification Report:\")\n",
    "# print(classification_report(Y_val_split, y_pred))\n",
    "\n",
    "\n",
    "\n"
   ]
  },
  {
   "cell_type": "markdown",
   "id": "c019fc86",
   "metadata": {
    "papermill": {
     "duration": 0.083043,
     "end_time": "2024-08-09T16:57:47.144032",
     "exception": false,
     "start_time": "2024-08-09T16:57:47.060989",
     "status": "completed"
    },
    "tags": []
   },
   "source": [
    "Classification Report:\n",
    "              precision    recall  f1-score   support\n",
    "\n",
    "           0       0.87      0.92      0.89      3497\n",
    "           1       0.68      0.74      0.71      1430\n",
    "           2       0.55      0.20      0.29       542\n",
    "           3       0.60      0.78      0.68       406\n",
    "           4       0.43      0.24      0.30        68\n",
    "           5       0.00      0.00      0.00        54\n",
    "\n",
    "    accuracy                           0.79      5997\n",
    "   macro avg       0.52      0.48      0.48      5997\n",
    "weighted avg       0.77      0.79      0.77      5997"
   ]
  },
  {
   "cell_type": "markdown",
   "id": "c35f9dc0",
   "metadata": {
    "papermill": {
     "duration": 0.084868,
     "end_time": "2024-08-09T16:57:47.314302",
     "exception": false,
     "start_time": "2024-08-09T16:57:47.229434",
     "status": "completed"
    },
    "tags": []
   },
   "source": [
    "Updating estimators"
   ]
  },
  {
   "cell_type": "code",
   "execution_count": 114,
   "id": "ada00812",
   "metadata": {
    "execution": {
     "iopub.execute_input": "2024-08-09T16:57:47.483674Z",
     "iopub.status.busy": "2024-08-09T16:57:47.483256Z",
     "iopub.status.idle": "2024-08-09T16:57:48.517588Z",
     "shell.execute_reply": "2024-08-09T16:57:48.516315Z"
    },
    "papermill": {
     "duration": 1.121976,
     "end_time": "2024-08-09T16:57:48.520923",
     "exception": false,
     "start_time": "2024-08-09T16:57:47.398947",
     "status": "completed"
    },
    "tags": []
   },
   "outputs": [
    {
     "name": "stdout",
     "output_type": "stream",
     "text": [
      "Columns in train: ['Location', 'Cross_Street', 'Latitude', 'Longitude', 'Date_Reported', 'Date_Occurred', 'Time_Occurred', 'Area_ID', 'Area_Name', 'Reporting_District_no', 'Part 1-2', 'Modus_Operandi', 'Victim_Age', 'Victim_Sex', 'Victim_Descent', 'Premise_Code', 'Premise_Description', 'Weapon_Used_Code', 'Weapon_Description', 'Status', 'Status_Description', 'Crime_Category']\n",
      "Estimator - Victim_Descent_est - saved successfully\n",
      "Estimator - Status_est - saved successfully\n",
      "Estimator - Victim_Sex_est - saved successfully\n",
      "Index(['Location', 'Cross_Street', 'Latitude', 'Longitude', 'Date_Reported',\n",
      "       'Date_Occurred', 'Time_Occurred', 'Area_ID', 'Area_Name',\n",
      "       'Reporting_District_no', 'Part 1-2', 'Modus_Operandi', 'Victim_Age',\n",
      "       'Victim_Sex', 'Victim_Descent', 'Premise_Code', 'Premise_Description',\n",
      "       'Weapon_Used_Code', 'Weapon_Description', 'Status',\n",
      "       'Status_Description'],\n",
      "      dtype='object')\n"
     ]
    },
    {
     "name": "stderr",
     "output_type": "stream",
     "text": [
      "/tmp/ipykernel_18/3559844946.py:77: FutureWarning: A value is trying to be set on a copy of a DataFrame or Series through chained assignment using an inplace method.\n",
      "The behavior will change in pandas 3.0. This inplace method will never work because the intermediate object on which we are setting values always behaves as a copy.\n",
      "\n",
      "For example, when doing 'df[col].method(value, inplace=True)', try using 'df.method({col: value}, inplace=True)' or df[col] = df[col].method(value) instead, to perform the operation inplace on the original object.\n",
      "\n",
      "\n",
      "  self.train_split[feature].fillna(\"missing\", inplace=True)\n",
      "/tmp/ipykernel_18/3559844946.py:78: FutureWarning: A value is trying to be set on a copy of a DataFrame or Series through chained assignment using an inplace method.\n",
      "The behavior will change in pandas 3.0. This inplace method will never work because the intermediate object on which we are setting values always behaves as a copy.\n",
      "\n",
      "For example, when doing 'df[col].method(value, inplace=True)', try using 'df.method({col: value}, inplace=True)' or df[col] = df[col].method(value) instead, to perform the operation inplace on the original object.\n",
      "\n",
      "\n",
      "  self.val_split[feature].fillna(\"missing\", inplace=True)\n",
      "/tmp/ipykernel_18/3559844946.py:77: FutureWarning: A value is trying to be set on a copy of a DataFrame or Series through chained assignment using an inplace method.\n",
      "The behavior will change in pandas 3.0. This inplace method will never work because the intermediate object on which we are setting values always behaves as a copy.\n",
      "\n",
      "For example, when doing 'df[col].method(value, inplace=True)', try using 'df.method({col: value}, inplace=True)' or df[col] = df[col].method(value) instead, to perform the operation inplace on the original object.\n",
      "\n",
      "\n",
      "  self.train_split[feature].fillna(\"missing\", inplace=True)\n",
      "/tmp/ipykernel_18/3559844946.py:78: FutureWarning: A value is trying to be set on a copy of a DataFrame or Series through chained assignment using an inplace method.\n",
      "The behavior will change in pandas 3.0. This inplace method will never work because the intermediate object on which we are setting values always behaves as a copy.\n",
      "\n",
      "For example, when doing 'df[col].method(value, inplace=True)', try using 'df.method({col: value}, inplace=True)' or df[col] = df[col].method(value) instead, to perform the operation inplace on the original object.\n",
      "\n",
      "\n",
      "  self.val_split[feature].fillna(\"missing\", inplace=True)\n",
      "/tmp/ipykernel_18/3559844946.py:77: FutureWarning: A value is trying to be set on a copy of a DataFrame or Series through chained assignment using an inplace method.\n",
      "The behavior will change in pandas 3.0. This inplace method will never work because the intermediate object on which we are setting values always behaves as a copy.\n",
      "\n",
      "For example, when doing 'df[col].method(value, inplace=True)', try using 'df.method({col: value}, inplace=True)' or df[col] = df[col].method(value) instead, to perform the operation inplace on the original object.\n",
      "\n",
      "\n",
      "  self.train_split[feature].fillna(\"missing\", inplace=True)\n",
      "/tmp/ipykernel_18/3559844946.py:78: FutureWarning: A value is trying to be set on a copy of a DataFrame or Series through chained assignment using an inplace method.\n",
      "The behavior will change in pandas 3.0. This inplace method will never work because the intermediate object on which we are setting values always behaves as a copy.\n",
      "\n",
      "For example, when doing 'df[col].method(value, inplace=True)', try using 'df.method({col: value}, inplace=True)' or df[col] = df[col].method(value) instead, to perform the operation inplace on the original object.\n",
      "\n",
      "\n",
      "  self.val_split[feature].fillna(\"missing\", inplace=True)\n",
      "/tmp/ipykernel_18/3559844946.py:126: UserWarning: Could not infer format, so each element will be parsed individually, falling back to `dateutil`. To ensure parsing is consistent and as-expected, please specify a format.\n",
      "  self.train_split['Date_Reported'] = pd.to_datetime(self.train_split['Date_Reported'])\n",
      "/tmp/ipykernel_18/3559844946.py:127: UserWarning: Could not infer format, so each element will be parsed individually, falling back to `dateutil`. To ensure parsing is consistent and as-expected, please specify a format.\n",
      "  self.train_split['Date_Occurred'] = pd.to_datetime(self.train_split['Date_Occurred'])\n",
      "/tmp/ipykernel_18/3559844946.py:131: UserWarning: Could not infer format, so each element will be parsed individually, falling back to `dateutil`. To ensure parsing is consistent and as-expected, please specify a format.\n",
      "  self.val_split['Date_Reported'] = pd.to_datetime(self.val_split['Date_Reported'])\n",
      "/tmp/ipykernel_18/3559844946.py:132: UserWarning: Could not infer format, so each element will be parsed individually, falling back to `dateutil`. To ensure parsing is consistent and as-expected, please specify a format.\n",
      "  self.val_split['Date_Occurred'] = pd.to_datetime(self.val_split['Date_Occurred'])\n"
     ]
    },
    {
     "name": "stdout",
     "output_type": "stream",
     "text": [
      "Index(['Location', 'Cross_Street', 'Latitude', 'Longitude', 'Date_Reported',\n",
      "       'Date_Occurred', 'Time_Occurred', 'Area_ID', 'Area_Name',\n",
      "       'Reporting_District_no', 'Part 1-2', 'Modus_Operandi', 'Victim_Age',\n",
      "       'Victim_Sex', 'Victim_Descent', 'Premise_Code', 'Premise_Description',\n",
      "       'Weapon_Used_Code', 'Weapon_Description', 'Status',\n",
      "       'Status_Description', 'time_between_date_occured_and_reported'],\n",
      "      dtype='object')\n",
      "Code mapping created and saved.\n",
      "Modus Operandi encoding complete.\n",
      "Index(['Location', 'Cross_Street', 'Latitude', 'Longitude', 'Date_Reported',\n",
      "       'Date_Occurred', 'Time_Occurred', 'Area_ID', 'Area_Name',\n",
      "       'Reporting_District_no', 'Part 1-2', 'Modus_Operandi', 'Victim_Age',\n",
      "       'Victim_Sex', 'Victim_Descent', 'Premise_Code', 'Premise_Description',\n",
      "       'Weapon_Used_Code', 'Weapon_Description', 'Status',\n",
      "       'Status_Description', 'time_between_date_occured_and_reported',\n",
      "       'Encoded_Modus_Operandi'],\n",
      "      dtype='object')\n",
      "Index(['Latitude', 'Longitude', 'Time_Occurred', 'Area_ID',\n",
      "       'Reporting_District_no', 'Part 1-2', 'Victim_Age', 'Victim_Sex',\n",
      "       'Victim_Descent', 'Premise_Code', 'Weapon_Used_Code', 'Status',\n",
      "       'time_between_date_occured_and_reported', 'Encoded_Modus_Operandi'],\n",
      "      dtype='object')\n",
      "Index(['Latitude', 'Longitude', 'Time_Occurred', 'Area_ID',\n",
      "       'Reporting_District_no', 'Part 1-2', 'Victim_Age', 'Victim_Sex',\n",
      "       'Victim_Descent', 'Premise_Code', 'Weapon_Used_Code', 'Status',\n",
      "       'time_between_date_occured_and_reported', 'Encoded_Modus_Operandi'],\n",
      "      dtype='object')\n",
      "Estimator - imputer_est - saved successfully\n",
      "Estimator - Latitude_scaler_est - saved successfully\n",
      "Estimator - Longitude_scaler_est - saved successfully\n",
      "Estimator - Time_Occurred_scaler_est - saved successfully\n",
      "Estimator - Area_ID_scaler_est - saved successfully\n",
      "Estimator - Reporting_District_no_scaler_est - saved successfully\n",
      "Estimator - Part 1-2_scaler_est - saved successfully\n",
      "Estimator - Victim_Age_scaler_est - saved successfully\n",
      "Estimator - Premise_Code_scaler_est - saved successfully\n",
      "Estimator - Weapon_Used_Code_scaler_est - saved successfully\n",
      "Estimator - time_between_date_occured_and_reported_scaler_est - saved successfully\n"
     ]
    },
    {
     "name": "stderr",
     "output_type": "stream",
     "text": [
      "/tmp/ipykernel_18/3559844946.py:190: FutureWarning: Downcasting behavior in `replace` is deprecated and will be removed in a future version. To retain the old behavior, explicitly call `result.infer_objects(copy=False)`. To opt-in to the future behavior, set `pd.set_option('future.no_silent_downcasting', True)`\n",
      "  self.train_labels['Crime_Category'] = self.train_labels['Crime_Category'].replace(replacement_dict)\n",
      "/tmp/ipykernel_18/3559844946.py:190: SettingWithCopyWarning: \n",
      "A value is trying to be set on a copy of a slice from a DataFrame.\n",
      "Try using .loc[row_indexer,col_indexer] = value instead\n",
      "\n",
      "See the caveats in the documentation: https://pandas.pydata.org/pandas-docs/stable/user_guide/indexing.html#returning-a-view-versus-a-copy\n",
      "  self.train_labels['Crime_Category'] = self.train_labels['Crime_Category'].replace(replacement_dict)\n"
     ]
    }
   ],
   "source": [
    "import os\n",
    "import json\n",
    "import pickle\n",
    "import pandas as pd\n",
    "import re\n",
    "import numpy as np\n",
    "from scipy import stats\n",
    "from sklearn.impute import SimpleImputer\n",
    "from sklearn.model_selection import train_test_split\n",
    "from sklearn.preprocessing import MinMaxScaler\n",
    "from sklearn.preprocessing import LabelEncoder\n",
    "\n",
    "\n",
    "class DataPrep:\n",
    "    def __init__(self, train, test, modelartifacts_path):\n",
    "        \"\"\"\n",
    "        Splits data into training and validation sets.\n",
    "\n",
    "        Args:\n",
    "            X: Features.\n",
    "            y: Target variable.\n",
    "            modelartifacts_path: Path to save model artifacts.\n",
    "            test_size: Proportion of data for the validation set (default: 0.2).\n",
    "        \"\"\"\n",
    "#         X_train, X_val, y_train, y_val = train_test_split(\n",
    "#             X, y, test_size=test_size, random_state=42\n",
    "#         )\n",
    "        self.train_labels = train[['Crime_Category']]\n",
    "        self.train_split = train.drop(['Crime_Category'], axis=1)\n",
    "        self.val_split = test\n",
    "        self.modelartifacts_path = modelartifacts_path\n",
    "        self.dir_path = f\"{self.modelartifacts_path}/\"\n",
    "        os.makedirs(self.dir_path, exist_ok=True)\n",
    "        \n",
    "    def save_object(self, feature, est):\n",
    "        \"\"\"\n",
    "        Save the estimator object to a file.\n",
    "\n",
    "        Parameters:\n",
    "        - self: The instance of the class.\n",
    "        - feature (str): The name of the feature or model.\n",
    "        - est: The estimator object to be saved. It can be either a dictionary\n",
    "               (if `estimator` is of type dict) or an object supported by pickle.\n",
    "\n",
    "        Returns:\n",
    "        - None\n",
    "        \"\"\"\n",
    "\n",
    "        # Check if directory exists, create it if not\n",
    "        if not os.path.exists(self.dir_path):\n",
    "            os.makedirs(self.dir_path)\n",
    "\n",
    "        # Save based on type\n",
    "        if isinstance(est, dict):\n",
    "            with open(f\"{self.dir_path}/{feature}_est.json\", \"w\") as f:\n",
    "                json.dump(est, f)\n",
    "        else:\n",
    "            with open(f\"{self.dir_path}/{feature}_est.pkl\", \"wb\") as f:\n",
    "                pickle.dump(est, f)\n",
    "\n",
    "        # No exception handling, assumes successful save\n",
    "        print(f\"Estimator - {feature}_est - saved successfully\")\n",
    "        \n",
    "    def label_encode(self):\n",
    "        features = ['Victim_Descent', 'Status', 'Victim_Sex']\n",
    "        for feature in features:\n",
    "            label_encoder = LabelEncoder()\n",
    "\n",
    "            # Identify new categories in val_split that are not in train_split\n",
    "            new_categories = set(self.val_split[feature].unique()) - set(self.train_split[feature].unique())\n",
    "\n",
    "            # Replace new categories in val_split with NaN\n",
    "            if new_categories:\n",
    "                self.val_split[feature] = self.val_split[feature].replace(to_replace=new_categories, value=np.nan)\n",
    "\n",
    "            # Fill missing values with 'missing'\n",
    "            self.train_split[feature].fillna(\"missing\", inplace=True)\n",
    "            self.val_split[feature].fillna(\"missing\", inplace=True)\n",
    "\n",
    "            # Fit LabelEncoder on the training data and transform both train and validation splits\n",
    "            self.train_split[feature] = label_encoder.fit_transform(self.train_split[feature])\n",
    "            self.val_split[feature] = label_encoder.transform(self.val_split[feature])\n",
    "\n",
    "            # Save the fitted LabelEncoder object\n",
    "            self.save_object(feature, label_encoder)\n",
    "\n",
    "\n",
    "                    \n",
    "    def imputation(self,):\n",
    "        imputer = SimpleImputer(strategy='mean')\n",
    "        self.train_split = imputer.fit_transform(self.train_split)\n",
    "        self.val_split = imputer.transform(self.val_split)\n",
    "        self.save_object(f\"imputer\", imputer)\n",
    "        \n",
    "    \n",
    "    def scaling(self,):\n",
    "        scaler = MinMaxScaler()\n",
    "\n",
    "        # Recreate DataFrames to ensure correct structure after imputation\n",
    "        self.train_split = pd.DataFrame(self.train_split, columns=['Latitude', 'Longitude', 'Time_Occurred', 'Area_ID',\n",
    "        'Reporting_District_no', 'Part 1-2', 'Victim_Age', 'Victim_Sex',\n",
    "        'Victim_Descent', 'Premise_Code', 'Weapon_Used_Code', 'Status',\n",
    "        'time_between_date_occured_and_reported', 'Encoded_Modus_Operandi'])\n",
    "        self.val_split = pd.DataFrame(self.val_split, columns=['Latitude', 'Longitude', 'Time_Occurred', 'Area_ID',\n",
    "        'Reporting_District_no', 'Part 1-2', 'Victim_Age', 'Victim_Sex',\n",
    "        'Victim_Descent', 'Premise_Code', 'Weapon_Used_Code', 'Status',\n",
    "        'time_between_date_occured_and_reported', 'Encoded_Modus_Operandi'])\n",
    "\n",
    "        # Columns for scaling\n",
    "        numeric_cols = ['Latitude', 'Longitude', 'Time_Occurred', 'Area_ID',\n",
    "        'Reporting_District_no', 'Part 1-2', 'Victim_Age',\n",
    "            'Premise_Code', 'Weapon_Used_Code',\n",
    "        'time_between_date_occured_and_reported']\n",
    "\n",
    "        for col in numeric_cols:\n",
    "            # Reshape the data to 2D before transforming\n",
    "            self.train_split[col] = scaler.fit_transform(self.train_split[[col]])\n",
    "            self.val_split[col] = scaler.transform(self.val_split[[col]])\n",
    "\n",
    "            self.save_object(f\"{col}_scaler\", scaler)\n",
    "\n",
    "        \n",
    "    \n",
    "    def feature_generation(self):\n",
    "        #generating new features\n",
    "        self.train_split['Date_Reported'] = pd.to_datetime(self.train_split['Date_Reported'])\n",
    "        self.train_split['Date_Occurred'] = pd.to_datetime(self.train_split['Date_Occurred'])\n",
    "        self.train_split['time_between_date_occured_and_reported'] = (self.train_split['Date_Reported'] - self.train_split['Date_Occurred']) / pd.Timedelta(minutes=1)\n",
    "        self.train_split['time_between_date_occured_and_reported'] = self.train_split['time_between_date_occured_and_reported'].abs().astype(int)\n",
    "\n",
    "        self.val_split['Date_Reported'] = pd.to_datetime(self.val_split['Date_Reported'])\n",
    "        self.val_split['Date_Occurred'] = pd.to_datetime(self.val_split['Date_Occurred'])\n",
    "        self.val_split['time_between_date_occured_and_reported'] = (self.val_split['Date_Reported'] - self.val_split['Date_Occurred']) / pd.Timedelta(minutes=1)\n",
    "        self.val_split['time_between_date_occured_and_reported'] = self.val_split['time_between_date_occured_and_reported'].abs().astype(int)\n",
    "        \n",
    "    def encode_modus_operandi(self, is_training=True, mapping_file='modus_operandi_mapping.json'):\n",
    "        def encode_mo(mo_string, mapping):\n",
    "            if pd.isna(mo_string) or mo_string == '':\n",
    "                return '0'\n",
    "\n",
    "            if not isinstance(mo_string, str):\n",
    "                mo_string = str(mo_string)\n",
    "\n",
    "            codes = re.findall(r'\\d+', mo_string)\n",
    "            encoded = [mapping.get(code, '0') for code in codes]\n",
    "            return ''.join(encoded) if encoded else '0'\n",
    "\n",
    "        # Replace NaN with '0'\n",
    "        self.train_split['Modus_Operandi'] = self.train_split['Modus_Operandi'].fillna('0')\n",
    "        if not is_training:\n",
    "            self.val_split['Modus_Operandi'] = self.val_split['Modus_Operandi'].fillna('0')\n",
    "\n",
    "        if is_training:\n",
    "            # Extract unique codes and create a mapping\n",
    "            unique_codes = set()\n",
    "            for item in self.train_split['Modus_Operandi']:\n",
    "                if isinstance(item, str):\n",
    "                    codes = re.findall(r'\\d+', item)\n",
    "                    unique_codes.update(codes)\n",
    "\n",
    "            code_mapping = {code: str(i+1) for i, code in enumerate(sorted(unique_codes))}\n",
    "\n",
    "            # Save the mapping\n",
    "            with open(f\"{self.dir_path}/{mapping_file}\", 'w') as f:\n",
    "                json.dump(code_mapping, f)\n",
    "\n",
    "            print(\"Code mapping created and saved.\")\n",
    "        else:\n",
    "            # Load the mapping\n",
    "            with open(f\"{self.dir_path}/{mapping_file}\", 'r') as f:\n",
    "                code_mapping = json.load(f)\n",
    "\n",
    "        # Apply encoding\n",
    "        self.train_split['Encoded_Modus_Operandi'] = self.train_split['Modus_Operandi'].apply(lambda x: encode_mo(x, code_mapping))\n",
    "#         if not is_training:\n",
    "#             self.val_split['Encoded_Modus_Operandi'] = self.val_split['Modus_Operandi'].apply(lambda x: encode_mo(x, code_mapping))\n",
    "        self.val_split['Encoded_Modus_Operandi'] = self.val_split['Modus_Operandi'].apply(lambda x: encode_mo(x, code_mapping))\n",
    "\n",
    "        print(\"Modus Operandi encoding complete.\")\n",
    "        \n",
    "    def output_mapping(self):\n",
    "        \n",
    "        replacement_dict = {'Property Crimes': 0,\n",
    "                      'Violent Crimes': 1,\n",
    "                      'Crimes against Public Order': 2,\n",
    "                      'Fraud and White-Collar Crimes': 3,\n",
    "                      'Crimes against Persons': 4,\n",
    "                      'Other Crimes': 5}\n",
    "\n",
    "        self.train_labels['Crime_Category'] = self.train_labels['Crime_Category'].replace(replacement_dict)\n",
    "\n",
    "\n",
    "    \n",
    "    def drop_columns(self,):\n",
    "        self.train_split.drop(['Location', 'Date_Reported',\n",
    "       'Date_Occurred', 'Area_Name',\n",
    "       'Modus_Operandi',\n",
    "        'Premise_Description',\n",
    "       'Weapon_Description', 'Status_Description','Cross_Street'],axis=1, inplace=True)\n",
    "        self.val_split.drop(['Location', 'Date_Reported',\n",
    "       'Date_Occurred', 'Area_Name',\n",
    "       'Modus_Operandi',\n",
    "        'Premise_Description',\n",
    "       'Weapon_Description', 'Status_Description','Cross_Street'],axis=1, inplace=True)\n",
    "    \n",
    "    def process(self,):\n",
    "        self.label_encode()\n",
    "        print(self.train_split.columns)\n",
    "        self.feature_generation()\n",
    "        print(self.train_split.columns)\n",
    "        self.encode_modus_operandi()\n",
    "        print(self.train_split.columns)\n",
    "        self.drop_columns()\n",
    "        print(self.train_split.columns)\n",
    "        print(self.val_split.columns)\n",
    "        self.imputation()\n",
    "        self.scaling()\n",
    "        self.output_mapping()\n",
    "        return self.train_split, self.val_split, self.train_labels\n",
    "\n",
    "    \n",
    "train = pd.read_csv(\"/kaggle/input/crime-cast-forecasting-crime-categories/train.csv\")\n",
    "test = pd.read_csv(\"/kaggle/input/crime-cast-forecasting-crime-categories/test.csv\")\n",
    "print(\"Columns in train:\", train.columns.tolist())\n",
    "#drop outliers\n",
    "Q1 = train['Victim_Age'].quantile(0.25)\n",
    "Q3 = train['Victim_Age'].quantile(0.75)\n",
    "IQR = Q3 - Q1\n",
    "lower_bound = Q1 - 1.5 * IQR\n",
    "upper_bound = Q3 +  1.5 * IQR\n",
    "train = train[(train['Victim_Age'] > lower_bound) & (train['Victim_Age'] < upper_bound)]\n",
    "train.shape\n",
    "# Y_train = train[['Crime_Category']]\n",
    "# X_train = train.drop(['Crime_Category'], axis=1)\n",
    "# X = X_train.copy()\n",
    "# y = Y_train.copy()\n",
    "output_path = '/kaggle/working/final_estimators'\n",
    "\n",
    "data_prep = DataPrep(train,test, output_path)\n",
    "\n",
    "X_train, X_test, Y_train = data_prep.process()\n"
   ]
  },
  {
   "cell_type": "markdown",
   "id": "a2856900",
   "metadata": {
    "papermill": {
     "duration": 0.082444,
     "end_time": "2024-08-09T16:57:48.686260",
     "exception": false,
     "start_time": "2024-08-09T16:57:48.603816",
     "status": "completed"
    },
    "tags": []
   },
   "source": [
    "Building Inference pipeline"
   ]
  },
  {
   "cell_type": "code",
   "execution_count": 115,
   "id": "8182fc05",
   "metadata": {
    "execution": {
     "iopub.execute_input": "2024-08-09T16:57:48.853956Z",
     "iopub.status.busy": "2024-08-09T16:57:48.853562Z",
     "iopub.status.idle": "2024-08-09T16:57:51.018907Z",
     "shell.execute_reply": "2024-08-09T16:57:51.017757Z"
    },
    "papermill": {
     "duration": 2.251617,
     "end_time": "2024-08-09T16:57:51.021356",
     "exception": false,
     "start_time": "2024-08-09T16:57:48.769739",
     "status": "completed"
    },
    "tags": []
   },
   "outputs": [
    {
     "name": "stderr",
     "output_type": "stream",
     "text": [
      "/opt/conda/lib/python3.10/site-packages/xgboost/core.py:160: UserWarning: [16:57:48] WARNING: /workspace/src/learner.cc:742: \n",
      "Parameters: { \"scale_pos_weight\" } are not used.\n",
      "\n",
      "  warnings.warn(smsg, UserWarning)\n"
     ]
    },
    {
     "data": {
      "text/html": [
       "<style>#sk-container-id-2 {color: black;background-color: white;}#sk-container-id-2 pre{padding: 0;}#sk-container-id-2 div.sk-toggleable {background-color: white;}#sk-container-id-2 label.sk-toggleable__label {cursor: pointer;display: block;width: 100%;margin-bottom: 0;padding: 0.3em;box-sizing: border-box;text-align: center;}#sk-container-id-2 label.sk-toggleable__label-arrow:before {content: \"▸\";float: left;margin-right: 0.25em;color: #696969;}#sk-container-id-2 label.sk-toggleable__label-arrow:hover:before {color: black;}#sk-container-id-2 div.sk-estimator:hover label.sk-toggleable__label-arrow:before {color: black;}#sk-container-id-2 div.sk-toggleable__content {max-height: 0;max-width: 0;overflow: hidden;text-align: left;background-color: #f0f8ff;}#sk-container-id-2 div.sk-toggleable__content pre {margin: 0.2em;color: black;border-radius: 0.25em;background-color: #f0f8ff;}#sk-container-id-2 input.sk-toggleable__control:checked~div.sk-toggleable__content {max-height: 200px;max-width: 100%;overflow: auto;}#sk-container-id-2 input.sk-toggleable__control:checked~label.sk-toggleable__label-arrow:before {content: \"▾\";}#sk-container-id-2 div.sk-estimator input.sk-toggleable__control:checked~label.sk-toggleable__label {background-color: #d4ebff;}#sk-container-id-2 div.sk-label input.sk-toggleable__control:checked~label.sk-toggleable__label {background-color: #d4ebff;}#sk-container-id-2 input.sk-hidden--visually {border: 0;clip: rect(1px 1px 1px 1px);clip: rect(1px, 1px, 1px, 1px);height: 1px;margin: -1px;overflow: hidden;padding: 0;position: absolute;width: 1px;}#sk-container-id-2 div.sk-estimator {font-family: monospace;background-color: #f0f8ff;border: 1px dotted black;border-radius: 0.25em;box-sizing: border-box;margin-bottom: 0.5em;}#sk-container-id-2 div.sk-estimator:hover {background-color: #d4ebff;}#sk-container-id-2 div.sk-parallel-item::after {content: \"\";width: 100%;border-bottom: 1px solid gray;flex-grow: 1;}#sk-container-id-2 div.sk-label:hover label.sk-toggleable__label {background-color: #d4ebff;}#sk-container-id-2 div.sk-serial::before {content: \"\";position: absolute;border-left: 1px solid gray;box-sizing: border-box;top: 0;bottom: 0;left: 50%;z-index: 0;}#sk-container-id-2 div.sk-serial {display: flex;flex-direction: column;align-items: center;background-color: white;padding-right: 0.2em;padding-left: 0.2em;position: relative;}#sk-container-id-2 div.sk-item {position: relative;z-index: 1;}#sk-container-id-2 div.sk-parallel {display: flex;align-items: stretch;justify-content: center;background-color: white;position: relative;}#sk-container-id-2 div.sk-item::before, #sk-container-id-2 div.sk-parallel-item::before {content: \"\";position: absolute;border-left: 1px solid gray;box-sizing: border-box;top: 0;bottom: 0;left: 50%;z-index: -1;}#sk-container-id-2 div.sk-parallel-item {display: flex;flex-direction: column;z-index: 1;position: relative;background-color: white;}#sk-container-id-2 div.sk-parallel-item:first-child::after {align-self: flex-end;width: 50%;}#sk-container-id-2 div.sk-parallel-item:last-child::after {align-self: flex-start;width: 50%;}#sk-container-id-2 div.sk-parallel-item:only-child::after {width: 0;}#sk-container-id-2 div.sk-dashed-wrapped {border: 1px dashed gray;margin: 0 0.4em 0.5em 0.4em;box-sizing: border-box;padding-bottom: 0.4em;background-color: white;}#sk-container-id-2 div.sk-label label {font-family: monospace;font-weight: bold;display: inline-block;line-height: 1.2em;}#sk-container-id-2 div.sk-label-container {text-align: center;}#sk-container-id-2 div.sk-container {/* jupyter's `normalize.less` sets `[hidden] { display: none; }` but bootstrap.min.css set `[hidden] { display: none !important; }` so we also need the `!important` here to be able to override the default hidden behavior on the sphinx rendered scikit-learn.org. See: https://github.com/scikit-learn/scikit-learn/issues/21755 */display: inline-block !important;position: relative;}#sk-container-id-2 div.sk-text-repr-fallback {display: none;}</style><div id=\"sk-container-id-2\" class=\"sk-top-container\"><div class=\"sk-text-repr-fallback\"><pre>XGBClassifier(base_score=None, booster=None, callbacks=None,\n",
       "              colsample_bylevel=None, colsample_bynode=None,\n",
       "              colsample_bytree=1.0, device=None, early_stopping_rounds=None,\n",
       "              enable_categorical=False, eval_metric=None, feature_types=None,\n",
       "              gamma=0.5, grow_policy=None, importance_type=None,\n",
       "              interaction_constraints=None, learning_rate=0.1, max_bin=None,\n",
       "              max_cat_threshold=None, max_cat_to_onehot=None,\n",
       "              max_delta_step=None, max_depth=7, max_leaves=None,\n",
       "              min_child_weight=3, missing=nan, monotone_constraints=None,\n",
       "              multi_strategy=None, n_estimators=200, n_jobs=None,\n",
       "              num_parallel_tree=None, objective=&#x27;multi:softprob&#x27;, ...)</pre><b>In a Jupyter environment, please rerun this cell to show the HTML representation or trust the notebook. <br />On GitHub, the HTML representation is unable to render, please try loading this page with nbviewer.org.</b></div><div class=\"sk-container\" hidden><div class=\"sk-item\"><div class=\"sk-estimator sk-toggleable\"><input class=\"sk-toggleable__control sk-hidden--visually\" id=\"sk-estimator-id-2\" type=\"checkbox\" checked><label for=\"sk-estimator-id-2\" class=\"sk-toggleable__label sk-toggleable__label-arrow\">XGBClassifier</label><div class=\"sk-toggleable__content\"><pre>XGBClassifier(base_score=None, booster=None, callbacks=None,\n",
       "              colsample_bylevel=None, colsample_bynode=None,\n",
       "              colsample_bytree=1.0, device=None, early_stopping_rounds=None,\n",
       "              enable_categorical=False, eval_metric=None, feature_types=None,\n",
       "              gamma=0.5, grow_policy=None, importance_type=None,\n",
       "              interaction_constraints=None, learning_rate=0.1, max_bin=None,\n",
       "              max_cat_threshold=None, max_cat_to_onehot=None,\n",
       "              max_delta_step=None, max_depth=7, max_leaves=None,\n",
       "              min_child_weight=3, missing=nan, monotone_constraints=None,\n",
       "              multi_strategy=None, n_estimators=200, n_jobs=None,\n",
       "              num_parallel_tree=None, objective=&#x27;multi:softprob&#x27;, ...)</pre></div></div></div></div></div>"
      ],
      "text/plain": [
       "XGBClassifier(base_score=None, booster=None, callbacks=None,\n",
       "              colsample_bylevel=None, colsample_bynode=None,\n",
       "              colsample_bytree=1.0, device=None, early_stopping_rounds=None,\n",
       "              enable_categorical=False, eval_metric=None, feature_types=None,\n",
       "              gamma=0.5, grow_policy=None, importance_type=None,\n",
       "              interaction_constraints=None, learning_rate=0.1, max_bin=None,\n",
       "              max_cat_threshold=None, max_cat_to_onehot=None,\n",
       "              max_delta_step=None, max_depth=7, max_leaves=None,\n",
       "              min_child_weight=3, missing=nan, monotone_constraints=None,\n",
       "              multi_strategy=None, n_estimators=200, n_jobs=None,\n",
       "              num_parallel_tree=None, objective='multi:softprob', ...)"
      ]
     },
     "execution_count": 115,
     "metadata": {},
     "output_type": "execute_result"
    }
   ],
   "source": [
    "import xgboost as xgb \n",
    "from sklearn.multiclass import OneVsOneClassifier, OneVsOneClassifier\n",
    "\n",
    "xgb_model = xgb.XGBClassifier(max_depth=7, n_estimators=200, min_child_weight=3, gamma=0.5, subsample=1.0, colsample_bytree=1.0, scale_pos_weight=1, learning_rate=0.1,objective='multi:softprob')\n",
    "xgb_model.fit(X_train, Y_train)"
   ]
  },
  {
   "cell_type": "code",
   "execution_count": 116,
   "id": "2ea7b4f9",
   "metadata": {
    "execution": {
     "iopub.execute_input": "2024-08-09T16:57:51.191789Z",
     "iopub.status.busy": "2024-08-09T16:57:51.191351Z",
     "iopub.status.idle": "2024-08-09T16:57:51.235214Z",
     "shell.execute_reply": "2024-08-09T16:57:51.234144Z"
    },
    "papermill": {
     "duration": 0.131863,
     "end_time": "2024-08-09T16:57:51.237953",
     "exception": false,
     "start_time": "2024-08-09T16:57:51.106090",
     "status": "completed"
    },
    "tags": []
   },
   "outputs": [],
   "source": [
    "preds = xgb_model.predict(X_test)\n",
    "preds = pd.DataFrame(preds, columns=['Crime_Category'])"
   ]
  },
  {
   "cell_type": "code",
   "execution_count": 117,
   "id": "f41655e5",
   "metadata": {
    "execution": {
     "iopub.execute_input": "2024-08-09T16:57:51.412793Z",
     "iopub.status.busy": "2024-08-09T16:57:51.412375Z",
     "iopub.status.idle": "2024-08-09T16:57:51.423826Z",
     "shell.execute_reply": "2024-08-09T16:57:51.422719Z"
    },
    "papermill": {
     "duration": 0.102133,
     "end_time": "2024-08-09T16:57:51.426334",
     "exception": false,
     "start_time": "2024-08-09T16:57:51.324201",
     "status": "completed"
    },
    "tags": []
   },
   "outputs": [
    {
     "data": {
      "text/html": [
       "<div>\n",
       "<style scoped>\n",
       "    .dataframe tbody tr th:only-of-type {\n",
       "        vertical-align: middle;\n",
       "    }\n",
       "\n",
       "    .dataframe tbody tr th {\n",
       "        vertical-align: top;\n",
       "    }\n",
       "\n",
       "    .dataframe thead th {\n",
       "        text-align: right;\n",
       "    }\n",
       "</style>\n",
       "<table border=\"1\" class=\"dataframe\">\n",
       "  <thead>\n",
       "    <tr style=\"text-align: right;\">\n",
       "      <th></th>\n",
       "      <th>Crime_Category</th>\n",
       "    </tr>\n",
       "  </thead>\n",
       "  <tbody>\n",
       "    <tr>\n",
       "      <th>0</th>\n",
       "      <td>1</td>\n",
       "    </tr>\n",
       "    <tr>\n",
       "      <th>1</th>\n",
       "      <td>0</td>\n",
       "    </tr>\n",
       "    <tr>\n",
       "      <th>2</th>\n",
       "      <td>3</td>\n",
       "    </tr>\n",
       "    <tr>\n",
       "      <th>3</th>\n",
       "      <td>0</td>\n",
       "    </tr>\n",
       "    <tr>\n",
       "      <th>4</th>\n",
       "      <td>2</td>\n",
       "    </tr>\n",
       "    <tr>\n",
       "      <th>...</th>\n",
       "      <td>...</td>\n",
       "    </tr>\n",
       "    <tr>\n",
       "      <th>4995</th>\n",
       "      <td>0</td>\n",
       "    </tr>\n",
       "    <tr>\n",
       "      <th>4996</th>\n",
       "      <td>0</td>\n",
       "    </tr>\n",
       "    <tr>\n",
       "      <th>4997</th>\n",
       "      <td>1</td>\n",
       "    </tr>\n",
       "    <tr>\n",
       "      <th>4998</th>\n",
       "      <td>1</td>\n",
       "    </tr>\n",
       "    <tr>\n",
       "      <th>4999</th>\n",
       "      <td>0</td>\n",
       "    </tr>\n",
       "  </tbody>\n",
       "</table>\n",
       "<p>5000 rows × 1 columns</p>\n",
       "</div>"
      ],
      "text/plain": [
       "      Crime_Category\n",
       "0                  1\n",
       "1                  0\n",
       "2                  3\n",
       "3                  0\n",
       "4                  2\n",
       "...              ...\n",
       "4995               0\n",
       "4996               0\n",
       "4997               1\n",
       "4998               1\n",
       "4999               0\n",
       "\n",
       "[5000 rows x 1 columns]"
      ]
     },
     "execution_count": 117,
     "metadata": {},
     "output_type": "execute_result"
    }
   ],
   "source": [
    "preds"
   ]
  },
  {
   "cell_type": "code",
   "execution_count": 118,
   "id": "f3bbaa44",
   "metadata": {
    "execution": {
     "iopub.execute_input": "2024-08-09T16:57:51.596052Z",
     "iopub.status.busy": "2024-08-09T16:57:51.595220Z",
     "iopub.status.idle": "2024-08-09T16:57:51.602202Z",
     "shell.execute_reply": "2024-08-09T16:57:51.601089Z"
    },
    "papermill": {
     "duration": 0.093932,
     "end_time": "2024-08-09T16:57:51.604466",
     "exception": false,
     "start_time": "2024-08-09T16:57:51.510534",
     "status": "completed"
    },
    "tags": []
   },
   "outputs": [
    {
     "data": {
      "text/plain": [
       "(5000, 1)"
      ]
     },
     "execution_count": 118,
     "metadata": {},
     "output_type": "execute_result"
    }
   ],
   "source": [
    "preds.shape"
   ]
  },
  {
   "cell_type": "code",
   "execution_count": 119,
   "id": "a11a8d4a",
   "metadata": {
    "execution": {
     "iopub.execute_input": "2024-08-09T16:57:51.773059Z",
     "iopub.status.busy": "2024-08-09T16:57:51.772661Z",
     "iopub.status.idle": "2024-08-09T16:57:51.802539Z",
     "shell.execute_reply": "2024-08-09T16:57:51.801268Z"
    },
    "papermill": {
     "duration": 0.117029,
     "end_time": "2024-08-09T16:57:51.804998",
     "exception": false,
     "start_time": "2024-08-09T16:57:51.687969",
     "status": "completed"
    },
    "tags": []
   },
   "outputs": [
    {
     "name": "stdout",
     "output_type": "stream",
     "text": [
      "Model saved to /kaggle/working/final_estimators/xgboost_model.pkl\n"
     ]
    }
   ],
   "source": [
    "#pickling the xgboost model\n",
    "model_filename = 'xgboost_model.pkl'\n",
    "output_path = '/kaggle/working/final_estimators'\n",
    "\n",
    "# Save the model to disk\n",
    "with open(f'{output_path}/{model_filename}', 'wb') as file:\n",
    "    pickle.dump(xgb_model, file)\n",
    "\n",
    "print(f\"Model saved to {f'{output_path}/{model_filename}'}\")"
   ]
  },
  {
   "cell_type": "code",
   "execution_count": 120,
   "id": "b4987c11",
   "metadata": {
    "execution": {
     "iopub.execute_input": "2024-08-09T16:57:51.974067Z",
     "iopub.status.busy": "2024-08-09T16:57:51.973361Z",
     "iopub.status.idle": "2024-08-09T16:57:51.980393Z",
     "shell.execute_reply": "2024-08-09T16:57:51.979297Z"
    },
    "papermill": {
     "duration": 0.094406,
     "end_time": "2024-08-09T16:57:51.982827",
     "exception": false,
     "start_time": "2024-08-09T16:57:51.888421",
     "status": "completed"
    },
    "tags": []
   },
   "outputs": [
    {
     "data": {
      "text/plain": [
       "'from sklearn.ensemble import RandomForestClassifier\\nclassifier = RandomForestClassifier(n_estimators=100, random_state=42)\\nclassifier.fit(X_train, Y_train)'"
      ]
     },
     "execution_count": 120,
     "metadata": {},
     "output_type": "execute_result"
    }
   ],
   "source": [
    "'''from sklearn.ensemble import RandomForestClassifier\n",
    "classifier = RandomForestClassifier(n_estimators=100, random_state=42)\n",
    "classifier.fit(X_train, Y_train)'''"
   ]
  },
  {
   "cell_type": "code",
   "execution_count": 121,
   "id": "785ab1a3",
   "metadata": {
    "execution": {
     "iopub.execute_input": "2024-08-09T16:57:52.154205Z",
     "iopub.status.busy": "2024-08-09T16:57:52.153792Z",
     "iopub.status.idle": "2024-08-09T16:57:52.160364Z",
     "shell.execute_reply": "2024-08-09T16:57:52.159298Z"
    },
    "papermill": {
     "duration": 0.095131,
     "end_time": "2024-08-09T16:57:52.162799",
     "exception": false,
     "start_time": "2024-08-09T16:57:52.067668",
     "status": "completed"
    },
    "tags": []
   },
   "outputs": [
    {
     "data": {
      "text/plain": [
       "\"preds = classifier.predict(X_test)\\npreds = pd.DataFrame(preds, columns=['Crime_Category'])\""
      ]
     },
     "execution_count": 121,
     "metadata": {},
     "output_type": "execute_result"
    }
   ],
   "source": [
    "'''preds = classifier.predict(X_test)\n",
    "preds = pd.DataFrame(preds, columns=['Crime_Category'])'''"
   ]
  },
  {
   "cell_type": "code",
   "execution_count": 122,
   "id": "893bd64a",
   "metadata": {
    "execution": {
     "iopub.execute_input": "2024-08-09T16:57:52.333916Z",
     "iopub.status.busy": "2024-08-09T16:57:52.333519Z",
     "iopub.status.idle": "2024-08-09T16:57:52.340664Z",
     "shell.execute_reply": "2024-08-09T16:57:52.339569Z"
    },
    "papermill": {
     "duration": 0.095064,
     "end_time": "2024-08-09T16:57:52.343012",
     "exception": false,
     "start_time": "2024-08-09T16:57:52.247948",
     "status": "completed"
    },
    "tags": []
   },
   "outputs": [
    {
     "data": {
      "text/plain": [
       "\"from sklearn.ensemble import GradientBoostingClassifier\\n\\nclassifier = GradientBoostingClassifier(n_estimators=300)\\nclassifier.fit(X_train, Y_train)\\n\\nfrom sklearn.metrics import classification_report\\npreds = classifier.predict(X_test)\\n\\npreds = pd.DataFrame(preds, columns=['Crime_Category'])\""
      ]
     },
     "execution_count": 122,
     "metadata": {},
     "output_type": "execute_result"
    }
   ],
   "source": [
    "'''from sklearn.ensemble import GradientBoostingClassifier\n",
    "\n",
    "classifier = GradientBoostingClassifier(n_estimators=300)\n",
    "classifier.fit(X_train, Y_train)\n",
    "\n",
    "from sklearn.metrics import classification_report\n",
    "preds = classifier.predict(X_test)\n",
    "\n",
    "preds = pd.DataFrame(preds, columns=['Crime_Category'])'''"
   ]
  },
  {
   "cell_type": "code",
   "execution_count": 123,
   "id": "46419e08",
   "metadata": {
    "execution": {
     "iopub.execute_input": "2024-08-09T16:57:52.514624Z",
     "iopub.status.busy": "2024-08-09T16:57:52.514215Z",
     "iopub.status.idle": "2024-08-09T16:57:52.520459Z",
     "shell.execute_reply": "2024-08-09T16:57:52.519192Z"
    },
    "papermill": {
     "duration": 0.09427,
     "end_time": "2024-08-09T16:57:52.522887",
     "exception": false,
     "start_time": "2024-08-09T16:57:52.428617",
     "status": "completed"
    },
    "tags": []
   },
   "outputs": [],
   "source": [
    "# from sklearn.neural_network import MLPClassifier\n",
    "# from sklearn.metrics import accuracy_score, classification_report\n",
    "\n",
    "# # Define and train the MLP classifier\n",
    "# mlp = MLPClassifier(hidden_layer_sizes=(128), activation='tanh', solver='adam', random_state=42)\n",
    "# mlp.fit(X_train, Y_train)\n",
    "\n",
    "# # Predictions\n",
    "# '''y_pred = mlp.predict_proba(X_val)\n",
    "# y_pred = (y_pred > 0.5).astype(int)'''\n",
    "\n",
    "\n",
    "# # Predictions\n",
    "# y_pred = mlp.predict(X_val)\n",
    "\n",
    "# y_pred = pd.DataFrame(y_pred, columns=['Crime_Category'])\n",
    "# # More detailed classification report\n",
    "# print(\"Classification Report:\")\n",
    "# print(classification_report(Y_val, y_pred))\n",
    "\n",
    "\n",
    "\n"
   ]
  },
  {
   "cell_type": "code",
   "execution_count": 124,
   "id": "d404cc7a",
   "metadata": {
    "execution": {
     "iopub.execute_input": "2024-08-09T16:57:52.694020Z",
     "iopub.status.busy": "2024-08-09T16:57:52.693600Z",
     "iopub.status.idle": "2024-08-09T16:57:53.038756Z",
     "shell.execute_reply": "2024-08-09T16:57:53.037809Z"
    },
    "papermill": {
     "duration": 0.434197,
     "end_time": "2024-08-09T16:57:53.041637",
     "exception": false,
     "start_time": "2024-08-09T16:57:52.607440",
     "status": "completed"
    },
    "tags": []
   },
   "outputs": [
    {
     "name": "stderr",
     "output_type": "stream",
     "text": [
      "/tmp/ipykernel_18/3163636384.py:43: UserWarning: Could not infer format, so each element will be parsed individually, falling back to `dateutil`. To ensure parsing is consistent and as-expected, please specify a format.\n",
      "  data['Date_Reported'] = pd.to_datetime(data['Date_Reported'])\n",
      "/tmp/ipykernel_18/3163636384.py:44: UserWarning: Could not infer format, so each element will be parsed individually, falling back to `dateutil`. To ensure parsing is consistent and as-expected, please specify a format.\n",
      "  data['Date_Occurred'] = pd.to_datetime(data['Date_Occurred'])\n"
     ]
    },
    {
     "name": "stdout",
     "output_type": "stream",
     "text": [
      "[1 0 3 ... 1 1 0]\n"
     ]
    }
   ],
   "source": [
    "import os\n",
    "import json\n",
    "import pickle\n",
    "import pandas as pd\n",
    "import numpy as np\n",
    "\n",
    "class DataPreparation:\n",
    "    def __init__(self, model_path):\n",
    "        self.model_path = model_path\n",
    "        \n",
    "        # Load the saved estimators\n",
    "        self.load_estimators()\n",
    "\n",
    "    def load_estimators(self):\n",
    "        # Load all necessary estimators used during training\n",
    "        self.label_encoders = {}\n",
    "        self.scalers = {}\n",
    "        self.imputer = None\n",
    "\n",
    "        # Load label encoders\n",
    "        for feature in ['Victim_Descent', 'Status', 'Victim_Sex']:\n",
    "            with open(f\"{self.model_path}/{feature}_est.pkl\", \"rb\") as f:\n",
    "                self.label_encoders[feature] = pickle.load(f)\n",
    "\n",
    "        # Load scalers\n",
    "        for col in ['Latitude', 'Longitude', 'Time_Occurred', 'Area_ID',\n",
    "                    'Reporting_District_no', 'Part 1-2', 'Victim_Age',\n",
    "                    'Premise_Code', 'Weapon_Used_Code',\n",
    "                    'time_between_date_occured_and_reported']:\n",
    "            with open(f\"{self.model_path}/{col}_scaler_est.pkl\", \"rb\") as f:\n",
    "                self.scalers[col] = pickle.load(f)\n",
    "\n",
    "        # Load imputer\n",
    "        with open(f\"{self.model_path}/imputer_est.pkl\", \"rb\") as f:\n",
    "            self.imputer = pickle.load(f)\n",
    "\n",
    "        # Load modus operandi mapping\n",
    "        with open(f\"{self.model_path}/modus_operandi_mapping.json\", \"r\") as f:\n",
    "            self.mo_mapping = json.load(f)\n",
    "\n",
    "    def preprocess(self, data):\n",
    "        # Apply feature generation\n",
    "        data['Date_Reported'] = pd.to_datetime(data['Date_Reported'])\n",
    "        data['Date_Occurred'] = pd.to_datetime(data['Date_Occurred'])\n",
    "        data['time_between_date_occured_and_reported'] = (\n",
    "            (data['Date_Reported'] - data['Date_Occurred']) / pd.Timedelta(minutes=1)\n",
    "        ).abs().astype(int)\n",
    "\n",
    "        # Encode modus operandi\n",
    "        data['Encoded_Modus_Operandi'] = data['Modus_Operandi'].apply(\n",
    "            lambda x: self.encode_mo(x)\n",
    "        )\n",
    "\n",
    "        # Label encoding\n",
    "        for feature in ['Victim_Descent', 'Status', 'Victim_Sex']:\n",
    "            data[feature] = data[feature].fillna(\"missing\")\n",
    "            \n",
    "            # Handle unseen categories\n",
    "            unseen_categories = set(data[feature].unique()) - set(self.label_encoders[feature].classes_)\n",
    "            if unseen_categories:\n",
    "                data[feature] = data[feature].replace(to_replace=unseen_categories, value=np.nan)\n",
    "            \n",
    "            # Fill NaN with a placeholder before transforming\n",
    "            data[feature] = data[feature].fillna(\"missing\")\n",
    "            data[feature] = self.label_encoders[feature].transform(data[feature])\n",
    "\n",
    "        # Dropping unnecessary columns\n",
    "        data = pd.DataFrame(data, columns=['Latitude', 'Longitude', 'Time_Occurred', 'Area_ID',\n",
    "                                           'Reporting_District_no', 'Part 1-2', 'Victim_Age',\n",
    "                                           'Victim_Sex', 'Victim_Descent', 'Premise_Code',\n",
    "                                           'Weapon_Used_Code', 'Status',\n",
    "                                           'time_between_date_occured_and_reported',\n",
    "                                           'Encoded_Modus_Operandi'])\n",
    "\n",
    "        # Imputation\n",
    "        data = self.imputer.transform(data)\n",
    "        \n",
    "        data = pd.DataFrame(data, columns=['Latitude', 'Longitude', 'Time_Occurred', 'Area_ID',\n",
    "        'Reporting_District_no', 'Part 1-2', 'Victim_Age', 'Victim_Sex',\n",
    "        'Victim_Descent', 'Premise_Code', 'Weapon_Used_Code', 'Status',\n",
    "        'time_between_date_occured_and_reported', 'Encoded_Modus_Operandi'])\n",
    "\n",
    "        # Scaling\n",
    "        for col in self.scalers.keys():\n",
    "            data[col] = self.scalers[col].transform(data[[col]])\n",
    "\n",
    "\n",
    "\n",
    "        return data\n",
    "\n",
    "    def encode_mo(self, mo_string):\n",
    "        if pd.isna(mo_string) or mo_string == '':\n",
    "            return '0'\n",
    "        if not isinstance(mo_string, str):\n",
    "            mo_string = str(mo_string)\n",
    "        codes = re.findall(r'\\d+', mo_string)\n",
    "        encoded = [self.mo_mapping.get(code, '0') for code in codes]\n",
    "        return ''.join(encoded) if encoded else '0'\n",
    "\n",
    "\n",
    "class Inference(object):\n",
    "    def __init__(self, model_path):\n",
    "        self.data_preparation = DataPreparation(model_path)\n",
    "        # Load your trained model here, for example:\n",
    "        with open(f\"{model_path}/xgboost_model.pkl\", \"rb\") as f:\n",
    "            self.model = pickle.load(f)\n",
    "\n",
    "    def predict(self, data):\n",
    "        # Preprocess the data\n",
    "        prepared_data = self.data_preparation.preprocess(data)\n",
    "\n",
    "        # Make predictions\n",
    "        predictions = self.model.predict(prepared_data)\n",
    "        return predictions\n",
    "\n",
    "\n",
    "# Example usage\n",
    "output_path = '/kaggle/working/final_estimators/'\n",
    "inference_pipeline = Inference(output_path)\n",
    "\n",
    "# Load new data for inference\n",
    "new_data = pd.read_csv('/kaggle/input/crime-cast-forecasting-crime-categories/test.csv')\n",
    "\n",
    "# Make predictions\n",
    "predictions = inference_pipeline.predict(new_data)\n",
    "print(predictions)\n"
   ]
  },
  {
   "cell_type": "code",
   "execution_count": 125,
   "id": "0bc36555",
   "metadata": {
    "execution": {
     "iopub.execute_input": "2024-08-09T16:57:53.214527Z",
     "iopub.status.busy": "2024-08-09T16:57:53.213408Z",
     "iopub.status.idle": "2024-08-09T16:57:53.219325Z",
     "shell.execute_reply": "2024-08-09T16:57:53.217921Z"
    },
    "papermill": {
     "duration": 0.09539,
     "end_time": "2024-08-09T16:57:53.222042",
     "exception": false,
     "start_time": "2024-08-09T16:57:53.126652",
     "status": "completed"
    },
    "tags": []
   },
   "outputs": [],
   "source": [
    "# preds = pd.DataFrame(predictions, columns=['Crime_Category'])"
   ]
  },
  {
   "cell_type": "code",
   "execution_count": 126,
   "id": "6aeb2578",
   "metadata": {
    "execution": {
     "iopub.execute_input": "2024-08-09T16:57:53.395161Z",
     "iopub.status.busy": "2024-08-09T16:57:53.394738Z",
     "iopub.status.idle": "2024-08-09T16:57:53.399663Z",
     "shell.execute_reply": "2024-08-09T16:57:53.398551Z"
    },
    "papermill": {
     "duration": 0.093098,
     "end_time": "2024-08-09T16:57:53.402200",
     "exception": false,
     "start_time": "2024-08-09T16:57:53.309102",
     "status": "completed"
    },
    "tags": []
   },
   "outputs": [],
   "source": [
    "# preds.value_counts()"
   ]
  },
  {
   "cell_type": "code",
   "execution_count": 127,
   "id": "76242f94",
   "metadata": {
    "execution": {
     "iopub.execute_input": "2024-08-09T16:57:53.577592Z",
     "iopub.status.busy": "2024-08-09T16:57:53.577148Z",
     "iopub.status.idle": "2024-08-09T16:57:53.581938Z",
     "shell.execute_reply": "2024-08-09T16:57:53.580857Z"
    },
    "papermill": {
     "duration": 0.094759,
     "end_time": "2024-08-09T16:57:53.584421",
     "exception": false,
     "start_time": "2024-08-09T16:57:53.489662",
     "status": "completed"
    },
    "tags": []
   },
   "outputs": [],
   "source": [
    "# preds.shape"
   ]
  },
  {
   "cell_type": "code",
   "execution_count": 128,
   "id": "406d730a",
   "metadata": {
    "execution": {
     "iopub.execute_input": "2024-08-09T16:57:53.754996Z",
     "iopub.status.busy": "2024-08-09T16:57:53.754601Z",
     "iopub.status.idle": "2024-08-09T16:57:53.764499Z",
     "shell.execute_reply": "2024-08-09T16:57:53.763306Z"
    },
    "papermill": {
     "duration": 0.098056,
     "end_time": "2024-08-09T16:57:53.767175",
     "exception": false,
     "start_time": "2024-08-09T16:57:53.669119",
     "status": "completed"
    },
    "tags": []
   },
   "outputs": [],
   "source": [
    "\n",
    "replacement_dict = {0:  'Property Crimes',\n",
    "                    1 : 'Violent Crimes',\n",
    "                    2 : 'Crimes against Public Order',\n",
    "                    3 : 'Fraud and White-Collar Crimes',\n",
    "                    4 : 'Crimes against Persons',  \\\n",
    "                    5 : 'Other Crimes'} \n",
    "preds['Replaced_Crime_Category'] = preds['Crime_Category'].replace(replacement_dict)\n",
    "\n"
   ]
  },
  {
   "cell_type": "code",
   "execution_count": 129,
   "id": "b39b0e03",
   "metadata": {
    "execution": {
     "iopub.execute_input": "2024-08-09T16:57:53.938958Z",
     "iopub.status.busy": "2024-08-09T16:57:53.938517Z",
     "iopub.status.idle": "2024-08-09T16:57:53.951494Z",
     "shell.execute_reply": "2024-08-09T16:57:53.950389Z"
    },
    "papermill": {
     "duration": 0.102489,
     "end_time": "2024-08-09T16:57:53.954201",
     "exception": false,
     "start_time": "2024-08-09T16:57:53.851712",
     "status": "completed"
    },
    "tags": []
   },
   "outputs": [
    {
     "data": {
      "text/html": [
       "<div>\n",
       "<style scoped>\n",
       "    .dataframe tbody tr th:only-of-type {\n",
       "        vertical-align: middle;\n",
       "    }\n",
       "\n",
       "    .dataframe tbody tr th {\n",
       "        vertical-align: top;\n",
       "    }\n",
       "\n",
       "    .dataframe thead th {\n",
       "        text-align: right;\n",
       "    }\n",
       "</style>\n",
       "<table border=\"1\" class=\"dataframe\">\n",
       "  <thead>\n",
       "    <tr style=\"text-align: right;\">\n",
       "      <th></th>\n",
       "      <th>Crime_Category</th>\n",
       "      <th>Replaced_Crime_Category</th>\n",
       "    </tr>\n",
       "  </thead>\n",
       "  <tbody>\n",
       "    <tr>\n",
       "      <th>0</th>\n",
       "      <td>1</td>\n",
       "      <td>Violent Crimes</td>\n",
       "    </tr>\n",
       "    <tr>\n",
       "      <th>1</th>\n",
       "      <td>0</td>\n",
       "      <td>Property Crimes</td>\n",
       "    </tr>\n",
       "    <tr>\n",
       "      <th>2</th>\n",
       "      <td>3</td>\n",
       "      <td>Fraud and White-Collar Crimes</td>\n",
       "    </tr>\n",
       "    <tr>\n",
       "      <th>3</th>\n",
       "      <td>0</td>\n",
       "      <td>Property Crimes</td>\n",
       "    </tr>\n",
       "    <tr>\n",
       "      <th>4</th>\n",
       "      <td>2</td>\n",
       "      <td>Crimes against Public Order</td>\n",
       "    </tr>\n",
       "    <tr>\n",
       "      <th>...</th>\n",
       "      <td>...</td>\n",
       "      <td>...</td>\n",
       "    </tr>\n",
       "    <tr>\n",
       "      <th>4995</th>\n",
       "      <td>0</td>\n",
       "      <td>Property Crimes</td>\n",
       "    </tr>\n",
       "    <tr>\n",
       "      <th>4996</th>\n",
       "      <td>0</td>\n",
       "      <td>Property Crimes</td>\n",
       "    </tr>\n",
       "    <tr>\n",
       "      <th>4997</th>\n",
       "      <td>1</td>\n",
       "      <td>Violent Crimes</td>\n",
       "    </tr>\n",
       "    <tr>\n",
       "      <th>4998</th>\n",
       "      <td>1</td>\n",
       "      <td>Violent Crimes</td>\n",
       "    </tr>\n",
       "    <tr>\n",
       "      <th>4999</th>\n",
       "      <td>0</td>\n",
       "      <td>Property Crimes</td>\n",
       "    </tr>\n",
       "  </tbody>\n",
       "</table>\n",
       "<p>5000 rows × 2 columns</p>\n",
       "</div>"
      ],
      "text/plain": [
       "      Crime_Category        Replaced_Crime_Category\n",
       "0                  1                 Violent Crimes\n",
       "1                  0                Property Crimes\n",
       "2                  3  Fraud and White-Collar Crimes\n",
       "3                  0                Property Crimes\n",
       "4                  2    Crimes against Public Order\n",
       "...              ...                            ...\n",
       "4995               0                Property Crimes\n",
       "4996               0                Property Crimes\n",
       "4997               1                 Violent Crimes\n",
       "4998               1                 Violent Crimes\n",
       "4999               0                Property Crimes\n",
       "\n",
       "[5000 rows x 2 columns]"
      ]
     },
     "execution_count": 129,
     "metadata": {},
     "output_type": "execute_result"
    }
   ],
   "source": [
    "preds"
   ]
  },
  {
   "cell_type": "code",
   "execution_count": 130,
   "id": "b5ea724c",
   "metadata": {
    "execution": {
     "iopub.execute_input": "2024-08-09T16:57:54.126975Z",
     "iopub.status.busy": "2024-08-09T16:57:54.126509Z",
     "iopub.status.idle": "2024-08-09T16:57:54.145997Z",
     "shell.execute_reply": "2024-08-09T16:57:54.144973Z"
    },
    "papermill": {
     "duration": 0.108847,
     "end_time": "2024-08-09T16:57:54.148736",
     "exception": false,
     "start_time": "2024-08-09T16:57:54.039889",
     "status": "completed"
    },
    "tags": []
   },
   "outputs": [],
   "source": [
    "#preds are my final output.\n",
    "submission = pd.DataFrame({'ID':range(1,5001), 'Crime_Category': preds['Replaced_Crime_Category']})\n",
    "submission.to_csv(\"submission.csv\", index=False)"
   ]
  },
  {
   "cell_type": "code",
   "execution_count": 131,
   "id": "5b262640",
   "metadata": {
    "execution": {
     "iopub.execute_input": "2024-08-09T16:57:54.324054Z",
     "iopub.status.busy": "2024-08-09T16:57:54.323662Z",
     "iopub.status.idle": "2024-08-09T16:57:54.336324Z",
     "shell.execute_reply": "2024-08-09T16:57:54.335152Z"
    },
    "papermill": {
     "duration": 0.104529,
     "end_time": "2024-08-09T16:57:54.338885",
     "exception": false,
     "start_time": "2024-08-09T16:57:54.234356",
     "status": "completed"
    },
    "tags": []
   },
   "outputs": [
    {
     "data": {
      "text/html": [
       "<div>\n",
       "<style scoped>\n",
       "    .dataframe tbody tr th:only-of-type {\n",
       "        vertical-align: middle;\n",
       "    }\n",
       "\n",
       "    .dataframe tbody tr th {\n",
       "        vertical-align: top;\n",
       "    }\n",
       "\n",
       "    .dataframe thead th {\n",
       "        text-align: right;\n",
       "    }\n",
       "</style>\n",
       "<table border=\"1\" class=\"dataframe\">\n",
       "  <thead>\n",
       "    <tr style=\"text-align: right;\">\n",
       "      <th></th>\n",
       "      <th>ID</th>\n",
       "      <th>Crime_Category</th>\n",
       "    </tr>\n",
       "  </thead>\n",
       "  <tbody>\n",
       "    <tr>\n",
       "      <th>0</th>\n",
       "      <td>1</td>\n",
       "      <td>Violent Crimes</td>\n",
       "    </tr>\n",
       "    <tr>\n",
       "      <th>1</th>\n",
       "      <td>2</td>\n",
       "      <td>Property Crimes</td>\n",
       "    </tr>\n",
       "    <tr>\n",
       "      <th>2</th>\n",
       "      <td>3</td>\n",
       "      <td>Fraud and White-Collar Crimes</td>\n",
       "    </tr>\n",
       "    <tr>\n",
       "      <th>3</th>\n",
       "      <td>4</td>\n",
       "      <td>Property Crimes</td>\n",
       "    </tr>\n",
       "    <tr>\n",
       "      <th>4</th>\n",
       "      <td>5</td>\n",
       "      <td>Crimes against Public Order</td>\n",
       "    </tr>\n",
       "    <tr>\n",
       "      <th>...</th>\n",
       "      <td>...</td>\n",
       "      <td>...</td>\n",
       "    </tr>\n",
       "    <tr>\n",
       "      <th>4995</th>\n",
       "      <td>4996</td>\n",
       "      <td>Property Crimes</td>\n",
       "    </tr>\n",
       "    <tr>\n",
       "      <th>4996</th>\n",
       "      <td>4997</td>\n",
       "      <td>Property Crimes</td>\n",
       "    </tr>\n",
       "    <tr>\n",
       "      <th>4997</th>\n",
       "      <td>4998</td>\n",
       "      <td>Violent Crimes</td>\n",
       "    </tr>\n",
       "    <tr>\n",
       "      <th>4998</th>\n",
       "      <td>4999</td>\n",
       "      <td>Violent Crimes</td>\n",
       "    </tr>\n",
       "    <tr>\n",
       "      <th>4999</th>\n",
       "      <td>5000</td>\n",
       "      <td>Property Crimes</td>\n",
       "    </tr>\n",
       "  </tbody>\n",
       "</table>\n",
       "<p>5000 rows × 2 columns</p>\n",
       "</div>"
      ],
      "text/plain": [
       "        ID                 Crime_Category\n",
       "0        1                 Violent Crimes\n",
       "1        2                Property Crimes\n",
       "2        3  Fraud and White-Collar Crimes\n",
       "3        4                Property Crimes\n",
       "4        5    Crimes against Public Order\n",
       "...    ...                            ...\n",
       "4995  4996                Property Crimes\n",
       "4996  4997                Property Crimes\n",
       "4997  4998                 Violent Crimes\n",
       "4998  4999                 Violent Crimes\n",
       "4999  5000                Property Crimes\n",
       "\n",
       "[5000 rows x 2 columns]"
      ]
     },
     "execution_count": 131,
     "metadata": {},
     "output_type": "execute_result"
    }
   ],
   "source": [
    "submission"
   ]
  },
  {
   "cell_type": "code",
   "execution_count": null,
   "id": "e8fded2a",
   "metadata": {
    "papermill": {
     "duration": 0.085283,
     "end_time": "2024-08-09T16:57:54.510941",
     "exception": false,
     "start_time": "2024-08-09T16:57:54.425658",
     "status": "completed"
    },
    "tags": []
   },
   "outputs": [],
   "source": []
  },
  {
   "cell_type": "code",
   "execution_count": null,
   "id": "758ae599",
   "metadata": {
    "papermill": {
     "duration": 0.085028,
     "end_time": "2024-08-09T16:57:54.681782",
     "exception": false,
     "start_time": "2024-08-09T16:57:54.596754",
     "status": "completed"
    },
    "tags": []
   },
   "outputs": [],
   "source": []
  }
 ],
 "metadata": {
  "kaggle": {
   "accelerator": "none",
   "dataSources": [
    {
     "databundleVersionId": 8446444,
     "sourceId": 77420,
     "sourceType": "competition"
    }
   ],
   "dockerImageVersionId": 30732,
   "isGpuEnabled": false,
   "isInternetEnabled": true,
   "language": "python",
   "sourceType": "notebook"
  },
  "kernelspec": {
   "display_name": "Python 3",
   "language": "python",
   "name": "python3"
  },
  "language_info": {
   "codemirror_mode": {
    "name": "ipython",
    "version": 3
   },
   "file_extension": ".py",
   "mimetype": "text/x-python",
   "name": "python",
   "nbconvert_exporter": "python",
   "pygments_lexer": "ipython3",
   "version": "3.10.13"
  },
  "papermill": {
   "default_parameters": {},
   "duration": 237.021876,
   "end_time": "2024-08-09T16:57:55.494204",
   "environment_variables": {},
   "exception": null,
   "input_path": "__notebook__.ipynb",
   "output_path": "__notebook__.ipynb",
   "parameters": {},
   "start_time": "2024-08-09T16:53:58.472328",
   "version": "2.5.0"
  }
 },
 "nbformat": 4,
 "nbformat_minor": 5
}
