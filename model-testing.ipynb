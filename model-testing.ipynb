{
 "cells": [
  {
   "cell_type": "code",
   "execution_count": 1,
   "metadata": {},
   "outputs": [],
   "source": [
    "#Reading the data\n",
    "import numpy as np \n",
    "import pandas as pd\n",
    "train = pd.read_csv(\"Data/train.csv\")\n",
    "test = pd.read_csv(\"Data/test.csv\")"
   ]
  },
  {
   "cell_type": "code",
   "execution_count": 2,
   "metadata": {},
   "outputs": [
    {
     "data": {
      "text/plain": [
       "((20000, 22), (5000, 21))"
      ]
     },
     "execution_count": 2,
     "metadata": {},
     "output_type": "execute_result"
    }
   ],
   "source": [
    "train.shape, test.shape"
   ]
  },
  {
   "cell_type": "code",
   "execution_count": 3,
   "metadata": {},
   "outputs": [
    {
     "data": {
      "text/plain": [
       "Index(['Location', 'Cross_Street', 'Latitude', 'Longitude', 'Date_Reported',\n",
       "       'Date_Occurred', 'Time_Occurred', 'Area_ID', 'Area_Name',\n",
       "       'Reporting_District_no', 'Part 1-2', 'Modus_Operandi', 'Victim_Age',\n",
       "       'Victim_Sex', 'Victim_Descent', 'Premise_Code', 'Premise_Description',\n",
       "       'Weapon_Used_Code', 'Weapon_Description', 'Status',\n",
       "       'Status_Description', 'Crime_Category'],\n",
       "      dtype='object')"
      ]
     },
     "execution_count": 3,
     "metadata": {},
     "output_type": "execute_result"
    }
   ],
   "source": [
    "train.columns"
   ]
  },
  {
   "cell_type": "code",
   "execution_count": 4,
   "metadata": {},
   "outputs": [
    {
     "data": {
      "text/plain": [
       "Property Crimes                  11666\n",
       "Violent Crimes                    4767\n",
       "Crimes against Public Order       1808\n",
       "Fraud and White-Collar Crimes     1355\n",
       "Crimes against Persons             225\n",
       "Other Crimes                       179\n",
       "Name: Crime_Category, dtype: int64"
      ]
     },
     "execution_count": 4,
     "metadata": {},
     "output_type": "execute_result"
    }
   ],
   "source": [
    "train['Crime_Category'].value_counts()"
   ]
  },
  {
   "cell_type": "code",
   "execution_count": 5,
   "metadata": {},
   "outputs": [],
   "source": [
    "replacement_dict = {'Property Crimes': 0,\n",
    "                    'Violent Crimes': 1,\n",
    "                    'Crimes against Public Order': 2,\n",
    "                    'Fraud and White-Collar Crimes': 3,\n",
    "                    'Crimes against Persons': 4,  # Add placeholders for missing values (if needed)\n",
    "                    'Other Crimes': 5} \n",
    "train['Crime_Category'] = train['Crime_Category'].replace(replacement_dict)\n"
   ]
  },
  {
   "cell_type": "code",
   "execution_count": 6,
   "metadata": {},
   "outputs": [
    {
     "name": "stdout",
     "output_type": "stream",
     "text": [
      "                                       Location  \\\n",
      "0       4500    CARPENTER                    AV   \n",
      "1               45TH                         ST   \n",
      "2        600 E  MARTIN LUTHER KING JR        BL   \n",
      "3      14900    ORO GRANDE                   ST   \n",
      "4       7100 S  VERMONT                      AV   \n",
      "...                                         ...   \n",
      "19995   5100 W  ADAMS                        BL   \n",
      "19996  16900    ROSCOE                       BL   \n",
      "19997   1000 S  SHENANDOAH                   ST   \n",
      "19998    300 W  SEPULVEDA                    ST   \n",
      "19999           DALTON                       AV   \n",
      "\n",
      "                          Cross_Street  Latitude  Longitude Date_Reported  \\\n",
      "0                                  NaN   34.1522  -118.3910    2020-03-09   \n",
      "1      ALAMEDA                      ST   34.0028  -118.2391    2020-02-27   \n",
      "2                                  NaN   34.0111  -118.2653    2020-08-21   \n",
      "3                                  NaN   34.2953  -118.4590    2020-11-08   \n",
      "4                                  NaN   33.9787  -118.2918    2020-02-25   \n",
      "...                                ...       ...        ...           ...   \n",
      "19995                              NaN   34.0334  -118.3523    2020-05-24   \n",
      "19996                              NaN   34.2212  -118.5011    2020-12-25   \n",
      "19997                              NaN   34.0571  -118.3815    2020-09-25   \n",
      "19998                              NaN   33.7451  -118.2835    2020-06-10   \n",
      "19999  VERNON                       AV   34.0037  -118.3034    2020-02-18   \n",
      "\n",
      "      Date_Occurred  Time_Occurred  Area_ID    Area_Name  \\\n",
      "0        2020-03-06         1800.0     15.0  N Hollywood   \n",
      "1        2020-02-27         1345.0     13.0       Newton   \n",
      "2        2020-08-21          605.0     13.0       Newton   \n",
      "3        2020-11-06         1800.0     19.0      Mission   \n",
      "4        2020-02-25         1130.0     12.0  77th Street   \n",
      "...             ...            ...      ...          ...   \n",
      "19995    2020-05-24          700.0      3.0    Southwest   \n",
      "19996    2020-12-25          259.0     10.0  West Valley   \n",
      "19997    2020-09-25         1400.0      8.0      West LA   \n",
      "19998    2020-06-10          600.0      5.0       Harbor   \n",
      "19999    2020-02-17         1800.0      3.0    Southwest   \n",
      "\n",
      "       Reporting_District_no  ...  Victim_Sex Victim_Descent  Premise_Code  \\\n",
      "0                     1563.0  ...           M              W         101.0   \n",
      "1                     1367.0  ...           M              H         216.0   \n",
      "2                     1343.0  ...           M              B         501.0   \n",
      "3                     1924.0  ...           M              H         101.0   \n",
      "4                     1245.0  ...           X              X         401.0   \n",
      "...                      ...  ...         ...            ...           ...   \n",
      "19995                  303.0  ...           M              H         501.0   \n",
      "19996                 1008.0  ...           M              W         301.0   \n",
      "19997                  849.0  ...           M              H         102.0   \n",
      "19998                  558.0  ...           F              H         501.0   \n",
      "19999                  397.0  ...         NaN            NaN         101.0   \n",
      "\n",
      "          Premise_Description Weapon_Used_Code  \\\n",
      "0                      STREET              NaN   \n",
      "1                   SWAP MEET            400.0   \n",
      "2      SINGLE FAMILY DWELLING              NaN   \n",
      "3                      STREET              NaN   \n",
      "4                   MINI-MART            400.0   \n",
      "...                       ...              ...   \n",
      "19995  SINGLE FAMILY DWELLING            400.0   \n",
      "19996             GAS STATION              NaN   \n",
      "19997                SIDEWALK              NaN   \n",
      "19998  SINGLE FAMILY DWELLING              NaN   \n",
      "19999                  STREET              NaN   \n",
      "\n",
      "                                   Weapon_Description Status  \\\n",
      "0                                                 NaN     IC   \n",
      "1      STRONG-ARM (HANDS, FIST, FEET OR BODILY FORCE)     IC   \n",
      "2                                                 NaN     IC   \n",
      "3                                                 NaN     IC   \n",
      "4      STRONG-ARM (HANDS, FIST, FEET OR BODILY FORCE)     IC   \n",
      "...                                               ...    ...   \n",
      "19995  STRONG-ARM (HANDS, FIST, FEET OR BODILY FORCE)     IC   \n",
      "19996                                             NaN     IC   \n",
      "19997                                             NaN     IC   \n",
      "19998                                             NaN     IC   \n",
      "19999                                             NaN     IC   \n",
      "\n",
      "       Status_Description Crime_Category  \\\n",
      "0             Invest Cont              0   \n",
      "1             Invest Cont              0   \n",
      "2             Invest Cont              0   \n",
      "3             Invest Cont              0   \n",
      "4             Invest Cont              0   \n",
      "...                   ...            ...   \n",
      "19995         Invest Cont              1   \n",
      "19996         Invest Cont              0   \n",
      "19997         Invest Cont              0   \n",
      "19998         Invest Cont              2   \n",
      "19999         Invest Cont              0   \n",
      "\n",
      "      time_between_date_occured_and_reported  \n",
      "0                                       4320  \n",
      "1                                          0  \n",
      "2                                          0  \n",
      "3                                       2880  \n",
      "4                                          0  \n",
      "...                                      ...  \n",
      "19995                                      0  \n",
      "19996                                      0  \n",
      "19997                                      0  \n",
      "19998                                      0  \n",
      "19999                                   1440  \n",
      "\n",
      "[20000 rows x 23 columns]\n"
     ]
    }
   ],
   "source": [
    "# Convert the date columns to datetime format\n",
    "train['Date_Reported'] = pd.to_datetime(train['Date_Reported'])\n",
    "train['Date_Occurred'] = pd.to_datetime(train['Date_Occurred'])\n",
    "\n",
    "# Calculate the difference in minutes\n",
    "train['time_between_date_occured_and_reported'] = (train['Date_Reported'] - train['Date_Occurred']) / pd.Timedelta(minutes=1)\n",
    "\n",
    "# Get the absolute difference in minutes\n",
    "train['time_between_date_occured_and_reported'] = train['time_between_date_occured_and_reported'].abs().astype(int)\n",
    "\n",
    "# Print the dataframe\n",
    "print(train)"
   ]
  },
  {
   "cell_type": "code",
   "execution_count": 7,
   "metadata": {},
   "outputs": [
    {
     "name": "stdout",
     "output_type": "stream",
     "text": [
      "                                      Location  \\\n",
      "0      1500    LEIGHTON                     AV   \n",
      "1       100 S  NORMANDIE                    AV   \n",
      "2       300 E  111TH                        ST   \n",
      "3      1300 S  LA BREA                      AV   \n",
      "4     11000    MORRISON                     ST   \n",
      "...                                        ...   \n",
      "4995   4600    MASCOT                       ST   \n",
      "4996   2200 E  7TH                          ST   \n",
      "4997           LANGDON                      AV   \n",
      "4998    400 E  5TH                          ST   \n",
      "4999  10100 S  SAN PEDRO                    ST   \n",
      "\n",
      "                         Cross_Street  Latitude  Longitude Date_Reported  \\\n",
      "0                                 NaN   34.0128  -118.3045    2020-03-03   \n",
      "1                                 NaN   34.0726  -118.3029    2020-06-01   \n",
      "2                                 NaN   33.9348  -118.2695    2020-08-28   \n",
      "3                                 NaN   34.0497  -118.3442    2020-12-23   \n",
      "4                                 NaN   34.1611  -118.3704    2020-08-30   \n",
      "...                               ...       ...        ...           ...   \n",
      "4995                              NaN   34.0409  -118.3408    2020-06-05   \n",
      "4996                              NaN   34.0347  -118.2253    2020-12-02   \n",
      "4997  TUPPER                       ST   34.2392  -118.4698    2020-11-21   \n",
      "4998                              NaN   34.0453  -118.2443    2020-03-01   \n",
      "4999                              NaN   33.9438  -118.2695    2020-10-09   \n",
      "\n",
      "     Date_Occurred  Time_Occurred  Area_ID    Area_Name  \\\n",
      "0       2020-03-03         2000.0      3.0    Southwest   \n",
      "1       2020-04-25         1700.0     20.0      Olympic   \n",
      "2       2020-08-27          900.0     18.0    Southeast   \n",
      "3       2020-12-03         2200.0      7.0     Wilshire   \n",
      "4       2020-08-29          130.0     15.0  N Hollywood   \n",
      "...            ...            ...      ...          ...   \n",
      "4995    2020-06-04         2100.0      7.0     Wilshire   \n",
      "4996    2020-11-25         1530.0      4.0   Hollenbeck   \n",
      "4997    2020-11-21         2100.0     19.0      Mission   \n",
      "4998    2020-02-29         2335.0      1.0      Central   \n",
      "4999    2020-10-09          320.0     18.0    Southeast   \n",
      "\n",
      "      Reporting_District_no  ...  Victim_Age Victim_Sex  Victim_Descent  \\\n",
      "0                     376.0  ...        28.0          F               H   \n",
      "1                    2014.0  ...        26.0          M               B   \n",
      "2                    1844.0  ...        62.0          F               B   \n",
      "3                     765.0  ...         0.0        NaN             NaN   \n",
      "4                    1555.0  ...        37.0          F               W   \n",
      "...                     ...  ...         ...        ...             ...   \n",
      "4995                  775.0  ...         0.0        NaN             NaN   \n",
      "4996                  471.0  ...         0.0          X               X   \n",
      "4997                 1961.0  ...        38.0          M               H   \n",
      "4998                  147.0  ...        41.0          M               B   \n",
      "4999                 1823.0  ...        49.0          M               B   \n",
      "\n",
      "     Premise_Code                           Premise_Description  \\\n",
      "0           501.0                        SINGLE FAMILY DWELLING   \n",
      "1           502.0  MULTI-UNIT DWELLING (APARTMENT, DUPLEX, ETC)   \n",
      "2           721.0                                   HIGH SCHOOL   \n",
      "3           108.0                                   PARKING LOT   \n",
      "4           501.0                        SINGLE FAMILY DWELLING   \n",
      "...           ...                                           ...   \n",
      "4995        101.0                                        STREET   \n",
      "4996        116.0                                 OTHER/OUTSIDE   \n",
      "4997        101.0                                        STREET   \n",
      "4998        502.0  MULTI-UNIT DWELLING (APARTMENT, DUPLEX, ETC)   \n",
      "4999        122.0                      VEHICLE, PASSENGER/TRUCK   \n",
      "\n",
      "      Weapon_Used_Code                              Weapon_Description  \\\n",
      "0                400.0  STRONG-ARM (HANDS, FIST, FEET OR BODILY FORCE)   \n",
      "1                  NaN                                             NaN   \n",
      "2                  NaN                                             NaN   \n",
      "3                  NaN                                             NaN   \n",
      "4                  NaN                                             NaN   \n",
      "...                ...                                             ...   \n",
      "4995               NaN                                             NaN   \n",
      "4996               NaN                                             NaN   \n",
      "4997             400.0  STRONG-ARM (HANDS, FIST, FEET OR BODILY FORCE)   \n",
      "4998             500.0                     UNKNOWN WEAPON/OTHER WEAPON   \n",
      "4999               NaN                                             NaN   \n",
      "\n",
      "      Status Status_Description time_between_date_occured_and_reported  \n",
      "0         IC        Invest Cont                                      0  \n",
      "1         IC        Invest Cont                                  53280  \n",
      "2         IC        Invest Cont                                   1440  \n",
      "3         IC        Invest Cont                                  28800  \n",
      "4         AO        Adult Other                                   1440  \n",
      "...      ...                ...                                    ...  \n",
      "4995      IC        Invest Cont                                   1440  \n",
      "4996      IC        Invest Cont                                  10080  \n",
      "4997      AA       Adult Arrest                                      0  \n",
      "4998      AO        Adult Other                                   1440  \n",
      "4999      IC        Invest Cont                                      0  \n",
      "\n",
      "[5000 rows x 22 columns]\n"
     ]
    }
   ],
   "source": [
    "# Convert the date columns to datetime format\n",
    "test['Date_Reported'] = pd.to_datetime(test['Date_Reported'])\n",
    "test['Date_Occurred'] = pd.to_datetime(test['Date_Occurred'])\n",
    "\n",
    "# Calculate the difference in minutes\n",
    "test['time_between_date_occured_and_reported'] = (test['Date_Reported'] - test['Date_Occurred']) / pd.Timedelta(minutes=1)\n",
    "\n",
    "# Get the absolute difference in minutes\n",
    "test['time_between_date_occured_and_reported'] = test['time_between_date_occured_and_reported'].abs().astype(int)\n",
    "\n",
    "# Print the dataframe\n",
    "print(test)"
   ]
  },
  {
   "cell_type": "code",
   "execution_count": 8,
   "metadata": {},
   "outputs": [],
   "source": [
    "X_train = train.drop(['Location', 'Date_Reported',\n",
    "       'Date_Occurred', 'Area_Name',\n",
    "       'Modus_Operandi',\n",
    "        'Premise_Description',\n",
    "       'Weapon_Description', 'Status_Description','Crime_Category','Cross_Street'], axis=1)\n",
    "X_test = test.drop(['Location', 'Date_Reported',\n",
    "       'Date_Occurred', 'Area_Name',\n",
    "       'Modus_Operandi',\n",
    "        'Premise_Description',\n",
    "       'Weapon_Description', 'Status_Description','Cross_Street'], axis=1)\n",
    "Y_train = train[['Crime_Category']]"
   ]
  },
  {
   "cell_type": "code",
   "execution_count": 9,
   "metadata": {},
   "outputs": [
    {
     "data": {
      "text/plain": [
       "H    6143\n",
       "W    4245\n",
       "B    2881\n",
       "X    1849\n",
       "O    1603\n",
       "A     427\n",
       "K      83\n",
       "C      51\n",
       "F      48\n",
       "J      16\n",
       "I      11\n",
       "V       8\n",
       "P       4\n",
       "Z       3\n",
       "U       2\n",
       "D       1\n",
       "G       1\n",
       "Name: Victim_Descent, dtype: int64"
      ]
     },
     "execution_count": 9,
     "metadata": {},
     "output_type": "execute_result"
    }
   ],
   "source": [
    "train['Victim_Descent'].value_counts()"
   ]
  },
  {
   "cell_type": "code",
   "execution_count": 10,
   "metadata": {},
   "outputs": [
    {
     "data": {
      "text/plain": [
       "H    1536\n",
       "W    1088\n",
       "B     711\n",
       "X     440\n",
       "O     405\n",
       "A     132\n",
       "K      19\n",
       "F      10\n",
       "C       4\n",
       "V       4\n",
       "J       3\n",
       "Z       1\n",
       "I       1\n",
       "G       1\n",
       "P       1\n",
       "S       1\n",
       "Name: Victim_Descent, dtype: int64"
      ]
     },
     "execution_count": 10,
     "metadata": {},
     "output_type": "execute_result"
    }
   ],
   "source": [
    "test['Victim_Descent'].value_counts()"
   ]
  },
  {
   "cell_type": "code",
   "execution_count": 11,
   "metadata": {},
   "outputs": [
    {
     "data": {
      "text/plain": [
       "{'A',\n",
       " 'B',\n",
       " 'C',\n",
       " 'D',\n",
       " 'F',\n",
       " 'G',\n",
       " 'H',\n",
       " 'I',\n",
       " 'J',\n",
       " 'K',\n",
       " 'O',\n",
       " 'P',\n",
       " 'U',\n",
       " 'V',\n",
       " 'W',\n",
       " 'X',\n",
       " 'Z',\n",
       " nan}"
      ]
     },
     "execution_count": 11,
     "metadata": {},
     "output_type": "execute_result"
    }
   ],
   "source": [
    "set(train['Victim_Descent'].unique())"
   ]
  },
  {
   "cell_type": "code",
   "execution_count": 12,
   "metadata": {},
   "outputs": [
    {
     "data": {
      "text/plain": [
       "{'A',\n",
       " 'B',\n",
       " 'C',\n",
       " 'F',\n",
       " 'G',\n",
       " 'H',\n",
       " 'I',\n",
       " 'J',\n",
       " 'K',\n",
       " 'O',\n",
       " 'P',\n",
       " 'S',\n",
       " 'V',\n",
       " 'W',\n",
       " 'X',\n",
       " 'Z',\n",
       " nan}"
      ]
     },
     "execution_count": 12,
     "metadata": {},
     "output_type": "execute_result"
    }
   ],
   "source": [
    "set(test['Victim_Descent'].unique())"
   ]
  },
  {
   "cell_type": "code",
   "execution_count": 13,
   "metadata": {},
   "outputs": [
    {
     "data": {
      "text/plain": [
       "{'S'}"
      ]
     },
     "execution_count": 13,
     "metadata": {},
     "output_type": "execute_result"
    }
   ],
   "source": [
    "set(test['Victim_Descent'].unique()) - set(train['Victim_Descent'].unique())"
   ]
  },
  {
   "cell_type": "code",
   "execution_count": 14,
   "metadata": {},
   "outputs": [],
   "source": [
    "new_categories = set(test['Victim_Descent'].unique()) - set(train['Victim_Descent'].unique())"
   ]
  },
  {
   "cell_type": "code",
   "execution_count": 15,
   "metadata": {},
   "outputs": [],
   "source": [
    "X_test['Victim_Descent'] = X_test['Victim_Descent'].replace(to_replace=new_categories, value=np.nan)"
   ]
  },
  {
   "cell_type": "code",
   "execution_count": 16,
   "metadata": {},
   "outputs": [
    {
     "data": {
      "text/plain": [
       "set()"
      ]
     },
     "execution_count": 16,
     "metadata": {},
     "output_type": "execute_result"
    }
   ],
   "source": [
    "set(X_test['Victim_Descent'].unique()) - set(X_train['Victim_Descent'].unique())"
   ]
  },
  {
   "cell_type": "code",
   "execution_count": 17,
   "metadata": {},
   "outputs": [
    {
     "data": {
      "text/plain": [
       "{'A',\n",
       " 'B',\n",
       " 'C',\n",
       " 'F',\n",
       " 'G',\n",
       " 'H',\n",
       " 'I',\n",
       " 'J',\n",
       " 'K',\n",
       " 'O',\n",
       " 'P',\n",
       " 'V',\n",
       " 'W',\n",
       " 'X',\n",
       " 'Z',\n",
       " nan}"
      ]
     },
     "execution_count": 17,
     "metadata": {},
     "output_type": "execute_result"
    }
   ],
   "source": [
    "set(X_test['Victim_Descent'].unique())"
   ]
  },
  {
   "cell_type": "code",
   "execution_count": 18,
   "metadata": {},
   "outputs": [
    {
     "data": {
      "text/plain": [
       "\"new_categories = set(test['Cross_Street'].unique()) - set(train['Cross_Street'].unique())\\nX_test['Cross_Street'] = X_test['Cross_Street'].replace(to_replace=new_categories, value=np.nan)\""
      ]
     },
     "execution_count": 18,
     "metadata": {},
     "output_type": "execute_result"
    }
   ],
   "source": [
    "'''new_categories = set(test['Cross_Street'].unique()) - set(train['Cross_Street'].unique())\n",
    "X_test['Cross_Street'] = X_test['Cross_Street'].replace(to_replace=new_categories, value=np.nan)'''"
   ]
  },
  {
   "cell_type": "code",
   "execution_count": 19,
   "metadata": {},
   "outputs": [],
   "source": [
    "from sklearn.preprocessing import LabelEncoder, OrdinalEncoder\n",
    "\n",
    "'''label_cross_street  = LabelEncoder()\n",
    "X_train['Cross_Street'].fillna(\"missing\")\n",
    "X_test['Cross_Street'].fillna(\"missing\")\n",
    "label_cross_street  = LabelEncoder()\n",
    "X_train['Cross_Street'] = label_cross_street.fit_transform(X_train['Cross_Street'])\n",
    "X_test['Cross_Street'] = label_cross_street.transform(X_test['Cross_Street'])'''\n",
    "\n",
    "label_status  = LabelEncoder()\n",
    "X_train['Status'].fillna(\"missing\")\n",
    "X_test['Status'].fillna(\"missing\")\n",
    "label_cross_street  = LabelEncoder()\n",
    "X_train['Status'] = label_status.fit_transform(X_train['Status'])\n",
    "X_test['Status'] = label_status.transform(X_test['Status'])\n",
    "\n",
    "label_victim_descent  = LabelEncoder()\n",
    "X_train['Victim_Descent'].fillna(\"missing\")\n",
    "X_test['Victim_Descent'].fillna(\"missing\")\n",
    "label_cross_street  = LabelEncoder()\n",
    "X_train['Victim_Descent'] = label_victim_descent.fit_transform(X_train['Victim_Descent'])\n",
    "X_test['Victim_Descent'] = label_victim_descent.transform(X_test['Victim_Descent'])\n",
    "\n",
    "label_victim_sex  = LabelEncoder()\n",
    "X_train['Victim_Sex'].fillna(\"missing\")\n",
    "X_test['Victim_Sex'].fillna(\"missing\")\n",
    "label_cross_street  = LabelEncoder()\n",
    "X_train['Victim_Sex'] = label_status.fit_transform(X_train['Victim_Sex'])\n",
    "X_test['Victim_Sex'] = label_status.transform(X_test['Victim_Sex'])"
   ]
  },
  {
   "cell_type": "code",
   "execution_count": 20,
   "metadata": {},
   "outputs": [],
   "source": [
    "from sklearn.impute import SimpleImputer\n",
    "value = 99999\n",
    "# Specify the strategy as 'constant' and the fill_value as your desired static value\n",
    "imputer = SimpleImputer(strategy='constant', fill_value=value)\n"
   ]
  },
  {
   "cell_type": "code",
   "execution_count": 21,
   "metadata": {},
   "outputs": [],
   "source": [
    "X_train = imputer.fit_transform(X_train)\n",
    "X_val = imputer.transform(X_test)"
   ]
  },
  {
   "cell_type": "code",
   "execution_count": 22,
   "metadata": {},
   "outputs": [
    {
     "name": "stdout",
     "output_type": "stream",
     "text": [
      "Crime_Category Counter({0: 11666, 1: 4767, 2: 1808, 3: 1355, 4: 225, 5: 179})  {0: 0.2857306131778959, 1: 0.6992518005733864, 5: 18.6219739292365, 2: 1.8436578171091444, 3: 2.4600246002460024, 4: 14.814814814814815}\n"
     ]
    },
    {
     "data": {
      "text/plain": [
       "(20000,)"
      ]
     },
     "execution_count": 22,
     "metadata": {},
     "output_type": "execute_result"
    }
   ],
   "source": [
    "import xgboost as xg\n",
    "from sklearn.metrics import accuracy_score, classification_report, roc_auc_score\n",
    "\n",
    "from sklearn.multioutput import MultiOutputClassifier\n",
    "from sklearn.preprocessing import Binarizer\n",
    "#### Calculating Sample Weights\n",
    "n_samples, n_labels = Y_train.shape\n",
    "from collections import Counter\n",
    "# Calculate sample weights for each label column\n",
    "sample_weights = []\n",
    "\n",
    "for label_idx,name in zip(range(n_labels), Y_train.columns):\n",
    "    \n",
    "    label_col = Y_train.values[:, label_idx]\n",
    "    print(name, end = ' ')\n",
    "    \n",
    "    \n",
    "    class_counts = Counter(label_col)\n",
    "    print(class_counts, end = '  ')\n",
    "    \n",
    "    total_instances = sum(class_counts.values())\n",
    "    \n",
    "    class_weights = {cls: total_instances / (count * len(class_counts)) for cls, count in class_counts.items()}\n",
    "    print(class_weights)\n",
    "    \n",
    "    label_weights = [class_weights[cls] for cls in label_col]\n",
    "    sample_weights.append(label_weights)\n",
    "    \n",
    "sum(label_weights)/len(label_weights)\n",
    "np.array(sample_weights).T.shape\n",
    "# Combine the sample weights for all label columns\n",
    "sample_weights = np.array(sample_weights).T\n",
    "sample_weights = np.mean(sample_weights, axis=1)\n",
    "sample_weights.shape"
   ]
  },
  {
   "cell_type": "code",
   "execution_count": 23,
   "metadata": {},
   "outputs": [
    {
     "name": "stdout",
     "output_type": "stream",
     "text": [
      "Crime_Category    int8\n",
      "dtype: object\n"
     ]
    },
    {
     "name": "stderr",
     "output_type": "stream",
     "text": [
      "/tmp/ipykernel_871177/4014897255.py:2: SettingWithCopyWarning: \n",
      "A value is trying to be set on a copy of a slice from a DataFrame.\n",
      "Try using .loc[row_indexer,col_indexer] = value instead\n",
      "\n",
      "See the caveats in the documentation: https://pandas.pydata.org/pandas-docs/stable/user_guide/indexing.html#returning-a-view-versus-a-copy\n",
      "  Y_train['Crime_Category'] = Y_train['Crime_Category'].astype('category')\n",
      "/tmp/ipykernel_871177/4014897255.py:4: SettingWithCopyWarning: \n",
      "A value is trying to be set on a copy of a slice from a DataFrame.\n",
      "Try using .loc[row_indexer,col_indexer] = value instead\n",
      "\n",
      "See the caveats in the documentation: https://pandas.pydata.org/pandas-docs/stable/user_guide/indexing.html#returning-a-view-versus-a-copy\n",
      "  Y_train['Crime_Category'] = Y_train['Crime_Category'].cat.codes\n"
     ]
    }
   ],
   "source": [
    "# Convert Crime_Category to category type\n",
    "Y_train['Crime_Category'] = Y_train['Crime_Category'].astype('category')\n",
    "# Encode the categorical column to numeric values\n",
    "Y_train['Crime_Category'] = Y_train['Crime_Category'].cat.codes\n",
    "print(Y_train.dtypes)"
   ]
  },
  {
   "cell_type": "code",
   "execution_count": 24,
   "metadata": {},
   "outputs": [
    {
     "name": "stderr",
     "output_type": "stream",
     "text": [
      "/home/jampanasasank/.local/lib/python3.8/site-packages/sklearn/base.py:458: UserWarning: X has feature names, but MinMaxScaler was fitted without feature names\n",
      "  warnings.warn(\n"
     ]
    }
   ],
   "source": [
    "from sklearn.preprocessing import MinMaxScaler\n",
    "scaler = MinMaxScaler()\n",
    "X_train = scaler.fit_transform(X_train)\n",
    "X_test = scaler.transform(X_test)"
   ]
  },
  {
   "cell_type": "code",
   "execution_count": 25,
   "metadata": {},
   "outputs": [
    {
     "name": "stderr",
     "output_type": "stream",
     "text": [
      "/home/jampanasasank/.local/lib/python3.8/site-packages/xgboost/core.py:160: UserWarning: [22:23:31] WARNING: /workspace/src/learner.cc:742: \n",
      "Parameters: { \"scale_pos_weight\" } are not used.\n",
      "\n",
      "  warnings.warn(smsg, UserWarning)\n"
     ]
    }
   ],
   "source": [
    "import xgboost as xgb \n",
    "from sklearn.multiclass import OneVsOneClassifier, OneVsOneClassifier\n",
    "\n",
    "xgb_model = xgb.XGBClassifier(max_depth=7, n_estimators=200, min_child_weight=3, gamma=0.5, subsample=1.0, colsample_bytree=1.0, scale_pos_weight=1, learning_rate=0.1,objective='multi:softprob')\n",
    "xgb_model.fit(X_train, Y_train)"
   ]
  },
  {
   "cell_type": "code",
   "execution_count": null,
   "metadata": {},
   "outputs": [],
   "source": [
    "preds = xgb_model.predict(X_test)\n"
   ]
  },
  {
   "cell_type": "code",
   "execution_count": null,
   "metadata": {},
   "outputs": [],
   "source": [
    "preds"
   ]
  },
  {
   "cell_type": "code",
   "execution_count": null,
   "metadata": {},
   "outputs": [],
   "source": [
    "preds = pd.DataFrame(preds, columns=['Crime_Category'])"
   ]
  },
  {
   "cell_type": "code",
   "execution_count": null,
   "metadata": {},
   "outputs": [],
   "source": [
    "\n",
    "replacement_dict = {0:  'Property Crimes',\n",
    "                    1 : 'Violent Crimes',\n",
    "                    2 : 'Crimes against Public Order',\n",
    "                    3 : 'Fraud and White-Collar Crimes',\n",
    "                    4 : 'Crimes against Persons',  # Add placeholders for missing values (if needed)\n",
    "                    5 : 'Other Crimes'} \n",
    "preds['Replaced_Crime_Category'] = preds['Crime_Category'].replace(replacement_dict)\n",
    "\n"
   ]
  },
  {
   "cell_type": "code",
   "execution_count": null,
   "metadata": {},
   "outputs": [],
   "source": [
    "preds"
   ]
  },
  {
   "cell_type": "code",
   "execution_count": null,
   "metadata": {},
   "outputs": [],
   "source": [
    "#preds are my final output.\n",
    "submission = pd.DataFrame({'ID':range(1,5001), 'Crime_Category': preds['Replaced_Crime_Category']})\n",
    "submission.to_csv(\"DATA/submission.csv\", index=False)"
   ]
  },
  {
   "cell_type": "code",
   "execution_count": null,
   "metadata": {},
   "outputs": [],
   "source": [
    "submission"
   ]
  }
 ],
 "metadata": {
  "kernelspec": {
   "display_name": "Python 3",
   "language": "python",
   "name": "python3"
  },
  "language_info": {
   "codemirror_mode": {
    "name": "ipython",
    "version": 3
   },
   "file_extension": ".py",
   "mimetype": "text/x-python",
   "name": "python",
   "nbconvert_exporter": "python",
   "pygments_lexer": "ipython3",
   "version": "3.8.10"
  }
 },
 "nbformat": 4,
 "nbformat_minor": 2
}
